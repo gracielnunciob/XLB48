{
 "cells": [
  {
   "cell_type": "code",
   "execution_count": 1,
   "metadata": {},
   "outputs": [],
   "source": [
    "import os\n",
    "import numpy as np\n",
    "import pandas as pd\n",
    "import csv\n",
    "from csv import reader\n",
    "from csv import writer\n",
    "import custom_models as cm\n",
    "from sklearn import tree\n",
    "from scipy.stats import uniform, norm\n",
    "from sklearn.metrics import plot_confusion_matrix\n",
    "import matplotlib.pyplot as plt\n",
    "from imblearn.over_sampling import SMOTE, RandomOverSampler\n",
    "from sklearn.feature_selection import SelectFromModel, SelectKBest, VarianceThreshold, chi2, f_classif, mutual_info_classif\n",
    "from sklearn.preprocessing import MinMaxScaler\n",
    "import matplotlib.pyplot as plt\n",
    "from XLB import *\n",
    "import xlb_hyperparamsearch as xlbh\n",
    "from apyori import apriori\n",
    "\n",
    "import warnings\n",
    "warnings.filterwarnings('ignore')"
   ]
  },
  {
   "cell_type": "code",
   "execution_count": 2,
   "metadata": {},
   "outputs": [],
   "source": [
    "# extract data from files\n",
    "x_train, y_train = extract_data(\"FinalTrainingSet.csv\")\n",
    "x_val, y_val = extract_data(\"Validation Set.csv\")\n",
    "\n",
    "# scale data values\n",
    "scaler = MinMaxScaler()\n",
    "scaler.fit(x_train)\n",
    "x_train = scaler.transform(x_train)\n",
    "x_val = scaler.transform(x_val)\n",
    "\n",
    "# feature selection\n",
    "num_features = 69\n",
    "feat_sel = VarianceThreshold()\n",
    "x_train = feat_sel.fit_transform(x_train)\n",
    "feat_sel_2 = SelectKBest(chi2,k=num_features)\n",
    "x_train = feat_sel_2.fit_transform(x_train,y_train)\n",
    "# print(feat_sel_2.get_support())\n",
    "x_val = feat_sel_2.transform(feat_sel.transform(x_val))\n",
    "\n",
    "rand_seed = 3454132\n",
    "\n",
    "oversampler = SMOTE(sampling_strategy=\"not majority\",random_state=rand_seed)\n",
    "x_smote, y_smote = oversampler.fit_resample(x_train,y_train)\n",
    "# print(x_smote.shape,y_smote.shape)\n",
    "\n",
    "oversampler = RandomOverSampler(sampling_strategy=\"not majority\",random_state=rand_seed)\n",
    "x_os, y_os = oversampler.fit_resample(x_train,y_train)\n",
    "# print(x_os.shape,y_os.shape)"
   ]
  },
  {
   "cell_type": "code",
   "execution_count": 3,
   "metadata": {
    "scrolled": true
   },
   "outputs": [],
   "source": [
    "#MOVING FEATURE HEADERS INTO A LIST\n",
    "import csv\n",
    "\n",
    "f = open(\"FinalTrainingSet.csv\")\n",
    "reader = csv.reader(f)\n",
    "features = next(reader)\n",
    "row = list(reader)\n",
    "\n",
    "csv_temp = pd.read_csv(\"FinalTrainingSet.csv\")\n",
    "Theme_numbered = csv_temp['Theme(Numbered)'].tolist()\n",
    "Theme_numbered = np.asarray(Theme_numbered) \n",
    "\n",
    "# print(Theme_numbered.shape)\n",
    "x_train = np.append(x_train, Theme_numbered.reshape(Theme_numbered.shape[0], 1), axis=1)\n",
    "# print(x_train.shape)\n",
    "\n",
    "# x_train = np.delete(x_train, 69, axis=1)\n",
    "\n",
    "#Deleting everything except features from the dataset\n",
    "features.remove(\"Row Labels\")\n",
    "features.remove(\"Theme\")\n",
    "features.remove(\"Theme(Numbered)\")\n",
    "# print(len(features))\n",
    "#Retained features after selection\n",
    "selected_feats = feat_sel_2.get_support(True)\n",
    "\n",
    "for ind, ft in sorted(enumerate(features), reverse=True): \n",
    "    if ind not in selected_feats:\n",
    "        del features[ind]  \n",
    "        \n",
    "# np.append(x_train, Theme_numbered)\n",
    "features.append('Theme_numbered')\n",
    "\n",
    "new_column = pd.DataFrame({'Theme_numbered': Theme_numbered}) \n",
    "csv_temp = csv_temp.merge(new_column, left_index = True, right_index = True)\n",
    "\n",
    "column = csv_temp.Theme_numbered\n",
    "\n",
    "# print(features)\n",
    "row_count = len(row)\n",
    "f.close()\n",
    " \n",
    "# print(x_train.shape)"
   ]
  },
  {
   "cell_type": "code",
   "execution_count": 4,
   "metadata": {},
   "outputs": [],
   "source": [
    "num_folds = 5\n",
    "model = cm.APyoriAdapter(params={})\n",
    "emotions = [\"IsCalm\", \"IsCheerful\", \"IsBravery\", \"IsFearful\", \"IsLove\", \"IsSadness\"]\n",
    "label_supp = [0.3117,  0.1372, 0.1397,  0.2469, 0.0673, 0.0973]\n",
    "parameters = {\n",
    "    \"num_features\" : 69,\n",
    "    \"thresh_mean\" : 0.5,\n",
    "    \"thresh_std\" : 0.15,\n",
    "    \"min_support_lo\" : 0.16,\n",
    "    \"min_support_hi\" : 0.22,\n",
    "    \"min_confidence_lo\" : 0.036,\n",
    "    \"min_confidence_hi\" : 0.739,\n",
    "    \"col_names\" : features,\n",
    "    \"label_names\" : emotions,\n",
    "    \"label_support\" : label_supp    \n",
    "}\n",
    "hyperparams, result, model = xlbh.hyperparameter_search(\n",
    "    num_folds=num_folds,model=model,parameters=parameters,data=x_train\n",
    ")"
   ]
  },
  {
   "cell_type": "code",
   "execution_count": 7,
   "metadata": {},
   "outputs": [
    {
     "name": "stdout",
     "output_type": "stream",
     "text": [
      "thresholds : [0.48050678 0.32807564 0.43900294 0.74845356 0.57791156 0.42964089\n",
      " 0.33966644 0.44123084 0.69838258 0.40328533 0.5417637  0.37862079\n",
      " 0.55270803 0.3801969  0.7039169  0.55340509 0.59058057 0.54016036\n",
      " 0.56674747 0.45998384 0.55135309 0.54082865 0.43359724 0.64295728\n",
      " 0.42960654 0.45020311 0.28487405 0.62473996 0.35172048 0.63670339\n",
      " 0.49226847 0.52469802 0.39120118 0.35770744 0.61915086 0.50177643\n",
      " 0.6104294  0.52046027 0.73731138 0.47526139 0.63841276 0.56156508\n",
      " 0.54770146 0.39352515 0.50360072 0.59354345 0.53135825 0.71596815\n",
      " 0.86144481 0.66277257 0.39689212 0.35072324 0.2807026  0.51430314\n",
      " 0.51943596 0.4366115  0.39053333 0.68778331 0.66910001 0.32893095\n",
      " 0.99886982 0.37818672 0.65605119 0.5021598  0.62549403 0.43635437\n",
      " 0.53362056 0.45122747 0.36371422]\n",
      "min_support : 0.19855729431471736\n",
      "min_confidence : 0.24891280707884905\n",
      "col_names : ['Tempo', 'Arousal', 'IsMajor', 'IsMinor', 'IsDissonant', 'Derivative of Root Mean Square Overall Standard Deviation', 'Derivative of Running Mean of Root Mean Square Overall Standard Deviation', 'Derivative of Running Mean of Spectral Flux Overall Standard Deviation', 'Derivative of Running Mean of Spectral Variability Overall Standard Deviation', 'Derivative of Spectral Flux Overall Standard Deviation', 'Derivative of Spectral Variability Overall Standard Deviation', 'Derivative of Standard Deviation of Root Mean Square Overall Standard Deviation', 'Derivative of Standard Deviation of Spectral Flux Overall Standard Deviation', 'Derivative of Standard Deviation of Spectral Variability Overall Standard Deviation', 'Fraction Of Low Energy Windows Overall Average', 'Magnitude Spectrum Overall Average', 'Magnitude Spectrum Overall Standard Deviation', 'Power Spectrum Overall Average', 'Power Spectrum Overall Standard Deviation', 'Running Mean of Compactness Overall Standard Deviation', 'Running Mean of Fraction Of Low Energy Windows Overall Average', 'Running Mean of Fraction Of Low Energy Windows Overall Standard Deviation', 'Running Mean of Root Mean Square Overall Standard Deviation', 'Running Mean of Spectral Centroid Overall Average', 'Running Mean of Spectral Flux Overall Standard Deviation', 'Running Mean of Spectral Rolloff Point Overall Average', 'Running Mean of Spectral Rolloff Point Overall Standard Deviation', 'Running Mean of Spectral Variability Overall Standard Deviation', 'Spectral Centroid Overall Average', 'Spectral Centroid Overall Standard Deviation', 'Spectral Rolloff Point Overall Average', 'Spectral Rolloff Point Overall Standard Deviation', 'Standard Deviation of Compactness Overall Standard Deviation', 'Standard Deviation of Fraction Of Low Energy Windows Overall Average', 'Standard Deviation of Fraction Of Low Energy Windows Overall Standard Deviation', 'Standard Deviation of Root Mean Square Overall Standard Deviation', 'Standard Deviation of Spectral Centroid Overall Average', 'Standard Deviation of Spectral Flux Overall Standard Deviation', 'Standard Deviation of Spectral Rolloff Point Overall Average', 'Standard Deviation of Spectral Rolloff Point Overall Standard Deviation', 'Standard Deviation of Spectral Variability Overall Standard Deviation', 'Beat Histogram Overall Standard Deviation', 'Beat Sum Overall Standard Deviation', 'ConstantQ Overall Standard Deviation', 'Derivative of Beat Sum Overall Standard Deviation', 'Derivative of LPC Overall Standard Deviation', 'Derivative of Method of Moments Overall Average', 'Derivative of Method of Moments Overall Standard Deviation', 'Derivative of MFCC Overall Average', 'Derivative of MFCC Overall Standard Deviation', 'Derivative of Partial Based Spectral Centroid Overall Average', 'Derivative of Partial Based Spectral Centroid Overall Standard Deviation', 'Derivative of Partial Based Spectral Flux Overall Average', 'Derivative of Partial Based Spectral Flux Overall Standard Deviation', 'Derivative of Peak Based Spectral Smoothness Overall Average', 'Derivative of Peak Based Spectral Smoothness Overall Standard Deviation', 'Derivative of Relative Difference Function Overall Average', 'Derivative of Relative Difference Function Overall Standard Deviation', 'Derivative of Running Mean of Beat Sum Overall Average', 'Derivative of Running Mean of Beat Sum Overall Standard Deviation', 'Derivative of Running Mean of LPC Overall Average', 'Derivative of Running Mean of LPC Overall Standard Deviation', 'Derivative of Running Mean of Method of Moments Overall Average', 'Derivative of Running Mean of Method of Moments Overall Standard Deviation', 'Derivative of Running Mean of MFCC Overall Average', 'Derivative of Running Mean of MFCC Overall Standard Deviation', 'Derivative of Running Mean of Partial Based Spectral Centroid Overall Standard Deviation', 'Derivative of Running Mean of Partial Based Spectral Flux Overall Standard Deviation', 'Derivative of Running Mean of Peak Based Spectral Smoothness Overall Average', 'Theme_numbered']\n",
      "label_names : ['IsCalm', 'IsCheerful', 'IsBravery', 'IsFearful', 'IsLove', 'IsSadness']\n",
      "label_support : [0.3117, 0.1372, 0.1397, 0.2469, 0.0673, 0.0973]\n"
     ]
    }
   ],
   "source": [
    "for k, v in hyperparams.items():\n",
    "    print(\"{} : {}\".format(k,v))"
   ]
  },
  {
   "cell_type": "code",
   "execution_count": 5,
   "metadata": {
    "scrolled": true
   },
   "outputs": [
    {
     "name": "stdout",
     "output_type": "stream",
     "text": [
      "Average Interestingness: 0.00\n"
     ]
    }
   ],
   "source": [
    "with open(\"rules.txt\",\"w\") as fOut:\n",
    "    np.random.seed(69420)\n",
    "    model = cm.APyoriAdapter(hyperparams)\n",
    "\n",
    "    ruleset = model.train(x_train)\n",
    "#     print(\"{}\\n\".format(\"\\n\\n\".join([x.__str__() for x in ruleset])))\n",
    "    fOut.write(\"{}\\n\".format(\"\\n\\n\".join([x.__str__() for x in ruleset])))\n",
    "    print(\"Average Interestingness: {:.2f}\".format(model.evaluate()))"
   ]
  }
 ],
 "metadata": {
  "kernelspec": {
   "display_name": "Python 3",
   "language": "python",
   "name": "python3"
  },
  "language_info": {
   "codemirror_mode": {
    "name": "ipython",
    "version": 3
   },
   "file_extension": ".py",
   "mimetype": "text/x-python",
   "name": "python",
   "nbconvert_exporter": "python",
   "pygments_lexer": "ipython3",
   "version": "3.7.3"
  }
 },
 "nbformat": 4,
 "nbformat_minor": 4
}
