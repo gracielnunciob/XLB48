{
 "cells": [
  {
   "cell_type": "code",
   "execution_count": 9,
   "metadata": {},
   "outputs": [],
   "source": [
    "import random"
   ]
  },
  {
   "cell_type": "code",
   "execution_count": 10,
   "metadata": {},
   "outputs": [],
   "source": [
    "\"\"\"\n",
    "Takes the input of:\n",
    "    -numfolds = the number of folds given\n",
    "    -model = the machine learning model\n",
    "    -parameters = \n",
    "    -data = \n",
    "\"\"\"\n",
    "def cross_validation(numfolds,model,parameters,data):\n",
    "    # initialization\n",
    "    folds = [[]for i in range(numfolds)]\n",
    "    \n",
    "    # distribution of data into folds \n",
    "    for i, datapoint in enumerate(data):\n",
    "        folds[i % numfolds].append(datapoint) \n",
    "        \n",
    "    # K-fold cross validation\n",
    "    average_result = 0\n",
    "    for i in range(numfolds):\n",
    "        test = folds[i]\n",
    "        trainlist = []\n",
    "        for j, fold in enumerate(folds):\n",
    "            if (j != i):\n",
    "                trainlist += fold\n",
    "            \n",
    "        model.train(trainlist)\n",
    "        result = model.evaluate(test)\n",
    "        average_result += result/numfolds\n",
    "        \n",
    "    return average_result, model    \n",
    "    \n",
    "    "
   ]
  },
  {
   "cell_type": "code",
   "execution_count": 7,
   "metadata": {},
   "outputs": [],
   "source": [
    "\"\"\"\n",
    "discretize_dataset function transforms the dataset into binary o\n",
    "\n",
    "Takes the input of:\n",
    "    -data = \n",
    "    -thresholds = \n",
    "\"\"\"\n",
    "def discretize_dataset(data,thresholds):\n",
    "    temp = [row[::]for row in data]\n",
    "    data = temp\n",
    "    for i, datapoint in enumerate(data):\n",
    "        for j, threshold in enumerate(thresholds):\n",
    "            if datapoint[j] >= threshold:\n",
    "                datapoint[j] = 1\n",
    "            else: \n",
    "                datapoint[j] = 0\n",
    "    return data            "
   ]
  },
  {
   "cell_type": "code",
   "execution_count": null,
   "metadata": {},
   "outputs": [],
   "source": [
    "def hyperparameter_search(numfolds,model,parameters,data,num_iter=100,randseed=879057,min_support,min_confidence):\n",
    "    best_result = -1e9\n",
    "    best_model = None\n",
    "    best_thresholds = None \n",
    "    np.random.seed(0)\n",
    "    for i in num_iter:\n",
    "        # threshold function\n",
    "        thfunc = np.random.normal(0.5, 0.15, 69)\n",
    "        # highest threshold\n",
    "        model.params[\"thresholds\"] = thfunc \n",
    "        result, cur_model = cross_validation(numfolds,model,thfunc,data)\n",
    "        if result > best_result:\n",
    "            best_result = result\n",
    "            best_model = cur_model\n",
    "            best_thresholds = thfunc\n",
    "            \n",
    "return best_thresholds,best_result,best_model    \n",
    "    \n"
   ]
  },
  {
   "cell_type": "code",
   "execution_count": 1,
   "metadata": {},
   "outputs": [
    {
     "name": "stdout",
     "output_type": "stream",
     "text": [
      "[5, 6]\n"
     ]
    }
   ],
   "source": [
    "testlist = [5]\n",
    "testlist1 = [6]\n",
    "testlist += testlist1\n",
    "print(testlist)"
   ]
  },
  {
   "cell_type": "code",
   "execution_count": 8,
   "metadata": {},
   "outputs": [
    {
     "name": "stdout",
     "output_type": "stream",
     "text": [
      "[[789, 645], [890, 806]] [[0, 1], [1, 1]]\n"
     ]
    }
   ],
   "source": [
    "dataset = [[789,645],[890,806]]\n",
    "thresholds = [790,600]\n",
    "x = discretize_dataset(dataset,thresholds)\n",
    "print(dataset,x)"
   ]
  },
  {
   "cell_type": "code",
   "execution_count": 8,
   "metadata": {
    "scrolled": false
   },
   "outputs": [
    {
     "name": "stdout",
     "output_type": "stream",
     "text": [
      "[]\n"
     ]
    }
   ],
   "source": [
    "from apyori import apriori, load_transactions\n",
    "\n",
    "with open('Validation set.csv') as f:\n",
    "    transactions = load_transactions(f, delimiter=\",\")\n",
    "    results = list(apriori(transactions, min_confidence=0.8))\n",
    "    print(list(transactions))"
   ]
  },
  {
   "cell_type": "code",
   "execution_count": 10,
   "metadata": {},
   "outputs": [
    {
     "name": "stdout",
     "output_type": "stream",
     "text": [
      "[RelationRecord(items=frozenset({'beer'}), support=1.0, ordered_statistics=[OrderedStatistic(items_base=frozenset(), items_add=frozenset({'beer'}), confidence=1.0, lift=1.0)]), RelationRecord(items=frozenset({'cheese'}), support=0.5, ordered_statistics=[OrderedStatistic(items_base=frozenset(), items_add=frozenset({'cheese'}), confidence=0.5, lift=1.0)]), RelationRecord(items=frozenset({'nuts'}), support=0.5, ordered_statistics=[OrderedStatistic(items_base=frozenset(), items_add=frozenset({'nuts'}), confidence=0.5, lift=1.0)]), RelationRecord(items=frozenset({'cheese', 'beer'}), support=0.5, ordered_statistics=[OrderedStatistic(items_base=frozenset(), items_add=frozenset({'cheese', 'beer'}), confidence=0.5, lift=1.0), OrderedStatistic(items_base=frozenset({'beer'}), items_add=frozenset({'cheese'}), confidence=0.5, lift=1.0), OrderedStatistic(items_base=frozenset({'cheese'}), items_add=frozenset({'beer'}), confidence=1.0, lift=1.0)]), RelationRecord(items=frozenset({'nuts', 'beer'}), support=0.5, ordered_statistics=[OrderedStatistic(items_base=frozenset(), items_add=frozenset({'nuts', 'beer'}), confidence=0.5, lift=1.0), OrderedStatistic(items_base=frozenset({'beer'}), items_add=frozenset({'nuts'}), confidence=0.5, lift=1.0), OrderedStatistic(items_base=frozenset({'nuts'}), items_add=frozenset({'beer'}), confidence=1.0, lift=1.0)])]\n"
     ]
    }
   ],
   "source": [
    "from apyori import apriori\n",
    "\n",
    "transactions = [\n",
    "    ['beer', 'nuts'],\n",
    "    ['beer', 'cheese'],\n",
    "]\n",
    "results = list(apriori(transactions))\n",
    "print(results)"
   ]
  },
  {
   "cell_type": "code",
   "execution_count": null,
   "metadata": {},
   "outputs": [],
   "source": []
  }
 ],
 "metadata": {
  "kernelspec": {
   "display_name": "Python 3",
   "language": "python",
   "name": "python3"
  },
  "language_info": {
   "codemirror_mode": {
    "name": "ipython",
    "version": 3
   },
   "file_extension": ".py",
   "mimetype": "text/x-python",
   "name": "python",
   "nbconvert_exporter": "python",
   "pygments_lexer": "ipython3",
   "version": "3.8.3"
  }
 },
 "nbformat": 4,
 "nbformat_minor": 4
}
