{
 "cells": [
  {
   "cell_type": "code",
   "execution_count": 1,
   "metadata": {},
   "outputs": [],
   "source": [
    "import os"
   ]
  },
  {
   "cell_type": "code",
   "execution_count": 53,
   "metadata": {},
   "outputs": [],
   "source": [
    "song_files = []#list of all the songs in the folder\n",
    "root_list = []\n",
    "for root, dirs, files in os.walk(\".\", topdown=False):\n",
    "   for name in files:\n",
    "      if '.wav' in name:\n",
    "            root_list.append(root)\n",
    "            song_files.append(name)"
   ]
  },
  {
   "cell_type": "code",
   "execution_count": 54,
   "metadata": {},
   "outputs": [
    {
     "name": "stdout",
     "output_type": "stream",
     "text": [
      "691\n"
     ]
    }
   ],
   "source": [
    "print(len(song_files))"
   ]
  },
  {
   "cell_type": "code",
   "execution_count": 74,
   "metadata": {},
   "outputs": [
    {
     "name": "stdout",
     "output_type": "stream",
     "text": [
      "419\n"
     ]
    }
   ],
   "source": [
    "f = open('Song List.txt', 'r')\n",
    "file = f.read()\n",
    "songs = file.split()#our playlist of 419 songs\n",
    "print(len(songs))"
   ]
  },
  {
   "cell_type": "code",
   "execution_count": 75,
   "metadata": {},
   "outputs": [],
   "source": [
    "num = 0\n",
    "no_match = []\n",
    "match = []\n",
    "for song in song_files:\n",
    "    if song in songs:\n",
    "        num+=1\n",
    "        match.append(song)\n",
    "    else:\n",
    "        no_match.append(song)"
   ]
  },
  {
   "cell_type": "code",
   "execution_count": 87,
   "metadata": {},
   "outputs": [],
   "source": [
    "counter = 0\n",
    "for song in songs:\n",
    "    if song in match:\n",
    "        counter+=1"
   ]
  },
  {
   "cell_type": "code",
   "execution_count": 88,
   "metadata": {},
   "outputs": [
    {
     "name": "stdout",
     "output_type": "stream",
     "text": [
      "419\n",
      "331\n",
      "340\n"
     ]
    }
   ],
   "source": [
    "print(len(songs))\n",
    "print(counter)\n",
    "print(len(no_match))"
   ]
  },
  {
   "cell_type": "code",
   "execution_count": null,
   "metadata": {},
   "outputs": [],
   "source": [
    "os.remove(os.path.join(root_list[0], song_files[0]))"
   ]
  }
 ],
 "metadata": {
  "kernelspec": {
   "display_name": "Python 3",
   "language": "python",
   "name": "python3"
  },
  "language_info": {
   "codemirror_mode": {
    "name": "ipython",
    "version": 3
   },
   "file_extension": ".py",
   "mimetype": "text/x-python",
   "name": "python",
   "nbconvert_exporter": "python",
   "pygments_lexer": "ipython3",
   "version": "3.7.2"
  }
 },
 "nbformat": 4,
 "nbformat_minor": 2
}
