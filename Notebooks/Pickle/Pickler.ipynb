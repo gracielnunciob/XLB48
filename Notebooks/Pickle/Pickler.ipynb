{
 "cells": [
  {
   "cell_type": "code",
   "execution_count": 1,
   "metadata": {},
   "outputs": [],
   "source": [
    "import pandas\n",
    "import random\n",
    "import pickle\n",
    "import numpy as np\n",
    "from random import sample"
   ]
  },
  {
   "cell_type": "code",
   "execution_count": 2,
   "metadata": {},
   "outputs": [
    {
     "name": "stdout",
     "output_type": "stream",
     "text": [
      "Index(['Derivative of Running Mean of Spectral Centroid Overall Average',\n",
      "       'Derivative of Running Mean of Spectral Centroid Overall Standard Deviation',\n",
      "       'Derivative of Running Mean of Spectral Flux Overall Average',\n",
      "       'Derivative of Running Mean of Spectral Flux Overall Standard Deviation',\n",
      "       'Derivative of Running Mean of Spectral Rolloff Point Overall Average',\n",
      "       'Derivative of Running Mean of Spectral Rolloff Point Overall Standard Deviation',\n",
      "       'Derivative of Spectral Centroid Overall Average',\n",
      "       'Derivative of Spectral Centroid Overall Standard Deviation',\n",
      "       'Derivative of Spectral Flux Overall Average',\n",
      "       'Derivative of Spectral Flux Overall Standard Deviation',\n",
      "       ...\n",
      "       'Derivative of Running Mean of Area Method of Moments Overall Standard Deviation.1',\n",
      "       'Derivative of Standard Deviation of Area Method of Moments Overall Average.1',\n",
      "       'Derivative of Standard Deviation of Area Method of Moments Overall Standard Deviation.1',\n",
      "       'Log of ConstantQ Overall Average',\n",
      "       'Log of ConstantQ Overall Standard Deviation',\n",
      "       'Running Mean of Area Method of Moments Overall Average.1',\n",
      "       'Running Mean of Area Method of Moments Overall Standard Deviation.1',\n",
      "       'Standard Deviation of Area Method of Moments Overall Average.1',\n",
      "       'Standard Deviation of Area Method of Moments Overall Standard Deviation.1',\n",
      "       'theme'],\n",
      "      dtype='object', length=395)\n"
     ]
    }
   ],
   "source": [
    "#open file\n",
    "data = pandas.read_csv(\"file.csv\")\n",
    "data.head()\n",
    "print(data.columns)"
   ]
  },
  {
   "cell_type": "code",
   "execution_count": 3,
   "metadata": {},
   "outputs": [],
   "source": [
    "folds = [[] for i in range(10)]\n",
    "cheerful = [[]]\n",
    "fearful = [[]]\n",
    "bravery = [[]]\n",
    "love = [[]]\n",
    "calm = [[]]\n",
    "sadness = [[]]\n",
    "\n",
    "for index, rows in data.iterrows():\n",
    "    if rows['theme'] == 'L':\n",
    "        love.append(rows.to_numpy())\n",
    "    if rows['theme'] == 'C':\n",
    "        cheerful.append(rows.values)\n",
    "    if rows['theme'] == 'F':\n",
    "        fearful.append(rows.values)\n",
    "    if rows['theme'] == 'Ca':\n",
    "        calm.append(rows.values)\n",
    "    if rows['theme'] == 'B':\n",
    "        bravery.append(rows.values)\n",
    "    if rows['theme'] == 'S':\n",
    "        sadness.append(rows.values)\n",
    "    \n",
    "random.shuffle(cheerful)\n",
    "random.shuffle(fearful)\n",
    "random.shuffle(bravery)\n",
    "random.shuffle(love)\n",
    "random.shuffle(calm)\n",
    "random.shuffle(sadness)\n",
    "\n"
   ]
  },
  {
   "cell_type": "code",
   "execution_count": 4,
   "metadata": {},
   "outputs": [
    {
     "name": "stdout",
     "output_type": "stream",
     "text": [
      "(10,)\n"
     ]
    }
   ],
   "source": [
    "# AUSTIN: Extract 3-4 samples from each theme first for validation set. Remove them from the list\n",
    "# Then distribute the remaining to each of the ten fold.\n",
    "\n",
    "validation = []\n",
    "size = [np.shape(love)[0], np.shape(cheerful)[0], np.shape(fearful)[0], np.shape(calm)[0], np.shape(sadness)[0], \n",
    "             np.shape(bravery)[0]]\n",
    "total = 0\n",
    "for i in size:\n",
    "    total += i\n",
    "\n",
    "portion = int(total*0.05)\n",
    "portion_list = np.zeros(6)\n",
    "for i in range(portion):\n",
    "    portion_list[i%6]+=1\n",
    "temp = []\n",
    "\n",
    "port_size = int(portion_list[0])\n",
    "temp.append(love[:port_size])\n",
    "del love[:port_size]\n",
    "\n",
    "port_size = int(portion_list[1])\n",
    "temp.append(cheerful[:port_size])\n",
    "del cheerful[:port_size]\n",
    "\n",
    "port_size = int(portion_list[2])\n",
    "temp.append(fearful[:port_size])\n",
    "del fearful[:port_size]\n",
    "\n",
    "port_size = int(portion_list[3])\n",
    "temp.append(bravery[:port_size])\n",
    "del bravery[:port_size]\n",
    "\n",
    "\n",
    "port_size = int(portion_list[4])\n",
    "temp.append(sadness[:port_size])\n",
    "del sadness[:port_size]\n",
    "\n",
    "port_size = int(portion_list[5])\n",
    "temp.append(calm[:port_size])\n",
    "del calm[:port_size]\n",
    "\n",
    "for i in temp:\n",
    "    for j in i:\n",
    "        validation.append(j)\n",
    "print(np.shape(validation))\n"
   ]
  },
  {
   "cell_type": "code",
   "execution_count": 5,
   "metadata": {},
   "outputs": [],
   "source": [
    "size = [np.shape(love)[0], np.shape(cheerful)[0], np.shape(fearful)[0], np.shape(calm)[0], np.shape(sadness)[0], \n",
    "             np.shape(bravery)[0]]\n",
    "cur_sample_ind = 0\n",
    "for i in range(size[0]):\n",
    "    folds[cur_sample_ind % 10].append(love[i])\n",
    "    cur_sample_ind += 1\n",
    "for i in range(size[1]):\n",
    "    folds[cur_sample_ind % 10].append(cheerful[i])\n",
    "    cur_sample_ind += 1\n",
    "for i in range(size[2]):\n",
    "    folds[cur_sample_ind % 10].append(fearful[i])\n",
    "    cur_sample_ind += 1\n",
    "for i in range(size[3]):\n",
    "    folds[cur_sample_ind % 10].append(calm[i])\n",
    "    cur_sample_ind += 1\n",
    "for i in range(size[4]):\n",
    "    folds[cur_sample_ind % 10].append(sadness[i])\n",
    "    cur_sample_ind += 1\n",
    "for i in range(size[5]):\n",
    "    folds[cur_sample_ind % 10].append(bravery[i])\n",
    "    cur_sample_ind += 1\n"
   ]
  },
  {
   "cell_type": "code",
   "execution_count": 6,
   "metadata": {},
   "outputs": [
    {
     "name": "stdout",
     "output_type": "stream",
     "text": [
      "24\n",
      "24\n",
      "24\n",
      "24\n",
      "23\n",
      "23\n",
      "23\n",
      "23\n",
      "23\n",
      "23\n",
      " \n",
      " \n",
      "23\n",
      "23\n",
      "23\n",
      "23\n",
      "22\n",
      "22\n",
      "22\n",
      "22\n",
      "22\n",
      "22\n"
     ]
    }
   ],
   "source": []
  },
  {
   "cell_type": "code",
   "execution_count": 6,
   "metadata": {},
   "outputs": [],
   "source": [
    "data = [[] for i in range(10)]\n",
    "labels = [[] for i in range(10)]\n",
    "data_val = []\n",
    "labels_val = []\n",
    "i = 0\n",
    "for fold in folds:\n",
    "    datum = []\n",
    "    label = []\n",
    "    for sample in fold:\n",
    "        if len(sample) > 0:\n",
    "            datum.append(sample[:-1])\n",
    "            label.append(sample[-1])\n",
    "    data[i] = datum\n",
    "    labels[i] = label\n",
    "    i+=1\n",
    "    "
   ]
  },
  {
   "cell_type": "code",
   "execution_count": 7,
   "metadata": {},
   "outputs": [
    {
     "ename": "IndexError",
     "evalue": "list index out of range",
     "output_type": "error",
     "traceback": [
      "\u001b[1;31m---------------------------------------------------------------------------\u001b[0m",
      "\u001b[1;31mIndexError\u001b[0m                                Traceback (most recent call last)",
      "\u001b[1;32m<ipython-input-7-d94b5275ebab>\u001b[0m in \u001b[0;36m<module>\u001b[1;34m\u001b[0m\n\u001b[0;32m      1\u001b[0m \u001b[1;32mfor\u001b[0m \u001b[0mvalid\u001b[0m \u001b[1;32min\u001b[0m \u001b[0mvalidation\u001b[0m\u001b[1;33m:\u001b[0m\u001b[1;33m\u001b[0m\u001b[1;33m\u001b[0m\u001b[0m\n\u001b[0;32m      2\u001b[0m     \u001b[0mdata_val\u001b[0m\u001b[1;33m.\u001b[0m\u001b[0mappend\u001b[0m\u001b[1;33m(\u001b[0m\u001b[0mvalid\u001b[0m\u001b[1;33m[\u001b[0m\u001b[1;33m:\u001b[0m\u001b[1;33m-\u001b[0m\u001b[1;36m1\u001b[0m\u001b[1;33m]\u001b[0m\u001b[1;33m)\u001b[0m\u001b[1;33m\u001b[0m\u001b[1;33m\u001b[0m\u001b[0m\n\u001b[1;32m----> 3\u001b[1;33m     \u001b[0mlabels_val\u001b[0m\u001b[1;33m.\u001b[0m\u001b[0mappend\u001b[0m\u001b[1;33m(\u001b[0m\u001b[0mvalid\u001b[0m\u001b[1;33m[\u001b[0m\u001b[1;33m-\u001b[0m\u001b[1;36m1\u001b[0m\u001b[1;33m]\u001b[0m\u001b[1;33m)\u001b[0m\u001b[1;33m\u001b[0m\u001b[1;33m\u001b[0m\u001b[0m\n\u001b[0m",
      "\u001b[1;31mIndexError\u001b[0m: list index out of range"
     ]
    }
   ],
   "source": [
    "for valid in validation:\n",
    "    data_val.append(valid[:-1])\n",
    "    labels_val.append(valid[-1])"
   ]
  },
  {
   "cell_type": "code",
   "execution_count": 38,
   "metadata": {},
   "outputs": [],
   "source": [
    "with open('data.pt', 'wb') as f:\n",
    "    pickle.dump(data, f)\n",
    "with open('labels.pt', 'wb') as f:\n",
    "    pickle.dump(labels, f)\n",
    "with open('dataval.pt', 'wb') as f:\n",
    "    pickle.dump(data_val, f)\n",
    "with open('labelsval.pt', 'wb') as f:\n",
    "    pickle.dump(labels_val, f)"
   ]
  },
  {
   "cell_type": "code",
   "execution_count": null,
   "metadata": {},
   "outputs": [],
   "source": []
  }
 ],
 "metadata": {
  "kernelspec": {
   "display_name": "Python 3",
   "language": "python",
   "name": "python3"
  },
  "language_info": {
   "codemirror_mode": {
    "name": "ipython",
    "version": 3
   },
   "file_extension": ".py",
   "mimetype": "text/x-python",
   "name": "python",
   "nbconvert_exporter": "python",
   "pygments_lexer": "ipython3",
   "version": "3.7.2"
  }
 },
 "nbformat": 4,
 "nbformat_minor": 4
}
