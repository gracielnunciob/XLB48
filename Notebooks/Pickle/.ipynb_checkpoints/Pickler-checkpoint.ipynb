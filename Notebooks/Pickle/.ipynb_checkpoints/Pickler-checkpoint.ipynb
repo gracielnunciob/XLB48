{
 "cells": [
  {
   "cell_type": "code",
   "execution_count": 1,
   "metadata": {},
   "outputs": [],
   "source": [
    "import pandas\n",
    "import random\n",
    "import pickle\n",
    "import numpy as np\n",
    "from random import sample"
   ]
  },
  {
   "cell_type": "code",
   "execution_count": 2,
   "metadata": {},
   "outputs": [
    {
     "name": "stdout",
     "output_type": "stream",
     "text": [
      "Index(['Derivative of Running Mean of Spectral Centroid Overall Average',\n",
      "       'Derivative of Running Mean of Spectral Centroid Overall Standard Deviation',\n",
      "       'Derivative of Running Mean of Spectral Flux Overall Average',\n",
      "       'Derivative of Running Mean of Spectral Flux Overall Standard Deviation',\n",
      "       'Derivative of Running Mean of Spectral Rolloff Point Overall Average',\n",
      "       'Derivative of Running Mean of Spectral Rolloff Point Overall Standard Deviation',\n",
      "       'Derivative of Spectral Centroid Overall Average',\n",
      "       'Derivative of Spectral Centroid Overall Standard Deviation',\n",
      "       'Derivative of Spectral Flux Overall Average',\n",
      "       'Derivative of Spectral Flux Overall Standard Deviation',\n",
      "       ...\n",
      "       'Derivative of Running Mean of Area Method of Moments Overall Standard Deviation.1',\n",
      "       'Derivative of Standard Deviation of Area Method of Moments Overall Average.1',\n",
      "       'Derivative of Standard Deviation of Area Method of Moments Overall Standard Deviation.1',\n",
      "       'Log of ConstantQ Overall Average',\n",
      "       'Log of ConstantQ Overall Standard Deviation',\n",
      "       'Running Mean of Area Method of Moments Overall Average.1',\n",
      "       'Running Mean of Area Method of Moments Overall Standard Deviation.1',\n",
      "       'Standard Deviation of Area Method of Moments Overall Average.1',\n",
      "       'Standard Deviation of Area Method of Moments Overall Standard Deviation.1',\n",
      "       'theme'],\n",
      "      dtype='object', length=395)\n"
     ]
    }
   ],
   "source": [
    "#open file\n",
    "data = pandas.read_csv(\"file.csv\")\n",
    "data.head()\n",
    "print(data.columns)"
   ]
  },
  {
   "cell_type": "code",
   "execution_count": 3,
   "metadata": {},
   "outputs": [],
   "source": [
    "folds = [[] for i in range(10)]\n",
    "cheerful = [[]]\n",
    "fearful = [[]]\n",
    "bravery = [[]]\n",
    "love = [[]]\n",
    "calm = [[]]\n",
    "sadness = [[]]\n",
    "\n",
    "for index, rows in data.iterrows():\n",
    "    if rows['theme'] == 'L':\n",
    "        love.append(rows.to_numpy())\n",
    "    if rows['theme'] == 'C':\n",
    "        cheerful.append(rows.values)\n",
    "    if rows['theme'] == 'F':\n",
    "        fearful.append(rows.values)\n",
    "    if rows['theme'] == 'Ca':\n",
    "        calm.append(rows.values)\n",
    "    if rows['theme'] == 'B':\n",
    "        bravery.append(rows.values)\n",
    "    if rows['theme'] == 'S':\n",
    "        sadness.append(rows.values)\n",
    "    \n",
    "random.shuffle(cheerful)\n",
    "random.shuffle(fearful)\n",
    "random.shuffle(bravery)\n",
    "random.shuffle(love)\n",
    "random.shuffle(calm)\n",
    "random.shuffle(sadness)\n",
    "\n"
   ]
  },
  {
   "cell_type": "code",
   "execution_count": 4,
   "metadata": {},
   "outputs": [],
   "source": [
    "# AUSTIN: Extract 3-4 samples from each theme first for validation set. Remove them from the list\n",
    "# Then distribute the remaining to each of the ten fold.\n",
    "\n",
    "size = [np.shape(love)[0], np.shape(cheerful)[0], np.shape(fearful)[0], np.shape(calm)[0], np.shape(sadness)[0], \n",
    "             np.shape(bravery)[0]]\n",
    "cur_sample_ind = 0\n",
    "for i in range(size[0]):\n",
    "    folds[cur_sample_ind % 10].append(love[i])\n",
    "    cur_sample_ind += 1\n",
    "for i in range(size[1]):\n",
    "    folds[cur_sample_ind % 10].append(cheerful[i])\n",
    "    cur_sample_ind += 1\n",
    "for i in range(size[2]):\n",
    "    folds[cur_sample_ind % 10].append(fearful[i])\n",
    "    cur_sample_ind += 1\n",
    "for i in range(size[3]):\n",
    "    folds[cur_sample_ind % 10].append(calm[i])\n",
    "    cur_sample_ind += 1\n",
    "for i in range(size[4]):\n",
    "    folds[cur_sample_ind % 10].append(sadness[i])\n",
    "    cur_sample_ind += 1\n",
    "for i in range(size[5]):\n",
    "    folds[cur_sample_ind % 10].append(bravery[i])\n",
    "    cur_sample_ind += 1\n"
   ]
  },
  {
   "cell_type": "code",
   "execution_count": 5,
   "metadata": {},
   "outputs": [],
   "source": [
    "#del folds[0][:6]\n",
    "# print(folds[2])"
   ]
  },
  {
   "cell_type": "code",
   "execution_count": 6,
   "metadata": {},
   "outputs": [
    {
     "name": "stdout",
     "output_type": "stream",
     "text": [
      "24\n",
      "24\n",
      "24\n",
      "24\n",
      "23\n",
      "23\n",
      "23\n",
      "23\n",
      "23\n",
      "23\n",
      " \n",
      " \n",
      "23\n",
      "23\n",
      "23\n",
      "23\n",
      "22\n",
      "22\n",
      "22\n",
      "22\n",
      "22\n",
      "22\n"
     ]
    }
   ],
   "source": [
    "fold_sizes = []\n",
    "validation = []\n",
    "i = 0\n",
    "for fold in folds:\n",
    "    fold_sizes.append(np.shape(fold)[0])\n",
    "    print(np.shape(fold)[0])\n",
    "for fold in folds:\n",
    "    chop = int(fold_sizes[i]*0.05)\n",
    "    validation.append(fold[:chop])\n",
    "    del fold[:chop]\n",
    "print(\" \")\n",
    "print(\" \")\n",
    "for fold in folds:\n",
    "    fold_sizes.append(np.shape(fold)[0])\n",
    "    print(np.shape(fold)[0])"
   ]
  },
  {
   "cell_type": "code",
   "execution_count": 31,
   "metadata": {},
   "outputs": [
    {
     "name": "stdout",
     "output_type": "stream",
     "text": [
      "(20, 394)\n"
     ]
    }
   ],
   "source": [
    "data = [[] for i in range(10)]\n",
    "labels = [[] for i in range(10)]\n",
    "data_val = []\n",
    "labels_val = []\n",
    "i = 0\n",
    "for fold in folds:\n",
    "    datum = []\n",
    "    label = []\n",
    "    for sample in fold:\n",
    "        if len(sample) > 0:\n",
    "            datum.append(sample[:-1])\n",
    "            label.append(sample[-1])\n",
    "    data[i] = datum\n",
    "    labels[i] = label\n",
    "    i+=1\n",
    "    "
   ]
  },
  {
   "cell_type": "code",
   "execution_count": 37,
   "metadata": {},
   "outputs": [],
   "source": [
    "for valid in validation:\n",
    "    for val in valid:\n",
    "        data_val.append(val[:-1])\n",
    "        labels_val.append(val[-1])"
   ]
  },
  {
   "cell_type": "code",
   "execution_count": 38,
   "metadata": {},
   "outputs": [],
   "source": [
    "with open('data.pt', 'wb') as f:\n",
    "    pickle.dump(data, f)\n",
    "with open('labels.pt', 'wb') as f:\n",
    "    pickle.dump(labels, f)\n",
    "with open('dataval.pt', 'wb') as f:\n",
    "    pickle.dump(data_val, f)\n",
    "with open('labelsval.pt', 'wb') as f:\n",
    "    pickle.dump(labels_val, f)"
   ]
  },
  {
   "cell_type": "code",
   "execution_count": null,
   "metadata": {},
   "outputs": [],
   "source": []
  }
 ],
 "metadata": {
  "kernelspec": {
   "display_name": "Python 3",
   "language": "python",
   "name": "python3"
  },
  "language_info": {
   "codemirror_mode": {
    "name": "ipython",
    "version": 3
   },
   "file_extension": ".py",
   "mimetype": "text/x-python",
   "name": "python",
   "nbconvert_exporter": "python",
   "pygments_lexer": "ipython3",
   "version": "3.7.3"
  }
 },
 "nbformat": 4,
 "nbformat_minor": 4
}
