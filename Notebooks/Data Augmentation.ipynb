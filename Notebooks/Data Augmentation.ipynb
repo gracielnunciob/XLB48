{
 "cells": [
  {
   "cell_type": "code",
   "execution_count": 2,
   "metadata": {},
   "outputs": [],
   "source": [
    "import librosa\n",
    "import numpy as np\n",
    "import matplotlib.pyplot as plt"
   ]
  },
  {
   "cell_type": "code",
   "execution_count": 18,
   "metadata": {},
   "outputs": [],
   "source": [
    " def read_audio_file(file_path):\n",
    "        rate, data = librosa.core.load(file_path)\n",
    "        return data, rate\n",
    "def add_noise(data):\n",
    "        noise = np.random.randn(len(data))\n",
    "        data_noise = data + 0.005 * noise\n",
    "        return data_noise\n",
    "def shift(data, rate):\n",
    "        return np.roll(data, rate)\n",
    "def stretch(data, sampling_rate, rate=1):\n",
    "        data = librosa.effects.time_stretch(data, rate)\n",
    "        if len(data) > sampling_rate:\n",
    "            data = data[:sampling_rate]\n",
    "        else:\n",
    "            data = np.pad(data, (0, max(0, sampling_rate - len(data))), \"constant\")\n",
    "        return data\n",
    "def write_audio_file(file, data, sample_rate=16000):\n",
    "        librosa.output.write_wav(file, data, sample_rate)"
   ]
  },
  {
   "cell_type": "code",
   "execution_count": 25,
   "metadata": {},
   "outputs": [],
   "source": [
    "rate, data = read_audio_file(\"./files/BRAVERY001G.wav\")\n",
    "shifted = stretch(data, rate/2)\n",
    "write_audio_file(\"BRAVERY001G_noise.wav\", shifted, rate)\n"
   ]
  },
  {
   "cell_type": "code",
   "execution_count": null,
   "metadata": {},
   "outputs": [],
   "source": []
  }
 ],
 "metadata": {
  "kernelspec": {
   "display_name": "Python 3",
   "language": "python",
   "name": "python3"
  },
  "language_info": {
   "codemirror_mode": {
    "name": "ipython",
    "version": 3
   },
   "file_extension": ".py",
   "mimetype": "text/x-python",
   "name": "python",
   "nbconvert_exporter": "python",
   "pygments_lexer": "ipython3",
   "version": "3.7.2"
  }
 },
 "nbformat": 4,
 "nbformat_minor": 2
}
