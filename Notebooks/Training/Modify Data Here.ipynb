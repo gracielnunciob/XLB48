{
 "cells": [
  {
   "cell_type": "code",
   "execution_count": 2,
   "metadata": {},
   "outputs": [],
   "source": [
    "import csv\n",
    "import numpy as np\n",
    "import pandas\n",
    "import math\n",
    "from statistics import mode"
   ]
  },
  {
   "cell_type": "code",
   "execution_count": 18,
   "metadata": {},
   "outputs": [],
   "source": [
    "def read_file(filename):\n",
    "    data = []\n",
    "    with open(filename, mode ='r')as file: \n",
    "\n",
    "        # reading the CSV file \n",
    "        csvFile = csv.reader(file)\n",
    "        # displaying the contents of the CSV file \n",
    "        c = 0\n",
    "        for lines in csvFile: \n",
    "            if c == 0:\n",
    "                top = lines\n",
    "            if c >=1:\n",
    "                data.append(lines)\n",
    "            c+=1\n",
    "    return data\n",
    "def get_header(filename):\n",
    "    with open(filename, mode ='r')as file: \n",
    "        csvFile = csv.reader(file)\n",
    "        for lines in csvFile: \n",
    "            data = lines\n",
    "    return data\n"
   ]
  },
  {
   "cell_type": "code",
   "execution_count": 21,
   "metadata": {},
   "outputs": [],
   "source": [
    "names_final = []\n",
    "names_collated = []\n",
    "names_val = []\n",
    "collated = read_file(\"Nelsonfromcollated2.csv\")\n",
    "final = read_file(\"FinalTrainingSet.csv\")\n",
    "val = read_file(\"Validation Set.csv\")\n",
    "\n",
    "for i in final:\n",
    "    names_final.append(i[0])\n",
    "for i in val:\n",
    "    names_val.append(i[0])"
   ]
  },
  {
   "cell_type": "code",
   "execution_count": 22,
   "metadata": {
    "scrolled": true
   },
   "outputs": [
    {
     "name": "stdout",
     "output_type": "stream",
     "text": [
      "(323, 327)\n"
     ]
    }
   ],
   "source": [
    "new = []\n",
    "for i in collated:\n",
    "    nowav = i[0]\n",
    "    if nowav in names_final:\n",
    "        c = names_final.index(nowav)\n",
    "        row = i[1:-1]\n",
    "        row += final[c][6:-1]\n",
    "        row.insert(0,nowav)\n",
    "        row.append(i[-1])\n",
    "        new.append(row)\n",
    "    elif nowav in names_val:\n",
    "        c = names_val.index(nowav)\n",
    "        row = i[1:-1]\n",
    "        row += val[c][6:-1]\n",
    "        row.insert(0,nowav)\n",
    "        row.append(i[-1])\n",
    "        new.append(row)\n",
    "print(np.shape(new))"
   ]
  },
  {
   "cell_type": "code",
   "execution_count": 23,
   "metadata": {},
   "outputs": [],
   "source": [
    "df = pandas.DataFrame(new)\n",
    "df.to_csv(\"Nelson Set.csv\")"
   ]
  },
  {
   "cell_type": "code",
   "execution_count": 4,
   "metadata": {},
   "outputs": [
    {
     "data": {
      "text/html": [
       "<div>\n",
       "<style scoped>\n",
       "    .dataframe tbody tr th:only-of-type {\n",
       "        vertical-align: middle;\n",
       "    }\n",
       "\n",
       "    .dataframe tbody tr th {\n",
       "        vertical-align: top;\n",
       "    }\n",
       "\n",
       "    .dataframe thead th {\n",
       "        text-align: right;\n",
       "    }\n",
       "</style>\n",
       "<table border=\"1\" class=\"dataframe\">\n",
       "  <thead>\n",
       "    <tr style=\"text-align: right;\">\n",
       "      <th></th>\n",
       "      <th>Filename</th>\n",
       "      <th>Tempo</th>\n",
       "      <th>Arousal</th>\n",
       "      <th>IsMajor</th>\n",
       "      <th>isMinor</th>\n",
       "      <th>IsDissonant</th>\n",
       "      <th>Theme</th>\n",
       "    </tr>\n",
       "  </thead>\n",
       "  <tbody>\n",
       "    <tr>\n",
       "      <th>0</th>\n",
       "      <td>FEARFUL011G.wav</td>\n",
       "      <td>1.0</td>\n",
       "      <td>1.0</td>\n",
       "      <td>0.0</td>\n",
       "      <td>1.0</td>\n",
       "      <td>0.0</td>\n",
       "      <td>Fearful</td>\n",
       "    </tr>\n",
       "    <tr>\n",
       "      <th>1</th>\n",
       "      <td>CHEERFUL013G.wav</td>\n",
       "      <td>2.0</td>\n",
       "      <td>2.0</td>\n",
       "      <td>1.0</td>\n",
       "      <td>0.0</td>\n",
       "      <td>0.0</td>\n",
       "      <td>Sad</td>\n",
       "    </tr>\n",
       "    <tr>\n",
       "      <th>2</th>\n",
       "      <td>FEARFUL022G.wav</td>\n",
       "      <td>1.0</td>\n",
       "      <td>1.0</td>\n",
       "      <td>1.0</td>\n",
       "      <td>0.0</td>\n",
       "      <td>0.0</td>\n",
       "      <td>Fearful</td>\n",
       "    </tr>\n",
       "    <tr>\n",
       "      <th>3</th>\n",
       "      <td>CALM017G.wav</td>\n",
       "      <td>2.0</td>\n",
       "      <td>1.0</td>\n",
       "      <td>1.0</td>\n",
       "      <td>0.0</td>\n",
       "      <td>0.0</td>\n",
       "      <td>Love</td>\n",
       "    </tr>\n",
       "    <tr>\n",
       "      <th>4</th>\n",
       "      <td>CHEERFUL044G.wav</td>\n",
       "      <td>2.0</td>\n",
       "      <td>1.0</td>\n",
       "      <td>1.0</td>\n",
       "      <td>0.0</td>\n",
       "      <td>0.0</td>\n",
       "      <td>Fearful</td>\n",
       "    </tr>\n",
       "  </tbody>\n",
       "</table>\n",
       "</div>"
      ],
      "text/plain": [
       "           Filename  Tempo  Arousal  IsMajor  isMinor  IsDissonant    Theme\n",
       "0   FEARFUL011G.wav    1.0      1.0      0.0      1.0          0.0  Fearful\n",
       "1  CHEERFUL013G.wav    2.0      2.0      1.0      0.0          0.0      Sad\n",
       "2   FEARFUL022G.wav    1.0      1.0      1.0      0.0          0.0  Fearful\n",
       "3      CALM017G.wav    2.0      1.0      1.0      0.0          0.0     Love\n",
       "4  CHEERFUL044G.wav    2.0      1.0      1.0      0.0          0.0  Fearful"
      ]
     },
     "execution_count": 4,
     "metadata": {},
     "output_type": "execute_result"
    }
   ],
   "source": [
    "data = pandas.read_csv(\"Nelsonfromcollated.csv\")\n",
    "del data['Unnamed: 7']\n",
    "del data['Unnamed: 8']\n",
    "data.head()"
   ]
  },
  {
   "cell_type": "code",
   "execution_count": 5,
   "metadata": {},
   "outputs": [],
   "source": [
    "data.to_csv('Nelsonfromcollated')"
   ]
  },
  {
   "cell_type": "code",
   "execution_count": 6,
   "metadata": {},
   "outputs": [],
   "source": [
    "tempo = data['Tempo'].tolist()\n",
    "arousal = data['Arousal'].tolist()\n",
    "major = data['IsMajor'].tolist()\n",
    "minor = data['isMinor'].tolist()\n",
    "dis = data['IsDissonant'].tolist()"
   ]
  },
  {
   "cell_type": "code",
   "execution_count": 7,
   "metadata": {},
   "outputs": [],
   "source": [
    "maj_tempo = max(tempo, key = tempo.count)\n",
    "maj_arousal = max(arousal, key = arousal.count)\n",
    "for i in range(0, len(tempo)):\n",
    "    if math.isnan(tempo[i]):\n",
    "        tempo[i] = maj_tempo\n",
    "for i in range(0, len(arousal)):\n",
    "    if math.isnan(arousal[i]):\n",
    "        arousal[i] = maj_arousal"
   ]
  },
  {
   "cell_type": "code",
   "execution_count": 8,
   "metadata": {},
   "outputs": [],
   "source": [
    "for i in range(0, len(major)):\n",
    "    if major[i] == 2:\n",
    "        major[i] = 1\n",
    "for i in range(0,len(minor)):\n",
    "    if minor[i] == 2:\n",
    "        minor[i] = 1\n",
    "for i in range(0,len(dis)):\n",
    "    if dis[i] == 2:\n",
    "        dis[i] = 1"
   ]
  },
  {
   "cell_type": "code",
   "execution_count": 9,
   "metadata": {},
   "outputs": [],
   "source": [
    "scale = []\n",
    "for i in range(0, len(minor)):\n",
    "    if not math.isnan(minor[i]):\n",
    "        ma = str(int(major[i]))\n",
    "        mi = str(int(minor[i]))\n",
    "        di = str(int(dis[i]))\n",
    "        scale.append(ma+mi+di)\n",
    "    else:\n",
    "        scale.append(float('nan'))\n",
    "max_scale = max(scale, key = scale.count)"
   ]
  },
  {
   "cell_type": "code",
   "execution_count": 10,
   "metadata": {},
   "outputs": [],
   "source": [
    "for i in range(0, len(major)):\n",
    "    if math.isnan(major[i]) or math.isnan(minor[i]) or math.isnan(dis[i]):\n",
    "        major[i] = 1.0\n",
    "        minor[i] = 0.0\n",
    "        dis[i] = 0.0"
   ]
  },
  {
   "cell_type": "code",
   "execution_count": 11,
   "metadata": {},
   "outputs": [],
   "source": [
    "data[\"Tempo\"] = tempo\n",
    "data[\"Arousal\"] = arousal\n",
    "data[\"IsMajor\"] = major\n",
    "data['isMinor'] = minor\n",
    "data['IsDissonant'] = dis"
   ]
  },
  {
   "cell_type": "code",
   "execution_count": 12,
   "metadata": {},
   "outputs": [],
   "source": [
    "emo = ['calm', 'cheerful', 'bravery','fearful','love','sadness']\n",
    "emos = data['Theme'].tolist()\n",
    "max_emos = max(emos, key = emos.count)\n",
    "for i in range(0,len(emos)):\n",
    "    if emos[i] == 'Sad' or emos[i]  == 'SAD':\n",
    "        emos[i] = 'Sadness'"
   ]
  },
  {
   "cell_type": "code",
   "execution_count": 16,
   "metadata": {},
   "outputs": [],
   "source": [
    "for i in range(0, len(emos)):\n",
    "    if isinstance(emos[i], str):\n",
    "        emos[i] = emos[i].lower()\n",
    "data['Theme'] = emos"
   ]
  },
  {
   "cell_type": "code",
   "execution_count": 17,
   "metadata": {},
   "outputs": [],
   "source": [
    "data.to_csv('Nelsonfromcollated2.csv')"
   ]
  },
  {
   "cell_type": "code",
   "execution_count": null,
   "metadata": {},
   "outputs": [],
   "source": []
  }
 ],
 "metadata": {
  "kernelspec": {
   "display_name": "Python 3",
   "language": "python",
   "name": "python3"
  },
  "language_info": {
   "codemirror_mode": {
    "name": "ipython",
    "version": 3
   },
   "file_extension": ".py",
   "mimetype": "text/x-python",
   "name": "python",
   "nbconvert_exporter": "python",
   "pygments_lexer": "ipython3",
   "version": "3.7.2"
  }
 },
 "nbformat": 4,
 "nbformat_minor": 2
}
