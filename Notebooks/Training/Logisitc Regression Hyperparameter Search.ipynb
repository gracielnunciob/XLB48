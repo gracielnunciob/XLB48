{
 "cells": [
  {
   "cell_type": "markdown",
   "metadata": {},
   "source": [
    "### Logistic Regression Training Script\n",
    "#### Author: Austin Fernandez\n",
    "#### Date Modified: April 8, 2020"
   ]
  },
  {
   "cell_type": "code",
   "execution_count": 9,
   "metadata": {},
   "outputs": [],
   "source": [
    "# dependencies\n",
    "import csv\n",
    "from sklearn.model_selection import GridSearchCV, RandomizedSearchCV\n",
    "# from sklearn.naive_bayes import CategoricalNB, ComplementNB, MultinomialNB\n",
    "from sklearn.linear_model import LogisticRegression\n",
    "import numpy as np\n",
    "from scipy.stats import uniform, norm\n",
    "\n",
    "import warnings\n",
    "warnings.filterwarnings('ignore')"
   ]
  },
  {
   "cell_type": "code",
   "execution_count": 10,
   "metadata": {},
   "outputs": [
    {
     "name": "stdout",
     "output_type": "stream",
     "text": [
      "(419, 5)\n",
      "(419,)\n"
     ]
    }
   ],
   "source": [
    "x_train = np.empty((0,5))\n",
    "y_train = np.array([])\n",
    "    \n",
    "with open(\"Toy Dataset.csv\",\"r\") as f:\n",
    "    d_reader = csv.reader(f,delimiter=\",\",quotechar=\"\\\"\")\n",
    "    first = True\n",
    "    for line in d_reader:\n",
    "        if first:\n",
    "            first = False\n",
    "            continue\n",
    "        x_train = np.append(x_train,np.array(list(map(int,line[2:7]))).reshape((1,5)),axis=0)\n",
    "        y_train = np.append(y_train,int(line[8]))\n",
    "print(x_train.shape)\n",
    "print(y_train.shape)\n",
    "# print(y_train)"
   ]
  },
  {
   "cell_type": "code",
   "execution_count": null,
   "metadata": {},
   "outputs": [],
   "source": [
    "# LogisticRegression, RandomizedSearch\n",
    "random_search_iterations = 200\n",
    "k_folds = 10\n",
    "\n",
    "parameters = {\n",
    "    'penalty':['l1','l2'], \n",
    "    'C': uniform(loc=0,scale=4),\n",
    "    'fit_intercept' : [True,False],\n",
    "    'solver' : ['liblinear', 'saga'],\n",
    "    'max_iter' : [100,200,300,400,500,600,700,800,900,1000]\n",
    "}\n",
    "mnb = LogisticRegression()\n",
    "rscv = RandomizedSearchCV(mnb, parameters,cv=k_folds,n_iter=random_search_iterations)\n",
    "rscv.fit(x_train,y_train)\n",
    "print(\"Best Score: {:.4f}\".format(rscv.best_score_))\n",
    "for k,v in rscv.best_params_.items():\n",
    "    print(\"{} => {}\".format(k,v))\n",
    "print(\"Splits: {}\".format(rscv.n_splits_))\n",
    "y_out = rscv.predict(x_train)\n",
    "print(\"Accuracy: {:.4f}%\".format(np.mean(y_out == y_train) * 100.0))\n",
    "# print(y_out)"
   ]
  },
  {
   "cell_type": "code",
   "execution_count": 22,
   "metadata": {},
   "outputs": [
    {
     "name": "stdout",
     "output_type": "stream",
     "text": [
      "[4. 1. 2. 4. 1. 1. 4. 4. 4. 1. 4. 4. 4. 4. 4. 4. 4. 4. 4. 1. 4. 4. 1. 1.\n",
      " 4. 2. 1. 2. 4. 4. 4. 4. 1. 2. 4. 1. 4. 4. 1. 1. 1. 1. 4. 2. 4. 2. 1. 1.\n",
      " 4. 4. 4. 2. 1. 4. 4. 4. 4. 4. 4. 4. 2. 4. 2. 2. 1. 4. 2. 4. 2. 4. 4. 4.\n",
      " 4. 4. 4. 1. 4. 4. 4. 2. 2. 2. 1. 4. 4. 4. 4. 4. 4. 4. 4. 1. 1. 4. 4. 2.\n",
      " 4. 1. 4. 1. 1. 1. 1. 1. 4. 4. 2. 2. 1. 4. 4. 2. 4. 4. 1. 2. 2. 1. 4. 4.\n",
      " 4. 2. 2. 2. 4. 4. 4. 4. 4. 2. 2. 1. 4. 4. 2. 1. 4. 4. 2. 4. 4. 2. 4. 4.\n",
      " 4. 1. 1. 4. 4. 1. 1. 2. 1. 4. 2. 4. 4. 4. 4. 2. 4. 4. 4. 4. 4. 4. 4. 4.\n",
      " 4. 4. 4. 4. 4. 4. 4. 4. 2. 4. 4. 4. 4. 4. 4. 4. 4. 2. 4. 2. 4. 4. 4. 1.\n",
      " 1. 4. 1. 2. 1. 4. 4. 4. 4. 4. 1. 4. 2. 4. 2. 1. 2. 1. 1. 4. 4. 4. 4. 1.\n",
      " 1. 4. 1. 1. 4. 4. 2. 4. 4. 2. 4. 4. 1. 1. 2. 1. 4. 4. 4. 1. 1. 4. 4. 4.\n",
      " 4. 4. 1. 4. 4. 4. 1. 1. 1. 4. 4. 4. 1. 1. 1. 4. 4. 4. 4. 4. 4. 2. 2. 2.\n",
      " 1. 1. 1. 4. 1. 4. 4. 4. 1. 2. 4. 1. 4. 4. 4. 4. 4. 1. 2. 2. 4. 4. 4. 4.\n",
      " 4. 1. 4. 4. 4. 4. 2. 1. 1. 1. 4. 4. 1. 4. 4. 4. 4. 1. 1. 4. 4. 1. 2. 4.\n",
      " 4. 4. 4. 4. 1. 2. 2. 4. 2. 4. 4. 4. 2. 2. 4. 4. 1. 4. 4. 4. 2. 4. 4. 2.\n",
      " 4. 4. 4. 4. 4. 1. 2. 1. 4. 4. 4. 4. 4. 4. 1. 1. 4. 4. 2. 4. 1. 4. 4. 4.\n",
      " 4. 4. 4. 4. 2. 4. 4. 4. 4. 4. 1. 1. 2. 1. 2. 4. 1. 4. 4. 4. 4. 4. 2. 4.\n",
      " 2. 1. 4. 1. 4. 4. 4. 2. 2. 1. 4. 2. 4. 4. 4. 1. 4. 4. 4. 1. 4. 1. 4. 4.\n",
      " 4. 2. 4. 4. 4. 4. 4. 2. 4. 1. 1.]\n"
     ]
    }
   ],
   "source": [
    "print(y_out)"
   ]
  },
  {
   "cell_type": "code",
   "execution_count": null,
   "metadata": {},
   "outputs": [],
   "source": []
  }
 ],
 "metadata": {
  "kernelspec": {
   "display_name": "Python 3",
   "language": "python",
   "name": "python3"
  },
  "language_info": {
   "codemirror_mode": {
    "name": "ipython",
    "version": 3
   },
   "file_extension": ".py",
   "mimetype": "text/x-python",
   "name": "python",
   "nbconvert_exporter": "python",
   "pygments_lexer": "ipython3",
   "version": "3.7.3"
  }
 },
 "nbformat": 4,
 "nbformat_minor": 4
}
