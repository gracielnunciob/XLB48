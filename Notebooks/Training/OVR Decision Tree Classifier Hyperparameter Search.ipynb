{
 "cells": [
  {
   "cell_type": "markdown",
   "metadata": {},
   "source": [
    "# Decision Tree Classifier for Classifying Music Emotions\n",
    "---\n",
    "## About the Dataset\n",
    "\n",
    "For this experiment, our dataset contains 267 music samples that were labelled by 2 music experts and 151 samples labeled in the semi-supervised learning task. The dataset has a combination of high level and low level features. The high level features are tempo, arousal, and scale, which were all labelled by the music experts. The low level features were extracted from the music samples using the JAudio software.\n",
    "\n",
    "---\n",
    "## Libraries\n",
    "\n",
    "We used the pandas and csv libraries to load the dataset, which is a csv file. Then we used numpy to manipulate the loaded dataset. We used the sci kit learn library for the decision tree algorithm."
   ]
  },
  {
   "cell_type": "code",
   "execution_count": 1,
   "metadata": {},
   "outputs": [],
   "source": [
    "import os\n",
    "import numpy as np\n",
    "import pandas as pd\n",
    "import csv\n",
    "from sklearn.metrics import f1_score\n",
    "from sklearn import tree\n",
    "from sklearn import svm\n",
    "from sklearn.model_selection import RandomizedSearchCV\n",
    "from scipy.stats import uniform, norm\n",
    "from sklearn.tree import DecisionTreeClassifier\n",
    "from sklearn.metrics import plot_confusion_matrix\n",
    "import matplotlib.pyplot as plt\n",
    "from imblearn.over_sampling import SMOTE, RandomOverSampler\n",
    "from sklearn.preprocessing import MinMaxScaler, StandardScaler\n",
    "import matplotlib.pyplot as plt\n",
    "from sklearn.feature_selection import SelectKBest, VarianceThreshold, chi2, f_classif, mutual_info_classif\n",
    "from XLB import *\n",
    "from functools import cmp_to_key\n",
    "from statistics import mode\n",
    "\n",
    "import warnings\n",
    "warnings.filterwarnings('ignore')"
   ]
  },
  {
   "cell_type": "markdown",
   "metadata": {},
   "source": [
    "Here we load the data from the csv file and preprocess it by removing the header row and the filename column"
   ]
  },
  {
   "cell_type": "markdown",
   "metadata": {},
   "source": [
    "After the initial preprocessing step, we separated the music features and the labelled emotion into the x_train and y_train arrays respectively"
   ]
  },
  {
   "cell_type": "code",
   "execution_count": 2,
   "metadata": {
    "scrolled": true
   },
   "outputs": [
    {
     "name": "stdout",
     "output_type": "stream",
     "text": [
      "(552, 45) (552,)\n",
      "(692, 45) (692,)\n",
      "(690, 45) (690,)\n",
      "(604, 45) (604,)\n",
      "(748, 45) (748,)\n",
      "(724, 45) (724,)\n",
      "\n",
      "(552, 45) (552,)\n",
      "(692, 45) (692,)\n",
      "(690, 45) (690,)\n",
      "(604, 45) (604,)\n",
      "(748, 45) (748,)\n",
      "(724, 45) (724,)\n"
     ]
    }
   ],
   "source": [
    "# extract data from files\n",
    "x_train, y_train = extract_data(\"FinalTrainingSet.csv\")\n",
    "x_val, y_val = extract_data(\"Validation Set.csv\")\n",
    "\n",
    "# scale data values\n",
    "scaler = MinMaxScaler()\n",
    "scaler.fit(x_train)\n",
    "x_train = scaler.transform(x_train)\n",
    "x_val = scaler.transform(x_val)\n",
    "\n",
    "# feature selection\n",
    "num_features = 45\n",
    "feat_sel = VarianceThreshold()\n",
    "x_train = feat_sel.fit_transform(x_train)\n",
    "feat_sel_2 = SelectKBest(mutual_info_classif,k=num_features)\n",
    "x_train = feat_sel_2.fit_transform(x_train,y_train)\n",
    "x_val = feat_sel_2.transform(feat_sel.transform(x_val))\n",
    "# print(\"After Variance Threshold Feature Selection:\",x_train.shape)\n",
    "\n",
    "rand_seed = 112263\n",
    "ovr_train = []\n",
    "ovr_val = []\n",
    "ovr_y_smote = []\n",
    "ovr_y_os = []\n",
    "x_oss = []\n",
    "x_smotes = []\n",
    "for i in range(1,7):\n",
    "    ovr_train.append(ovr_labels(y_train, i))\n",
    "    ovr_val.append(ovr_labels(y_val, i))\n",
    "for y in ovr_train:\n",
    "    oversampler = SMOTE(sampling_strategy=\"not majority\",random_state=rand_seed)\n",
    "    x_smote, y_smote = oversampler.fit_resample(x_train,y)\n",
    "    print(x_smote.shape,y_smote.shape)\n",
    "    ovr_y_smote.append(y_smote)\n",
    "    x_smotes.append(x_smote)\n",
    "print()\n",
    "for y in ovr_train:\n",
    "    oversampler = RandomOverSampler(sampling_strategy=\"not majority\",random_state=rand_seed)\n",
    "    x_os, y_os = oversampler.fit_resample(x_train,y)\n",
    "    print(x_os.shape,y_os.shape)\n",
    "    ovr_y_os.append(y_os)\n",
    "    x_oss.append(x_os)"
   ]
  },
  {
   "cell_type": "code",
   "execution_count": 3,
   "metadata": {},
   "outputs": [
    {
     "name": "stdout",
     "output_type": "stream",
     "text": [
      "324\n"
     ]
    }
   ],
   "source": [
    "#MOVING FEATURE HEADERS INTO A LIST\n",
    "import csv\n",
    "\n",
    "with open(\"FinalTrainingSet.csv\") as f:\n",
    "    reader = csv.reader(f)\n",
    "    features = next(reader)\n",
    "\n",
    "#Deleting everything except features from the dataset\n",
    "features.remove(\"Row Labels\")\n",
    "features.remove(\"Theme\")\n",
    "features.remove(\"Theme(Numbered)\")\n",
    "print(len(features))\n",
    "#Retained features after selection\n",
    "selected_feats = feat_sel_2.get_support(True)\n",
    "\n",
    "for ind, ft in sorted(enumerate(features), reverse=True): \n",
    "    if ind not in selected_feats:\n",
    "        del features[ind]\n",
    "  \n",
    "#Printing modified list \n",
    "#print (features) \n",
    "#print (len(features))"
   ]
  },
  {
   "cell_type": "code",
   "execution_count": 4,
   "metadata": {},
   "outputs": [],
   "source": [
    "themes = [\"Calm\",\"Cheerful\",\"Bravery\",\"Fearful\",\"Love\",\"Sadness\"]"
   ]
  },
  {
   "cell_type": "markdown",
   "metadata": {},
   "source": [
    "Here we perform different methods to deal with imbalanced datasets. We used the oversampling *Insert link to oversampling if needed* and SMOTE methodology *Insert link to SMOTE if needed*"
   ]
  },
  {
   "cell_type": "markdown",
   "metadata": {},
   "source": [
    "Here we defined a function that will train the model and perform the hyperparameter search. x_train is the input data, y_train is the labels for the input data, and hp_search is the algorithm for hyperparameter search"
   ]
  },
  {
   "cell_type": "markdown",
   "metadata": {},
   "source": [
    "This function trains the model, using the previously defined train_model function, and displays the confusion matrix of the model. "
   ]
  },
  {
   "cell_type": "markdown",
   "metadata": {},
   "source": [
    "The following cells are the experiments we ran with the default dataset, oversampled version, and SMOTE version using random search as the hyperparameter search algorithm\n",
    "\n",
    "---\n",
    "This cell instantiates the decison tree object and the hyperparameter search object."
   ]
  },
  {
   "cell_type": "code",
   "execution_count": 5,
   "metadata": {},
   "outputs": [],
   "source": [
    "# Decision Tree\n",
    "random_search_iterations = 1000\n",
    "n_splits = 5\n",
    "\n",
    "parameters = {\n",
    "    'criterion':[\"gini\", \"entropy\"], \n",
    "    'splitter':[\"best\", \"random\"], \n",
    "    'max_depth':range(1, num_features + 1), \n",
    "    'min_samples_split': uniform(loc=0.00,scale=1.0),\n",
    "    'min_samples_leaf': uniform(loc=0.0001,scale=0.4999)\n",
    "}\n",
    "\n",
    "# train classifier for SMOTE data\n",
    "dt = tree.DecisionTreeClassifier(random_state=rand_seed)\n",
    "rscv = RandomizedSearchCV(dt, parameters,cv=n_splits, random_state=rand_seed, n_iter=random_search_iterations,n_jobs=1)"
   ]
  },
  {
   "cell_type": "code",
   "execution_count": 6,
   "metadata": {},
   "outputs": [],
   "source": [
    "\"\"\" \n",
    "This functions trains a Classification Based on Associations (CBA) model on a\n",
    "dataset and tests it on a valdation set.\n",
    "\n",
    "Parameters:\n",
    "ruleset : array-like of size (0,) - container for ruleset\n",
    "X_train : array-like of size (n_train_samples,n_features) \n",
    "                                  - training data\n",
    "y_train : array-like of size (n_train_samples,) \n",
    "                                  - ground truth labels of training data\n",
    "X_val : array-like of size (n_test_samples,n_features) \n",
    "                                  - training data\n",
    "y_val : array-like of size (n_test_samples,) \n",
    "                                  - ground truth labels of training data\n",
    "model_selector : Sklearn estimator object - hyperparameetr search object\n",
    "feature_names : array-like of size (n_features,) - list of feature names\n",
    "label_names : array-like of size (n_classes,) - list of class labels\n",
    "dataset_name : string - name to call the dataset\n",
    "itr-count : int - tracking for rule number\n",
    "\n",
    "Returns an array of Rule objects indicating the updated ruleset.\n",
    "\"\"\"\n",
    "def extract_ruleset(ruleset,X_train,y_train,X_val,y_val,model_selector,\n",
    "                    feature_names,label_names,dataset_name=\"Dataset\",itr_count=0):\n",
    "    print_res(dataset_name,X_train,y_train,model_selector, label_names[i], verbose = False)\n",
    "#     disp_tree(rscv.best_estimator_,\"FinalTrainingSet.csv\")\n",
    "    test_res(dataset_name,X_val,y_val,model_selector, label_names[i])\n",
    "    ruleset.append(create_rule_obj_ovr(\n",
    "        model_selector.best_estimator_, feature_names, X_train, itr_count, label_names, \n",
    "        y_train,len(X_train)\n",
    "    ))\n",
    "    return ruleset"
   ]
  },
  {
   "cell_type": "markdown",
   "metadata": {},
   "source": [
    "This model is trained using the default "
   ]
  },
  {
   "cell_type": "code",
   "execution_count": 7,
   "metadata": {
    "scrolled": true
   },
   "outputs": [
    {
     "name": "stdout",
     "output_type": "stream",
     "text": [
      "Best Score: 0.6883\n",
      "Vanilla Train Accuracy: 68.8279%\n",
      "[0 0 0 0 0 0 0 0 0 0 0 0 0 0 0 0 0 0 0 0 0]\n",
      "[1 1 1 1 0 0 0 0 0 0 0 0 0 0 0 0 0 0 0 0 0]\n",
      "Vanilla Validation Accuracy: 80.95%\n",
      "Vanilla F1-score: 0.72\n",
      "Vanilla Precision Score: 0.66\n",
      "Vanilla Recall Score: 0.81\n",
      "Vanilla ROC-AUC Score: 0.50\n",
      "\n",
      "\n",
      "Best Score: 0.8653\n",
      "Vanilla Train Accuracy: 86.5337%\n",
      "[0 0 0 0 0 0 0 0 0 0 0 0 0 0 0 0 0 1 0 0 0]\n",
      "[0 0 0 0 1 1 1 0 0 0 0 0 0 0 0 0 0 0 0 0 0]\n",
      "Vanilla Validation Accuracy: 80.95%\n",
      "Vanilla F1-score: 0.77\n",
      "Vanilla Precision Score: 0.73\n",
      "Vanilla Recall Score: 0.81\n",
      "Vanilla ROC-AUC Score: 0.47\n",
      "\n",
      "\n",
      "Best Score: 0.8604\n",
      "Vanilla Train Accuracy: 86.0349%\n",
      "[0 0 0 0 0 0 0 0 0 0 0 0 0 0 0 0 0 0 0 0 0]\n",
      "[0 0 0 0 0 0 0 1 1 1 1 0 0 0 0 0 0 0 0 0 0]\n",
      "Vanilla Validation Accuracy: 80.95%\n",
      "Vanilla F1-score: 0.72\n",
      "Vanilla Precision Score: 0.66\n",
      "Vanilla Recall Score: 0.81\n",
      "Vanilla ROC-AUC Score: 0.50\n",
      "\n",
      "\n",
      "Best Score: 0.7581\n",
      "Vanilla Train Accuracy: 75.3117%\n",
      "[0 0 0 0 0 0 0 0 0 0 0 0 0 0 0 0 0 0 0 0 0]\n",
      "[0 0 0 0 0 0 0 0 0 0 0 1 1 1 1 0 0 0 0 0 0]\n",
      "Vanilla Validation Accuracy: 80.95%\n",
      "Vanilla F1-score: 0.72\n",
      "Vanilla Precision Score: 0.66\n",
      "Vanilla Recall Score: 0.81\n",
      "Vanilla ROC-AUC Score: 0.50\n",
      "\n",
      "\n",
      "Best Score: 0.9452\n",
      "Vanilla Train Accuracy: 93.2668%\n",
      "[0 0 0 0 0 0 0 0 0 0 0 0 0 0 0 0 0 0 0 0 0]\n",
      "[0 0 0 0 0 0 0 0 0 0 0 0 0 0 0 1 1 1 0 0 0]\n",
      "Vanilla Validation Accuracy: 85.71%\n",
      "Vanilla F1-score: 0.79\n",
      "Vanilla Precision Score: 0.73\n",
      "Vanilla Recall Score: 0.86\n",
      "Vanilla ROC-AUC Score: 0.50\n",
      "\n",
      "\n",
      "Best Score: 0.9102\n",
      "Vanilla Train Accuracy: 90.2743%\n",
      "[0 0 0 0 0 0 0 0 0 0 0 0 0 0 0 0 0 0 0 0 0]\n",
      "[0 0 0 0 0 0 0 0 0 0 0 0 0 0 0 0 0 0 1 1 1]\n",
      "Vanilla Validation Accuracy: 85.71%\n",
      "Vanilla F1-score: 0.79\n",
      "Vanilla Precision Score: 0.73\n",
      "Vanilla Recall Score: 0.86\n",
      "Vanilla ROC-AUC Score: 0.50\n"
     ]
    },
    {
     "data": {
      "image/png": "[encoded data removed]",
      "text/plain": [
       "<Figure size 432x288 with 2 Axes>"
      ]
     },
     "metadata": {
      "needs_background": "light"
     },
     "output_type": "display_data"
    },
    {
     "data": {
      "image/png": "[encoded data removed]",
      "text/plain": [
       "<Figure size 432x288 with 2 Axes>"
      ]
     },
     "metadata": {
      "needs_background": "light"
     },
     "output_type": "display_data"
    },
    {
     "data": {
      "image/png": "[encoded data removed]",
      "text/plain": [
       "<Figure size 432x288 with 2 Axes>"
      ]
     },
     "metadata": {
      "needs_background": "light"
     },
     "output_type": "display_data"
    },
    {
     "data": {
      "image/png": "[encoded data removed]",
      "text/plain": [
       "<Figure size 432x288 with 2 Axes>"
      ]
     },
     "metadata": {
      "needs_background": "light"
     },
     "output_type": "display_data"
    },
    {
     "data": {
      "image/png": "[encoded data removed]",
      "text/plain": [
       "<Figure size 432x288 with 2 Axes>"
      ]
     },
     "metadata": {
      "needs_background": "light"
     },
     "output_type": "display_data"
    },
    {
     "data": {
      "image/png": "[encoded data removed]",
      "text/plain": [
       "<Figure size 432x288 with 2 Axes>"
      ]
     },
     "metadata": {
      "needs_background": "light"
     },
     "output_type": "display_data"
    }
   ],
   "source": [
    "vanilla_rules = []\n",
    "for i in range(0,6):\n",
    "    if(i > 0):\n",
    "        print()\n",
    "        print()\n",
    "    vanilla_rules = extract_ruleset(\n",
    "        vanilla_rules,x_train,ovr_train[i],x_val,ovr_val[i],rscv,features,\\\n",
    "        themes,\"Vanilla\",itr_count=i\n",
    "    )"
   ]
  },
  {
   "cell_type": "code",
   "execution_count": 8,
   "metadata": {
    "scrolled": true
   },
   "outputs": [],
   "source": [
    "vanilla_rules_sorted = []\n",
    "for i in vanilla_rules:\n",
    "    vanilla_rules_sorted.append(sorted(i, key = cmp_to_key(comp_func)))"
   ]
  },
  {
   "cell_type": "code",
   "execution_count": 9,
   "metadata": {
    "scrolled": true
   },
   "outputs": [
    {
     "name": "stdout",
     "output_type": "stream",
     "text": [
      "MODEL NUMBER  1 :\n",
      "RULE NUMBER  1 :\n",
      " Derivative of Partial Based Spectral Centroid Overall Average <= 0.0800 -> notCalm\n",
      "    confidence: 0.45\n",
      "    lift: 0.65\n",
      "    interestingness: 6.54\n",
      "    error(s):  194\n",
      "RULE NUMBER  2 :\n",
      " Derivative of Partial Based Spectral Centroid Overall Average > 0.0800 -> notCalm\n",
      "    confidence: 0.23\n",
      "    lift: 0.34\n",
      "    interestingness: 4.47\n",
      "    error(s):  0\n",
      "TOTAL MATCHES:  100.0 %\n",
      "\n",
      "MODEL NUMBER  1 :\n",
      "RULE NUMBER  1 :\n",
      " Standard Deviation of Spectral Flux Overall Average > 0.3400 -> notCheerful\n",
      "    confidence: 0.87\n",
      "    lift: 1.01\n",
      "    interestingness: 13.89\n",
      "    error(s):  155\n",
      "RULE NUMBER  2 :\n",
      " Standard Deviation of Spectral Flux Overall Average <= 0.3400 -> notCheerful\n",
      "    confidence: 0.85\n",
      "    lift: 0.99\n",
      "    interestingness: 12.37\n",
      "    error(s):  0\n",
      "TOTAL MATCHES:  100.0 %\n",
      "\n",
      "MODEL NUMBER  1 :\n",
      "RULE NUMBER  1 :\n",
      " Standard Deviation of Spectral Flux Overall Average <= 0.3400 -> notBravery\n",
      "    confidence: 1.00\n",
      "    lift: 1.16\n",
      "    interestingness: 14.54\n",
      "    error(s):  191\n",
      "RULE NUMBER  2 :\n",
      " Standard Deviation of Spectral Flux Overall Average > 0.3400 -> notBravery\n",
      "    confidence: 1.00\n",
      "    lift: 1.16\n",
      "    interestingness: 15.95\n",
      "    error(s):  0\n",
      "TOTAL MATCHES:  100.0 %\n",
      "\n",
      "MODEL NUMBER  1 :\n",
      "RULE NUMBER  1 :\n",
      " Derivative of Method of Moments Overall Average > 0.0100 -> notFearful\n",
      "    confidence: 1.00\n",
      "    lift: 1.33\n",
      "    interestingness: 20.22\n",
      "    error(s):  73\n",
      "RULE NUMBER  2 :\n",
      " Derivative of Partial Based Spectral Centroid Overall Average <= 0.0800 ^  Derivative of Method of Moments Overall Average <= 0.0100 -> notFearful\n",
      "    confidence: 1.00\n",
      "    lift: 1.33\n",
      "    interestingness: 11.11\n",
      "    error(s):  0\n",
      "TOTAL MATCHES:  100.0 %\n",
      "\n",
      "MODEL NUMBER  1 :\n",
      "RULE NUMBER  1 :\n",
      " Standard Deviation of Spectral Flux Overall Average <= 0.3400 -> notLove\n",
      "    confidence: 1.00\n",
      "    lift: 1.07\n",
      "    interestingness: 13.97\n",
      "    error(s):  201\n",
      "RULE NUMBER  2 :\n",
      " Standard Deviation of Spectral Flux Overall Average > 0.3400 -> notLove\n",
      "    confidence: 1.00\n",
      "    lift: 1.07\n",
      "    interestingness: 15.32\n",
      "    error(s):  0\n",
      "TOTAL MATCHES:  100.0 %\n",
      "\n",
      "MODEL NUMBER  1 :\n",
      "RULE NUMBER  1 :\n",
      " Standard Deviation of Spectral Flux Overall Average <= 0.3400 -> notSadness\n",
      "    confidence: 1.00\n",
      "    lift: 1.11\n",
      "    interestingness: 14.20\n",
      "    error(s):  199\n",
      "RULE NUMBER  2 :\n",
      " Standard Deviation of Spectral Flux Overall Average > 0.3400 -> notSadness\n",
      "    confidence: 1.00\n",
      "    lift: 1.11\n",
      "    interestingness: 15.58\n",
      "    error(s):  0\n",
      "TOTAL MATCHES:  100.0 %\n",
      "\n"
     ]
    }
   ],
   "source": [
    "classifiers = []\n",
    "index = 0\n",
    "for i in vanilla_rules_sorted:\n",
    "    cls, acc = eval_rules(i, x_train, ovr_train[index]) \n",
    "    classifiers.append((cls, acc))\n",
    "    index+=1\n",
    "model = 0\n",
    "vanilla_clsfs = []\n",
    "for i in vanilla_rules_sorted:\n",
    "    accuracy = classifiers[model][1]\n",
    "    vanilla_clsfs.append(remove_unnecessary_rules(i, accuracy, x_train, ovr_train[model]))\n",
    "    model+=1\n",
    "print_classifiers(vanilla_clsfs, len(x_train))"
   ]
  },
  {
   "cell_type": "code",
   "execution_count": 8,
   "metadata": {
    "scrolled": true
   },
   "outputs": [
    {
     "ename": "NameError",
     "evalue": "name 'vanilla_clsfs' is not defined",
     "output_type": "error",
     "traceback": [
      "\u001b[1;31m---------------------------------------------------------------------------\u001b[0m",
      "\u001b[1;31mNameError\u001b[0m                                 Traceback (most recent call last)",
      "\u001b[1;32m<ipython-input-8-c8949a2e28b5>\u001b[0m in \u001b[0;36m<module>\u001b[1;34m\u001b[0m\n\u001b[0;32m      1\u001b[0m \u001b[0mvanilla_val_mod\u001b[0m \u001b[1;33m=\u001b[0m \u001b[1;33m[\u001b[0m\u001b[1;33m]\u001b[0m\u001b[1;33m\u001b[0m\u001b[1;33m\u001b[0m\u001b[0m\n\u001b[1;32m----> 2\u001b[1;33m \u001b[1;32mfor\u001b[0m \u001b[0mmod\u001b[0m \u001b[1;32min\u001b[0m \u001b[0mvanilla_clsfs\u001b[0m\u001b[1;33m:\u001b[0m\u001b[1;33m\u001b[0m\u001b[1;33m\u001b[0m\u001b[0m\n\u001b[0m\u001b[0;32m      3\u001b[0m     \u001b[0mvmod\u001b[0m \u001b[1;33m=\u001b[0m \u001b[1;33m[\u001b[0m\u001b[1;33m]\u001b[0m\u001b[1;33m\u001b[0m\u001b[1;33m\u001b[0m\u001b[0m\n\u001b[0;32m      4\u001b[0m     \u001b[1;32mfor\u001b[0m \u001b[0mi\u001b[0m \u001b[1;32min\u001b[0m \u001b[0mmod\u001b[0m\u001b[1;33m[\u001b[0m\u001b[1;36m0\u001b[0m\u001b[1;33m]\u001b[0m\u001b[1;33m:\u001b[0m\u001b[1;33m\u001b[0m\u001b[1;33m\u001b[0m\u001b[0m\n\u001b[0;32m      5\u001b[0m         \u001b[0mvmod\u001b[0m\u001b[1;33m.\u001b[0m\u001b[0mappend\u001b[0m\u001b[1;33m(\u001b[0m\u001b[0mi\u001b[0m\u001b[1;33m[\u001b[0m\u001b[1;36m0\u001b[0m\u001b[1;33m]\u001b[0m\u001b[1;33m)\u001b[0m\u001b[1;33m\u001b[0m\u001b[1;33m\u001b[0m\u001b[0m\n",
      "\u001b[1;31mNameError\u001b[0m: name 'vanilla_clsfs' is not defined"
     ]
    }
   ],
   "source": [
    "vanilla_val_mod = []\n",
    "for mod in vanilla_clsfs:\n",
    "    vmod = []\n",
    "    for i in mod[0]:\n",
    "        vmod.append(i[0])\n",
    "    vanilla_val_mod.append(vmod)"
   ]
  },
  {
   "cell_type": "code",
   "execution_count": 10,
   "metadata": {},
   "outputs": [],
   "source": [
    "index = 0\n",
    "preds = []\n",
    "for val in vanilla_val_mod:\n",
    "    pred = predict_ovr(val, x_val, ovr_val[index])\n",
    "    preds.append(pred)"
   ]
  },
  {
   "cell_type": "code",
   "execution_count": 11,
   "metadata": {
    "scrolled": true
   },
   "outputs": [],
   "source": [
    "ovr = [\"isCalm\",\"isCheerful\",\"isBravery\",\"isFearful\",\"isLove\",\"isSadness\"]\n",
    "for i in range(0, len(preds)):\n",
    "    print(ovr[i], \" ACCURACY:\")\n",
    "    compute_accuracy(preds[i], ovr_val[i])\n",
    "    f1 = f1_score(ovr_val[i], preds[i])\n",
    "    print(\"F1 SCORE: \", f1)\n",
    "    print()"
   ]
  },
  {
   "cell_type": "code",
   "execution_count": 16,
   "metadata": {
    "scrolled": true
   },
   "outputs": [
    {
     "name": "stdout",
     "output_type": "stream",
     "text": [
      "Best Score: 0.6359\n",
      "Random Oversampling Train Accuracy: 78.6232%\n",
      "[0 0 0 0 0 0 1 0 1 0 0 0 0 0 0 0 1 0 0 0 1]\n",
      "[1 1 1 1 0 0 0 0 0 0 0 0 0 0 0 0 0 0 0 0 0]\n",
      "Random Oversampling Validation Accuracy: 61.90%\n",
      "Random Oversampling F1-score: 0.62\n",
      "Random Oversampling Precision Score: 0.62\n",
      "Random Oversampling Recall Score: 0.62\n",
      "Random Oversampling ROC-AUC Score: 0.38\n",
      "\n",
      "\n",
      "Best Score: 0.7280\n",
      "Random Oversampling Train Accuracy: 91.0405%\n",
      "[0 0 0 0 0 0 0 0 0 0 0 0 0 0 0 0 0 0 0 0 0]\n",
      "[0 0 0 0 1 1 1 0 0 0 0 0 0 0 0 0 0 0 0 0 0]\n",
      "Random Oversampling Validation Accuracy: 85.71%\n",
      "Random Oversampling F1-score: 0.79\n",
      "Random Oversampling Precision Score: 0.73\n",
      "Random Oversampling Recall Score: 0.86\n",
      "Random Oversampling ROC-AUC Score: 0.50\n",
      "\n",
      "\n",
      "Best Score: 0.7855\n",
      "Random Oversampling Train Accuracy: 91.3043%\n",
      "[0 1 1 1 1 0 0 1 0 0 0 0 0 0 1 0 0 0 1 0 0]\n",
      "[0 0 0 0 0 0 0 1 1 1 1 0 0 0 0 0 0 0 0 0 0]\n",
      "Random Oversampling Validation Accuracy: 57.14%\n",
      "Random Oversampling F1-score: 0.61\n",
      "Random Oversampling Precision Score: 0.66\n",
      "Random Oversampling Recall Score: 0.57\n",
      "Random Oversampling ROC-AUC Score: 0.45\n",
      "\n",
      "\n",
      "Best Score: 0.5809\n",
      "Random Oversampling Train Accuracy: 87.7483%\n",
      "[0 0 0 1 0 1 0 0 0 0 0 0 1 0 0 0 0 1 0 0 0]\n",
      "[0 0 0 0 0 0 0 0 0 0 0 1 1 1 1 0 0 0 0 0 0]\n",
      "Random Oversampling Validation Accuracy: 71.43%\n",
      "Random Oversampling F1-score: 0.71\n",
      "Random Oversampling Precision Score: 0.71\n",
      "Random Oversampling Recall Score: 0.71\n",
      "Random Oversampling ROC-AUC Score: 0.54\n",
      "\n",
      "\n",
      "Best Score: 0.8984\n",
      "Random Oversampling Train Accuracy: 93.7166%\n",
      "[0 0 0 0 0 0 0 0 0 0 0 0 0 0 0 0 0 0 0 0 0]\n",
      "[0 0 0 0 0 0 0 0 0 0 0 0 0 0 0 1 1 1 0 0 0]\n",
      "Random Oversampling Validation Accuracy: 85.71%\n",
      "Random Oversampling F1-score: 0.79\n",
      "Random Oversampling Precision Score: 0.73\n",
      "Random Oversampling Recall Score: 0.86\n",
      "Random Oversampling ROC-AUC Score: 0.50\n",
      "\n",
      "\n",
      "Best Score: 0.7676\n",
      "Random Oversampling Train Accuracy: 87.7072%\n",
      "[1 0 0 0 1 0 0 0 1 1 0 1 0 0 0 0 0 0 1 1 1]\n",
      "[0 0 0 0 0 0 0 0 0 0 0 0 0 0 0 0 0 0 1 1 1]\n",
      "Random Oversampling Validation Accuracy: 76.19%\n",
      "Random Oversampling F1-score: 0.80\n",
      "Random Oversampling Precision Score: 0.91\n",
      "Random Oversampling Recall Score: 0.76\n",
      "Random Oversampling ROC-AUC Score: 0.86\n"
     ]
    },
    {
     "data": {
      "image/png": "[encoded data removed]",
      "text/plain": [
       "<Figure size 432x288 with 2 Axes>"
      ]
     },
     "metadata": {
      "needs_background": "light"
     },
     "output_type": "display_data"
    },
    {
     "data": {
      "image/png": "[encoded data removed]",
      "text/plain": [
       "<Figure size 432x288 with 2 Axes>"
      ]
     },
     "metadata": {
      "needs_background": "light"
     },
     "output_type": "display_data"
    },
    {
     "data": {
      "image/png": "[encoded data removed]",
      "text/plain": [
       "<Figure size 432x288 with 2 Axes>"
      ]
     },
     "metadata": {
      "needs_background": "light"
     },
     "output_type": "display_data"
    },
    {
     "data": {
      "image/png": "[encoded data removed]",
      "text/plain": [
       "<Figure size 432x288 with 2 Axes>"
      ]
     },
     "metadata": {
      "needs_background": "light"
     },
     "output_type": "display_data"
    },
    {
     "data": {
      "image/png": "[encoded data removed]",
      "text/plain": [
       "<Figure size 432x288 with 2 Axes>"
      ]
     },
     "metadata": {
      "needs_background": "light"
     },
     "output_type": "display_data"
    },
    {
     "data": {
      "image/png": "[encoded data removed]",
      "text/plain": [
       "<Figure size 432x288 with 2 Axes>"
      ]
     },
     "metadata": {
      "needs_background": "light"
     },
     "output_type": "display_data"
    }
   ],
   "source": [
    "os_rules = []\n",
    "for i in range(0,6):\n",
    "    if(i > 0):\n",
    "        print()\n",
    "        print()\n",
    "    os_rules = extract_ruleset(\n",
    "        os_rules,x_oss[i],ovr_y_os[i],x_val,ovr_val[i],rscv,features,\\\n",
    "        themes,\"Random Oversampling\",itr_count=i\n",
    "    )"
   ]
  },
  {
   "cell_type": "code",
   "execution_count": 14,
   "metadata": {},
   "outputs": [],
   "source": [
    "os_rules_sorted = []\n",
    "for i in os_rules:\n",
    "    os_rules_sorted.append(sorted(i, key = cmp_to_key(comp_func)))"
   ]
  },
  {
   "cell_type": "code",
   "execution_count": 15,
   "metadata": {
    "scrolled": true
   },
   "outputs": [
    {
     "name": "stdout",
     "output_type": "stream",
     "text": [
      "MODEL NUMBER  1 :\n",
      "RULE NUMBER  1 :\n",
      " Derivative of Partial Based Spectral Centroid Overall Average > 0.0100 ^  Standard Deviation of Spectral Flux Overall Standard Deviation <= 0.3700 ^  Derivative of Running Mean of Beat Sum Overall Standard Deviation <= 0.0200 ^  Derivative of Spectral Variability Overall Standard Deviation <= 0.1300 -> isCalm\n",
      "    confidence: 0.12\n",
      "    lift: 0.54\n",
      "    interestingness: 1.46\n",
      "    error(s):  247\n",
      "RULE NUMBER  2 :\n",
      " Derivative of Spectral Variability Overall Standard Deviation > 0.2200 ^  Standard Deviation of Spectral Flux Overall Standard Deviation <= 0.1300 -> notCalm\n",
      "    confidence: 0.11\n",
      "    lift: 0.22\n",
      "    interestingness: 0.94\n",
      "    error(s):  0\n",
      "TOTAL MATCHES:  76.24309392265194 %\n",
      "\n",
      "MODEL NUMBER  1 :\n",
      "RULE NUMBER  1 :\n",
      " Derivative of Spectral Centroid Overall Standard Deviation > 0.5000 -> isCheerful\n",
      "    confidence: 0.45\n",
      "    lift: 5.69\n",
      "    interestingness: 26.45\n",
      "    error(s):  223\n",
      "RULE NUMBER  2 :\n",
      " Derivative of Peak Based Spectral Smoothness Overall Average > 0.0700 -> notCheerful\n",
      "    confidence: 0.45\n",
      "    lift: 0.90\n",
      "    interestingness: 12.56\n",
      "    error(s):  0\n",
      "TOTAL MATCHES:  95.58011049723757 %\n",
      "\n",
      "MODEL NUMBER  1 :\n",
      "RULE NUMBER  1 :\n",
      " Derivative of Running Mean of Spectral Variability Overall Standard Deviation > 0.0900 -> isBravery\n",
      "    confidence: 0.00\n",
      "    lift: 0.00\n",
      "    interestingness: 0.00\n",
      "    error(s):  69\n",
      "RULE NUMBER  2 :\n",
      " Derivative of Running Mean of LPC Overall Average > 0.3900 ^  Derivative of Running Mean of Spectral Variability Overall Standard Deviation <= 0.1000 -> isBravery\n",
      "    confidence: 0.00\n",
      "    lift: 0.00\n",
      "    interestingness: 0.00\n",
      "    error(s):  21\n",
      "RULE NUMBER  3 :\n",
      " Derivative of Spectral Centroid Overall Standard Deviation > 0.6100 ^  Derivative of Spectral Centroid Overall Standard Deviation <= 0.6300 -> isBravery\n",
      "    confidence: 0.00\n",
      "    lift: 0.00\n",
      "    interestingness: 0.00\n",
      "    error(s):  15\n",
      "RULE NUMBER  4 :\n",
      " Derivative of Spectral Centroid Overall Standard Deviation > 0.6300 ^  Derivative of Running Mean of Spectral Variability Overall Standard Deviation <= 0.0900 -> isBravery\n",
      "    confidence: 0.00\n",
      "    lift: 0.00\n",
      "    interestingness: 0.00\n",
      "    error(s):  0\n",
      "TOTAL MATCHES:  95.30386740331491 %\n",
      "\n",
      "MODEL NUMBER  1 :\n",
      "RULE NUMBER  1 :\n",
      " Fraction Of Low Energy Windows Overall Average > 0.4200 ^  Derivative of Partial Based Spectral Flux Overall Standard Deviation <= 0.0000 -> notFearful\n",
      "    confidence: 0.00\n",
      "    lift: 0.00\n",
      "    interestingness: 0.00\n",
      "    error(s):  302\n",
      "RULE NUMBER  2 :\n",
      " Derivative of Partial Based Spectral Centroid Overall Average > 0.1000 ^  Derivative of Relative Difference Function Overall Average <= 0.3100 ^  Derivative of Running Mean of LPC Overall Average <= 0.3400 ^  Derivative of Running Mean of MFCC Overall Average <= 0.2100 ^  Standard Deviation of Spectral Centroid Overall Standard Deviation <= 0.0200 ^  Derivative of Partial Based Spectral Flux Overall Standard Deviation <= 0.0400 -> isFearful\n",
      "    confidence: 0.00\n",
      "    lift: 0.00\n",
      "    interestingness: 0.00\n",
      "    error(s):  0\n",
      "TOTAL MATCHES:  83.42541436464089 %\n",
      "\n",
      "MODEL NUMBER  1 :\n",
      "RULE NUMBER  1 :\n",
      " Derivative of Running Mean of LPC Overall Average > 0.2700 ^  Derivative of Fraction Of Low Energy Windows Overall Average <= 0.5800 ^  Derivative of Running Mean of Beat Sum Overall Standard Deviation <= 0.1600 -> notLove\n",
      "    confidence: 1.00\n",
      "    lift: 2.00\n",
      "    interestingness: 13.27\n",
      "    error(s):  304\n",
      "RULE NUMBER  2 :\n",
      " Standard Deviation of Spectral Flux Overall Standard Deviation > 0.3100 ^  Beat Histogram Overall Average <= 0.7900 ^  Spectral Centroid Overall Average <= 0.0800 ^  Derivative of Running Mean of LPC Overall Average <= 0.2700 ^  Derivative of Running Mean of Spectral Variability Overall Average <= 0.3000 -> isLove\n",
      "    confidence: 0.00\n",
      "    lift: 0.00\n",
      "    interestingness: 0.00\n",
      "    error(s):  0\n",
      "TOTAL MATCHES:  103.31491712707181 %\n",
      "\n",
      "MODEL NUMBER  1 :\n",
      "RULE NUMBER  1 :\n",
      " Standard Deviation of Spectral Centroid Overall Average > 0.0800 -> isSadness\n",
      "    confidence: 0.00\n",
      "    lift: 0.00\n",
      "    interestingness: 0.00\n",
      "    error(s):  292\n",
      "RULE NUMBER  2 :\n",
      " Derivative of Standard Deviation of Zero Crossings Overall Average > 0.5600 -> isSadness\n",
      "    confidence: 0.00\n",
      "    lift: 0.00\n",
      "    interestingness: 0.00\n",
      "    error(s):  38\n",
      "RULE NUMBER  3 :\n",
      " Derivative of Spectral Centroid Overall Standard Deviation > 0.2700 ^  Derivative of Standard Deviation of Root Mean Square Overall Standard Deviation <= 0.1100 -> isSadness\n",
      "    confidence: 0.00\n",
      "    lift: 0.00\n",
      "    interestingness: 0.00\n",
      "    error(s):  27\n",
      "RULE NUMBER  4 :\n",
      " Fraction Of Low Energy Windows Overall Average > 0.2200 ^  Beat Histogram Overall Average <= 0.7600 ^  Standard Deviation of Spectral Flux Overall Average <= 0.2100 ^  Standard Deviation of Spectral Centroid Overall Average <= 0.0500 ^  Derivative of Standard Deviation of Spectral Variability Overall Standard Deviation <= 0.1000 -> isSadness\n",
      "    confidence: 0.00\n",
      "    lift: 0.00\n",
      "    interestingness: 0.00\n",
      "    error(s):  0\n",
      "TOTAL MATCHES:  100.0 %\n",
      "\n"
     ]
    }
   ],
   "source": [
    "os_classifiers = []\n",
    "index = 0\n",
    "for i in os_rules_sorted:\n",
    "    cls, acc = eval_rules(i, x_oss[index],ovr_y_os[index]) \n",
    "    os_classifiers.append((cls, acc))\n",
    "    index+=1\n",
    "model = 0\n",
    "os_clsfs = []\n",
    "for i in os_rules_sorted:\n",
    "    accuracy = os_classifiers[model][1]\n",
    "    os_clsfs.append(remove_unnecessary_rules(i, accuracy, x_oss[model],ovr_y_os[model]))\n",
    "    model+=1\n",
    "print_classifiers(os_clsfs, len(x_os))"
   ]
  },
  {
   "cell_type": "code",
   "execution_count": 16,
   "metadata": {
    "scrolled": true
   },
   "outputs": [],
   "source": [
    "os_val_mod = []\n",
    "for mod in os_clsfs:\n",
    "    vmod = []\n",
    "    for i in mod[0]:\n",
    "        vmod.append(i[0])\n",
    "    os_val_mod.append(vmod)"
   ]
  },
  {
   "cell_type": "code",
   "execution_count": null,
   "metadata": {},
   "outputs": [],
   "source": [
    "index = 0\n",
    "preds = []\n",
    "for val in os_val_mod:\n",
    "    pred = predict_ovr(val, x_val, ovr_val[index])\n",
    "    preds.append(pred)"
   ]
  },
  {
   "cell_type": "code",
   "execution_count": 13,
   "metadata": {},
   "outputs": [],
   "source": [
    "ovr = [\"isCalm\",\"isCheerful\",\"isBravery\",\"isFearful\",\"isLove\",\"isSadness\"]\n",
    "for i in range(0, len(preds)):\n",
    "    print(ovr[i], \" Oversampling ACCURACY:\")\n",
    "    compute_accuracy(preds[i], ovr_val[i])\n",
    "    f1 = f1_score(ovr_val[i], preds[i])\n",
    "    print(\"F1 SCORE: \", f1)\n",
    "    print()"
   ]
  },
  {
   "cell_type": "code",
   "execution_count": 19,
   "metadata": {
    "scrolled": true
   },
   "outputs": [
    {
     "name": "stdout",
     "output_type": "stream",
     "text": [
      "Best Score: 0.5831\n",
      "SMOTE Train Accuracy: 83.1522%\n",
      "[0 1 0 0 0 0 1 0 1 0 1 0 0 0 0 1 1 1 0 0 0]\n",
      "[1 1 1 1 0 0 0 0 0 0 0 0 0 0 0 0 0 0 0 0 0]\n",
      "SMOTE Validation Accuracy: 57.14%\n",
      "SMOTE F1-score: 0.61\n",
      "SMOTE Precision Score: 0.66\n",
      "SMOTE Recall Score: 0.57\n",
      "SMOTE ROC-AUC Score: 0.45\n",
      "\n",
      "\n",
      "Best Score: 0.6950\n",
      "SMOTE Train Accuracy: 83.0925%\n",
      "[0 0 0 0 0 0 1 0 0 0 0 0 0 0 0 0 1 0 0 0 1]\n",
      "[0 0 0 0 1 1 1 0 0 0 0 0 0 0 0 0 0 0 0 0 0]\n",
      "SMOTE Validation Accuracy: 80.95%\n",
      "SMOTE F1-score: 0.81\n",
      "SMOTE Precision Score: 0.81\n",
      "SMOTE Recall Score: 0.81\n",
      "SMOTE ROC-AUC Score: 0.61\n",
      "\n",
      "\n",
      "Best Score: 0.7000\n",
      "SMOTE Train Accuracy: 76.8116%\n",
      "[1 1 1 1 1 1 1 1 1 1 1 1 1 1 1 1 0 1 1 1 0]\n",
      "[0 0 0 0 0 0 0 1 1 1 1 0 0 0 0 0 0 0 0 0 0]\n",
      "SMOTE Validation Accuracy: 28.57%\n",
      "SMOTE F1-score: 0.24\n",
      "SMOTE Precision Score: 0.85\n",
      "SMOTE Recall Score: 0.29\n",
      "SMOTE ROC-AUC Score: 0.56\n",
      "\n",
      "\n",
      "Best Score: 0.5328\n",
      "SMOTE Train Accuracy: 81.1258%\n",
      "[1 0 0 1 0 1 0 0 0 0 1 1 1 1 0 0 0 0 0 0 0]\n",
      "[0 0 0 0 0 0 0 0 0 0 0 1 1 1 1 0 0 0 0 0 0]\n",
      "SMOTE Validation Accuracy: 76.19%\n",
      "SMOTE F1-score: 0.78\n",
      "SMOTE Precision Score: 0.83\n",
      "SMOTE Recall Score: 0.76\n",
      "SMOTE ROC-AUC Score: 0.76\n",
      "\n",
      "\n",
      "Best Score: 0.8729\n",
      "SMOTE Train Accuracy: 91.8449%\n",
      "[0 0 0 0 0 0 0 0 0 0 0 0 0 1 0 0 0 0 0 0 0]\n",
      "[0 0 0 0 0 0 0 0 0 0 0 0 0 0 0 1 1 1 0 0 0]\n",
      "SMOTE Validation Accuracy: 80.95%\n",
      "SMOTE F1-score: 0.77\n",
      "SMOTE Precision Score: 0.73\n",
      "SMOTE Recall Score: 0.81\n",
      "SMOTE ROC-AUC Score: 0.47\n",
      "\n",
      "\n",
      "Best Score: 0.7359\n",
      "SMOTE Train Accuracy: 90.8840%\n",
      "[0 0 0 0 1 0 1 0 0 0 0 0 0 0 1 0 1 0 1 0 1]\n",
      "[0 0 0 0 0 0 0 0 0 0 0 0 0 0 0 0 0 0 1 1 1]\n",
      "SMOTE Validation Accuracy: 76.19%\n",
      "SMOTE F1-score: 0.79\n",
      "SMOTE Precision Score: 0.85\n",
      "SMOTE Recall Score: 0.76\n",
      "SMOTE ROC-AUC Score: 0.72\n"
     ]
    },
    {
     "data": {
      "image/png": "[encoded data removed]",
      "text/plain": [
       "<Figure size 432x288 with 2 Axes>"
      ]
     },
     "metadata": {
      "needs_background": "light"
     },
     "output_type": "display_data"
    },
    {
     "data": {
      "image/png": "[encoded data removed]",
      "text/plain": [
       "<Figure size 432x288 with 2 Axes>"
      ]
     },
     "metadata": {
      "needs_background": "light"
     },
     "output_type": "display_data"
    },
    {
     "data": {
      "image/png": "[encoded data removed]",
      "text/plain": [
       "<Figure size 432x288 with 2 Axes>"
      ]
     },
     "metadata": {
      "needs_background": "light"
     },
     "output_type": "display_data"
    },
    {
     "data": {
      "image/png": "[encoded data removed]",
      "text/plain": [
       "<Figure size 432x288 with 2 Axes>"
      ]
     },
     "metadata": {
      "needs_background": "light"
     },
     "output_type": "display_data"
    },
    {
     "data": {
      "image/png": "[encoded data removed]",
      "text/plain": [
       "<Figure size 432x288 with 2 Axes>"
      ]
     },
     "metadata": {
      "needs_background": "light"
     },
     "output_type": "display_data"
    },
    {
     "data": {
      "image/png": "[encoded data removed]",
      "text/plain": [
       "<Figure size 432x288 with 2 Axes>"
      ]
     },
     "metadata": {
      "needs_background": "light"
     },
     "output_type": "display_data"
    }
   ],
   "source": [
    "smote_rules = []\n",
    "for i in range(0,6):\n",
    "    if(i > 0):\n",
    "        print()\n",
    "        print()\n",
    "    smote_rules = extract_ruleset(\n",
    "        smote_rules,x_smotes[i],ovr_y_smote[i],x_val,ovr_val[i],rscv,features,\\\n",
    "        themes,\"SMOTE\",itr_count=i\n",
    "    )"
   ]
  },
  {
   "cell_type": "code",
   "execution_count": 20,
   "metadata": {},
   "outputs": [],
   "source": [
    "smote_rules_sorted = []\n",
    "for i in smote_rules:\n",
    "    smote_rules_sorted.append(sorted(i, key = cmp_to_key(comp_func)))"
   ]
  },
  {
   "cell_type": "code",
   "execution_count": 21,
   "metadata": {},
   "outputs": [
    {
     "name": "stdout",
     "output_type": "stream",
     "text": [
      "MODEL NUMBER  1 :\n",
      "RULE NUMBER  1 :\n",
      " Derivative of Partial Based Spectral Centroid Overall Average > 0.0800 -> notCalm\n",
      "    confidence: 0.39\n",
      "    lift: 0.79\n",
      "    interestingness: 9.96\n",
      "    error(s):  82\n",
      "RULE NUMBER  2 :\n",
      " Derivative of Partial Based Spectral Centroid Overall Average <= 0.0800 -> isCalm\n",
      "    confidence: 0.35\n",
      "    lift: 1.56\n",
      "    interestingness: 11.31\n",
      "    error(s):  0\n",
      "TOTAL MATCHES:  76.24309392265194 %\n",
      "\n",
      "MODEL NUMBER  1 :\n",
      "RULE NUMBER  1 :\n",
      " Fraction Of Low Energy Windows Overall Average > 0.2200 ^  Derivative of Running Mean of MFCC Overall Average <= 0.2800 -> isCheerful\n",
      "    confidence: 0.42\n",
      "    lift: 5.27\n",
      "    interestingness: 22.72\n",
      "    error(s):  248\n",
      "RULE NUMBER  2 :\n",
      " Running Mean of Spectral Rolloff Point Overall Average > 0.1400 ^  Fraction Of Low Energy Windows Overall Average <= 0.2200 -> notCheerful\n",
      "    confidence: 0.42\n",
      "    lift: 0.83\n",
      "    interestingness: 5.16\n",
      "    error(s):  0\n",
      "TOTAL MATCHES:  95.58011049723757 %\n",
      "\n",
      "MODEL NUMBER  1 :\n",
      "RULE NUMBER  1 :\n",
      " Derivative of Relative Difference Function Overall Average > 0.0000 -> isBravery\n",
      "    confidence: 0.00\n",
      "    lift: 0.00\n",
      "    interestingness: 0.00\n",
      "    error(s):  0\n",
      "TOTAL MATCHES:  95.30386740331491 %\n",
      "\n",
      "MODEL NUMBER  1 :\n",
      "RULE NUMBER  1 :\n",
      " Derivative of Partial Based Spectral Centroid Overall Standard Deviation > 0.0000 ^  Derivative of Relative Difference Function Overall Standard Deviation <= 0.0000 -> notFearful\n",
      "    confidence: 0.00\n",
      "    lift: 0.00\n",
      "    interestingness: 0.00\n",
      "    error(s):  302\n",
      "RULE NUMBER  2 :\n",
      " Derivative of Running Mean of LPC Overall Standard Deviation > 0.0700 ^  Derivative of Relative Difference Function Overall Average <= 0.3400 ^  Derivative of Running Mean of Partial Based Spectral Centroid Overall Average <= 0.4000 ^  Derivative of Running Mean of MFCC Overall Average <= 0.2200 ^  Standard Deviation of Compactness Overall Average <= 0.7800 ^  Derivative of Partial Based Spectral Centroid Overall Standard Deviation <= 0.0000 -> isFearful\n",
      "    confidence: 0.00\n",
      "    lift: 0.00\n",
      "    interestingness: 0.00\n",
      "    error(s):  0\n",
      "TOTAL MATCHES:  83.42541436464089 %\n",
      "\n",
      "MODEL NUMBER  1 :\n",
      "RULE NUMBER  1 :\n",
      " Derivative of Running Mean of LPC Overall Average > 0.2700 ^  Derivative of Fraction Of Low Energy Windows Overall Average <= 0.5800 ^  Derivative of Relative Difference Function Overall Standard Deviation <= 0.1000 -> notLove\n",
      "    confidence: 1.00\n",
      "    lift: 2.00\n",
      "    interestingness: 12.00\n",
      "    error(s):  308\n",
      "RULE NUMBER  2 :\n",
      " Standard Deviation of Spectral Flux Overall Standard Deviation > 0.3200 ^  Beat Histogram Overall Average <= 0.7900 ^  Derivative of Running Mean of LPC Overall Average <= 0.2700 ^  Derivative of Spectral Variability Overall Standard Deviation <= 0.2200 -> isLove\n",
      "    confidence: 0.00\n",
      "    lift: 0.00\n",
      "    interestingness: 0.00\n",
      "    error(s):  0\n",
      "TOTAL MATCHES:  103.31491712707181 %\n",
      "\n",
      "MODEL NUMBER  1 :\n",
      "RULE NUMBER  1 :\n",
      " Derivative of Partial Based Spectral Flux Overall Standard Deviation > 0.0200 ^  Derivative of Running Mean of Partial Based Spectral Centroid Overall Average <= 0.2400 ^  Derivative of Running Mean of Spectral Variability Overall Average <= 0.3100 ^  Derivative of Relative Difference Function Overall Standard Deviation <= 0.0500 -> notSadness\n",
      "    confidence: 1.00\n",
      "    lift: 2.00\n",
      "    interestingness: 10.30\n",
      "    error(s):  328\n",
      "RULE NUMBER  2 :\n",
      " Beat Histogram Overall Average > 0.7700 ^  Derivative of Running Mean of Partial Based Spectral Centroid Overall Average <= 0.2000 ^  Derivative of Running Mean of Method of Moments Overall Average <= 0.1800 ^  Derivative of Spectral Centroid Overall Standard Deviation <= 0.4400 -> isSadness\n",
      "    confidence: 0.00\n",
      "    lift: 0.00\n",
      "    interestingness: 0.00\n",
      "    error(s):  0\n",
      "TOTAL MATCHES:  100.0 %\n",
      "\n"
     ]
    }
   ],
   "source": [
    "smote_classifiers = []\n",
    "index = 0\n",
    "for i in smote_rules_sorted:\n",
    "    cls, acc = eval_rules(i, x_smotes[index],ovr_y_smote[index]) \n",
    "    smote_classifiers.append((cls, acc))\n",
    "    index+=1\n",
    "model = 0\n",
    "smote_clsfs = []\n",
    "for i in smote_rules_sorted:\n",
    "    accuracy = smote_classifiers[model][1]\n",
    "    smote_clsfs.append(remove_unnecessary_rules(i, accuracy,  x_smotes[model],ovr_y_smote[model]))\n",
    "    model+=1\n",
    "print_classifiers(smote_clsfs, len(x_smote))"
   ]
  },
  {
   "cell_type": "code",
   "execution_count": 18,
   "metadata": {},
   "outputs": [
    {
     "ename": "NameError",
     "evalue": "name 'smote_clsfs' is not defined",
     "output_type": "error",
     "traceback": [
      "\u001b[1;31m---------------------------------------------------------------------------\u001b[0m",
      "\u001b[1;31mNameError\u001b[0m                                 Traceback (most recent call last)",
      "\u001b[1;32m<ipython-input-18-541def860ed0>\u001b[0m in \u001b[0;36m<module>\u001b[1;34m\u001b[0m\n\u001b[0;32m      1\u001b[0m \u001b[0msmote_val_mod\u001b[0m \u001b[1;33m=\u001b[0m \u001b[1;33m[\u001b[0m\u001b[1;33m]\u001b[0m\u001b[1;33m\u001b[0m\u001b[1;33m\u001b[0m\u001b[0m\n\u001b[1;32m----> 2\u001b[1;33m \u001b[1;32mfor\u001b[0m \u001b[0mmod\u001b[0m \u001b[1;32min\u001b[0m \u001b[0msmote_clsfs\u001b[0m\u001b[1;33m:\u001b[0m\u001b[1;33m\u001b[0m\u001b[1;33m\u001b[0m\u001b[0m\n\u001b[0m\u001b[0;32m      3\u001b[0m     \u001b[0mvmod\u001b[0m \u001b[1;33m=\u001b[0m \u001b[1;33m[\u001b[0m\u001b[1;33m]\u001b[0m\u001b[1;33m\u001b[0m\u001b[1;33m\u001b[0m\u001b[0m\n\u001b[0;32m      4\u001b[0m     \u001b[1;32mfor\u001b[0m \u001b[0mi\u001b[0m \u001b[1;32min\u001b[0m \u001b[0mmod\u001b[0m\u001b[1;33m[\u001b[0m\u001b[1;36m0\u001b[0m\u001b[1;33m]\u001b[0m\u001b[1;33m:\u001b[0m\u001b[1;33m\u001b[0m\u001b[1;33m\u001b[0m\u001b[0m\n\u001b[0;32m      5\u001b[0m         \u001b[0mvmod\u001b[0m\u001b[1;33m.\u001b[0m\u001b[0mappend\u001b[0m\u001b[1;33m(\u001b[0m\u001b[0mi\u001b[0m\u001b[1;33m[\u001b[0m\u001b[1;36m0\u001b[0m\u001b[1;33m]\u001b[0m\u001b[1;33m)\u001b[0m\u001b[1;33m\u001b[0m\u001b[1;33m\u001b[0m\u001b[0m\n",
      "\u001b[1;31mNameError\u001b[0m: name 'smote_clsfs' is not defined"
     ]
    }
   ],
   "source": [
    "smote_val_mod = []\n",
    "for mod in smote_clsfs:\n",
    "    vmod = []\n",
    "    for i in mod[0]:\n",
    "        vmod.append(i[0])\n",
    "    smote_val_mod.append(vmod)"
   ]
  },
  {
   "cell_type": "code",
   "execution_count": 17,
   "metadata": {},
   "outputs": [
    {
     "ename": "NameError",
     "evalue": "name 'smote_val_mod' is not defined",
     "output_type": "error",
     "traceback": [
      "\u001b[1;31m---------------------------------------------------------------------------\u001b[0m",
      "\u001b[1;31mNameError\u001b[0m                                 Traceback (most recent call last)",
      "\u001b[1;32m<ipython-input-17-ce5c57580f36>\u001b[0m in \u001b[0;36m<module>\u001b[1;34m\u001b[0m\n\u001b[0;32m      1\u001b[0m \u001b[0mindex\u001b[0m \u001b[1;33m=\u001b[0m \u001b[1;36m0\u001b[0m\u001b[1;33m\u001b[0m\u001b[1;33m\u001b[0m\u001b[0m\n\u001b[0;32m      2\u001b[0m \u001b[0mpreds\u001b[0m \u001b[1;33m=\u001b[0m \u001b[1;33m[\u001b[0m\u001b[1;33m]\u001b[0m\u001b[1;33m\u001b[0m\u001b[1;33m\u001b[0m\u001b[0m\n\u001b[1;32m----> 3\u001b[1;33m \u001b[1;32mfor\u001b[0m \u001b[0mval\u001b[0m \u001b[1;32min\u001b[0m \u001b[0msmote_val_mod\u001b[0m\u001b[1;33m:\u001b[0m\u001b[1;33m\u001b[0m\u001b[1;33m\u001b[0m\u001b[0m\n\u001b[0m\u001b[0;32m      4\u001b[0m     \u001b[0mpred\u001b[0m \u001b[1;33m=\u001b[0m \u001b[0mpredict_ovr\u001b[0m\u001b[1;33m(\u001b[0m\u001b[0mval\u001b[0m\u001b[1;33m,\u001b[0m \u001b[0mx_val\u001b[0m\u001b[1;33m,\u001b[0m \u001b[0movr_val\u001b[0m\u001b[1;33m[\u001b[0m\u001b[0mindex\u001b[0m\u001b[1;33m]\u001b[0m\u001b[1;33m)\u001b[0m\u001b[1;33m\u001b[0m\u001b[1;33m\u001b[0m\u001b[0m\n\u001b[0;32m      5\u001b[0m     \u001b[0mpreds\u001b[0m\u001b[1;33m.\u001b[0m\u001b[0mappend\u001b[0m\u001b[1;33m(\u001b[0m\u001b[0mpred\u001b[0m\u001b[1;33m)\u001b[0m\u001b[1;33m\u001b[0m\u001b[1;33m\u001b[0m\u001b[0m\n",
      "\u001b[1;31mNameError\u001b[0m: name 'smote_val_mod' is not defined"
     ]
    }
   ],
   "source": [
    "index = 0\n",
    "preds = []\n",
    "for val in smote_val_mod:\n",
    "    pred = predict_ovr(val, x_val, ovr_val[index])\n",
    "    preds.append(pred)\n"
   ]
  },
  {
   "cell_type": "code",
   "execution_count": 15,
   "metadata": {},
   "outputs": [],
   "source": [
    "ovr = [\"isCalm\",\"isCheerful\",\"isBravery\",\"isFearful\",\"isLove\",\"isSadness\"]\n",
    "for i in range(0, len(preds)):\n",
    "    print(ovr[i], \" SMOTE ACCURACY:\")\n",
    "    compute_accuracy(preds[i], ovr_val[i])\n",
    "    f1 = f1_score(ovr_val[i], preds[i])\n",
    "    print(\"F1 SCORE: \", f1)\n",
    "    print()"
   ]
  },
  {
   "cell_type": "code",
   "execution_count": null,
   "metadata": {},
   "outputs": [],
   "source": []
  }
 ],
 "metadata": {
  "kernelspec": {
   "display_name": "Python 3",
   "language": "python",
   "name": "python3"
  },
  "language_info": {
   "codemirror_mode": {
    "name": "ipython",
    "version": 3
   },
   "file_extension": ".py",
   "mimetype": "text/x-python",
   "name": "python",
   "nbconvert_exporter": "python",
   "pygments_lexer": "ipython3",
   "version": "3.8.3"
  }
 },
 "nbformat": 4,
 "nbformat_minor": 4
}
