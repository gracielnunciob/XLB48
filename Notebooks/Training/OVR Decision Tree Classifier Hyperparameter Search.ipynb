{
 "cells": [
  {
   "cell_type": "markdown",
   "metadata": {},
   "source": [
    "# Decision Tree Classifier for Classifying Music Emotions\n",
    "---\n",
    "## About the Dataset\n",
    "\n",
    "For this experiment, our dataset contains 267 music samples that were labelled by 2 music experts and 151 samples labeled in the semi-supervised learning task. The dataset has a combination of high level and low level features. The high level features are tempo, arousal, and scale, which were all labelled by the music experts. The low level features were extracted from the music samples using the JAudio software.\n",
    "\n",
    "---\n",
    "## Libraries\n",
    "\n",
    "We used the pandas and csv libraries to load the dataset, which is a csv file. Then we used numpy to manipulate the loaded dataset. We used the sci kit learn library for the decision tree algorithm."
   ]
  },
  {
   "cell_type": "code",
   "execution_count": 1,
   "metadata": {},
   "outputs": [],
   "source": [
    "import os\n",
    "import numpy as np\n",
    "import pandas as pd\n",
    "import csv\n",
    "from sklearn.metrics import f1_score\n",
    "from sklearn import tree\n",
    "from sklearn import svm\n",
    "from sklearn.model_selection import RandomizedSearchCV\n",
    "from scipy.stats import uniform, norm\n",
    "from sklearn.tree import DecisionTreeClassifier\n",
    "from sklearn.metrics import plot_confusion_matrix\n",
    "import matplotlib.pyplot as plt\n",
    "from imblearn.over_sampling import SMOTE, RandomOverSampler\n",
    "from sklearn.preprocessing import MinMaxScaler, StandardScaler\n",
    "import matplotlib.pyplot as plt\n",
    "from sklearn.feature_selection import SelectKBest, VarianceThreshold, chi2, f_classif, mutual_info_classif\n",
    "from XLB import *\n",
    "from functools import cmp_to_key\n",
    "from statistics import mode\n",
    "\n",
    "import warnings\n",
    "warnings.filterwarnings('ignore')"
   ]
  },
  {
   "cell_type": "markdown",
   "metadata": {},
   "source": [
    "Here we load the data from the csv file and preprocess it by removing the header row and the filename column"
   ]
  },
  {
   "cell_type": "markdown",
   "metadata": {},
   "source": [
    "After the initial preprocessing step, we separated the music features and the labelled emotion into the x_train and y_train arrays respectively"
   ]
  },
  {
   "cell_type": "code",
   "execution_count": 2,
   "metadata": {
    "scrolled": true
   },
   "outputs": [
    {
     "name": "stdout",
     "output_type": "stream",
     "text": [
      "(552, 45) (552,)\n",
      "(692, 45) (692,)\n",
      "(690, 45) (690,)\n",
      "(604, 45) (604,)\n",
      "(748, 45) (748,)\n",
      "(724, 45) (724,)\n",
      "\n",
      "(552, 45) (552,)\n",
      "(692, 45) (692,)\n",
      "(690, 45) (690,)\n",
      "(604, 45) (604,)\n",
      "(748, 45) (748,)\n",
      "(724, 45) (724,)\n"
     ]
    }
   ],
   "source": [
    "# extract data from files\n",
    "x_train, y_train = extract_data(\"FinalTrainingSet.csv\")\n",
    "x_val, y_val = extract_data(\"Validation Set.csv\")\n",
    "\n",
    "# scale data values\n",
    "scaler = MinMaxScaler()\n",
    "scaler.fit(x_train)\n",
    "x_train = scaler.transform(x_train)\n",
    "x_val = scaler.transform(x_val)\n",
    "\n",
    "# feature selection\n",
    "num_features = 45\n",
    "feat_sel = VarianceThreshold()\n",
    "x_train = feat_sel.fit_transform(x_train)\n",
    "feat_sel_2 = SelectKBest(mutual_info_classif,k=num_features)\n",
    "x_train = feat_sel_2.fit_transform(x_train,y_train)\n",
    "x_val = feat_sel_2.transform(feat_sel.transform(x_val))\n",
    "# print(\"After Variance Threshold Feature Selection:\",x_train.shape)\n",
    "\n",
    "rand_seed = 3454132\n",
    "ovr_train = []\n",
    "ovr_val = []\n",
    "ovr_y_smote = []\n",
    "ovr_y_os = []\n",
    "x_oss = []\n",
    "x_smotes = []\n",
    "for i in range(1,7):\n",
    "    ovr_train.append(ovr_labels(y_train, i))\n",
    "    ovr_val.append(ovr_labels(y_val, i))\n",
    "for y in ovr_train:\n",
    "    oversampler = SMOTE(sampling_strategy=\"not majority\",random_state=rand_seed)\n",
    "    x_smote, y_smote = oversampler.fit_resample(x_train,y)\n",
    "    print(x_smote.shape,y_smote.shape)\n",
    "    ovr_y_smote.append(y_smote)\n",
    "    x_smotes.append(x_smote)\n",
    "print()\n",
    "for y in ovr_train:\n",
    "    oversampler = RandomOverSampler(sampling_strategy=\"not majority\",random_state=rand_seed)\n",
    "    x_os, y_os = oversampler.fit_resample(x_train,y)\n",
    "    print(x_os.shape,y_os.shape)\n",
    "    ovr_y_os.append(y_os)\n",
    "    x_oss.append(x_os)"
   ]
  },
  {
   "cell_type": "code",
   "execution_count": 3,
   "metadata": {},
   "outputs": [
    {
     "name": "stdout",
     "output_type": "stream",
     "text": [
      "324\n"
     ]
    }
   ],
   "source": [
    "#MOVING FEATURE HEADERS INTO A LIST\n",
    "import csv\n",
    "\n",
    "with open(\"FinalTrainingSet.csv\") as f:\n",
    "    reader = csv.reader(f)\n",
    "    features = next(reader)\n",
    "\n",
    "#Deleting everything except features from the dataset\n",
    "features.remove(\"Row Labels\")\n",
    "features.remove(\"Theme\")\n",
    "features.remove(\"Theme(Numbered)\")\n",
    "print(len(features))\n",
    "#Retained features after selection\n",
    "selected_feats = feat_sel_2.get_support(True)\n",
    "\n",
    "for ind, ft in sorted(enumerate(features), reverse=True): \n",
    "    if ind not in selected_feats:\n",
    "        del features[ind]\n",
    "  \n",
    "#Printing modified list \n",
    "#print (features) \n",
    "#print (len(features))"
   ]
  },
  {
   "cell_type": "code",
   "execution_count": 4,
   "metadata": {},
   "outputs": [],
   "source": [
    "themes = [\"Calm\",\"Cheerful\",\"Bravery\",\"Fearful\",\"Love\",\"Sadness\"]"
   ]
  },
  {
   "cell_type": "markdown",
   "metadata": {},
   "source": [
    "Here we perform different methods to deal with imbalanced datasets. We used the oversampling *Insert link to oversampling if needed* and SMOTE methodology *Insert link to SMOTE if needed*"
   ]
  },
  {
   "cell_type": "markdown",
   "metadata": {},
   "source": [
    "Here we defined a function that will train the model and perform the hyperparameter search. x_train is the input data, y_train is the labels for the input data, and hp_search is the algorithm for hyperparameter search"
   ]
  },
  {
   "cell_type": "markdown",
   "metadata": {},
   "source": [
    "This function trains the model, using the previously defined train_model function, and displays the confusion matrix of the model. "
   ]
  },
  {
   "cell_type": "markdown",
   "metadata": {},
   "source": [
    "The following cells are the experiments we ran with the default dataset, oversampled version, and SMOTE version using random search as the hyperparameter search algorithm\n",
    "\n",
    "---\n",
    "This cell instantiates the decison tree object and the hyperparameter search object."
   ]
  },
  {
   "cell_type": "code",
   "execution_count": 5,
   "metadata": {},
   "outputs": [],
   "source": [
    "# Decision Tree\n",
    "random_search_iterations = 1000\n",
    "n_splits = 5\n",
    "\n",
    "parameters = {\n",
    "    'criterion':[\"gini\", \"entropy\"], \n",
    "    'splitter':[\"best\", \"random\"], \n",
    "    'max_depth':range(1, num_features + 1), \n",
    "    'min_samples_split': uniform(loc=0.00,scale=1.0),\n",
    "    'min_samples_leaf': uniform(loc=0.0001,scale=0.4999)\n",
    "}\n",
    "\n",
    "# train classifier for SMOTE data\n",
    "dt = tree.DecisionTreeClassifier(random_state=rand_seed)\n",
    "rscv = RandomizedSearchCV(dt, parameters,cv=n_splits, random_state=rand_seed, n_iter=random_search_iterations,n_jobs=1)"
   ]
  },
  {
   "cell_type": "code",
   "execution_count": 6,
   "metadata": {},
   "outputs": [],
   "source": [
    "\"\"\" \n",
    "This functions trains a Classification Based on Associations (CBA) model on a\n",
    "dataset and tests it on a valdation set.\n",
    "\n",
    "Parameters:\n",
    "ruleset : array-like of size (0,) - container for ruleset\n",
    "X_train : array-like of size (n_train_samples,n_features) \n",
    "                                  - training data\n",
    "y_train : array-like of size (n_train_samples,) \n",
    "                                  - ground truth labels of training data\n",
    "X_val : array-like of size (n_test_samples,n_features) \n",
    "                                  - training data\n",
    "y_val : array-like of size (n_test_samples,) \n",
    "                                  - ground truth labels of training data\n",
    "model_selector : Sklearn estimator object - hyperparameetr search object\n",
    "feature_names : array-like of size (n_features,) - list of feature names\n",
    "label_names : array-like of size (n_classes,) - list of class labels\n",
    "dataset_name : string - name to call the dataset\n",
    "itr-count : int - tracking for rule number\n",
    "\n",
    "Returns an array of Rule objects indicating the updated ruleset.\n",
    "\"\"\"\n",
    "def extract_ruleset(ruleset,X_train,y_train,X_val,y_val,model_selector,\n",
    "                    feature_names,label_names,dataset_name=\"Dataset\",itr_count=0):\n",
    "    print_res(dataset_name,X_train,y_train,model_selector, label_names[i], verbose = False)\n",
    "#     disp_tree(rscv.best_estimator_,\"FinalTrainingSet.csv\")\n",
    "    test_res(dataset_name,X_val,y_val,model_selector, label_names[i])\n",
    "    ruleset.append(create_rule_obj_ovr(\n",
    "        model_selector.best_estimator_, feature_names, X_train, itr_count, label_names, \n",
    "        y_train,len(X_train)\n",
    "    ))\n",
    "    return ruleset"
   ]
  },
  {
   "cell_type": "markdown",
   "metadata": {},
   "source": [
    "This model is trained using the default "
   ]
  },
  {
   "cell_type": "code",
   "execution_count": 7,
   "metadata": {
    "scrolled": true
   },
   "outputs": [
    {
     "name": "stdout",
     "output_type": "stream",
     "text": [
      "Best Score: 0.6982\n",
      "Vanilla Train Accuracy: 68.8279%\n",
      "[0 0 0 0 0 0 0 0 0 0 0 0 0 0 0 0 0 0 0 0 0]\n",
      "[1 1 1 1 0 0 0 0 0 0 0 0 0 0 0 0 0 0 0 0 0]\n",
      "Vanilla Validation Accuracy: 80.95%\n",
      "Vanilla F1-score: 0.72\n",
      "\n",
      "\n",
      "Best Score: 0.8703\n",
      "Vanilla Train Accuracy: 86.2843%\n",
      "[0 0 0 0 0 0 0 0 0 0 0 0 0 0 0 0 0 0 0 0 0]\n",
      "[0 0 0 0 1 1 1 0 0 0 0 0 0 0 0 0 0 0 0 0 0]\n",
      "Vanilla Validation Accuracy: 85.71%\n",
      "Vanilla F1-score: 0.79\n",
      "\n",
      "\n",
      "Best Score: 0.8604\n",
      "Vanilla Train Accuracy: 86.0349%\n",
      "[0 0 0 0 0 0 0 0 0 0 0 0 0 0 0 0 0 0 0 0 0]\n",
      "[0 0 0 0 0 0 0 1 1 1 1 0 0 0 0 0 0 0 0 0 0]\n",
      "Vanilla Validation Accuracy: 80.95%\n",
      "Vanilla F1-score: 0.72\n",
      "\n",
      "\n",
      "Best Score: 0.7606\n",
      "Vanilla Train Accuracy: 75.3117%\n",
      "[0 0 0 0 0 0 0 0 0 0 0 0 0 0 0 0 0 0 0 0 0]\n",
      "[0 0 0 0 0 0 0 0 0 0 0 1 1 1 1 0 0 0 0 0 0]\n",
      "Vanilla Validation Accuracy: 80.95%\n",
      "Vanilla F1-score: 0.72\n",
      "\n",
      "\n",
      "Best Score: 0.9452\n",
      "Vanilla Train Accuracy: 93.2668%\n",
      "[0 0 0 0 0 0 0 0 0 0 0 0 0 0 0 0 0 0 0 0 0]\n",
      "[0 0 0 0 0 0 0 0 0 0 0 0 0 0 0 1 1 1 0 0 0]\n",
      "Vanilla Validation Accuracy: 85.71%\n",
      "Vanilla F1-score: 0.79\n",
      "\n",
      "\n",
      "Best Score: 0.9102\n",
      "Vanilla Train Accuracy: 90.2743%\n",
      "[0 0 0 0 0 0 0 0 0 0 0 0 0 0 0 0 0 0 0 0 0]\n",
      "[0 0 0 0 0 0 0 0 0 0 0 0 0 0 0 0 0 0 1 1 1]\n",
      "Vanilla Validation Accuracy: 85.71%\n",
      "Vanilla F1-score: 0.79\n"
     ]
    },
    {
     "data": {
      "image/png": "[encoded data removed]",
      "text/plain": [
       "<Figure size 432x288 with 2 Axes>"
      ]
     },
     "metadata": {
      "needs_background": "light"
     },
     "output_type": "display_data"
    },
    {
     "data": {
      "image/png": "[encoded data removed]",
      "text/plain": [
       "<Figure size 432x288 with 2 Axes>"
      ]
     },
     "metadata": {
      "needs_background": "light"
     },
     "output_type": "display_data"
    },
    {
     "data": {
      "image/png": "[encoded data removed]",
      "text/plain": [
       "<Figure size 432x288 with 2 Axes>"
      ]
     },
     "metadata": {
      "needs_background": "light"
     },
     "output_type": "display_data"
    },
    {
     "data": {
      "image/png": "[encoded data removed]",
      "text/plain": [
       "<Figure size 432x288 with 2 Axes>"
      ]
     },
     "metadata": {
      "needs_background": "light"
     },
     "output_type": "display_data"
    },
    {
     "data": {
      "image/png": "[encoded data removed]",
      "text/plain": [
       "<Figure size 432x288 with 2 Axes>"
      ]
     },
     "metadata": {
      "needs_background": "light"
     },
     "output_type": "display_data"
    },
    {
     "data": {
      "image/png": "[encoded data removed]",
      "text/plain": [
       "<Figure size 432x288 with 2 Axes>"
      ]
     },
     "metadata": {
      "needs_background": "light"
     },
     "output_type": "display_data"
    }
   ],
   "source": [
    "vanilla_rules = []\n",
    "for i in range(0,6):\n",
    "    if(i > 0):\n",
    "        print()\n",
    "        print()\n",
    "    vanilla_rules = extract_ruleset(\n",
    "        vanilla_rules,x_train,ovr_train[i],x_val,ovr_val[i],rscv,features,\\\n",
    "        themes,\"Vanilla\",itr_count=i\n",
    "    )"
   ]
  },
  {
   "cell_type": "code",
   "execution_count": 8,
   "metadata": {
    "scrolled": true
   },
   "outputs": [],
   "source": [
    "vanilla_rules_sorted = []\n",
    "for i in vanilla_rules:\n",
    "    vanilla_rules_sorted.append(sorted(i, key = cmp_to_key(comp_func)))"
   ]
  },
  {
   "cell_type": "code",
   "execution_count": 9,
   "metadata": {
    "scrolled": true
   },
   "outputs": [
    {
     "name": "stdout",
     "output_type": "stream",
     "text": [
      "MODEL NUMBER  1 :\n",
      "RULE NUMBER  1 :\n",
      " Derivative of Method of Moments Overall Average > 0.0200 ^  Derivative of Partial Based Spectral Centroid Overall Average <= 0.0900 -> notCalm\n",
      "    confidence: 0.46\n",
      "    lift: 0.67\n",
      "    interestingness: 3.47\n",
      "    error(s):  255\n",
      "RULE NUMBER  2 :\n",
      " Derivative of Method of Moments Overall Average <= 0.0200 -> notCalm\n",
      "    confidence: 0.44\n",
      "    lift: 0.64\n",
      "    interestingness: 5.83\n",
      "    error(s):  188\n",
      "RULE NUMBER  3 :\n",
      " Derivative of Running Mean of Method of Moments Overall Average > 0.2200 -> notCalm\n",
      "    confidence: 0.32\n",
      "    lift: 0.46\n",
      "    interestingness: 5.59\n",
      "    error(s):  54\n",
      "RULE NUMBER  4 :\n",
      " Derivative of Partial Based Spectral Centroid Overall Average > 0.0900 ^  Derivative of Running Mean of Method of Moments Overall Average <= 0.2200 -> notCalm\n",
      "    confidence: 0.07\n",
      "    lift: 0.10\n",
      "    interestingness: 0.63\n",
      "    error(s):  0\n",
      "TOTAL MATCHES:  100.0 %\n",
      "\n",
      "MODEL NUMBER  1 :\n",
      "RULE NUMBER  1 :\n",
      " Derivative of Running Mean of Fraction Of Low Energy Windows Overall Average > 0.3500 ^  Derivative of Running Mean of Fraction Of Low Energy Windows Overall Average <= 0.5600 ^  Derivative of Running Mean of Spectral Variability Overall Standard Deviation <= 0.0800 -> notCheerful\n",
      "    confidence: 0.95\n",
      "    lift: 1.10\n",
      "    interestingness: 7.92\n",
      "    error(s):  289\n",
      "RULE NUMBER  2 :\n",
      " Derivative of Running Mean of Partial Based Spectral Centroid Overall Average > 0.0800 ^  Derivative of Running Mean of Partial Based Spectral Flux Overall Average <= 0.2100 -> notCheerful\n",
      "    confidence: 0.91\n",
      "    lift: 1.05\n",
      "    interestingness: 10.55\n",
      "    error(s):  201\n",
      "RULE NUMBER  3 :\n",
      " Derivative of Standard Deviation of Spectral Variability Overall Standard Deviation > 0.1400 -> notCheerful\n",
      "    confidence: 0.87\n",
      "    lift: 1.00\n",
      "    interestingness: 12.23\n",
      "    error(s):  100\n",
      "RULE NUMBER  4 :\n",
      " Derivative of Running Mean of Spectral Variability Overall Standard Deviation > 0.0800 ^  Derivative of Method of Moments Overall Average <= 0.3800 ^  Derivative of Partial Based Spectral Flux Overall Average <= 0.2400 ^  Derivative of Running Mean of Beat Sum Overall Standard Deviation <= 0.0900 ^  Derivative of MFCC Overall Average <= 0.1100 ^  Derivative of Standard Deviation of Spectral Variability Overall Standard Deviation <= 0.1400 -> notCheerful\n",
      "    confidence: 0.84\n",
      "    lift: 0.97\n",
      "    interestingness: 7.37\n",
      "    error(s):  65\n",
      "RULE NUMBER  5 :\n",
      " Derivative of MFCC Overall Standard Deviation > 0.0300 -> notCheerful\n",
      "    confidence: 0.83\n",
      "    lift: 0.97\n",
      "    interestingness: 15.76\n",
      "    error(s):  1\n",
      "RULE NUMBER  6 :\n",
      " Derivative of Running Mean of Fraction Of Low Energy Windows Overall Average > 0.5600 -> notCheerful\n",
      "    confidence: 0.75\n",
      "    lift: 0.87\n",
      "    interestingness: 6.13\n",
      "    error(s):  0\n",
      "TOTAL MATCHES:  100.0 %\n",
      "\n",
      "MODEL NUMBER  1 :\n",
      "RULE NUMBER  1 :\n",
      " Derivative of Running Mean of LPC Overall Average <= 0.2700 -> notBravery\n",
      "    confidence: 1.00\n",
      "    lift: 1.16\n",
      "    interestingness: 15.02\n",
      "    error(s):  183\n",
      "RULE NUMBER  2 :\n",
      " Derivative of Running Mean of LPC Overall Average > 0.2700 -> notBravery\n",
      "    confidence: 1.00\n",
      "    lift: 1.16\n",
      "    interestingness: 15.51\n",
      "    error(s):  0\n",
      "TOTAL MATCHES:  100.0 %\n",
      "\n",
      "MODEL NUMBER  1 :\n",
      "RULE NUMBER  1 :\n",
      " Derivative of Running Mean of MFCC Overall Average > 0.2200 -> notFearful\n",
      "    confidence: 1.00\n",
      "    lift: 1.33\n",
      "    interestingness: 18.11\n",
      "    error(s):  113\n",
      "RULE NUMBER  2 :\n",
      " Derivative of Running Mean of Partial Based Spectral Centroid Overall Average > 0.4100 -> notFearful\n",
      "    confidence: 1.00\n",
      "    lift: 1.33\n",
      "    interestingness: 13.92\n",
      "    error(s):  109\n",
      "RULE NUMBER  3 :\n",
      " Derivative of Running Mean of Partial Based Spectral Centroid Overall Average <= 0.4100 ^  Derivative of Running Mean of MFCC Overall Average <= 0.2200 -> notFearful\n",
      "    confidence: 1.00\n",
      "    lift: 1.33\n",
      "    interestingness: 13.97\n",
      "    error(s):  0\n",
      "TOTAL MATCHES:  100.0 %\n",
      "\n",
      "MODEL NUMBER  1 :\n",
      "RULE NUMBER  1 :\n",
      " Derivative of Partial Based Spectral Centroid Overall Standard Deviation > 0.0000 -> notLove\n",
      "    confidence: 1.00\n",
      "    lift: 1.07\n",
      "    interestingness: 20.71\n",
      "    error(s):  1\n",
      "RULE NUMBER  2 :\n",
      " Derivative of Running Mean of Beat Sum Overall Standard Deviation <= 0.0500 ^  Derivative of Partial Based Spectral Centroid Overall Standard Deviation <= 0.0000 -> notLove\n",
      "    confidence: 1.00\n",
      "    lift: 1.07\n",
      "    interestingness: 1.04\n",
      "    error(s):  0\n",
      "TOTAL MATCHES:  100.0 %\n",
      "\n",
      "MODEL NUMBER  1 :\n",
      "RULE NUMBER  1 :\n",
      " Standard Deviation of Spectral Flux Overall Average > 0.3700 -> notSadness\n",
      "    confidence: 1.00\n",
      "    lift: 1.11\n",
      "    interestingness: 15.11\n",
      "    error(s):  174\n",
      "RULE NUMBER  2 :\n",
      " Derivative of Standard Deviation of Spectral Variability Overall Average > 0.3200 -> notSadness\n",
      "    confidence: 1.00\n",
      "    lift: 1.11\n",
      "    interestingness: 9.11\n",
      "    error(s):  136\n",
      "RULE NUMBER  3 :\n",
      " Running Mean of Spectral Flux Overall Standard Deviation > 0.5100 -> notSadness\n",
      "    confidence: 1.00\n",
      "    lift: 1.11\n",
      "    interestingness: 7.52\n",
      "    error(s):  129\n",
      "RULE NUMBER  4 :\n",
      " Derivative of Partial Based Spectral Centroid Overall Standard Deviation > 0.3000 -> notSadness\n",
      "    confidence: 1.00\n",
      "    lift: 1.11\n",
      "    interestingness: 5.86\n",
      "    error(s):  122\n",
      "RULE NUMBER  5 :\n",
      " Derivative of Spectral Variability Overall Standard Deviation > 0.2200 ^  Running Mean of Spectral Flux Overall Standard Deviation <= 0.5100 -> notSadness\n",
      "    confidence: 1.00\n",
      "    lift: 1.11\n",
      "    interestingness: 11.63\n",
      "    error(s):  62\n",
      "RULE NUMBER  6 :\n",
      " Derivative of Running Mean of Method of Moments Overall Average <= 0.3600 ^  Derivative of Method of Moments Overall Standard Deviation <= 0.1200 ^  Derivative of Standard Deviation of Zero Crossings Overall Average <= 0.5600 -> notSadness\n",
      "    confidence: 1.00\n",
      "    lift: 1.11\n",
      "    interestingness: 4.94\n",
      "    error(s):  61\n",
      "RULE NUMBER  7 :\n",
      " Derivative of Standard Deviation of Zero Crossings Overall Average > 0.5600 ^  Derivative of Spectral Variability Overall Standard Deviation <= 0.2200 ^  Derivative of Standard Deviation of Spectral Variability Overall Average <= 0.3200 ^  Standard Deviation of Spectral Flux Overall Average <= 0.3700 -> notSadness\n",
      "    confidence: 1.00\n",
      "    lift: 1.11\n",
      "    interestingness: 9.65\n",
      "    error(s):  0\n",
      "TOTAL MATCHES:  100.0 %\n",
      "\n"
     ]
    }
   ],
   "source": [
    "classifiers = []\n",
    "index = 0\n",
    "for i in vanilla_rules_sorted:\n",
    "    cls, acc = eval_rules(i, x_train, ovr_train[index]) \n",
    "    classifiers.append((cls, acc))\n",
    "    index+=1\n",
    "model = 0\n",
    "vanilla_clsfs = []\n",
    "for i in vanilla_rules_sorted:\n",
    "    accuracy = classifiers[model][1]\n",
    "    vanilla_clsfs.append(remove_unnecessary_rules(i, accuracy, x_train, ovr_train[model]))\n",
    "    model+=1\n",
    "print_classifiers(vanilla_clsfs, len(x_train))"
   ]
  },
  {
   "cell_type": "code",
   "execution_count": 10,
   "metadata": {
    "scrolled": true
   },
   "outputs": [],
   "source": [
    "vanilla_val_mod = []\n",
    "for mod in vanilla_clsfs:\n",
    "    vmod = []\n",
    "    for i in mod[0]:\n",
    "        vmod.append(i[0])\n",
    "    vanilla_val_mod.append(vmod)"
   ]
  },
  {
   "cell_type": "code",
   "execution_count": 11,
   "metadata": {},
   "outputs": [],
   "source": [
    "index = 0\n",
    "preds = []\n",
    "for val in vanilla_val_mod:\n",
    "    pred = predict_ovr(val, x_val, ovr_val[index])\n",
    "    preds.append(pred)"
   ]
  },
  {
   "cell_type": "code",
   "execution_count": 12,
   "metadata": {
    "scrolled": true
   },
   "outputs": [
    {
     "name": "stdout",
     "output_type": "stream",
     "text": [
      "isCalm  ACCURACY:\n",
      "0.8095238095238095\n",
      "F1 SCORE:  0.0\n",
      "\n",
      "isCheerful  ACCURACY:\n",
      "0.8571428571428571\n",
      "F1 SCORE:  0.0\n",
      "\n",
      "isBravery  ACCURACY:\n",
      "0.8095238095238095\n",
      "F1 SCORE:  0.0\n",
      "\n",
      "isFearful  ACCURACY:\n",
      "0.8095238095238095\n",
      "F1 SCORE:  0.0\n",
      "\n",
      "isLove  ACCURACY:\n",
      "0.8571428571428571\n",
      "F1 SCORE:  0.0\n",
      "\n",
      "isSadness  ACCURACY:\n",
      "0.8571428571428571\n",
      "F1 SCORE:  0.0\n",
      "\n"
     ]
    }
   ],
   "source": [
    "ovr = [\"isCalm\",\"isCheerful\",\"isBravery\",\"isFearful\",\"isLove\",\"isSadness\"]\n",
    "for i in range(0, len(preds)):\n",
    "    print(ovr[i], \" ACCURACY:\")\n",
    "    compute_accuracy(preds[i], ovr_val[i])\n",
    "    f1 = f1_score(ovr_val[i], preds[i])\n",
    "    print(\"F1 SCORE: \", f1)\n",
    "    print()"
   ]
  },
  {
   "cell_type": "code",
   "execution_count": null,
   "metadata": {
    "scrolled": true
   },
   "outputs": [
    {
     "name": "stdout",
     "output_type": "stream",
     "text": [
      "Best Score: 0.6465\n",
      "Random Oversampling Train Accuracy: 86.9565%\n",
      "[1 0 0 1 0 0 0 0 1 1 1 0 1 1 0 1 1 0 1 1 0]\n",
      "[1 1 1 1 0 0 0 0 0 0 0 0 0 0 0 0 0 0 0 0 0]\n",
      "Random Oversampling Validation Accuracy: 47.62%\n",
      "Random Oversampling F1-score: 0.53\n",
      "\n",
      "\n",
      "Best Score: 0.7904\n",
      "Random Oversampling Train Accuracy: 92.7746%\n",
      "[0 1 0 0 0 0 0 0 0 0 0 0 0 0 0 0 1 0 0 0 0]\n",
      "[0 0 0 0 1 1 1 0 0 0 0 0 0 0 0 0 0 0 0 0 0]\n",
      "Random Oversampling Validation Accuracy: 76.19%\n",
      "Random Oversampling F1-score: 0.74\n",
      "\n",
      "\n"
     ]
    }
   ],
   "source": [
    "os_rules = []\n",
    "for i in range(0,6):\n",
    "    if(i > 0):\n",
    "        print()\n",
    "        print()\n",
    "    os_rules = extract_ruleset(\n",
    "        os_rules,x_oss[i],ovr_y_os[i],x_val,ovr_val[i],rscv,features,\\\n",
    "        themes,\"Random Oversampling\",itr_count=i\n",
    "    )"
   ]
  },
  {
   "cell_type": "code",
   "execution_count": null,
   "metadata": {},
   "outputs": [],
   "source": [
    "os_rules_sorted = []\n",
    "for i in os_rules:\n",
    "    os_rules_sorted.append(sorted(i, key = cmp_to_key(comp_func)))"
   ]
  },
  {
   "cell_type": "code",
   "execution_count": null,
   "metadata": {
    "scrolled": true
   },
   "outputs": [],
   "source": [
    "os_classifiers = []\n",
    "index = 0\n",
    "for i in os_rules_sorted:\n",
    "    cls, acc = eval_rules(i, x_oss[index],ovr_y_os[index]) \n",
    "    os_classifiers.append((cls, acc))\n",
    "    index+=1\n",
    "model = 0\n",
    "os_clsfs = []\n",
    "for i in os_rules_sorted:\n",
    "    accuracy = os_classifiers[model][1]\n",
    "    os_clsfs.append(remove_unnecessary_rules(i, accuracy, x_oss[model],ovr_y_os[model]))\n",
    "    model+=1\n",
    "print_classifiers(os_clsfs, len(x_os))"
   ]
  },
  {
   "cell_type": "code",
   "execution_count": null,
   "metadata": {
    "scrolled": true
   },
   "outputs": [],
   "source": [
    "os_val_mod = []\n",
    "for mod in os_clsfs:\n",
    "    vmod = []\n",
    "    for i in mod[0]:\n",
    "        vmod.append(i[0])\n",
    "    os_val_mod.append(vmod)"
   ]
  },
  {
   "cell_type": "code",
   "execution_count": null,
   "metadata": {},
   "outputs": [],
   "source": [
    "index = 0\n",
    "preds = []\n",
    "for val in os_val_mod:\n",
    "    pred = predict_ovr(val, x_val, ovr_val[index])\n",
    "    preds.append(pred)"
   ]
  },
  {
   "cell_type": "code",
   "execution_count": null,
   "metadata": {},
   "outputs": [],
   "source": [
    "ovr = [\"isCalm\",\"isCheerful\",\"isBravery\",\"isFearful\",\"isLove\",\"isSadness\"]\n",
    "for i in range(0, len(preds)):\n",
    "    print(ovr[i], \" Oversampling ACCURACY:\")\n",
    "    compute_accuracy(preds[i], ovr_val[i])\n",
    "    f1 = f1_score(ovr_val[i], preds[i])\n",
    "    print(\"F1 SCORE: \", f1)\n",
    "    print()"
   ]
  },
  {
   "cell_type": "code",
   "execution_count": null,
   "metadata": {
    "scrolled": true
   },
   "outputs": [],
   "source": [
    "smote_rules = []\n",
    "for i in range(0,6):\n",
    "    if(i > 0):\n",
    "        print()\n",
    "        print()\n",
    "    smote_rules = extract_ruleset(\n",
    "        smote_rules,x_smotes[i],ovr_y_smote[i],x_val,ovr_val[i],rscv,features,\\\n",
    "        themes,\"Random Oversampling\",itr_count=i\n",
    "    )"
   ]
  },
  {
   "cell_type": "code",
   "execution_count": null,
   "metadata": {},
   "outputs": [],
   "source": [
    "smote_rules_sorted = []\n",
    "for i in smote_rules:\n",
    "    smote_rules_sorted.append(sorted(i, key = cmp_to_key(comp_func)))"
   ]
  },
  {
   "cell_type": "code",
   "execution_count": null,
   "metadata": {},
   "outputs": [],
   "source": [
    "smote_classifiers = []\n",
    "index = 0\n",
    "for i in smote_rules_sorted:\n",
    "    cls, acc = eval_rules(i, x_smotes[index],ovr_y_smote[index]) \n",
    "    smote_classifiers.append((cls, acc))\n",
    "    index+=1\n",
    "model = 0\n",
    "smote_clsfs = []\n",
    "for i in smote_rules_sorted:\n",
    "    accuracy = smote_classifiers[model][1]\n",
    "    smote_clsfs.append(remove_unnecessary_rules(i, accuracy,  x_smotes[model],ovr_y_smote[model]))\n",
    "    model+=1\n",
    "print_classifiers(smote_clsfs, len(x_smote))"
   ]
  },
  {
   "cell_type": "code",
   "execution_count": null,
   "metadata": {},
   "outputs": [],
   "source": [
    "smote_val_mod = []\n",
    "for mod in smote_clsfs:\n",
    "    vmod = []\n",
    "    for i in mod[0]:\n",
    "        vmod.append(i[0])\n",
    "    smote_val_mod.append(vmod)"
   ]
  },
  {
   "cell_type": "code",
   "execution_count": null,
   "metadata": {},
   "outputs": [],
   "source": [
    "index = 0\n",
    "preds = []\n",
    "for val in smote_val_mod:\n",
    "    pred = predict_ovr(val, x_val, ovr_val[index])\n",
    "    preds.append(pred)\n"
   ]
  },
  {
   "cell_type": "code",
   "execution_count": null,
   "metadata": {},
   "outputs": [],
   "source": [
    "ovr = [\"isCalm\",\"isCheerful\",\"isBravery\",\"isFearful\",\"isLove\",\"isSadness\"]\n",
    "for i in range(0, len(preds)):\n",
    "    print(ovr[i], \" SMOTE ACCURACY:\")\n",
    "    compute_accuracy(preds[i], ovr_val[i])\n",
    "    f1 = f1_score(ovr_val[i], preds[i])\n",
    "    print(\"F1 SCORE: \", f1)\n",
    "    print()"
   ]
  }
 ],
 "metadata": {
  "kernelspec": {
   "display_name": "Python 3",
   "language": "python",
   "name": "python3"
  },
  "language_info": {
   "codemirror_mode": {
    "name": "ipython",
    "version": 3
   },
   "file_extension": ".py",
   "mimetype": "text/x-python",
   "name": "python",
   "nbconvert_exporter": "python",
   "pygments_lexer": "ipython3",
   "version": "3.7.3"
  }
 },
 "nbformat": 4,
 "nbformat_minor": 4
}
