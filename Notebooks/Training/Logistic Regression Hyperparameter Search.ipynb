{
 "cells": [
  {
   "cell_type": "markdown",
   "metadata": {},
   "source": [
    "### Logistic Regression Training Script\n",
    "#### Author: Austin Fernandez\n",
    "#### Date Modified: April 8, 2020"
   ]
  },
  {
   "cell_type": "code",
   "execution_count": 1,
   "metadata": {},
   "outputs": [],
   "source": [
    "# dependencies\n",
    "import csv\n",
    "import matplotlib.pyplot as plt\n",
    "from sklearn.model_selection import GridSearchCV, RandomizedSearchCV\n",
    "# from sklearn.naive_bayes import CategoricalNB, ComplementNB, MultinomialNB\n",
    "from sklearn.linear_model import LogisticRegression\n",
    "from sklearn.neural_network import MLPClassifier\n",
    "import numpy as np\n",
    "from scipy.stats import uniform, norm\n",
    "from sklearn.metrics import plot_confusion_matrix\n",
    "\n",
    "import warnings\n",
    "warnings.filterwarnings('ignore')"
   ]
  },
  {
   "cell_type": "code",
   "execution_count": 2,
   "metadata": {},
   "outputs": [
    {
     "name": "stdout",
     "output_type": "stream",
     "text": [
      "(419, 5)\n",
      "(419,)\n"
     ]
    }
   ],
   "source": [
    "x_train = np.empty((0,5))\n",
    "y_train = np.array([])\n",
    "    \n",
    "with open(\"Toy Dataset.csv\",\"r\") as f:\n",
    "    d_reader = csv.reader(f,delimiter=\",\",quotechar=\"\\\"\")\n",
    "    first = True\n",
    "    for line in d_reader:\n",
    "        if first:\n",
    "            first = False\n",
    "            continue\n",
    "        x_train = np.append(x_train,np.array(list(map(int,line[2:7]))).reshape((1,5)),axis=0)\n",
    "        y_train = np.append(y_train,int(line[8]))\n",
    "print(x_train.shape)\n",
    "print(y_train.shape)\n",
    "# print(y_train)"
   ]
  },
  {
   "cell_type": "code",
   "execution_count": 3,
   "metadata": {},
   "outputs": [
    {
     "name": "stdout",
     "output_type": "stream",
     "text": [
      "Best Score: 0.3462\n",
      "C => 0.18630853866462704\n",
      "fit_intercept => True\n",
      "max_iter => 800\n",
      "penalty => l1\n",
      "solver => saga\n",
      "Splits: 10\n",
      "Accuracy: 34.6062%\n"
     ]
    }
   ],
   "source": [
    "# LogisticRegression, RandomizedSearch\n",
    "random_search_iterations = 200\n",
    "k_folds = 10\n",
    "seed = 48151623\n",
    "\n",
    "parameters = {\n",
    "    'penalty':['l1','l2'], \n",
    "    'C': uniform(loc=0,scale=4),\n",
    "    'fit_intercept' : [True,False],\n",
    "    'solver' : ['liblinear', 'saga'],\n",
    "    'max_iter' : [100,200,300,400,500,600,700,800,900,1000]\n",
    "}\n",
    "mnb = LogisticRegression()\n",
    "random_search_logreg = RandomizedSearchCV(mnb, parameters,cv=k_folds,n_iter=random_search_iterations,random_state=seed)\n",
    "random_search_logreg.fit(x_train,y_train)\n",
    "print(\"Best Score: {:.4f}\".format(random_search_logreg.best_score_))\n",
    "for k,v in random_search_logreg.best_params_.items():\n",
    "    print(\"{} => {}\".format(k,v))\n",
    "print(\"Splits: {}\".format(random_search_logreg.n_splits_))\n",
    "y_out = random_search_logreg.predict(x_train)\n",
    "print(\"Accuracy: {:.4f}%\".format(np.mean(y_out == y_train) * 100.0))\n",
    "# print(y_out)"
   ]
  },
  {
   "cell_type": "code",
   "execution_count": 4,
   "metadata": {},
   "outputs": [
    {
     "data": {
      "image/png": "[encoded data removed]",
      "text/plain": [
       "<Figure size 432x288 with 2 Axes>"
      ]
     },
     "metadata": {
      "needs_background": "light"
     },
     "output_type": "display_data"
    }
   ],
   "source": [
    "disp = plot_confusion_matrix(random_search_logreg, x_train, y_train,\n",
    "                             display_labels=[\"Calm\",\"Cheerful\",\"Bravery\",\"Fearful\",\"Sadness\",\"Love\"],\n",
    "                             cmap=plt.cm.Blues,\n",
    "                             normalize='true')"
   ]
  },
  {
   "cell_type": "code",
   "execution_count": null,
   "metadata": {},
   "outputs": [],
   "source": [
    "# MLPClassifier, RandomizedSearch\n",
    "random_search_iterations = 200\n",
    "k_folds = 10\n",
    "seed = 48151623\n",
    "\n",
    "parameters = {\n",
    "    'activation':['logistic', 'tanh', 'relu'], \n",
    "    'solver' : ['lbfgs', 'sgd', 'adam'],\n",
    "    'alpha': [1 / np.power(10,x) for x in range(1,10)],\n",
    "    'batch_size' : [min(200,int(np.power(2,i))) for i in range(4,8)],\n",
    "    'learning_rate' : ['constant', 'invscaling', 'adaptive'],\n",
    "    'max_iter' : [100,200,300,400,500],\n",
    "    'shuffle' : [True,False],\n",
    "    'momentum' : uniform(loc=0.2,scale=0.8),\n",
    "    'nesterovs_momentum' : [True,False],\n",
    "    'early_stopping' : [True,False]\n",
    "}\n",
    "mlp = MLPClassifier()\n",
    "random_search_mlp = RandomizedSearchCV(mlp, parameters,cv=k_folds,n_iter=random_search_iterations,random_state=seed, n_jobs=-1)\n",
    "random_search_mlp.fit(x_train,y_train)\n",
    "print(\"Best Score: {:.4f}\".format(random_search_mlp.best_score_))\n",
    "for k,v in random_search_mlp.best_params_.items():\n",
    "    print(\"{} => {}\".format(k,v))\n",
    "print(\"Splits: {}\".format(random_search_mlp.n_splits_))\n",
    "y_out = rscv.predict(x_train)\n",
    "print(\"Accuracy: {:.4f}%\".format(np.mean(y_out == y_train) * 100.0))\n",
    "# print(y_out)"
   ]
  },
  {
   "cell_type": "code",
   "execution_count": null,
   "metadata": {},
   "outputs": [],
   "source": [
    "disp = plot_confusion_matrix(random_search_mlp, x_train, y_train,\n",
    "                             display_labels=[\"Calm\",\"Cheerful\",\"Bravery\",\"Fearful\",\"Sadness\",\"Love\"],\n",
    "                             cmap=plt.cm.Blues,\n",
    "                             normalize='true')\n"
   ]
  },
  {
   "cell_type": "code",
   "execution_count": null,
   "metadata": {},
   "outputs": [],
   "source": []
  }
 ],
 "metadata": {
  "kernelspec": {
   "display_name": "Python 3",
   "language": "python",
   "name": "python3"
  },
  "language_info": {
   "codemirror_mode": {
    "name": "ipython",
    "version": 3
   },
   "file_extension": ".py",
   "mimetype": "text/x-python",
   "name": "python",
   "nbconvert_exporter": "python",
   "pygments_lexer": "ipython3",
   "version": "3.6.7"
  }
 },
 "nbformat": 4,
 "nbformat_minor": 4
}
