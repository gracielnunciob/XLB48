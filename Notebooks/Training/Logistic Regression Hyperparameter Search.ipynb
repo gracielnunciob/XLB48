{
 "cells": [
  {
   "cell_type": "markdown",
   "metadata": {},
   "source": [
    "### Logistic Regression Training Script\n",
    "#### Author: Austin Fernandez\n",
    "#### Date Modified: April 8, 2020"
   ]
  },
  {
   "cell_type": "code",
   "execution_count": 1,
   "metadata": {},
   "outputs": [],
   "source": [
    "# dependencies\n",
    "import csv\n",
    "import matplotlib.pyplot as plt\n",
    "from sklearn.model_selection import GridSearchCV, RandomizedSearchCV\n",
    "# from sklearn.naive_bayes import CategoricalNB, ComplementNB, MultinomialNB\n",
    "from sklearn.linear_model import LogisticRegression\n",
    "from sklearn.neural_network import MLPClassifier\n",
    "import numpy as np\n",
    "from scipy.stats import uniform, norm\n",
    "from sklearn.metrics import plot_confusion_matrix\n",
    "\n",
    "import warnings\n",
    "warnings.filterwarnings('ignore')"
   ]
  },
  {
   "cell_type": "code",
   "execution_count": 2,
   "metadata": {},
   "outputs": [
    {
     "name": "stdout",
     "output_type": "stream",
     "text": [
      "(419, 5)\n",
      "(419,)\n"
     ]
    }
   ],
   "source": [
    "x_train = np.empty((0,5))\n",
    "y_train = np.array([])\n",
    "    \n",
    "with open(\"Toy Dataset.csv\",\"r\") as f:\n",
    "    d_reader = csv.reader(f,delimiter=\",\",quotechar=\"\\\"\")\n",
    "    first = True\n",
    "    for line in d_reader:\n",
    "        if first:\n",
    "            first = False\n",
    "            continue\n",
    "        x_train = np.append(x_train,np.array(list(map(int,line[2:7]))).reshape((1,5)),axis=0)\n",
    "        y_train = np.append(y_train,int(line[8]))\n",
    "print(x_train.shape)\n",
    "print(y_train.shape)\n",
    "# print(y_train)"
   ]
  },
  {
   "cell_type": "code",
   "execution_count": 3,
   "metadata": {},
   "outputs": [
    {
     "ename": "NameError",
     "evalue": "name 'rscv' is not defined",
     "output_type": "error",
     "traceback": [
      "\u001b[1;31m---------------------------------------------------------------------------\u001b[0m",
      "\u001b[1;31mNameError\u001b[0m                                 Traceback (most recent call last)",
      "\u001b[1;32m<ipython-input-3-fff949b5a61f>\u001b[0m in \u001b[0;36m<module>\u001b[1;34m\u001b[0m\n\u001b[0;32m     14\u001b[0m \u001b[0mrandom_search_logreg\u001b[0m \u001b[1;33m=\u001b[0m \u001b[0mRandomizedSearchCV\u001b[0m\u001b[1;33m(\u001b[0m\u001b[0mmnb\u001b[0m\u001b[1;33m,\u001b[0m \u001b[0mparameters\u001b[0m\u001b[1;33m,\u001b[0m\u001b[0mcv\u001b[0m\u001b[1;33m=\u001b[0m\u001b[0mk_folds\u001b[0m\u001b[1;33m,\u001b[0m\u001b[0mn_iter\u001b[0m\u001b[1;33m=\u001b[0m\u001b[0mrandom_search_iterations\u001b[0m\u001b[1;33m,\u001b[0m\u001b[0mrandom_state\u001b[0m\u001b[1;33m=\u001b[0m\u001b[0mseed\u001b[0m\u001b[1;33m)\u001b[0m\u001b[1;33m\u001b[0m\u001b[1;33m\u001b[0m\u001b[0m\n\u001b[0;32m     15\u001b[0m \u001b[0mrandom_search_logreg\u001b[0m\u001b[1;33m.\u001b[0m\u001b[0mfit\u001b[0m\u001b[1;33m(\u001b[0m\u001b[0mx_train\u001b[0m\u001b[1;33m,\u001b[0m\u001b[0my_train\u001b[0m\u001b[1;33m)\u001b[0m\u001b[1;33m\u001b[0m\u001b[1;33m\u001b[0m\u001b[0m\n\u001b[1;32m---> 16\u001b[1;33m \u001b[0mprint\u001b[0m\u001b[1;33m(\u001b[0m\u001b[1;34m\"Best Score: {:.4f}\"\u001b[0m\u001b[1;33m.\u001b[0m\u001b[0mformat\u001b[0m\u001b[1;33m(\u001b[0m\u001b[0mrscv\u001b[0m\u001b[1;33m.\u001b[0m\u001b[0mbest_score_\u001b[0m\u001b[1;33m)\u001b[0m\u001b[1;33m)\u001b[0m\u001b[1;33m\u001b[0m\u001b[1;33m\u001b[0m\u001b[0m\n\u001b[0m\u001b[0;32m     17\u001b[0m \u001b[1;32mfor\u001b[0m \u001b[0mk\u001b[0m\u001b[1;33m,\u001b[0m\u001b[0mv\u001b[0m \u001b[1;32min\u001b[0m \u001b[0mrandom_search_logreg\u001b[0m\u001b[1;33m.\u001b[0m\u001b[0mbest_params_\u001b[0m\u001b[1;33m.\u001b[0m\u001b[0mitems\u001b[0m\u001b[1;33m(\u001b[0m\u001b[1;33m)\u001b[0m\u001b[1;33m:\u001b[0m\u001b[1;33m\u001b[0m\u001b[1;33m\u001b[0m\u001b[0m\n\u001b[0;32m     18\u001b[0m     \u001b[0mprint\u001b[0m\u001b[1;33m(\u001b[0m\u001b[1;34m\"{} => {}\"\u001b[0m\u001b[1;33m.\u001b[0m\u001b[0mformat\u001b[0m\u001b[1;33m(\u001b[0m\u001b[0mk\u001b[0m\u001b[1;33m,\u001b[0m\u001b[0mv\u001b[0m\u001b[1;33m)\u001b[0m\u001b[1;33m)\u001b[0m\u001b[1;33m\u001b[0m\u001b[1;33m\u001b[0m\u001b[0m\n",
      "\u001b[1;31mNameError\u001b[0m: name 'rscv' is not defined"
     ]
    }
   ],
   "source": [
    "# LogisticRegression, RandomizedSearch\n",
    "random_search_iterations = 200\n",
    "k_folds = 10\n",
    "seed = 48151623\n",
    "\n",
    "parameters = {\n",
    "    'penalty':['l1','l2'], \n",
    "    'C': uniform(loc=0,scale=4),\n",
    "    'fit_intercept' : [True,False],\n",
    "    'solver' : ['liblinear', 'saga'],\n",
    "    'max_iter' : [100,200,300,400,500,600,700,800,900,1000]\n",
    "}\n",
    "mnb = LogisticRegression()\n",
    "random_search_logreg = RandomizedSearchCV(mnb, parameters,cv=k_folds,n_iter=random_search_iterations,random_state=seed)\n",
    "random_search_logreg.fit(x_train,y_train)\n",
    "print(\"Best Score: {:.4f}\".format(random_search_logreg.best_score_))\n",
    "for k,v in random_search_logreg.best_params_.items():\n",
    "    print(\"{} => {}\".format(k,v))\n",
    "print(\"Splits: {}\".format(random_search_logreg.n_splits_))\n",
    "y_out = random_search_logreg.predict(x_train)\n",
    "print(\"Accuracy: {:.4f}%\".format(np.mean(y_out == y_train) * 100.0))\n",
    "# print(y_out)"
   ]
  },
  {
   "cell_type": "code",
   "execution_count": null,
   "metadata": {},
   "outputs": [],
   "source": [
    "disp = plot_confusion_matrix(random_search_logreg, x_train, y_train,\n",
    "                             display_labels=[\"Calm\",\"Cheerful\",\"Bravery\",\"Fearful\",\"Sadness\",\"Love\"],\n",
    "                             cmap=plt.cm.Blues,\n",
    "                             normalize='true')"
   ]
  },
  {
   "cell_type": "code",
   "execution_count": null,
   "metadata": {},
   "outputs": [],
   "source": [
    "# MLPClassifier, RandomizedSearch\n",
    "random_search_iterations = 200\n",
    "k_folds = 10\n",
    "seed = 48151623\n",
    "\n",
    "parameters = {\n",
    "    'activation':['logistic', 'tanh', 'relu'], \n",
    "    'solver' : ['lbfgs', 'sgd', 'adam'],\n",
    "    'alpha': [1 / np.power(10,x) for x in range(1,10)],\n",
    "    'batch_size' : [min(200,int(np.power(2,i))) for i in range(4,8)],\n",
    "    'learning_rate' : ['constant', 'invscaling', 'adaptive'],\n",
    "    'max_iter' : [100,200,300,400,500],\n",
    "    'shuffle' : [True,False],\n",
    "    'momentum' : uniform(loc=0.2,scale=0.8),\n",
    "    'nesterovs_momentum' : [True,False],\n",
    "    'early_stopping' : [True,False]\n",
    "}\n",
    "mlp = MLPClassifier()\n",
    "random_search_mlp = RandomizedSearchCV(mlp, parameters,cv=k_folds,n_iter=random_search_iterations,random_state=seed)\n",
    "random_search_mlp.fit(x_train,y_train)\n",
    "print(\"Best Score: {:.4f}\".format(random_search_mlp.best_score_))\n",
    "for k,v in random_search_mlp.best_params_.items():\n",
    "    print(\"{} => {}\".format(k,v))\n",
    "print(\"Splits: {}\".format(random_search_mlp.n_splits_))\n",
    "y_out = rscv.predict(x_train)\n",
    "print(\"Accuracy: {:.4f}%\".format(np.mean(y_out == y_train) * 100.0))\n",
    "# print(y_out)"
   ]
  },
  {
   "cell_type": "code",
   "execution_count": null,
   "metadata": {},
   "outputs": [],
   "source": [
    "disp = plot_confusion_matrix(random_search_mlp, x_train, y_train,\n",
    "                             display_labels=[\"Calm\",\"Cheerful\",\"Bravery\",\"Fearful\",\"Sadness\",\"Love\"],\n",
    "                             cmap=plt.cm.Blues,\n",
    "                             normalize='true')\n"
   ]
  }
 ],
 "metadata": {
  "kernelspec": {
   "display_name": "Python 3",
   "language": "python",
   "name": "python3"
  },
  "language_info": {
   "codemirror_mode": {
    "name": "ipython",
    "version": 3
   },
   "file_extension": ".py",
   "mimetype": "text/x-python",
   "name": "python",
   "nbconvert_exporter": "python",
   "pygments_lexer": "ipython3",
   "version": "3.7.3"
  }
 },
 "nbformat": 4,
 "nbformat_minor": 4
}
