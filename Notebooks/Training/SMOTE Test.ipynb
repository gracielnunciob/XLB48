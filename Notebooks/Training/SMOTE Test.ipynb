{
 "cells": [
  {
   "cell_type": "code",
   "execution_count": 6,
   "metadata": {},
   "outputs": [],
   "source": [
    "import os\n",
    "import numpy as np\n",
    "import pandas as pd\n",
    "import csv\n",
    "from sklearn import tree\n",
    "from sklearn.model_selection import GridSearchCV, RandomizedSearchCV\n",
    "from scipy.stats import uniform, norm\n",
    "from sklearn.tree import DecisionTreeClassifier\n",
    "from sklearn.metrics import plot_confusion_matrix\n",
    "import matplotlib.pyplot as plt\n",
    "from imblearn.over_sampling import SMOTE"
   ]
  },
  {
   "cell_type": "code",
   "execution_count": 7,
   "metadata": {},
   "outputs": [
    {
     "name": "stdout",
     "output_type": "stream",
     "text": [
      "(419, 5)\n",
      "(419,)\n"
     ]
    }
   ],
   "source": [
    "x_train = np.empty((0,5))\n",
    "y_train = np.array([])\n",
    "\n",
    "with open(\"Toy Dataset.csv\",\"r\") as f:\n",
    "    d_reader = csv.reader(f,delimiter=\",\",quotechar=\"\\\"\")\n",
    "    first = True\n",
    "    \n",
    "    for line in d_reader:\n",
    "        if first:\n",
    "            first = False\n",
    "            continue\n",
    "        x_train = np.append(x_train,np.array(list(map(int,line[2:7]))).reshape((1,5)),axis=0)\n",
    "        y_train = np.append(y_train,int(line[8]))\n",
    "print(x_train.shape)\n",
    "print(y_train.shape)\n",
    "# print(y_train)"
   ]
  },
  {
   "cell_type": "code",
   "execution_count": 8,
   "metadata": {},
   "outputs": [],
   "source": [
    "rand_seed = 3454132\n",
    "\n",
    "oversampler = SMOTE(sampling_strategy=\"not majority\",random_state=rand_seed)\n",
    "\n",
    "x_train, y_train = oversampler.fit_resample(x_train,y_train)"
   ]
  },
  {
   "cell_type": "code",
   "execution_count": 9,
   "metadata": {},
   "outputs": [
    {
     "name": "stdout",
     "output_type": "stream",
     "text": [
      "(636, 5)\n",
      "(636,)\n"
     ]
    }
   ],
   "source": [
    "print(x_train.shape)\n",
    "print(y_train.shape)\n"
   ]
  },
  {
   "cell_type": "code",
   "execution_count": 14,
   "metadata": {},
   "outputs": [
    {
     "name": "stdout",
     "output_type": "stream",
     "text": [
      "[[1. 1. 0. 1. 0.]\n",
      " [2. 1. 1. 0. 0.]\n",
      " [1. 1. 1. 0. 0.]\n",
      " ...\n",
      " [2. 1. 1. 0. 0.]\n",
      " [2. 1. 1. 0. 0.]\n",
      " [2. 1. 1. 0. 0.]] [4. 5. 4. 1. 2. 4. 3. 3. 3. 1. 1. 4. 4. 1. 4. 4. 1. 1. 4. 4. 3. 6. 4. 3.\n",
      " 6. 1. 3. 1. 6. 1. 2. 6. 6. 1. 4. 4. 1. 3. 2. 1. 1. 2. 3. 3. 1. 2. 1. 2.\n",
      " 3. 4. 3. 3. 2. 6. 3. 6. 1. 4. 2. 2. 1. 5. 2. 1. 4. 1. 1. 2. 1. 4. 1. 4.\n",
      " 2. 1. 4. 1. 6. 1. 1. 3. 5. 1. 1. 6. 4. 4. 4. 1. 4. 1. 1. 4. 6. 4. 4. 4.\n",
      " 6. 3. 2. 1. 6. 1. 6. 1. 4. 5. 1. 2. 6. 5. 2. 1. 1. 4. 1. 1. 2. 3. 6. 1.\n",
      " 2. 5. 4. 1. 1. 4. 2. 4. 4. 4. 4. 2. 1. 3. 6. 1. 5. 6. 5. 5. 4. 2. 3. 3.\n",
      " 5. 2. 6. 2. 1. 4. 3. 2. 5. 1. 3. 3. 4. 2. 2. 4. 3. 2. 2. 4. 1. 5. 4. 3.\n",
      " 4. 2. 4. 3. 6. 3. 4. 4. 3. 4. 1. 6. 1. 3. 4. 5. 6. 3. 2. 1. 1. 3. 1. 6.\n",
      " 6. 1. 5. 3. 1. 1. 2. 3. 6. 3. 4. 1. 1. 3. 3. 1. 2. 1. 1. 4. 1. 3. 5. 1.\n",
      " 6. 3. 3. 2. 4. 2. 2. 4. 1. 4. 4. 4. 2. 3. 2. 5. 4. 1. 4. 2. 1. 4. 3. 4.\n",
      " 1. 1. 5. 3. 2. 3. 1. 5. 6. 4. 2. 3. 1. 3. 5. 4. 4. 4. 4. 4. 2. 2. 6. 1.\n",
      " 1. 1. 1. 5. 6. 3. 5. 5. 6. 2. 1. 1. 4. 1. 1. 5. 3. 6. 2. 2. 5. 4. 1. 2.\n",
      " 4. 6. 4. 4. 4. 4. 2. 1. 1. 1. 5. 1. 2. 5. 4. 4. 2. 1. 1. 5. 2. 6. 2. 1.\n",
      " 4. 3. 5. 5. 1. 3. 3. 4. 2. 3. 4. 4. 2. 2. 4. 1. 6. 4. 3. 5. 2. 2. 3. 2.\n",
      " 3. 2. 4. 3. 4. 1. 2. 6. 4. 4. 5. 5. 3. 2. 1. 1. 3. 1. 4. 2. 6. 6. 3. 2.\n",
      " 6. 2. 6. 6. 2. 4. 4. 4. 4. 6. 1. 1. 1. 1. 2. 1. 6. 2. 1. 6. 3. 3. 2. 2.\n",
      " 2. 1. 4. 1. 4. 4. 4. 2. 3. 3. 5. 2. 1. 4. 6. 1. 3. 3. 4. 1. 2. 2. 3. 1.\n",
      " 3. 1. 1. 1. 4. 3. 3. 2. 3. 3. 6. 2. 2. 2. 2. 2. 2. 2. 2. 2. 2. 2. 2. 2.\n",
      " 2. 2. 2. 2. 2. 2. 2. 2. 2. 2. 2. 2. 2. 2. 2. 2. 2. 2. 2. 2. 3. 3. 3. 3.\n",
      " 3. 3. 3. 3. 3. 3. 3. 3. 3. 3. 3. 3. 3. 3. 3. 3. 3. 3. 3. 3. 3. 3. 3. 3.\n",
      " 3. 3. 3. 3. 3. 3. 3. 3. 3. 4. 4. 4. 4. 4. 4. 4. 4. 4. 4. 4. 4. 5. 5. 5.\n",
      " 5. 5. 5. 5. 5. 5. 5. 5. 5. 5. 5. 5. 5. 5. 5. 5. 5. 5. 5. 5. 5. 5. 5. 5.\n",
      " 5. 5. 5. 5. 5. 5. 5. 5. 5. 5. 5. 5. 5. 5. 5. 5. 5. 5. 5. 5. 5. 5. 5. 5.\n",
      " 5. 5. 5. 5. 5. 5. 5. 5. 5. 5. 5. 5. 5. 5. 5. 5. 5. 5. 5. 5. 5. 5. 6. 6.\n",
      " 6. 6. 6. 6. 6. 6. 6. 6. 6. 6. 6. 6. 6. 6. 6. 6. 6. 6. 6. 6. 6. 6. 6. 6.\n",
      " 6. 6. 6. 6. 6. 6. 6. 6. 6. 6. 6. 6. 6. 6. 6. 6. 6. 6. 6. 6. 6. 6. 6. 6.\n",
      " 6. 6. 6. 6. 6. 6. 6. 6. 6. 6. 6. 6.]\n"
     ]
    }
   ],
   "source": [
    "print(x_train,y_train)"
   ]
  },
  {
   "cell_type": "code",
   "execution_count": 13,
   "metadata": {},
   "outputs": [
    {
     "name": "stdout",
     "output_type": "stream",
     "text": [
      "4.0 106\n",
      "5.0 106\n",
      "1.0 106\n",
      "2.0 106\n",
      "3.0 106\n",
      "6.0 106\n"
     ]
    }
   ],
   "source": [
    "freq = {}\n",
    "for i in y_train:\n",
    "    if i not in freq:\n",
    "        freq[i] = 0\n",
    "    freq[i] += 1\n",
    "for k,v in freq.items():\n",
    "    print(\"{} {}\".format(k,v))"
   ]
  },
  {
   "cell_type": "code",
   "execution_count": null,
   "metadata": {},
   "outputs": [],
   "source": []
  }
 ],
 "metadata": {
  "kernelspec": {
   "display_name": "Python 3",
   "language": "python",
   "name": "python3"
  },
  "language_info": {
   "codemirror_mode": {
    "name": "ipython",
    "version": 3
   },
   "file_extension": ".py",
   "mimetype": "text/x-python",
   "name": "python",
   "nbconvert_exporter": "python",
   "pygments_lexer": "ipython3",
   "version": "3.6.7"
  }
 },
 "nbformat": 4,
 "nbformat_minor": 4
}
