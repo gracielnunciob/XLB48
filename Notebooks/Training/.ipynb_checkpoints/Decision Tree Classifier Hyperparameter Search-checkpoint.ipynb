{
 "cells": [
  {
   "cell_type": "code",
   "execution_count": null,
   "metadata": {},
   "outputs": [],
   "source": [
    "import os\n",
    "import numpy as np\n",
    "import pandas as pd\n",
    "import csv\n",
    "from sklearn import tree\n",
    "from sklearn.model_selection import GridSearchCV, RandomizedSearchCV\n",
    "from scipy.stats import uniform, norm\n",
    "from sklearn.tree import DecisionTreeClassifier\n",
    "from sklearn.metrics import plot_confusion_matrix\n",
    "import matplotlib.pyplot as plt\n",
    "from imblearn.over_sampling import SMOTE\n",
    "\n",
    "\n",
    "import warnings\n",
    "warnings.filterwarnings('ignore')"
   ]
  },
  {
   "cell_type": "code",
   "execution_count": null,
   "metadata": {},
   "outputs": [],
   "source": [
    "x_train = np.empty((0,5))\n",
    "y_train = np.array([])\n",
    "\n",
    "with open(\"Toy Dataset.csv\",\"r\") as f:\n",
    "    d_reader = csv.reader(f,delimiter=\",\",quotechar=\"\\\"\")\n",
    "    first = True\n",
    "    \n",
    "    for line in d_reader:\n",
    "        if first:\n",
    "            first = False\n",
    "            continue\n",
    "        x_train = np.append(x_train,np.array(list(map(int,line[2:7]))).reshape((1,5)),axis=0)\n",
    "        y_train = np.append(y_train,int(line[8]))\n",
    "print(x_train.shape)\n",
    "print(y_train.shape)\n",
    "# print(y_train)"
   ]
  },
  {
   "cell_type": "code",
   "execution_count": null,
   "metadata": {},
   "outputs": [],
   "source": [
    "rand_seed = 3454132\n",
    "\n",
    "oversampler = SMOTE(sampling_strategy=\"not majority\",random_state=rand_seed)\n",
    "\n",
    "x_smote, y_smote = oversampler.fit_resample(x_train,y_train)"
   ]
  },
  {
   "cell_type": "code",
   "execution_count": null,
   "metadata": {},
   "outputs": [],
   "source": [
    "def train_decision_tree(x_train,y_train,hp_search):\n",
    "    hp_search.fit(x_train,y_train)\n",
    "    print(\"Best Score: {:.4f}\".format(rscv.best_score_))\n",
    "    for k,v in hp_search.best_params_.items():\n",
    "        print(\"{} => {}\".format(k,v))\n",
    "    print(\"Splits: {}\".format(hp_search.n_splits_))\n",
    "    y_out = hp_search.predict(x_train)\n",
    "    print(\"Accuracy: {:.4f}%\".format(np.mean(y_out == y_train) * 100.0))\n",
    "    return hp_search.best_estimator"
   ]
  },
  {
   "cell_type": "code",
   "execution_count": null,
   "metadata": {},
   "outputs": [],
   "source": [
    "#DecisionTree\n",
    "random_search_iterations = 1000\n",
    "\n",
    "parameters = {\n",
    "    'criterion':[\"gini\", \"entropy\"], \n",
    "    'splitter':[\"best\", \"random\"], \n",
    "    'max_depth':range(1, 10), \n",
    "    'min_samples_split':uniform(loc=0,scale=1.0)\n",
    "}\n",
    "\n",
    "# train classifier for SMOTE data\n",
    "dt = tree.DecisionTreeClassifier()\n",
    "rscv = RandomizedSearchCV(dt, parameters,cv=10, n_iter=random_search_iterations,n_jobs=-1)\n",
    "train_decision_tree(x_smote,y_smote,rscv)\n",
    "\n",
    "# display confusion matrix\n",
    "disp = plot_confusion_matrix(rscv, x_train, y_train,\n",
    "                             display_labels=[\"Calm\",\"Cheerful\",\"Bravery\",\"Fearful\",\"Sadness\",\"Love\"],\n",
    "                             cmap=plt.cm.Blues,\n",
    "                             normalize='true')\n",
    "# print(y_out)"
   ]
  },
  {
   "cell_type": "code",
   "execution_count": null,
   "metadata": {},
   "outputs": [],
   "source": [
    "import matplotlib.pyplot as plt\n",
    "\n",
    "classes = ['Brave', 'Cheerful', 'Fearful', 'Love', 'Sadness', 'Calm']\n",
    "dt.fit(x_train,y_train)\n",
    "file = pd.read_csv(\"Toy Dataset.csv\")\n",
    "features = list(file)\n",
    "fig, ax = plt.subplots(figsize=(20, 20))\n",
    "treefig = tree.plot_tree(dt, class_names=classes, feature_names=features[2:7], fontsize=12, ax=ax)\n",
    "plt.show()"
   ]
  },
  {
   "cell_type": "code",
   "execution_count": null,
   "metadata": {},
   "outputs": [],
   "source": [
    "import sklearn\n",
    "print(sklearn.__version__)"
   ]
  }
 ],
 "metadata": {
  "kernelspec": {
   "display_name": "Python 3",
   "language": "python",
   "name": "python3"
  },
  "language_info": {
   "codemirror_mode": {
    "name": "ipython",
    "version": 3
   },
   "file_extension": ".py",
   "mimetype": "text/x-python",
   "name": "python",
   "nbconvert_exporter": "python",
   "pygments_lexer": "ipython3",
   "version": "3.7.3"
  }
 },
 "nbformat": 4,
 "nbformat_minor": 4
}
