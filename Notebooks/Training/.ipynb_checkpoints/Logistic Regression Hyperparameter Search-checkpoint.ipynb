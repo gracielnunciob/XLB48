{
 "cells": [
  {
   "cell_type": "markdown",
   "metadata": {},
   "source": [
    "### Logistic Regression Training Script\n",
    "#### Author: Austin Fernandez\n",
    "#### Date Modified: April 25, 2020"
   ]
  },
  {
   "cell_type": "code",
   "execution_count": 1,
   "metadata": {},
   "outputs": [],
   "source": [
    "# dependencies\n",
    "import csv\n",
    "import matplotlib.pyplot as plt\n",
    "from sklearn.model_selection import GridSearchCV, RandomizedSearchCV\n",
    "from sklearn.linear_model import LogisticRegression, SGDClassifier\n",
    "from sklearn.neural_network import MLPClassifier\n",
    "# from sklearn.naive_bayes import ComplementNB, MultinomialNB\n",
    "import numpy as np\n",
    "from scipy.stats import uniform, norm\n",
    "from sklearn.metrics import plot_confusion_matrix\n",
    "from imblearn.over_sampling import SMOTE, RandomOverSampler\n",
    "\n",
    "import warnings\n",
    "warnings.filterwarnings('ignore')"
   ]
  },
  {
   "cell_type": "code",
   "execution_count": 2,
   "metadata": {},
   "outputs": [],
   "source": [
    "def extract_data(filename,with_label=True):\n",
    "    data = []    \n",
    "    f = open(filename,\"r\")\n",
    "    d_reader = csv.reader(f,delimiter=\",\",quotechar=\"\\\"\")\n",
    "    first = True\n",
    "    for line in d_reader:\n",
    "        if first:\n",
    "            first = False\n",
    "            continue\n",
    "        data.append(line)\n",
    "    print(np.shape(data))\n",
    "    col_count = 324\n",
    "    x_train = np.empty((0,col_count))\n",
    "    y_train = np.array([])\n",
    "\n",
    "    for line in data:\n",
    "        if with_label:\n",
    "            x_train = np.append(x_train,np.array(list(map(float,line[1:-2]))).reshape((1,col_count)),axis=0)\n",
    "            y_train = np.append(y_train,int(line[-1]))\n",
    "        else:\n",
    "            x_train = np.append(x_train,np.array(list(map(float,line[1:6]+line[8:]))).reshape((1,col_count)),axis=0)\n",
    "    print(x_train.shape)\n",
    "    print(y_train.shape)\n",
    "    if with_label:\n",
    "        return x_train, y_train\n",
    "    else:\n",
    "        return x_train\n",
    "    #print(y_train)"
   ]
  },
  {
   "cell_type": "code",
   "execution_count": 3,
   "metadata": {},
   "outputs": [
    {
     "name": "stdout",
     "output_type": "stream",
     "text": [
      "(246, 327)\n",
      "(246, 324)\n",
      "(246,)\n"
     ]
    }
   ],
   "source": [
    "x_train, y_train = extract_data(\"TrainingSet (Labeled Only).csv\")"
   ]
  },
  {
   "cell_type": "code",
   "execution_count": 4,
   "metadata": {},
   "outputs": [
    {
     "name": "stdout",
     "output_type": "stream",
     "text": [
      "(480, 339) (480,)\n",
      "(480, 339) (480,)\n"
     ]
    }
   ],
   "source": [
    "rand_seed = 3454132\n",
    "\n",
    "oversampler = SMOTE(sampling_strategy=\"not majority\",random_state=rand_seed)\n",
    "\n",
    "x_smote, y_smote = oversampler.fit_resample(x_train,y_train)\n",
    "\n",
    "print(x_smote.shape,y_smote.shape)\n",
    "\n",
    "oversampler = RandomOverSampler(sampling_strategy=\"not majority\",\\\n",
    "                                random_state=rand_seed)\n",
    "\n",
    "x_os, y_os = oversampler.fit_resample(x_train,y_train)\n",
    "\n",
    "print(x_os.shape,y_os.shape)"
   ]
  },
  {
   "cell_type": "code",
   "execution_count": 5,
   "metadata": {},
   "outputs": [],
   "source": [
    "\"\"\"\n",
    "Trains a model using the given data and a hyperparameter search object\n",
    "\n",
    "Parameters:\n",
    "x_train - input data\n",
    "y_train - target labels for data\n",
    "hp_search - model_selection object\n",
    "\n",
    "Returns: best estimator for the given data given the model selector\n",
    "\"\"\"\n",
    "def train_model(x_train,y_train,hp_search):\n",
    "    hp_search.fit(x_train,y_train)\n",
    "    print(\"Best Score: {:.4f}\".format(hp_search.best_score_))\n",
    "    for k,v in hp_search.best_params_.items():\n",
    "        print(\"{} => {}\".format(k,v))\n",
    "    print(\"Splits: {}\".format(hp_search.n_splits_))\n",
    "    y_out = hp_search.predict(x_train)\n",
    "    print(\"Accuracy: {:.4f}%\".format(np.mean(y_out == y_train) * 100.0))\n",
    "    return hp_search.best_estimator_"
   ]
  },
  {
   "cell_type": "code",
   "execution_count": 6,
   "metadata": {},
   "outputs": [],
   "source": [
    "\"\"\"\n",
    "Trains and prints the result of the training and model selection.\n",
    "\n",
    "Parameters:\n",
    "name - name of the test run\n",
    "x_train - input data\n",
    "y_train - target labels for data\n",
    "model_selector - model_selection object\n",
    "\"\"\"\n",
    "def print_res(name,x_train,y_train,model_selector):\n",
    "    print(\"{}:\".format(name))\n",
    "    train_model(x_train,y_train,model_selector)\n",
    "\n",
    "    # display confusion matrix\n",
    "    disp = plot_confusion_matrix(model_selector, x_train, y_train,\n",
    "                                 display_labels=[\"Calm\",\"Cheerful\",\"Bravery\",\\\n",
    "                                                 \"Fearful\",\"Sadness\",\"Love\"],\n",
    "                                 cmap=plt.cm.Blues,\n",
    "                                 normalize='true')\n",
    "    # print(y_out)"
   ]
  },
  {
   "cell_type": "code",
   "execution_count": 11,
   "metadata": {},
   "outputs": [],
   "source": [
    "# LogisticRegression, RandomizedSearch\n",
    "random_search_iterations = 200\n",
    "k_folds = 5\n",
    "rand_seed = 3249807\n",
    "\n",
    "parameters = {\n",
    "    'penalty':['l1','l2'], \n",
    "    'C': uniform(loc=0,scale=4),\n",
    "    'fit_intercept' : [True,False],\n",
    "    'solver' : ['liblinear', 'saga'],\n",
    "    'max_iter' : [100,200,300,400,500,600,700,800,900,1000]\n",
    "}\n",
    "mnb = LogisticRegression()\n",
    "random_search_logreg = RandomizedSearchCV(mnb, parameters,cv=k_folds,\\\n",
    "                                          n_iter=random_search_iterations,\\\n",
    "                                          random_state=rand_seed)"
   ]
  },
  {
   "cell_type": "code",
   "execution_count": null,
   "metadata": {},
   "outputs": [
    {
     "name": "stdout",
     "output_type": "stream",
     "text": [
      "Vanilla:\n"
     ]
    }
   ],
   "source": [
    "print_res(\"Vanilla\",x_train,y_train,random_search_logreg)"
   ]
  },
  {
   "cell_type": "code",
   "execution_count": null,
   "metadata": {},
   "outputs": [],
   "source": [
    "print_res(\"Random Oversampling\",x_os,y_os,random_search_logreg)"
   ]
  },
  {
   "cell_type": "code",
   "execution_count": null,
   "metadata": {},
   "outputs": [],
   "source": [
    "print_res(\"SMOTE\",x_smote,y_smote,random_search_logreg)"
   ]
  },
  {
   "cell_type": "code",
   "execution_count": null,
   "metadata": {},
   "outputs": [],
   "source": [
    "# MLPClassifier, RandomizedSearch\n",
    "random_search_iterations = 200\n",
    "k_folds = 5\n",
    "rand_seed = 3249807\n",
    "\n",
    "parameters = {\n",
    "    'activation':['logistic', 'tanh', 'relu'], \n",
    "    'solver' : ['lbfgs', 'sgd', 'adam'],\n",
    "    'alpha': [1 / np.power(10,x) for x in range(1,10)],\n",
    "    'batch_size' : [min(200,int(np.power(2,i))) for i in range(4,8)],\n",
    "    'learning_rate' : ['constant', 'invscaling', 'adaptive'],\n",
    "    'max_iter' : [100,200,300,400,500],\n",
    "    'shuffle' : [True,False],\n",
    "    'momentum' : uniform(loc=0.2,scale=0.8),\n",
    "    'nesterovs_momentum' : [True,False],\n",
    "    'early_stopping' : [True,False]\n",
    "}\n",
    "mlp = MLPClassifier()\n",
    "random_search_mlp = RandomizedSearchCV(mlp, parameters,cv=k_folds,\\\n",
    "                                       n_iter=random_search_iterations,\\\n",
    "                                       random_state=rand_seed, n_jobs=-1)"
   ]
  },
  {
   "cell_type": "code",
   "execution_count": null,
   "metadata": {},
   "outputs": [],
   "source": [
    "print_res(\"Vanilla\",x_train,y_train,random_search_mlp)"
   ]
  },
  {
   "cell_type": "code",
   "execution_count": null,
   "metadata": {},
   "outputs": [],
   "source": [
    "print_res(\"Random Oversampling\",x_os,y_os,random_search_mlp)"
   ]
  },
  {
   "cell_type": "code",
   "execution_count": null,
   "metadata": {},
   "outputs": [],
   "source": [
    "print_res(\"SMOTE\",x_smote,y_smote,random_search_mlp)"
   ]
  },
  {
   "cell_type": "code",
   "execution_count": 7,
   "metadata": {},
   "outputs": [],
   "source": [
    "# SGDClassifier, RandomizedSearch\n",
    "random_search_iterations = 1000\n",
    "k_folds = 5\n",
    "rand_seed = 3249807\n",
    "\n",
    "parameters = {\n",
    "    'loss' : [ 'hinge', 'log', 'modified_huber', 'squared_hinge', \\\n",
    "              'perceptron', 'squared_loss', 'huber', \\\n",
    "              'epsilon_insensitive', 'squared_epsilon_insensitive'],\n",
    "    'penalty' : ['l2', 'l1', 'elasticnet'],\n",
    "    'alpha': [1 / np.power(10,x) for x in range(1,10)],\n",
    "    'l1_ratio': uniform(loc=0,scale=1),\n",
    "    'fit_intercept' : [True, False],\n",
    "    'max_iter' : [100,200,300,400,500],\n",
    "    'shuffle' : [True, False],\n",
    "    'eta0' : uniform(loc=0.01,scale=0.99),\n",
    "    'learning_rate' : ['constant', 'invscaling', 'adaptive'],\n",
    "    'early_stopping' : [True, False],\n",
    "    'warm_start' : [True, False],\n",
    "    'average' : [True,False]\n",
    "}\n",
    "sgdc = SGDClassifier()\n",
    "random_search_sgdc = RandomizedSearchCV(sgdc, parameters,cv=k_folds,\\\n",
    "                                        n_iter=random_search_iterations,\\\n",
    "                                        random_state=rand_seed, n_jobs=-1)"
   ]
  },
  {
   "cell_type": "code",
   "execution_count": 8,
   "metadata": {},
   "outputs": [
    {
     "name": "stdout",
     "output_type": "stream",
     "text": [
      "Vanilla:\n",
      "Best Score: 0.3293\n",
      "alpha => 1e-06\n",
      "average => True\n",
      "early_stopping => True\n",
      "eta0 => 0.27112605309594107\n",
      "fit_intercept => False\n",
      "l1_ratio => 0.7579203178148496\n",
      "learning_rate => constant\n",
      "loss => squared_epsilon_insensitive\n",
      "max_iter => 500\n",
      "penalty => l2\n",
      "shuffle => False\n",
      "warm_start => False\n",
      "Splits: 5\n",
      "Accuracy: 16.1049%\n"
     ]
    },
    {
     "data": {
      "image/png": "[encoded data removed]",
      "text/plain": [
       "<Figure size 432x288 with 2 Axes>"
      ]
     },
     "metadata": {
      "needs_background": "light"
     },
     "output_type": "display_data"
    }
   ],
   "source": [
    "print_res(\"Vanilla\",x_train,y_train,random_search_sgdc)"
   ]
  },
  {
   "cell_type": "code",
   "execution_count": 9,
   "metadata": {},
   "outputs": [
    {
     "name": "stdout",
     "output_type": "stream",
     "text": [
      "Random Oversampling:\n",
      "Best Score: 0.2188\n",
      "alpha => 0.0001\n",
      "average => False\n",
      "early_stopping => True\n",
      "eta0 => 0.4250066066474766\n",
      "fit_intercept => False\n",
      "l1_ratio => 0.6688602445822183\n",
      "learning_rate => adaptive\n",
      "loss => perceptron\n",
      "max_iter => 400\n",
      "penalty => l1\n",
      "shuffle => True\n",
      "warm_start => True\n",
      "Splits: 5\n",
      "Accuracy: 22.7083%\n"
     ]
    },
    {
     "data": {
      "image/png": "[encoded data removed]",
      "text/plain": [
       "<Figure size 432x288 with 2 Axes>"
      ]
     },
     "metadata": {
      "needs_background": "light"
     },
     "output_type": "display_data"
    }
   ],
   "source": [
    "print_res(\"Random Oversampling\",x_os,y_os,random_search_sgdc)"
   ]
  },
  {
   "cell_type": "code",
   "execution_count": 10,
   "metadata": {},
   "outputs": [
    {
     "name": "stdout",
     "output_type": "stream",
     "text": [
      "SMOTE:\n",
      "Best Score: 0.2396\n",
      "alpha => 1e-05\n",
      "average => True\n",
      "early_stopping => False\n",
      "eta0 => 0.5586505834816746\n",
      "fit_intercept => False\n",
      "l1_ratio => 0.8032229024528001\n",
      "learning_rate => invscaling\n",
      "loss => squared_epsilon_insensitive\n",
      "max_iter => 400\n",
      "penalty => l2\n",
      "shuffle => True\n",
      "warm_start => False\n",
      "Splits: 5\n",
      "Accuracy: 16.6667%\n"
     ]
    },
    {
     "data": {
      "image/png": "[encoded data removed]",
      "text/plain": [
       "<Figure size 432x288 with 2 Axes>"
      ]
     },
     "metadata": {
      "needs_background": "light"
     },
     "output_type": "display_data"
    }
   ],
   "source": [
    "print_res(\"SMOTE\",x_smote,y_smote,random_search_sgdc)"
   ]
  }
 ],
 "metadata": {
  "kernelspec": {
   "display_name": "Python 3",
   "language": "python",
   "name": "python3"
  },
  "language_info": {
   "codemirror_mode": {
    "name": "ipython",
    "version": 3
   },
   "file_extension": ".py",
   "mimetype": "text/x-python",
   "name": "python",
   "nbconvert_exporter": "python",
   "pygments_lexer": "ipython3",
   "version": "3.7.3"
  }
 },
 "nbformat": 4,
 "nbformat_minor": 4
}
