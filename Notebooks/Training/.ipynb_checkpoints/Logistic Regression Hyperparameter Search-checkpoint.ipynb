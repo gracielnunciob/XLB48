{
 "cells": [
  {
   "cell_type": "markdown",
   "metadata": {},
   "source": [
    "### Logistic Regression Training Script\n",
    "#### Author: Austin Fernandez\n",
    "#### Date Modified: April 25, 2020"
   ]
  },
  {
   "cell_type": "code",
   "execution_count": 1,
   "metadata": {},
   "outputs": [],
   "source": [
    "# dependencies\n",
    "import csv\n",
    "import matplotlib.pyplot as plt\n",
    "from sklearn.model_selection import GridSearchCV, RandomizedSearchCV\n",
    "from sklearn.linear_model import LogisticRegression, SGDClassifier\n",
    "from sklearn.neural_network import MLPClassifier\n",
    "# from sklearn.naive_bayes import ComplementNB, MultinomialNB\n",
    "import numpy as np\n",
    "from scipy.stats import uniform, norm\n",
    "from sklearn.metrics import plot_confusion_matrix\n",
    "from imblearn.over_sampling import SMOTE, RandomOverSampler\n",
    "from sklearn.preprocessing import MinMaxScaler\n",
    "from XLB import *\n",
    "\n",
    "import warnings\n",
    "warnings.filterwarnings('ignore')"
   ]
  },
  {
   "cell_type": "code",
   "execution_count": 2,
   "metadata": {},
   "outputs": [
    {
     "name": "stdout",
     "output_type": "stream",
     "text": [
      "(401, 327)\n",
      "(401, 324)\n",
      "(401,)\n",
      "(21, 327)\n",
      "(21, 324)\n",
      "(21,)\n"
     ]
    }
   ],
   "source": [
    "x_train, y_train = extract_data(\"FinalTrainingSet.csv\")\n",
    "x_val, y_val = extract_data(\"Validation Set.csv\")\n",
    "scaler = MinMaxScaler()\n",
    "scaler.fit(x_train)\n",
    "x_train = scaler.transform(x_train)\n",
    "\n",
    "scaler_val = MinMaxScaler()\n",
    "scaler.fit(x_val)\n",
    "x_val = scaler.transform(x_val)"
   ]
  },
  {
   "cell_type": "code",
   "execution_count": 3,
   "metadata": {},
   "outputs": [
    {
     "name": "stdout",
     "output_type": "stream",
     "text": [
      "(750, 324) (750,)\n",
      "(750, 324) (750,)\n"
     ]
    }
   ],
   "source": [
    "rand_seed = 3454132\n",
    "\n",
    "oversampler = SMOTE(sampling_strategy=\"not majority\",random_state=rand_seed)\n",
    "\n",
    "x_smote, y_smote = oversampler.fit_resample(x_train,y_train)\n",
    "\n",
    "print(x_smote.shape,y_smote.shape)\n",
    "\n",
    "oversampler = RandomOverSampler(sampling_strategy=\"not majority\",\\\n",
    "                                random_state=rand_seed)\n",
    "\n",
    "x_os, y_os = oversampler.fit_resample(x_train,y_train)\n",
    "\n",
    "print(x_os.shape,y_os.shape)"
   ]
  },
  {
   "cell_type": "code",
   "execution_count": 4,
   "metadata": {},
   "outputs": [],
   "source": [
    "# LogisticRegression, RandomizedSearch\n",
    "random_search_iterations = 300\n",
    "k_folds = 10\n",
    "rand_seed = 3249807\n",
    "\n",
    "parameters = {\n",
    "    'penalty':['l1','l2', 'elasticnet', 'none'], \n",
    "    'dual' : [True, False],\n",
    "    'C': uniform(loc=0,scale=4),\n",
    "    'fit_intercept' : [True,False],\n",
    "    'class_weight' : ['balanced', None],\n",
    "    'solver' : ['newton-cg', 'lbfgs', 'sag', 'liblinear', 'saga'],\n",
    "    'max_iter' : [100,200],\n",
    "    'l1_ratio' : uniform(loc=0,scale=1),\n",
    "    'warm_start': [True, False]\n",
    "}\n",
    "mnb = LogisticRegression(random_state=rand_seed)\n",
    "random_search_logreg = RandomizedSearchCV(mnb, parameters,cv=k_folds,\\\n",
    "                                          n_iter=random_search_iterations,\\\n",
    "                                          random_state=rand_seed,n_jobs=-1)"
   ]
  },
  {
   "cell_type": "code",
   "execution_count": null,
   "metadata": {},
   "outputs": [],
   "source": [
    "print_res(\"Vanilla\",x_train,y_train,random_search_logreg)\n",
    "test_res(\"Vanilla\",x_val,y_val,random_search_logreg)"
   ]
  },
  {
   "cell_type": "code",
   "execution_count": null,
   "metadata": {},
   "outputs": [],
   "source": [
    "print_res(\"Random Oversampling\",x_os,y_os,random_search_logreg)\n",
    "test_res(\"Random Oversampling\",x_val,y_val,random_search_logreg)"
   ]
  },
  {
   "cell_type": "code",
   "execution_count": null,
   "metadata": {},
   "outputs": [],
   "source": [
    "print_res(\"SMOTE\",x_smote,y_smote,random_search_logreg)\n",
    "test_res(\"SMOTE\",x_val,y_val,random_search_logreg)"
   ]
  },
  {
   "cell_type": "code",
   "execution_count": null,
   "metadata": {},
   "outputs": [],
   "source": [
    "# MLPClassifier, RandomizedSearch\n",
    "random_search_iterations = 50\n",
    "k_folds = 10\n",
    "rand_seed = 3249807\n",
    "\n",
    "parameters = {\n",
    "    'activation':['logistic', 'tanh', 'relu'], \n",
    "    'solver' : ['lbfgs', 'sgd', 'adam'],\n",
    "    'alpha': [3e-4],\n",
    "    'batch_size' : [min(200,int(np.power(2,i))) for i in range(4,8)],\n",
    "    'learning_rate' : ['constant', 'invscaling', 'adaptive'],\n",
    "    'max_iter' : [700],\n",
    "    'shuffle' : [True,False],\n",
    "    'momentum' : uniform(loc=0.2,scale=0.8),\n",
    "    'nesterovs_momentum' : [True,False],\n",
    "    'early_stopping' : [True,False]\n",
    "}\n",
    "mlp = MLPClassifier(random_state=rand_seed)\n",
    "random_search_mlp = RandomizedSearchCV(mlp, parameters,cv=k_folds,\\\n",
    "                                       n_iter=random_search_iterations,\\\n",
    "                                       random_state=rand_seed, n_jobs=-1)"
   ]
  },
  {
   "cell_type": "code",
   "execution_count": null,
   "metadata": {},
   "outputs": [],
   "source": [
    "print_res(\"Vanilla\",x_train,y_train,random_search_mlp)\n",
    "test_res(\"Vanilla\",x_val,y_val,random_search_mlp)"
   ]
  },
  {
   "cell_type": "code",
   "execution_count": null,
   "metadata": {},
   "outputs": [],
   "source": [
    "print_res(\"Random Oversampling\",x_os,y_os,random_search_mlp)\n",
    "test_res(\"Random Oversampling\",x_val,y_val,random_search_mlp)"
   ]
  },
  {
   "cell_type": "code",
   "execution_count": null,
   "metadata": {},
   "outputs": [],
   "source": [
    "print_res(\"SMOTE\",x_smote,y_smote,random_search_mlp)\n",
    "test_res(\"SMOTE\",x_val,y_val,random_search_mlp)"
   ]
  },
  {
   "cell_type": "code",
   "execution_count": null,
   "metadata": {},
   "outputs": [],
   "source": [
    "# SGDClassifier, RandomizedSearch\n",
    "random_search_iterations = 200\n",
    "k_folds = 10\n",
    "rand_seed = 3249807\n",
    "\n",
    "parameters = {\n",
    "    'loss' : [ 'hinge', 'log', 'modified_huber', 'squared_hinge', \\\n",
    "              'perceptron', 'squared_loss', 'huber', \\\n",
    "              'epsilon_insensitive', 'squared_epsilon_insensitive'],\n",
    "    'penalty' : ['l2', 'l1', 'elasticnet'],\n",
    "    'alpha': [3e-4],\n",
    "    'l1_ratio': uniform(loc=0,scale=1),\n",
    "    'fit_intercept' : [True, False],\n",
    "    'max_iter' : [1000],\n",
    "    'shuffle' : [True, False],\n",
    "    'eta0' : uniform(loc=0.01,scale=0.99),\n",
    "    'learning_rate' : ['constant', 'invscaling', 'adaptive'],\n",
    "    'early_stopping' : [True, False],\n",
    "    'warm_start' : [True, False],\n",
    "    'average' : [True,False]\n",
    "}\n",
    "sgdc = SGDClassifier(random_state=rand_seed)\n",
    "random_search_sgdc = RandomizedSearchCV(sgdc, parameters,cv=k_folds,\\\n",
    "                                        n_iter=random_search_iterations,\\\n",
    "                                        random_state=rand_seed, n_jobs=-1)"
   ]
  },
  {
   "cell_type": "code",
   "execution_count": null,
   "metadata": {},
   "outputs": [],
   "source": [
    "print_res(\"Vanilla\",x_train,y_train,random_search_sgdc)\n",
    "test_res(\"Vanilla\",x_val,y_val,random_search_sgdc)"
   ]
  },
  {
   "cell_type": "code",
   "execution_count": null,
   "metadata": {},
   "outputs": [],
   "source": [
    "print_res(\"Random Oversampling\",x_os,y_os,random_search_sgdc)\n",
    "test_res(\"Random Oversampling\",x_val,y_val,random_search_sgdc)"
   ]
  },
  {
   "cell_type": "code",
   "execution_count": null,
   "metadata": {},
   "outputs": [],
   "source": [
    "print_res(\"SMOTE\",x_smote,y_smote,random_search_sgdc)\n",
    "test_res(\"SMOTE\",x_val,y_val,random_search_sgdc)"
   ]
  }
 ],
 "metadata": {
  "kernelspec": {
   "display_name": "Python 3",
   "language": "python",
   "name": "python3"
  },
  "language_info": {
   "codemirror_mode": {
    "name": "ipython",
    "version": 3
   },
   "file_extension": ".py",
   "mimetype": "text/x-python",
   "name": "python",
   "nbconvert_exporter": "python",
   "pygments_lexer": "ipython3",
   "version": "3.7.3"
  }
 },
 "nbformat": 4,
 "nbformat_minor": 4
}
