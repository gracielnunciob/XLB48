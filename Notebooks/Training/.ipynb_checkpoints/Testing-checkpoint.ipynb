{
 "cells": [
  {
   "cell_type": "code",
   "execution_count": null,
   "metadata": {},
   "outputs": [],
   "source": [
    "import os\n",
    "import numpy as np\n",
    "import pandas as pd\n",
    "import csv\n",
    "from sklearn import tree\n",
    "from sklearn.model_selection import GridSearchCV, RandomizedSearchCV\n",
    "from scipy.stats import uniform, norm\n",
    "from sklearn.tree import DecisionTreeClassifier\n",
    "from sklearn.metrics import plot_confusion_matrix\n",
    "import matplotlib.pyplot as plt\n",
    "from imblearn.over_sampling import SMOTE, RandomOverSampler\n",
    "from sklearn.preprocessing import MinMaxScaler, StandardScaler\n",
    "from sklearn.ensemble import RandomForestClassifier\n",
    "import matplotlib.pyplot as plt\n",
    "from sklearn.feature_selection import SelectKBest, chi2, f_classif, VarianceThreshold\n",
    "from XLB import *\n",
    "\n",
    "import warnings\n",
    "warnings.filterwarnings('ignore')"
   ]
  },
  {
   "cell_type": "code",
   "execution_count": null,
   "metadata": {},
   "outputs": [],
   "source": [
    "for num_features in range(5,324,10):\n",
    "    x_train, y_train = extract_data(\"FinalTrainingSet.csv\")\n",
    "    x_val, y_val = extract_data(\"Validation Set.csv\")\n",
    "    scaler = MinMaxScaler()\n",
    "    feat_sel = VarianceThreshold()\n",
    "    x_train = feat_sel.fit_transform(x_train)\n",
    "    feat_sel_2 = SelectKBest(f_classif,k=num_features)\n",
    "    x_train = feat_sel_2.fit_transform(x_train,y_train)\n",
    "    print(\"After Variance Threshold Feature Selection:\",x_train.shape)\n",
    "    x_val = feat_sel_2.transform(feat_sel.transform(x_val))\n",
    "\n",
    "\n",
    "    scaler.fit(x_train)\n",
    "    x_train = scaler.transform(x_train)\n",
    "    x_val = scaler.transform(x_val)\n",
    "    rand_seed = 3454132\n",
    "\n",
    "    oversampler = SMOTE(sampling_strategy=\"not majority\",random_state=rand_seed)\n",
    "    x_smote, y_smote = oversampler.fit_resample(x_train,y_train)\n",
    "    print(x_smote.shape,y_smote.shape)\n",
    "\n",
    "    oversampler = RandomOverSampler(sampling_strategy=\"not majority\",random_state=rand_seed)\n",
    "    x_os, y_os = oversampler.fit_resample(x_train,y_train)\n",
    "    print(x_os.shape,y_os.shape)\n",
    "    # Decision Tree\n",
    "    random_search_iterations = 1000\n",
    "    n_splits = 10\n",
    "    rand_seed = 481516234\n",
    "\n",
    "    parameters = {\n",
    "        'criterion':[\"gini\", \"entropy\"], \n",
    "        'splitter':[\"best\", \"random\"], \n",
    "        'max_depth':range(1, num_features + 1), \n",
    "        'min_samples_split': uniform(loc=0.00,scale=1.0),\n",
    "        'min_samples_leaf': uniform(loc=0.0001,scale=0.4999)\n",
    "    }\n",
    "\n",
    "    # train classifier for SMOTE data\n",
    "    dt = tree.DecisionTreeClassifier(random_state=rand_seed)\n",
    "    rscv = RandomizedSearchCV(dt, parameters,cv=n_splits, random_state=rand_seed, n_iter=random_search_iterations,n_jobs=-1)\n",
    "    \n",
    "    print(\"num_features: {}\".format(num_features))\n",
    "    print_res(\"Random Oversampling\",x_os,y_os,rscv,False)\n",
    "#     disp_tree(rscv.best_estimator_,\"FinalTrainingSet.csv\")\n",
    "    test_res(\"Random Oversampling\",x_val,y_val,rscv,False)"
   ]
  },
  {
   "cell_type": "code",
   "execution_count": null,
   "metadata": {},
   "outputs": [],
   "source": []
  }
 ],
 "metadata": {
  "kernelspec": {
   "display_name": "Python 3",
   "language": "python",
   "name": "python3"
  },
  "language_info": {
   "codemirror_mode": {
    "name": "ipython",
    "version": 3
   },
   "file_extension": ".py",
   "mimetype": "text/x-python",
   "name": "python",
   "nbconvert_exporter": "python",
   "pygments_lexer": "ipython3",
   "version": "3.7.3"
  }
 },
 "nbformat": 4,
 "nbformat_minor": 4
}
