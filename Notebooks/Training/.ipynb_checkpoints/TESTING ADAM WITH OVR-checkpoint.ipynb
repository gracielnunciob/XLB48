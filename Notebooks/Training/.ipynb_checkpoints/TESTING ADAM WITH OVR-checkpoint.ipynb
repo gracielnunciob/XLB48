{
 "cells": [
  {
   "cell_type": "markdown",
   "metadata": {},
   "source": [
    "# Decision Tree Classifier for Classifying Music Emotions\n",
    "---\n",
    "## About the Dataset\n",
    "\n",
    "For this experiment, our dataset contains 267 music samples that were labelled by 2 music experts and 151 samples labeled in the semi-supervised learning task. The dataset has a combination of high level and low level features. The high level features are tempo, arousal, and scale, which were all labelled by the music experts. The low level features were extracted from the music samples using the JAudio software.\n",
    "\n",
    "---\n",
    "## Libraries\n",
    "\n",
    "We used the pandas and csv libraries to load the dataset, which is a csv file. Then we used numpy to manipulate the loaded dataset. We used the sci kit learn library for the decision tree algorithm."
   ]
  },
  {
   "cell_type": "code",
   "execution_count": 1,
   "metadata": {},
   "outputs": [],
   "source": [
    "import os\n",
    "import numpy as np\n",
    "import pandas as pd\n",
    "import csv\n",
    "from sklearn.metrics import f1_score\n",
    "from sklearn import tree\n",
    "from sklearn import svm\n",
    "from sklearn.model_selection import RandomizedSearchCV\n",
    "from scipy.stats import uniform, norm\n",
    "from sklearn.tree import DecisionTreeClassifier\n",
    "from sklearn.metrics import plot_confusion_matrix\n",
    "import matplotlib.pyplot as plt\n",
    "from imblearn.over_sampling import SMOTE, RandomOverSampler\n",
    "from sklearn.preprocessing import MinMaxScaler, StandardScaler\n",
    "import matplotlib.pyplot as plt\n",
    "from sklearn.feature_selection import SelectKBest, VarianceThreshold, chi2, f_classif, mutual_info_classif\n",
    "from XLB import *\n",
    "from functools import cmp_to_key\n",
    "from statistics import mode\n",
    "\n",
    "import warnings\n",
    "warnings.filterwarnings('ignore')"
   ]
  },
  {
   "cell_type": "markdown",
   "metadata": {},
   "source": [
    "Here we load the data from the csv file and preprocess it by removing the header row and the filename column"
   ]
  },
  {
   "cell_type": "markdown",
   "metadata": {},
   "source": [
    "After the initial preprocessing step, we separated the music features and the labelled emotion into the x_train and y_train arrays respectively"
   ]
  },
  {
   "cell_type": "code",
   "execution_count": 3,
   "metadata": {
    "scrolled": true
   },
   "outputs": [
    {
     "name": "stdout",
     "output_type": "stream",
     "text": [
      "(502, 45) (502,)\n",
      "(508, 45) (508,)\n",
      "(536, 45) (536,)\n",
      "(484, 45) (484,)\n",
      "(524, 45) (524,)\n",
      "(536, 45) (536,)\n",
      "\n",
      "(502, 45) (502,)\n",
      "(508, 45) (508,)\n",
      "(536, 45) (536,)\n",
      "(484, 45) (484,)\n",
      "(524, 45) (524,)\n",
      "(536, 45) (536,)\n"
     ]
    }
   ],
   "source": [
    "# extract data from files\n",
    "x_train, y_train = extract_data(\"Ralph_Set.csv\")\n",
    "x_val, y_val = extract_data(\"Ralph_Validation_Set.csv\")\n",
    "\n",
    "# scale data values\n",
    "scaler = MinMaxScaler()\n",
    "scaler.fit(x_train)\n",
    "x_train = scaler.transform(x_train)\n",
    "x_val = scaler.transform(x_val)\n",
    "\n",
    "# feature selection\n",
    "num_features = 45\n",
    "feat_sel = VarianceThreshold()\n",
    "x_train = feat_sel.fit_transform(x_train)\n",
    "feat_sel_2 = SelectKBest(mutual_info_classif,k=num_features)\n",
    "x_train = feat_sel_2.fit_transform(x_train,y_train)\n",
    "x_val = feat_sel_2.transform(feat_sel.transform(x_val))\n",
    "# print(\"After Variance Threshold Feature Selection:\",x_train.shape)\n",
    "\n",
    "rand_seed = 112263\n",
    "ovr_train = []\n",
    "ovr_val = []\n",
    "ovr_y_smote = []\n",
    "ovr_y_os = []\n",
    "x_oss = []\n",
    "x_smotes = []\n",
    "for i in range(1,7):\n",
    "    ovr_train.append(ovr_labels(y_train, i))\n",
    "    ovr_val.append(ovr_labels(y_val, i))\n",
    "for y in ovr_train:\n",
    "    oversampler = SMOTE(sampling_strategy=\"not majority\",random_state=rand_seed)\n",
    "    x_smote, y_smote = oversampler.fit_resample(x_train,y)\n",
    "    print(x_smote.shape,y_smote.shape)\n",
    "    ovr_y_smote.append(y_smote)\n",
    "    x_smotes.append(x_smote)\n",
    "print()\n",
    "for y in ovr_train:\n",
    "    oversampler = RandomOverSampler(sampling_strategy=\"not majority\",random_state=rand_seed)\n",
    "    x_os, y_os = oversampler.fit_resample(x_train,y)\n",
    "    print(x_os.shape,y_os.shape)\n",
    "    ovr_y_os.append(y_os)\n",
    "    x_oss.append(x_os)"
   ]
  },
  {
   "cell_type": "code",
   "execution_count": 3,
   "metadata": {},
   "outputs": [
    {
     "name": "stdout",
     "output_type": "stream",
     "text": [
      "324\n"
     ]
    }
   ],
   "source": [
    "#MOVING FEATURE HEADERS INTO A LIST\n",
    "import csv\n",
    "\n",
    "with open(\"Ralph_Set.csv\") as f:\n",
    "    reader = csv.reader(f)\n",
    "    features = next(reader)\n",
    "\n",
    "#Deleting everything except features from the dataset\n",
    "features.remove(\"Row Labels\")\n",
    "features.remove(\"Theme\")\n",
    "features.remove(\"Theme(Numbered)\")\n",
    "print(len(features))\n",
    "#Retained features after selection\n",
    "selected_feats = feat_sel_2.get_support(True)\n",
    "\n",
    "for ind, ft in sorted(enumerate(features), reverse=True): \n",
    "    if ind not in selected_feats:\n",
    "        del features[ind]\n",
    "  \n",
    "#Printing modified list \n",
    "#print (features) \n",
    "#print (len(features))"
   ]
  },
  {
   "cell_type": "code",
   "execution_count": 4,
   "metadata": {},
   "outputs": [],
   "source": [
    "themes = [\"Calm\",\"Cheerful\",\"Bravery\",\"Fearful\",\"Love\",\"Sadness\"]"
   ]
  },
  {
   "cell_type": "markdown",
   "metadata": {},
   "source": [
    "Here we perform different methods to deal with imbalanced datasets. We used the oversampling *Insert link to oversampling if needed* and SMOTE methodology *Insert link to SMOTE if needed*"
   ]
  },
  {
   "cell_type": "markdown",
   "metadata": {},
   "source": [
    "Here we defined a function that will train the model and perform the hyperparameter search. x_train is the input data, y_train is the labels for the input data, and hp_search is the algorithm for hyperparameter search"
   ]
  },
  {
   "cell_type": "markdown",
   "metadata": {},
   "source": [
    "This function trains the model, using the previously defined train_model function, and displays the confusion matrix of the model. "
   ]
  },
  {
   "cell_type": "markdown",
   "metadata": {},
   "source": [
    "The following cells are the experiments we ran with the default dataset, oversampled version, and SMOTE version using random search as the hyperparameter search algorithm\n",
    "\n",
    "---\n",
    "This cell instantiates the decison tree object and the hyperparameter search object."
   ]
  },
  {
   "cell_type": "code",
   "execution_count": 5,
   "metadata": {},
   "outputs": [],
   "source": [
    "# Decision Tree\n",
    "random_search_iterations = 1000\n",
    "n_splits = 5\n",
    "\n",
    "parameters = {\n",
    "    'criterion':[\"gini\", \"entropy\"], \n",
    "    'splitter':[\"best\", \"random\"], \n",
    "    'max_depth':range(1, num_features + 1), \n",
    "    'min_samples_split': uniform(loc=0.00,scale=1.0),\n",
    "    'min_samples_leaf': uniform(loc=0.0001,scale=0.4999)\n",
    "}\n",
    "\n",
    "# train classifier for SMOTE data\n",
    "dt = tree.DecisionTreeClassifier(random_state=rand_seed)\n",
    "rscv = RandomizedSearchCV(dt, parameters,cv=n_splits, random_state=rand_seed, n_iter=random_search_iterations,n_jobs=1)"
   ]
  },
  {
   "cell_type": "code",
   "execution_count": 6,
   "metadata": {},
   "outputs": [],
   "source": [
    "\"\"\" \n",
    "This functions trains a Classification Based on Associations (CBA) model on a\n",
    "dataset and tests it on a valdation set.\n",
    "\n",
    "Parameters:\n",
    "ruleset : array-like of size (0,) - container for ruleset\n",
    "X_train : array-like of size (n_train_samples,n_features) \n",
    "                                  - training data\n",
    "y_train : array-like of size (n_train_samples,) \n",
    "                                  - ground truth labels of training data\n",
    "X_val : array-like of size (n_test_samples,n_features) \n",
    "                                  - training data\n",
    "y_val : array-like of size (n_test_samples,) \n",
    "                                  - ground truth labels of training data\n",
    "model_selector : Sklearn estimator object - hyperparameetr search object\n",
    "feature_names : array-like of size (n_features,) - list of feature names\n",
    "label_names : array-like of size (n_classes,) - list of class labels\n",
    "dataset_name : string - name to call the dataset\n",
    "itr-count : int - tracking for rule number\n",
    "\n",
    "Returns an array of Rule objects indicating the updated ruleset.\n",
    "\"\"\"\n",
    "def extract_ruleset(ruleset,X_train,y_train,X_val,y_val,model_selector,\n",
    "                    feature_names,label_names,dataset_name=\"Dataset\",itr_count=0):\n",
    "    print_res(dataset_name,X_train,y_train,model_selector, label_names[i], verbose = False)\n",
    "#     disp_tree(rscv.best_estimator_,\"FinalTrainingSet.csv\")\n",
    "    test_res(dataset_name,X_val,y_val,model_selector, label_names[i])\n",
    "    ruleset.append(create_rule_obj_ovr(\n",
    "        model_selector.best_estimator_, feature_names, X_train, itr_count, label_names, \n",
    "        y_train,len(X_train)\n",
    "    ))\n",
    "    return ruleset"
   ]
  },
  {
   "cell_type": "markdown",
   "metadata": {},
   "source": [
    "This model is trained using the default "
   ]
  },
  {
   "cell_type": "code",
   "execution_count": 7,
   "metadata": {
    "scrolled": true
   },
   "outputs": [
    {
     "name": "stdout",
     "output_type": "stream",
     "text": [
      "Best Score: 0.8155\n",
      "Vanilla Train Accuracy: 81.2298%\n",
      "[0 0 0 0 0 0 0 0 0 0 0 0 0 0]\n",
      "[0 0 0 1 0 1 0 1 0 0 0 1 0 0]\n",
      "Vanilla Validation Accuracy: 71.43%\n",
      "Vanilla F1-score: 0.60\n",
      "Vanilla Precision Score: 0.51\n",
      "Vanilla Recall Score: 0.71\n",
      "Vanilla ROC-AUC Score: 0.50\n",
      "\n",
      "\n",
      "Best Score: 0.8220\n",
      "Vanilla Train Accuracy: 82.2006%\n",
      "[0 0 0 0 0 0 0 0 0 0 0 0 0 0]\n",
      "[0 0 0 0 1 0 0 0 1 0 0 0 0 0]\n",
      "Vanilla Validation Accuracy: 85.71%\n",
      "Vanilla F1-score: 0.79\n",
      "Vanilla Precision Score: 0.73\n",
      "Vanilla Recall Score: 0.86\n",
      "Vanilla ROC-AUC Score: 0.50\n",
      "\n",
      "\n",
      "Best Score: 0.8705\n",
      "Vanilla Train Accuracy: 86.7314%\n",
      "[0 0 0 0 0 0 0 0 0 0 0 0 0 0]\n",
      "[0 0 0 0 0 0 0 0 0 0 0 0 0 1]\n",
      "Vanilla Validation Accuracy: 92.86%\n",
      "Vanilla F1-score: 0.89\n",
      "Vanilla Precision Score: 0.86\n",
      "Vanilla Recall Score: 0.93\n",
      "Vanilla ROC-AUC Score: 0.50\n",
      "\n",
      "\n",
      "Best Score: 0.7896\n",
      "Vanilla Train Accuracy: 78.3172%\n",
      "[0 0 0 0 0 0 0 0 0 0 0 0 0 0]\n",
      "[1 1 0 0 0 0 1 0 0 1 0 0 0 0]\n",
      "Vanilla Validation Accuracy: 71.43%\n",
      "Vanilla F1-score: 0.60\n",
      "Vanilla Precision Score: 0.51\n",
      "Vanilla Recall Score: 0.71\n",
      "Vanilla ROC-AUC Score: 0.50\n",
      "\n",
      "\n",
      "Best Score: 0.8479\n",
      "Vanilla Train Accuracy: 84.7896%\n",
      "[0 0 0 0 0 0 0 0 0 0 0 0 0 0]\n",
      "[0 0 1 0 0 0 0 0 0 0 1 0 0 0]\n",
      "Vanilla Validation Accuracy: 85.71%\n",
      "Vanilla F1-score: 0.79\n",
      "Vanilla Precision Score: 0.73\n",
      "Vanilla Recall Score: 0.86\n",
      "Vanilla ROC-AUC Score: 0.50\n",
      "\n",
      "\n",
      "Best Score: 0.8673\n",
      "Vanilla Train Accuracy: 86.7314%\n",
      "[0 0 0 0 0 0 0 0 0 0 0 0 0 0]\n",
      "[0 0 0 0 0 0 0 0 0 0 0 0 1 0]\n",
      "Vanilla Validation Accuracy: 92.86%\n",
      "Vanilla F1-score: 0.89\n",
      "Vanilla Precision Score: 0.86\n",
      "Vanilla Recall Score: 0.93\n",
      "Vanilla ROC-AUC Score: 0.50\n"
     ]
    },
    {
     "data": {
      "image/png": "[encoded data removed]",
      "text/plain": [
       "<Figure size 432x288 with 2 Axes>"
      ]
     },
     "metadata": {
      "needs_background": "light"
     },
     "output_type": "display_data"
    },
    {
     "data": {
      "image/png": "[encoded data removed]",
      "text/plain": [
       "<Figure size 432x288 with 2 Axes>"
      ]
     },
     "metadata": {
      "needs_background": "light"
     },
     "output_type": "display_data"
    },
    {
     "data": {
      "image/png": "[encoded data removed]",
      "text/plain": [
       "<Figure size 432x288 with 2 Axes>"
      ]
     },
     "metadata": {
      "needs_background": "light"
     },
     "output_type": "display_data"
    },
    {
     "data": {
      "image/png": "[encoded data removed]",
      "text/plain": [
       "<Figure size 432x288 with 2 Axes>"
      ]
     },
     "metadata": {
      "needs_background": "light"
     },
     "output_type": "display_data"
    },
    {
     "data": {
      "image/png": "[encoded data removed]",
      "text/plain": [
       "<Figure size 432x288 with 2 Axes>"
      ]
     },
     "metadata": {
      "needs_background": "light"
     },
     "output_type": "display_data"
    },
    {
     "data": {
      "image/png": "[encoded data removed]",
      "text/plain": [
       "<Figure size 432x288 with 2 Axes>"
      ]
     },
     "metadata": {
      "needs_background": "light"
     },
     "output_type": "display_data"
    }
   ],
   "source": [
    "vanilla_rules = []\n",
    "for i in range(0,6):\n",
    "    if(i > 0):\n",
    "        print()\n",
    "        print()\n",
    "    vanilla_rules = extract_ruleset(\n",
    "        vanilla_rules,x_train,ovr_train[i],x_val,ovr_val[i],rscv,features,\\\n",
    "        themes,\"Vanilla\",itr_count=i\n",
    "    )"
   ]
  },
  {
   "cell_type": "code",
   "execution_count": 8,
   "metadata": {
    "scrolled": true
   },
   "outputs": [],
   "source": [
    "vanilla_rules_sorted = []\n",
    "for i in vanilla_rules:\n",
    "    vanilla_rules_sorted.append(sorted(i, key = cmp_to_key(comp_func)))"
   ]
  },
  {
   "cell_type": "code",
   "execution_count": 9,
   "metadata": {
    "scrolled": true
   },
   "outputs": [
    {
     "name": "stdout",
     "output_type": "stream",
     "text": [
      "MODEL NUMBER  1 :\n",
      "RULE NUMBER  1 :\n",
      " Derivative of Running Mean of Partial Based Spectral Flux Overall Average > 0.0600 -> notCalm\n",
      "    confidence: 0.20\n",
      "    lift: 0.22\n",
      "    interestingness: 3.48\n",
      "    error(s):  27\n",
      "RULE NUMBER  2 :\n",
      " Derivative of Standard Deviation of Spectral Rolloff Point Overall Standard Deviation > 0.4900 ^  Derivative of Running Mean of Partial Based Spectral Flux Overall Average <= 0.0600 -> notCalm\n",
      "    confidence: 0.12\n",
      "    lift: 0.13\n",
      "    interestingness: 0.62\n",
      "    error(s):  4\n",
      "RULE NUMBER  3 :\n",
      " Derivative of Running Mean of Partial Based Spectral Centroid Overall Average <= 0.1900 ^  Derivative of Standard Deviation of Spectral Rolloff Point Overall Standard Deviation <= 0.4900 -> notCalm\n",
      "    confidence: 0.00\n",
      "    lift: 0.00\n",
      "    interestingness: 0.00\n",
      "    error(s):  0\n",
      "TOTAL MATCHES:  100.0 %\n",
      "\n",
      "MODEL NUMBER  1 :\n",
      "RULE NUMBER  1 :\n",
      " Standard Deviation of Compactness Overall Standard Deviation <= 0.2600 -> notCheerful\n",
      "    confidence: 0.86\n",
      "    lift: 0.77\n",
      "    interestingness: 10.39\n",
      "    error(s):  114\n",
      "RULE NUMBER  2 :\n",
      " Standard Deviation of Compactness Overall Standard Deviation > 0.2600 -> notCheerful\n",
      "    confidence: 0.78\n",
      "    lift: 0.69\n",
      "    interestingness: 8.89\n",
      "    error(s):  0\n",
      "TOTAL MATCHES:  100.0 %\n",
      "\n",
      "MODEL NUMBER  1 :\n",
      "RULE NUMBER  1 :\n",
      " Derivative of Standard Deviation of Compactness Overall Standard Deviation > 0.2100 -> notBravery\n",
      "    confidence: 1.00\n",
      "    lift: 0.90\n",
      "    interestingness: 14.57\n",
      "    error(s):  58\n",
      "RULE NUMBER  2 :\n",
      " Derivative of Partial Based Spectral Flux Overall Standard Deviation > 0.2400 -> notBravery\n",
      "    confidence: 1.00\n",
      "    lift: 0.90\n",
      "    interestingness: 5.91\n",
      "    error(s):  54\n",
      "RULE NUMBER  3 :\n",
      " Derivative of Partial Based Spectral Centroid Overall Standard Deviation > 0.0500 ^  Derivative of Partial Based Spectral Flux Overall Standard Deviation <= 0.2400 -> notBravery\n",
      "    confidence: 1.00\n",
      "    lift: 0.90\n",
      "    interestingness: 9.84\n",
      "    error(s):  31\n",
      "RULE NUMBER  4 :\n",
      " Zero Crossings Overall Average > 0.9500 ^  Running Mean of Spectral Rolloff Point Overall Average <= 0.6200 ^  Derivative of Running Mean of Partial Based Spectral Centroid Overall Average <= 0.8600 ^  Derivative of Partial Based Spectral Flux Overall Standard Deviation <= 0.2600 ^  Derivative of Partial Based Spectral Centroid Overall Standard Deviation <= 0.0500 ^  Derivative of Standard Deviation of Compactness Overall Standard Deviation <= 0.2100 -> notBravery\n",
      "    confidence: 1.00\n",
      "    lift: 0.90\n",
      "    interestingness: 5.91\n",
      "    error(s):  0\n",
      "TOTAL MATCHES:  100.0 %\n",
      "\n",
      "MODEL NUMBER  1 :\n",
      "RULE NUMBER  1 :\n",
      " Derivative of Running Mean of Partial Based Spectral Flux Overall Average > 0.2800 -> notFearful\n",
      "    confidence: 1.00\n",
      "    lift: 1.02\n",
      "    interestingness: 12.67\n",
      "    error(s):  127\n",
      "RULE NUMBER  2 :\n",
      " IsMinor > 0.5000 -> notFearful\n",
      "    confidence: 1.00\n",
      "    lift: 1.02\n",
      "    interestingness: 12.05\n",
      "    error(s):  71\n",
      "RULE NUMBER  3 :\n",
      " IsMinor <= 0.5000 ^  Derivative of Running Mean of Partial Based Spectral Flux Overall Average <= 0.2800 -> notFearful\n",
      "    confidence: 1.00\n",
      "    lift: 1.02\n",
      "    interestingness: 8.88\n",
      "    error(s):  0\n",
      "TOTAL MATCHES:  100.0 %\n",
      "\n",
      "MODEL NUMBER  1 :\n",
      "RULE NUMBER  1 :\n",
      " Spectral Variability Overall Standard Deviation <= 0.2000 -> notLove\n",
      "    confidence: 1.00\n",
      "    lift: 0.83\n",
      "    interestingness: 10.56\n",
      "    error(s):  140\n",
      "RULE NUMBER  2 :\n",
      " Spectral Variability Overall Standard Deviation > 0.2000 -> notLove\n",
      "    confidence: 1.00\n",
      "    lift: 0.83\n",
      "    interestingness: 11.99\n",
      "    error(s):  0\n",
      "TOTAL MATCHES:  100.0 %\n",
      "\n",
      "MODEL NUMBER  1 :\n",
      "RULE NUMBER  1 :\n",
      " IsMinor <= 0.1000 -> notSadness\n",
      "    confidence: 1.00\n",
      "    lift: 0.85\n",
      "    interestingness: 11.94\n",
      "    error(s):  118\n",
      "RULE NUMBER  2 :\n",
      " IsMinor > 0.1000 -> notSadness\n",
      "    confidence: 1.00\n",
      "    lift: 0.85\n",
      "    interestingness: 11.01\n",
      "    error(s):  0\n",
      "TOTAL MATCHES:  100.0 %\n",
      "\n"
     ]
    }
   ],
   "source": [
    "classifiers = []\n",
    "index = 0\n",
    "for i in vanilla_rules_sorted:\n",
    "    cls, acc = eval_rules(i, x_train, ovr_train[index]) \n",
    "    classifiers.append((cls, acc))\n",
    "    index+=1\n",
    "model = 0\n",
    "vanilla_clsfs = []\n",
    "for i in vanilla_rules_sorted:\n",
    "    accuracy = classifiers[model][1]\n",
    "    vanilla_clsfs.append(remove_unnecessary_rules(i, accuracy, x_train, ovr_train[model]))\n",
    "    model+=1\n",
    "print_classifiers(vanilla_clsfs, len(x_train))"
   ]
  },
  {
   "cell_type": "code",
   "execution_count": 10,
   "metadata": {
    "scrolled": true
   },
   "outputs": [],
   "source": [
    "vanilla_val_mod = []\n",
    "for mod in vanilla_clsfs:\n",
    "    vmod = []\n",
    "    for i in mod[0]:\n",
    "        vmod.append(i[0])\n",
    "    vanilla_val_mod.append(vmod)"
   ]
  },
  {
   "cell_type": "code",
   "execution_count": 11,
   "metadata": {},
   "outputs": [],
   "source": [
    "index = 0\n",
    "preds = []\n",
    "for val in vanilla_val_mod:\n",
    "    pred = predict_ovr(val, x_val, ovr_val[index])\n",
    "    preds.append(pred)"
   ]
  },
  {
   "cell_type": "code",
   "execution_count": 31,
   "metadata": {
    "scrolled": false
   },
   "outputs": [
    {
     "name": "stdout",
     "output_type": "stream",
     "text": [
      "isCalm  ACCURACY:\n",
      "0.5\n",
      "F1 SCORE:  0.0\n",
      "Precision Score: 0.45\n",
      "Recall Score: 0.50\n",
      "ROC-AUC Score: 0.35\n",
      "\n",
      "isCheerful  ACCURACY:\n",
      "0.42857142857142855\n",
      "F1 SCORE:  0.0\n",
      "Precision Score: 0.64\n",
      "Recall Score: 0.43\n",
      "ROC-AUC Score: 0.25\n",
      "\n",
      "isBravery  ACCURACY:\n",
      "0.14285714285714285\n",
      "F1 SCORE:  0.14285714285714288\n",
      "Precision Score: 0.93\n",
      "Recall Score: 0.14\n",
      "ROC-AUC Score: 0.54\n",
      "\n",
      "isFearful  ACCURACY:\n",
      "0.2857142857142857\n",
      "F1 SCORE:  0.4444444444444445\n",
      "Precision Score: 0.08\n",
      "Recall Score: 0.29\n",
      "ROC-AUC Score: 0.50\n",
      "\n",
      "isLove  ACCURACY:\n",
      "0.7142857142857143\n",
      "F1 SCORE:  0.3333333333333333\n",
      "Precision Score: 0.81\n",
      "Recall Score: 0.71\n",
      "ROC-AUC Score: 0.62\n",
      "\n",
      "isSadness  ACCURACY:\n",
      "0.7142857142857143\n",
      "F1 SCORE:  0.0\n",
      "Precision Score: 0.84\n",
      "Recall Score: 0.71\n",
      "ROC-AUC Score: 0.38\n",
      "\n"
     ]
    }
   ],
   "source": [
    "ovr = [\"isCalm\",\"isCheerful\",\"isBravery\",\"isFearful\",\"isLove\",\"isSadness\"]\n",
    "for i in range(0, len(preds)):\n",
    "    print(ovr[i], \" ACCURACY:\")\n",
    "    compute_accuracy(preds[i], ovr_val[i])\n",
    "    f1 = f1_score(ovr_val[i], preds[i])\n",
    "    Prec_Score = precision_score(ovr_val[i], preds[i], average='weighted')\n",
    "    Rec_Score = recall_score(ovr_val[i], preds[i], average='weighted')\n",
    "    RA_Score = roc_auc_score(ovr_val[i], preds[i], average='weighted')\n",
    "    print(\"F1 SCORE: \", f1)\n",
    "    print(\"Precision Score: {:.2f}\".format(Prec_Score))\n",
    "    print(\"Recall Score: {:.2f}\".format(Rec_Score))\n",
    "    print(\"ROC-AUC Score: {:.2f}\".format(RA_Score))\n",
    "    print()"
   ]
  },
  {
   "cell_type": "code",
   "execution_count": 13,
   "metadata": {
    "scrolled": true
   },
   "outputs": [
    {
     "name": "stdout",
     "output_type": "stream",
     "text": [
      "Best Score: 0.6852\n",
      "Random Oversampling Train Accuracy: 84.0637%\n",
      "[1 1 0 0 0 0 0 0 0 1 0 0 0 0]\n",
      "[0 0 0 1 0 1 0 1 0 0 0 1 0 0]\n",
      "Random Oversampling Validation Accuracy: 50.00%\n",
      "Random Oversampling F1-score: 0.48\n",
      "Random Oversampling Precision Score: 0.45\n",
      "Random Oversampling Recall Score: 0.50\n",
      "Random Oversampling ROC-AUC Score: 0.35\n",
      "\n",
      "\n",
      "Best Score: 0.7008\n",
      "Random Oversampling Train Accuracy: 89.9606%\n",
      "[1 0 0 1 0 0 0 1 0 0 0 0 0 0]\n",
      "[0 0 0 0 1 0 0 0 1 0 0 0 0 0]\n",
      "Random Oversampling Validation Accuracy: 64.29%\n",
      "Random Oversampling F1-score: 0.67\n",
      "Random Oversampling Precision Score: 0.70\n",
      "Random Oversampling Recall Score: 0.64\n",
      "Random Oversampling ROC-AUC Score: 0.38\n",
      "\n",
      "\n",
      "Best Score: 0.6811\n",
      "Random Oversampling Train Accuracy: 79.8507%\n",
      "[0 1 0 0 1 0 1 0 0 0 0 0 0 0]\n",
      "[0 0 0 0 0 0 0 0 0 0 0 0 0 1]\n",
      "Random Oversampling Validation Accuracy: 71.43%\n",
      "Random Oversampling F1-score: 0.77\n",
      "Random Oversampling Precision Score: 0.84\n",
      "Random Oversampling Recall Score: 0.71\n",
      "Random Oversampling ROC-AUC Score: 0.38\n",
      "\n",
      "\n",
      "Best Score: 0.6467\n",
      "Random Oversampling Train Accuracy: 71.6942%\n",
      "[1 0 0 0 0 0 1 1 1 0 0 0 1 1]\n",
      "[1 1 0 0 0 0 1 0 0 1 0 0 0 0]\n",
      "Random Oversampling Validation Accuracy: 57.14%\n",
      "Random Oversampling F1-score: 0.59\n",
      "Random Oversampling Precision Score: 0.63\n",
      "Random Oversampling Recall Score: 0.57\n",
      "Random Oversampling ROC-AUC Score: 0.55\n",
      "\n",
      "\n",
      "Best Score: 0.7595\n",
      "Random Oversampling Train Accuracy: 87.0229%\n",
      "[0 0 1 0 0 0 1 1 0 0 1 0 1 0]\n",
      "[0 0 1 0 0 0 0 0 0 0 1 0 0 0]\n",
      "Random Oversampling Validation Accuracy: 78.57%\n",
      "Random Oversampling F1-score: 0.82\n",
      "Random Oversampling Precision Score: 0.91\n",
      "Random Oversampling Recall Score: 0.79\n",
      "Random Oversampling ROC-AUC Score: 0.88\n",
      "\n",
      "\n",
      "Best Score: 0.7518\n",
      "Random Oversampling Train Accuracy: 93.4701%\n",
      "[0 0 0 0 0 0 1 0 0 0 0 0 1 0]\n",
      "[0 0 0 0 0 0 0 0 0 0 0 0 1 0]\n",
      "Random Oversampling Validation Accuracy: 92.86%\n",
      "Random Oversampling F1-score: 0.94\n",
      "Random Oversampling Precision Score: 0.96\n",
      "Random Oversampling Recall Score: 0.93\n",
      "Random Oversampling ROC-AUC Score: 0.96\n"
     ]
    },
    {
     "data": {
      "image/png": "[encoded data removed]",
      "text/plain": [
       "<Figure size 432x288 with 2 Axes>"
      ]
     },
     "metadata": {
      "needs_background": "light"
     },
     "output_type": "display_data"
    },
    {
     "data": {
      "image/png": "[encoded data removed]",
      "text/plain": [
       "<Figure size 432x288 with 2 Axes>"
      ]
     },
     "metadata": {
      "needs_background": "light"
     },
     "output_type": "display_data"
    },
    {
     "data": {
      "image/png": "[encoded data removed]",
      "text/plain": [
       "<Figure size 432x288 with 2 Axes>"
      ]
     },
     "metadata": {
      "needs_background": "light"
     },
     "output_type": "display_data"
    },
    {
     "data": {
      "image/png": "[encoded data removed]",
      "text/plain": [
       "<Figure size 432x288 with 2 Axes>"
      ]
     },
     "metadata": {
      "needs_background": "light"
     },
     "output_type": "display_data"
    },
    {
     "data": {
      "image/png": "[encoded data removed]",
      "text/plain": [
       "<Figure size 432x288 with 2 Axes>"
      ]
     },
     "metadata": {
      "needs_background": "light"
     },
     "output_type": "display_data"
    },
    {
     "data": {
      "image/png": "[encoded data removed]",
      "text/plain": [
       "<Figure size 432x288 with 2 Axes>"
      ]
     },
     "metadata": {
      "needs_background": "light"
     },
     "output_type": "display_data"
    }
   ],
   "source": [
    "os_rules = []\n",
    "for i in range(0,6):\n",
    "    if(i > 0):\n",
    "        print()\n",
    "        print()\n",
    "    os_rules = extract_ruleset(\n",
    "        os_rules,x_oss[i],ovr_y_os[i],x_val,ovr_val[i],rscv,features,\\\n",
    "        themes,\"Random Oversampling\",itr_count=i\n",
    "    )"
   ]
  },
  {
   "cell_type": "code",
   "execution_count": 14,
   "metadata": {},
   "outputs": [],
   "source": [
    "os_rules_sorted = []\n",
    "for i in os_rules:\n",
    "    os_rules_sorted.append(sorted(i, key = cmp_to_key(comp_func)))"
   ]
  },
  {
   "cell_type": "code",
   "execution_count": 15,
   "metadata": {
    "scrolled": true
   },
   "outputs": [
    {
     "name": "stdout",
     "output_type": "stream",
     "text": [
      "MODEL NUMBER  1 :\n",
      "RULE NUMBER  1 :\n",
      " Derivative of Standard Deviation of Compactness Overall Standard Deviation > 0.2300 ^  Derivative of Fraction Of Low Energy Windows Overall Standard Deviation <= 0.5200 ^  Derivative of Running Mean of Fraction Of Low Energy Windows Overall Standard Deviation <= 0.4100 ^  Derivative of Compactness Overall Standard Deviation <= 0.2100 -> isCalm\n",
      "    confidence: 0.32\n",
      "    lift: 1.27\n",
      "    interestingness: 5.64\n",
      "    error(s):  197\n",
      "RULE NUMBER  2 :\n",
      " Derivative of Running Mean of LPC Overall Average <= 0.1900 ^  FFT Bin Frequency Labels Overall Average <= 0.6900 ^  Spectral Variability Overall Standard Deviation <= 0.1000 -> notCalm\n",
      "    confidence: 0.18\n",
      "    lift: 0.33\n",
      "    interestingness: 1.15\n",
      "    error(s):  0\n",
      "TOTAL MATCHES:  93.65671641791045 %\n",
      "\n",
      "MODEL NUMBER  1 :\n",
      "RULE NUMBER  1 :\n",
      " Standard Deviation of Compactness Overall Standard Deviation > 0.4400 ^  Standard Deviation of Compactness Overall Standard Deviation <= 0.5300 -> notCheerful\n",
      "    confidence: 0.45\n",
      "    lift: 0.66\n",
      "    interestingness: 3.55\n",
      "    error(s):  235\n",
      "RULE NUMBER  2 :\n",
      " Derivative of Fraction Of Low Energy Windows Overall Standard Deviation > 0.5200 ^  Derivative of Fraction Of Low Energy Windows Overall Standard Deviation <= 0.6000 ^  Power Spectrum Overall Average <= 0.3800 -> isCheerful\n",
      "    confidence: 0.23\n",
      "    lift: 2.13\n",
      "    interestingness: 4.38\n",
      "    error(s):  0\n",
      "TOTAL MATCHES:  94.77611940298507 %\n",
      "\n",
      "MODEL NUMBER  1 :\n",
      "RULE NUMBER  1 :\n",
      " Power Spectrum Overall Average <= 0.2600 ^  Standard Deviation of Zero Crossings Overall Average <= 0.7800 ^  Derivative of Running Mean of Fraction Of Low Energy Windows Overall Standard Deviation <= 0.4100 ^  Root Mean Square Overall Standard Deviation <= 0.2400 ^  Derivative of Standard Deviation of Root Mean Square Overall Standard Deviation <= 0.1400 -> notBravery\n",
      "    confidence: 1.00\n",
      "    lift: 1.55\n",
      "    interestingness: 8.17\n",
      "    error(s):  245\n",
      "RULE NUMBER  2 :\n",
      " Power Spectrum Overall Standard Deviation > 0.3100 ^  Derivative of Standard Deviation of Fraction Of Low Energy Windows Overall Standard Deviation <= 0.2800 ^  Root Mean Square Overall Standard Deviation <= 0.1100 -> isBravery\n",
      "    confidence: 0.00\n",
      "    lift: 0.00\n",
      "    interestingness: 0.00\n",
      "    error(s):  0\n",
      "TOTAL MATCHES:  100.0 %\n",
      "\n",
      "MODEL NUMBER  1 :\n",
      "RULE NUMBER  1 :\n",
      " Derivative of Running Mean of LPC Overall Average > 0.2700 ^  Running Mean of Compactness Overall Standard Deviation <= 0.3900 ^  Derivative of Standard Deviation of Fraction Of Low Energy Windows Overall Standard Deviation <= 0.2900 -> notFearful\n",
      "    confidence: 1.00\n",
      "    lift: 1.60\n",
      "    interestingness: 12.14\n",
      "    error(s):  197\n",
      "RULE NUMBER  2 :\n",
      " FFT Bin Frequency Labels Overall Standard Deviation > 0.2800 ^  Derivative of Running Mean of Partial Based Spectral Centroid Overall Average <= 0.0800 -> isFearful\n",
      "    confidence: 0.00\n",
      "    lift: 0.00\n",
      "    interestingness: 0.00\n",
      "    error(s):  0\n",
      "TOTAL MATCHES:  90.29850746268657 %\n",
      "\n",
      "MODEL NUMBER  1 :\n",
      "RULE NUMBER  1 :\n",
      " Derivative of Running Mean of Spectral Rolloff Point Overall Standard Deviation > 0.3700 -> isLove\n",
      "    confidence: 0.00\n",
      "    lift: 0.00\n",
      "    interestingness: 0.00\n",
      "    error(s):  45\n",
      "RULE NUMBER  2 :\n",
      " Derivative of Running Mean of LPC Overall Average > 0.0700 ^  Derivative of Running Mean of Spectral Rolloff Point Overall Standard Deviation <= 0.3700 -> isLove\n",
      "    confidence: 0.00\n",
      "    lift: 0.00\n",
      "    interestingness: 0.00\n",
      "    error(s):  6\n",
      "RULE NUMBER  3 :\n",
      " Derivative of Fraction Of Low Energy Windows Overall Standard Deviation > 0.4100 ^  Derivative of Running Mean of LPC Overall Average <= 0.1300 ^  Derivative of Running Mean of LPC Overall Average <= 0.0700 -> isLove\n",
      "    confidence: 0.00\n",
      "    lift: 0.00\n",
      "    interestingness: 0.00\n",
      "    error(s):  0\n",
      "TOTAL MATCHES:  97.76119402985076 %\n",
      "\n",
      "MODEL NUMBER  1 :\n",
      "RULE NUMBER  1 :\n",
      " FFT Bin Frequency Labels Overall Average > 0.6300 -> isSadness\n",
      "    confidence: 0.00\n",
      "    lift: 0.00\n",
      "    interestingness: 0.00\n",
      "    error(s):  191\n",
      "RULE NUMBER  2 :\n",
      " Power Spectrum Overall Average > 0.1700 -> isSadness\n",
      "    confidence: 0.00\n",
      "    lift: 0.00\n",
      "    interestingness: 0.00\n",
      "    error(s):  23\n",
      "RULE NUMBER  3 :\n",
      " Derivative of Root Mean Square Overall Average > 0.5300 -> isSadness\n",
      "    confidence: 0.00\n",
      "    lift: 0.00\n",
      "    interestingness: 0.00\n",
      "    error(s):  13\n",
      "RULE NUMBER  4 :\n",
      " Derivative of Running Mean of LPC Overall Average > 0.1500 ^  FFT Bin Frequency Labels Overall Average <= 0.6300 ^  Standard Deviation of Zero Crossings Overall Average <= 0.4700 ^  Derivative of Compactness Overall Standard Deviation <= 0.2300 -> isSadness\n",
      "    confidence: 0.00\n",
      "    lift: 0.00\n",
      "    interestingness: 0.00\n",
      "    error(s):  6\n",
      "RULE NUMBER  5 :\n",
      " Derivative of Partial Based Spectral Centroid Overall Standard Deviation > 0.0100 ^  Derivative of Running Mean of LPC Overall Average <= 0.2300 ^  Fraction Of Low Energy Windows Overall Standard Deviation <= 0.4300 ^  Derivative of Partial Based Spectral Centroid Overall Standard Deviation <= 0.0200 -> isSadness\n",
      "    confidence: 0.00\n",
      "    lift: 0.00\n",
      "    interestingness: 0.00\n",
      "    error(s):  0\n",
      "TOTAL MATCHES:  100.0 %\n",
      "\n"
     ]
    }
   ],
   "source": [
    "os_classifiers = []\n",
    "index = 0\n",
    "for i in os_rules_sorted:\n",
    "    cls, acc = eval_rules(i, x_oss[index],ovr_y_os[index]) \n",
    "    os_classifiers.append((cls, acc))\n",
    "    index+=1\n",
    "model = 0\n",
    "os_clsfs = []\n",
    "for i in os_rules_sorted:\n",
    "    accuracy = os_classifiers[model][1]\n",
    "    os_clsfs.append(remove_unnecessary_rules(i, accuracy, x_oss[model],ovr_y_os[model]))\n",
    "    model+=1\n",
    "print_classifiers(os_clsfs, len(x_os))"
   ]
  },
  {
   "cell_type": "code",
   "execution_count": 16,
   "metadata": {
    "scrolled": true
   },
   "outputs": [],
   "source": [
    "os_val_mod = []\n",
    "for mod in os_clsfs:\n",
    "    vmod = []\n",
    "    for i in mod[0]:\n",
    "        vmod.append(i[0])\n",
    "    os_val_mod.append(vmod)"
   ]
  },
  {
   "cell_type": "code",
   "execution_count": 17,
   "metadata": {},
   "outputs": [],
   "source": [
    "index = 0\n",
    "preds = []\n",
    "for val in os_val_mod:\n",
    "    pred = predict_ovr(val, x_val, ovr_val[index])\n",
    "    preds.append(pred)"
   ]
  },
  {
   "cell_type": "code",
   "execution_count": 32,
   "metadata": {},
   "outputs": [
    {
     "name": "stdout",
     "output_type": "stream",
     "text": [
      "isCalm  Oversampling ACCURACY:\n",
      "0.5\n",
      "F1 SCORE:  0.0\n",
      "Precision Score: 0.45\n",
      "Recall Score: 0.50\n",
      "ROC-AUC Score: 0.35\n",
      "\n",
      "isCheerful  Oversampling ACCURACY:\n",
      "0.42857142857142855\n",
      "F1 SCORE:  0.0\n",
      "Precision Score: 0.64\n",
      "Recall Score: 0.43\n",
      "ROC-AUC Score: 0.25\n",
      "\n",
      "isBravery  Oversampling ACCURACY:\n",
      "0.14285714285714285\n",
      "F1 SCORE:  0.14285714285714288\n",
      "Precision Score: 0.93\n",
      "Recall Score: 0.14\n",
      "ROC-AUC Score: 0.54\n",
      "\n",
      "isFearful  Oversampling ACCURACY:\n",
      "0.2857142857142857\n",
      "F1 SCORE:  0.4444444444444445\n",
      "Precision Score: 0.08\n",
      "Recall Score: 0.29\n",
      "ROC-AUC Score: 0.50\n",
      "\n",
      "isLove  Oversampling ACCURACY:\n",
      "0.7142857142857143\n",
      "F1 SCORE:  0.3333333333333333\n",
      "Precision Score: 0.81\n",
      "Recall Score: 0.71\n",
      "ROC-AUC Score: 0.62\n",
      "\n",
      "isSadness  Oversampling ACCURACY:\n",
      "0.7142857142857143\n",
      "F1 SCORE:  0.0\n",
      "Precision Score: 0.84\n",
      "Recall Score: 0.71\n",
      "ROC-AUC Score: 0.38\n",
      "\n"
     ]
    }
   ],
   "source": [
    "ovr = [\"isCalm\",\"isCheerful\",\"isBravery\",\"isFearful\",\"isLove\",\"isSadness\"]\n",
    "for i in range(0, len(preds)):\n",
    "    print(ovr[i], \" Oversampling ACCURACY:\")\n",
    "    compute_accuracy(preds[i], ovr_val[i])\n",
    "    f1 = f1_score(ovr_val[i], preds[i])\n",
    "    Prec_Score = precision_score(ovr_val[i], preds[i], average='weighted')\n",
    "    Rec_Score = recall_score(ovr_val[i], preds[i], average='weighted')\n",
    "    RA_Score = roc_auc_score(ovr_val[i], preds[i], average='weighted')\n",
    "    print(\"F1 SCORE: \", f1)\n",
    "    print(\"Precision Score: {:.2f}\".format(Prec_Score))\n",
    "    print(\"Recall Score: {:.2f}\".format(Rec_Score))\n",
    "    print(\"ROC-AUC Score: {:.2f}\".format(RA_Score))\n",
    "    print()"
   ]
  },
  {
   "cell_type": "code",
   "execution_count": 19,
   "metadata": {
    "scrolled": true
   },
   "outputs": [
    {
     "name": "stdout",
     "output_type": "stream",
     "text": [
      "Best Score: 0.6992\n",
      "SMOTE Train Accuracy: 82.0717%\n",
      "[0 0 0 0 0 1 1 0 0 0 0 0 0 0]\n",
      "[0 0 0 1 0 1 0 1 0 0 0 1 0 0]\n",
      "SMOTE Validation Accuracy: 71.43%\n",
      "SMOTE F1-score: 0.68\n",
      "SMOTE Precision Score: 0.68\n",
      "SMOTE Recall Score: 0.71\n",
      "SMOTE ROC-AUC Score: 0.57\n",
      "\n",
      "\n",
      "Best Score: 0.6714\n",
      "SMOTE Train Accuracy: 67.7165%\n",
      "[0 1 0 0 0 0 0 0 0 0 0 0 0 0]\n",
      "[0 0 0 0 1 0 0 0 1 0 0 0 0 0]\n",
      "SMOTE Validation Accuracy: 78.57%\n",
      "SMOTE F1-score: 0.75\n",
      "SMOTE Precision Score: 0.73\n",
      "SMOTE Recall Score: 0.79\n",
      "SMOTE ROC-AUC Score: 0.46\n",
      "\n",
      "\n",
      "Best Score: 0.6922\n",
      "SMOTE Train Accuracy: 82.8358%\n",
      "[0 0 1 0 0 1 0 0 0 0 0 1 1 0]\n",
      "[0 0 0 0 0 0 0 0 0 0 0 0 0 1]\n",
      "SMOTE Validation Accuracy: 64.29%\n",
      "SMOTE F1-score: 0.73\n",
      "SMOTE Precision Score: 0.84\n",
      "SMOTE Recall Score: 0.64\n",
      "SMOTE ROC-AUC Score: 0.35\n",
      "\n",
      "\n",
      "Best Score: 0.6447\n",
      "SMOTE Train Accuracy: 72.3140%\n",
      "[1 1 0 0 0 0 1 0 1 1 0 1 0 0]\n",
      "[1 1 0 0 0 0 1 0 0 1 0 0 0 0]\n",
      "SMOTE Validation Accuracy: 85.71%\n",
      "SMOTE F1-score: 0.86\n",
      "SMOTE Precision Score: 0.90\n",
      "SMOTE Recall Score: 0.86\n",
      "SMOTE ROC-AUC Score: 0.90\n",
      "\n",
      "\n",
      "Best Score: 0.6871\n",
      "SMOTE Train Accuracy: 80.3435%\n",
      "[0 1 1 0 0 0 0 1 0 0 0 0 1 0]\n",
      "[0 0 1 0 0 0 0 0 0 0 1 0 0 0]\n",
      "SMOTE Validation Accuracy: 71.43%\n",
      "SMOTE F1-score: 0.75\n",
      "SMOTE Precision Score: 0.81\n",
      "SMOTE Recall Score: 0.71\n",
      "SMOTE ROC-AUC Score: 0.62\n",
      "\n",
      "\n",
      "Best Score: 0.6792\n",
      "SMOTE Train Accuracy: 77.6119%\n",
      "[0 0 1 1 0 0 0 1 1 0 1 1 0 0]\n",
      "[0 0 0 0 0 0 0 0 0 0 0 0 1 0]\n",
      "SMOTE Validation Accuracy: 50.00%\n",
      "SMOTE F1-score: 0.62\n",
      "SMOTE Precision Score: 0.81\n",
      "SMOTE Recall Score: 0.50\n",
      "SMOTE ROC-AUC Score: 0.27\n"
     ]
    },
    {
     "data": {
      "image/png": "[encoded data removed]",
      "text/plain": [
       "<Figure size 432x288 with 2 Axes>"
      ]
     },
     "metadata": {
      "needs_background": "light"
     },
     "output_type": "display_data"
    },
    {
     "data": {
      "image/png": "[encoded data removed]",
      "text/plain": [
       "<Figure size 432x288 with 2 Axes>"
      ]
     },
     "metadata": {
      "needs_background": "light"
     },
     "output_type": "display_data"
    },
    {
     "data": {
      "image/png": "[encoded data removed]",
      "text/plain": [
       "<Figure size 432x288 with 2 Axes>"
      ]
     },
     "metadata": {
      "needs_background": "light"
     },
     "output_type": "display_data"
    },
    {
     "data": {
      "image/png": "[encoded data removed]",
      "text/plain": [
       "<Figure size 432x288 with 2 Axes>"
      ]
     },
     "metadata": {
      "needs_background": "light"
     },
     "output_type": "display_data"
    },
    {
     "data": {
      "image/png": "[encoded data removed]",
      "text/plain": [
       "<Figure size 432x288 with 2 Axes>"
      ]
     },
     "metadata": {
      "needs_background": "light"
     },
     "output_type": "display_data"
    },
    {
     "data": {
      "image/png": "[encoded data removed]",
      "text/plain": [
       "<Figure size 432x288 with 2 Axes>"
      ]
     },
     "metadata": {
      "needs_background": "light"
     },
     "output_type": "display_data"
    }
   ],
   "source": [
    "smote_rules = []\n",
    "for i in range(0,6):\n",
    "    if(i > 0):\n",
    "        print()\n",
    "        print()\n",
    "    smote_rules = extract_ruleset(\n",
    "        smote_rules,x_smotes[i],ovr_y_smote[i],x_val,ovr_val[i],rscv,features,\\\n",
    "        themes,\"SMOTE\",itr_count=i\n",
    "    )"
   ]
  },
  {
   "cell_type": "code",
   "execution_count": 20,
   "metadata": {},
   "outputs": [],
   "source": [
    "smote_rules_sorted = []\n",
    "for i in smote_rules:\n",
    "    smote_rules_sorted.append(sorted(i, key = cmp_to_key(comp_func)))"
   ]
  },
  {
   "cell_type": "code",
   "execution_count": 21,
   "metadata": {},
   "outputs": [
    {
     "name": "stdout",
     "output_type": "stream",
     "text": [
      "MODEL NUMBER  1 :\n",
      "RULE NUMBER  1 :\n",
      " Derivative of Standard Deviation of Spectral Rolloff Point Overall Standard Deviation > 0.2500 ^  Derivative of Running Mean of LPC Overall Average <= 0.3900 ^  Derivative of Spectral Flux Overall Standard Deviation <= 0.2500 ^  Running Mean of Spectral Centroid Overall Average <= 0.1300 ^  Running Mean of Spectral Rolloff Point Overall Average <= 0.2600 ^  Running Mean of Compactness Overall Standard Deviation <= 0.1400 -> isCalm\n",
      "    confidence: 0.29\n",
      "    lift: 1.18\n",
      "    interestingness: 4.47\n",
      "    error(s):  210\n",
      "RULE NUMBER  2 :\n",
      " Derivative of Running Mean of Partial Based Spectral Centroid Overall Average > 0.1900 ^  Derivative of Standard Deviation of Fraction Of Low Energy Windows Overall Standard Deviation <= 0.4600 ^  Standard Deviation of Zero Crossings Overall Standard Deviation <= 0.1700 -> notCalm\n",
      "    confidence: 0.00\n",
      "    lift: 0.00\n",
      "    interestingness: 0.00\n",
      "    error(s):  0\n",
      "TOTAL MATCHES:  93.65671641791045 %\n",
      "\n",
      "MODEL NUMBER  1 :\n",
      "RULE NUMBER  1 :\n",
      " Derivative of Standard Deviation of Compactness Overall Standard Deviation > 0.1800 ^  Running Mean of Spectral Variability Overall Average <= 0.6800 ^  Derivative of Compactness Overall Standard Deviation <= 0.1600 -> notCheerful\n",
      "    confidence: 0.59\n",
      "    lift: 0.86\n",
      "    interestingness: 6.16\n",
      "    error(s):  210\n",
      "RULE NUMBER  2 :\n",
      " Derivative of Running Mean of Partial Based Spectral Centroid Overall Average > 0.1100 ^  FFT Bin Frequency Labels Overall Standard Deviation <= 0.5400 -> isCheerful\n",
      "    confidence: 0.47\n",
      "    lift: 4.32\n",
      "    interestingness: 25.44\n",
      "    error(s):  0\n",
      "TOTAL MATCHES:  94.77611940298507 %\n",
      "\n",
      "MODEL NUMBER  1 :\n",
      "RULE NUMBER  1 :\n",
      " Derivative of Running Mean of Beat Sum Overall Standard Deviation > 0.0100 -> isBravery\n",
      "    confidence: 0.00\n",
      "    lift: 0.00\n",
      "    interestingness: 0.00\n",
      "    error(s):  41\n",
      "RULE NUMBER  2 :\n",
      " Derivative of Standard Deviation of Compactness Overall Standard Deviation > 0.2600 ^  FFT Bin Frequency Labels Overall Standard Deviation <= 0.2700 -> isBravery\n",
      "    confidence: 0.00\n",
      "    lift: 0.00\n",
      "    interestingness: 0.00\n",
      "    error(s):  24\n",
      "RULE NUMBER  3 :\n",
      " FFT Bin Frequency Labels Overall Standard Deviation > 0.2700 ^  Derivative of Running Mean of Beat Sum Overall Standard Deviation <= 0.0100 -> isBravery\n",
      "    confidence: 0.00\n",
      "    lift: 0.00\n",
      "    interestingness: 0.00\n",
      "    error(s):  0\n",
      "TOTAL MATCHES:  100.0 %\n",
      "\n",
      "MODEL NUMBER  1 :\n",
      "RULE NUMBER  1 :\n",
      " Derivative of Partial Based Spectral Flux Overall Standard Deviation > 0.0200 -> isFearful\n",
      "    confidence: 0.00\n",
      "    lift: 0.00\n",
      "    interestingness: 0.00\n",
      "    error(s):  83\n",
      "RULE NUMBER  2 :\n",
      " Power Spectrum Overall Average > 0.2600 -> isFearful\n",
      "    confidence: 0.00\n",
      "    lift: 0.00\n",
      "    interestingness: 0.00\n",
      "    error(s):  21\n",
      "RULE NUMBER  3 :\n",
      " Derivative of Running Mean of LPC Overall Average > 0.1500 -> isFearful\n",
      "    confidence: 0.00\n",
      "    lift: 0.00\n",
      "    interestingness: 0.00\n",
      "    error(s):  14\n",
      "RULE NUMBER  4 :\n",
      " Running Mean of Spectral Variability Overall Average > 0.2200 ^  Fraction Of Low Energy Windows Overall Average <= 0.3100 ^  Derivative of Partial Based Spectral Centroid Overall Standard Deviation <= 0.0500 -> isFearful\n",
      "    confidence: 0.00\n",
      "    lift: 0.00\n",
      "    interestingness: 0.00\n",
      "    error(s):  4\n",
      "RULE NUMBER  5 :\n",
      " IsMinor > 0.1000 ^  Derivative of Running Mean of Fraction Of Low Energy Windows Overall Standard Deviation <= 0.3500 ^  FFT Bin Frequency Labels Overall Standard Deviation <= 0.3100 ^  Derivative of Running Mean of Compactness Overall Standard Deviation <= 0.3300 ^  Derivative of Partial Based Spectral Flux Overall Standard Deviation <= 0.0200 -> isFearful\n",
      "    confidence: 0.00\n",
      "    lift: 0.00\n",
      "    interestingness: 0.00\n",
      "    error(s):  0\n",
      "TOTAL MATCHES:  90.29850746268657 %\n",
      "\n",
      "MODEL NUMBER  1 :\n",
      "RULE NUMBER  1 :\n",
      " Running Mean of Compactness Overall Standard Deviation <= 0.1800 ^  Derivative of Running Mean of Fraction Of Low Energy Windows Overall Standard Deviation <= 0.3400 ^  Spectral Variability Overall Standard Deviation <= 0.2800 ^  Derivative of Fraction Of Low Energy Windows Overall Standard Deviation <= 0.2500 -> notLove\n",
      "    confidence: 1.00\n",
      "    lift: 1.40\n",
      "    interestingness: 3.74\n",
      "    error(s):  255\n",
      "RULE NUMBER  2 :\n",
      " Power Spectrum Overall Standard Deviation > 0.1700 ^  Derivative of Running Mean of Root Mean Square Overall Standard Deviation <= 0.3200 ^  Derivative of Root Mean Square Overall Average <= 0.5200 ^  Spectral Rolloff Point Overall Average <= 0.2900 ^  IsMinor <= 0.5100 -> isLove\n",
      "    confidence: 0.00\n",
      "    lift: 0.00\n",
      "    interestingness: 0.00\n",
      "    error(s):  0\n",
      "TOTAL MATCHES:  97.76119402985076 %\n",
      "\n",
      "MODEL NUMBER  1 :\n",
      "RULE NUMBER  1 :\n",
      " IsMinor <= 0.1000 ^  Derivative of Spectral Flux Overall Standard Deviation <= 0.1300 ^  Derivative of Running Mean of Partial Based Spectral Centroid Overall Average <= 0.1600 ^  Root Mean Square Overall Standard Deviation <= 0.2200 -> notSadness\n",
      "    confidence: 1.00\n",
      "    lift: 1.48\n",
      "    interestingness: 5.71\n",
      "    error(s):  257\n",
      "RULE NUMBER  2 :\n",
      " Derivative of Running Mean of Beat Sum Overall Standard Deviation > 0.0100 ^  Derivative of Running Mean of LPC Overall Average <= 0.2400 ^  Standard Deviation of Compactness Overall Standard Deviation <= 0.3400 ^  Derivative of Running Mean of Partial Based Spectral Flux Overall Average <= 0.1600 -> isSadness\n",
      "    confidence: 0.00\n",
      "    lift: 0.00\n",
      "    interestingness: 0.00\n",
      "    error(s):  0\n",
      "TOTAL MATCHES:  100.0 %\n",
      "\n"
     ]
    }
   ],
   "source": [
    "smote_classifiers = []\n",
    "index = 0\n",
    "for i in smote_rules_sorted:\n",
    "    cls, acc = eval_rules(i, x_smotes[index],ovr_y_smote[index]) \n",
    "    smote_classifiers.append((cls, acc))\n",
    "    index+=1\n",
    "model = 0\n",
    "smote_clsfs = []\n",
    "for i in smote_rules_sorted:\n",
    "    accuracy = smote_classifiers[model][1]\n",
    "    smote_clsfs.append(remove_unnecessary_rules(i, accuracy,  x_smotes[model],ovr_y_smote[model]))\n",
    "    model+=1\n",
    "print_classifiers(smote_clsfs, len(x_smote))"
   ]
  },
  {
   "cell_type": "code",
   "execution_count": 22,
   "metadata": {},
   "outputs": [],
   "source": [
    "smote_val_mod = []\n",
    "for mod in smote_clsfs:\n",
    "    vmod = []\n",
    "    for i in mod[0]:\n",
    "        vmod.append(i[0])\n",
    "    smote_val_mod.append(vmod)"
   ]
  },
  {
   "cell_type": "code",
   "execution_count": 23,
   "metadata": {},
   "outputs": [],
   "source": [
    "index = 0\n",
    "preds = []\n",
    "for val in smote_val_mod:\n",
    "    pred = predict_ovr(val, x_val, ovr_val[index])\n",
    "    preds.append(pred)\n"
   ]
  },
  {
   "cell_type": "code",
   "execution_count": 33,
   "metadata": {},
   "outputs": [
    {
     "name": "stdout",
     "output_type": "stream",
     "text": [
      "isCalm  SMOTE ACCURACY:\n",
      "0.5\n",
      "F1 SCORE:  0.0\n",
      "Precision Score: 0.45\n",
      "Recall Score: 0.50\n",
      "ROC-AUC Score: 0.35\n",
      "\n",
      "isCheerful  SMOTE ACCURACY:\n",
      "0.42857142857142855\n",
      "F1 SCORE:  0.0\n",
      "Precision Score: 0.64\n",
      "Recall Score: 0.43\n",
      "ROC-AUC Score: 0.25\n",
      "\n",
      "isBravery  SMOTE ACCURACY:\n",
      "0.14285714285714285\n",
      "F1 SCORE:  0.14285714285714288\n",
      "Precision Score: 0.93\n",
      "Recall Score: 0.14\n",
      "ROC-AUC Score: 0.54\n",
      "\n",
      "isFearful  SMOTE ACCURACY:\n",
      "0.2857142857142857\n",
      "F1 SCORE:  0.4444444444444445\n",
      "Precision Score: 0.08\n",
      "Recall Score: 0.29\n",
      "ROC-AUC Score: 0.50\n",
      "\n",
      "isLove  SMOTE ACCURACY:\n",
      "0.7142857142857143\n",
      "F1 SCORE:  0.3333333333333333\n",
      "Precision Score: 0.81\n",
      "Recall Score: 0.71\n",
      "ROC-AUC Score: 0.62\n",
      "\n",
      "isSadness  SMOTE ACCURACY:\n",
      "0.7142857142857143\n",
      "F1 SCORE:  0.0\n",
      "Precision Score: 0.84\n",
      "Recall Score: 0.71\n",
      "ROC-AUC Score: 0.38\n",
      "\n"
     ]
    }
   ],
   "source": [
    "ovr = [\"isCalm\",\"isCheerful\",\"isBravery\",\"isFearful\",\"isLove\",\"isSadness\"]\n",
    "for i in range(0, len(preds)):\n",
    "    print(ovr[i], \" SMOTE ACCURACY:\")\n",
    "    compute_accuracy(preds[i], ovr_val[i])\n",
    "    f1 = f1_score(ovr_val[i], preds[i])\n",
    "    Prec_Score = precision_score(ovr_val[i], preds[i], average='weighted')\n",
    "    Rec_Score = recall_score(ovr_val[i], preds[i], average='weighted')\n",
    "    RA_Score = roc_auc_score(ovr_val[i], preds[i], average='weighted')\n",
    "    print(\"F1 SCORE: \", f1)\n",
    "    print(\"Precision Score: {:.2f}\".format(Prec_Score))\n",
    "    print(\"Recall Score: {:.2f}\".format(Rec_Score))\n",
    "    print(\"ROC-AUC Score: {:.2f}\".format(RA_Score))\n",
    "    print()"
   ]
  },
  {
   "cell_type": "code",
   "execution_count": null,
   "metadata": {},
   "outputs": [],
   "source": []
  }
 ],
 "metadata": {
  "kernelspec": {
   "display_name": "Python 3",
   "language": "python",
   "name": "python3"
  },
  "language_info": {
   "codemirror_mode": {
    "name": "ipython",
    "version": 3
   },
   "file_extension": ".py",
   "mimetype": "text/x-python",
   "name": "python",
   "nbconvert_exporter": "python",
   "pygments_lexer": "ipython3",
   "version": "3.8.3"
  }
 },
 "nbformat": 4,
 "nbformat_minor": 4
}
