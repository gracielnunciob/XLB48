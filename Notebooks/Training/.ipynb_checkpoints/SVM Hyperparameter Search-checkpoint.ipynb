{
 "cells": [
  {
   "cell_type": "code",
   "execution_count": 1,
   "metadata": {},
   "outputs": [],
   "source": [
    "# dependencies\n",
    "import csv\n",
    "import matplotlib.pyplot as plt\n",
    "from sklearn.model_selection import GridSearchCV, RandomizedSearchCV\n",
    "from sklearn import svm\n",
    "# from sklearn.naive_bayes import ComplementNB, MultinomialNB\n",
    "import numpy as np\n",
    "from scipy.stats import uniform, norm\n",
    "from sklearn.metrics import plot_confusion_matrix\n",
    "from imblearn.over_sampling import SMOTE, RandomOverSampler\n",
    "\n",
    "import warnings\n",
    "warnings.filterwarnings('ignore')"
   ]
  },
  {
   "cell_type": "code",
   "execution_count": 2,
   "metadata": {},
   "outputs": [],
   "source": [
    "def extract_data(filename,with_label=True):\n",
    "    data = []    \n",
    "    f = open(filename,\"r\")\n",
    "    d_reader = csv.reader(f,delimiter=\",\",quotechar=\"\\\"\")\n",
    "    first = True\n",
    "    for line in d_reader:\n",
    "        if first:\n",
    "            first = False\n",
    "            continue\n",
    "        data.append(line)\n",
    "    print(np.shape(data))\n",
    "    col_count = 324\n",
    "    x_train = np.empty((0,col_count))\n",
    "    y_train = np.array([])\n",
    "\n",
    "    for line in data:\n",
    "        if with_label:\n",
    "            x_train = np.append(x_train,np.array(list(map(float,line[1:-2]))).reshape((1,col_count)),axis=0)\n",
    "            y_train = np.append(y_train,int(line[-1]))\n",
    "        else:\n",
    "            x_train = np.append(x_train,np.array(list(map(float,line[1:6]+line[8:]))).reshape((1,col_count)),axis=0)\n",
    "    print(x_train.shape)\n",
    "    print(y_train.shape)\n",
    "    if with_label:\n",
    "        return x_train, y_train\n",
    "    else:\n",
    "        return x_train\n",
    "    #print(y_train)"
   ]
  },
  {
   "cell_type": "code",
   "execution_count": 3,
   "metadata": {},
   "outputs": [
    {
     "name": "stdout",
     "output_type": "stream",
     "text": [
      "(246, 327)\n",
      "(246, 324)\n",
      "(246,)\n"
     ]
    }
   ],
   "source": [
    "x_train, y_train = extract_data(\"TrainingSet (Labeled Only).csv\")"
   ]
  },
  {
   "cell_type": "code",
   "execution_count": 5,
   "metadata": {},
   "outputs": [
    {
     "name": "stdout",
     "output_type": "stream",
     "text": [
      "(480, 339) (480,)\n",
      "(480, 339) (480,)\n"
     ]
    }
   ],
   "source": [
    "rand_seed = 3454132\n",
    "\n",
    "oversampler = SMOTE(sampling_strategy=\"not majority\",random_state=rand_seed)\n",
    "\n",
    "x_smote, y_smote = oversampler.fit_resample(x_train,y_train)\n",
    "\n",
    "print(x_smote.shape,y_smote.shape)\n",
    "\n",
    "oversampler = RandomOverSampler(sampling_strategy=\"not majority\",\\\n",
    "                                random_state=rand_seed)\n",
    "\n",
    "x_os, y_os = oversampler.fit_resample(x_train,y_train)\n",
    "\n",
    "print(x_os.shape,y_os.shape)"
   ]
  },
  {
   "cell_type": "code",
   "execution_count": 6,
   "metadata": {},
   "outputs": [],
   "source": [
    "\"\"\"\n",
    "Trains a model using the given data and a hyperparameter search object\n",
    "\n",
    "Parameters:\n",
    "x_train - input data\n",
    "y_train - target labels for data\n",
    "hp_search - model_selection object\n",
    "\n",
    "Returns: best estimator for the given data given the model selector\n",
    "\"\"\"\n",
    "def train_model(x_train,y_train,hp_search):\n",
    "    hp_search.fit(x_train,y_train)\n",
    "    print(\"Best Score: {:.4f}\".format(hp_search.best_score_))\n",
    "    for k,v in hp_search.best_params_.items():\n",
    "        print(\"{} => {}\".format(k,v))\n",
    "    print(\"Splits: {}\".format(hp_search.n_splits_))\n",
    "    y_out = hp_search.predict(x_train)\n",
    "    print(\"Accuracy: {:.4f}%\".format(np.mean(y_out == y_train) * 100.0))\n",
    "    return hp_search.best_estimator_"
   ]
  },
  {
   "cell_type": "code",
   "execution_count": 7,
   "metadata": {},
   "outputs": [],
   "source": [
    "\"\"\"\n",
    "Trains and prints the result of the training and model selection.\n",
    "\n",
    "Parameters:\n",
    "name - name of the test run\n",
    "x_train - input data\n",
    "y_train - target labels for data\n",
    "model_selector - model_selection object\n",
    "\"\"\"\n",
    "def print_res(name,x_train,y_train,model_selector):\n",
    "    print(\"{}:\".format(name))\n",
    "    train_model(x_train,y_train,model_selector)\n",
    "\n",
    "    # display confusion matrix\n",
    "    disp = plot_confusion_matrix(model_selector, x_train, y_train,\n",
    "                                 display_labels=[\"Calm\",\"Cheerful\",\"Bravery\",\\\n",
    "                                                 \"Fearful\",\"Sadness\",\"Love\"],\n",
    "                                 cmap=plt.cm.Blues,\n",
    "                                 normalize='true')\n",
    "    # print(y_out)"
   ]
  },
  {
   "cell_type": "code",
   "execution_count": 7,
   "metadata": {},
   "outputs": [],
   "source": [
    "# SVM, Grid Search\n",
    "k_folds = 5\n",
    "random_search_iterations = 200\n",
    "rand_seed = 3249807\n",
    "\n",
    "parameters = {\n",
    "    'C': np.logspace(-3, 2, 6), \n",
    "    'gamma': np.logspace(-3, 2, 6), \n",
    "    'kernel':['linear', 'rbf', 'sigmoid', 'poly'], \n",
    "    'shrinking':[True, False], \n",
    "    'probability':[True, False]\n",
    "}\n",
    "\n",
    "svmc = svm.SVC()\n",
    "random_search_svm = RandomizedSearchCV(svmc, parameters,\\\n",
    "                                       random_state=rand_seed,\\\n",
    "                                       n_iter=random_search_iterations,\\\n",
    "                                       cv=k_folds,n_jobs=-1)"
   ]
  },
  {
   "cell_type": "code",
   "execution_count": 9,
   "metadata": {},
   "outputs": [
    {
     "name": "stdout",
     "output_type": "stream",
     "text": [
      "Vanilla:\n",
      "Best Score: 0.2997\n",
      "shrinking => False\n",
      "probability => False\n",
      "kernel => sigmoid\n",
      "gamma => 0.001\n",
      "C => 1.0\n",
      "Splits: 5\n",
      "Accuracy: 29.9625%\n"
     ]
    },
    {
     "data": {
      "image/png": "[encoded data removed]",
      "text/plain": [
       "<Figure size 432x288 with 2 Axes>"
      ]
     },
     "metadata": {
      "needs_background": "light"
     },
     "output_type": "display_data"
    }
   ],
   "source": [
    "print_res(\"Vanilla\",x_train,y_train,random_search_svm)"
   ]
  },
  {
   "cell_type": "code",
   "execution_count": 10,
   "metadata": {},
   "outputs": [
    {
     "name": "stdout",
     "output_type": "stream",
     "text": [
      "Random Oversampling:\n",
      "Best Score: 0.7792\n",
      "shrinking => True\n",
      "probability => True\n",
      "kernel => rbf\n",
      "gamma => 0.001\n",
      "C => 100.0\n",
      "Splits: 5\n",
      "Accuracy: 100.0000%\n"
     ]
    },
    {
     "data": {
      "image/png": "[encoded data removed]",
      "text/plain": [
       "<Figure size 432x288 with 2 Axes>"
      ]
     },
     "metadata": {
      "needs_background": "light"
     },
     "output_type": "display_data"
    }
   ],
   "source": [
    "print_res(\"Random Oversampling\",x_os,y_os,random_search_svm)"
   ]
  },
  {
   "cell_type": "code",
   "execution_count": 11,
   "metadata": {},
   "outputs": [
    {
     "name": "stdout",
     "output_type": "stream",
     "text": [
      "SMOTE:\n",
      "Best Score: 0.1667\n",
      "shrinking => False\n",
      "probability => False\n",
      "kernel => sigmoid\n",
      "gamma => 0.001\n",
      "C => 1.0\n",
      "Splits: 5\n",
      "Accuracy: 16.6667%\n"
     ]
    },
    {
     "data": {
      "image/png": "[encoded data removed]",
      "text/plain": [
       "<Figure size 432x288 with 2 Axes>"
      ]
     },
     "metadata": {
      "needs_background": "light"
     },
     "output_type": "display_data"
    }
   ],
   "source": [
    "print_res(\"SMOTE\",x_smote,y_smote,random_search_svm)"
   ]
  },
  {
   "cell_type": "code",
   "execution_count": 8,
   "metadata": {},
   "outputs": [],
   "source": [
    "# LinearSVM, Grid Search\n",
    "k_folds = 5\n",
    "random_search_iterations = 100\n",
    "rand_seed = 3249807\n",
    "\n",
    "parameters = {\n",
    "    'penalty':['l1', 'l2'],\n",
    "    'loss':['hinge', 'squared_hinge'], \n",
    "    'dual':[True, False], \n",
    "    'C': np.logspace(-3, 2, 6), \n",
    "    'multi_class':['ovr', 'crammer_singer'], \n",
    "    'max_iter':[100, 150, 200]\n",
    "}\n",
    "\n",
    "linearsvm = svm.LinearSVC()\n",
    "random_search_linear = RandomizedSearchCV(linearsvm, parameters,\\\n",
    "                                          random_state=rand_seed,\\\n",
    "                                          n_iter=random_search_iterations,\\\n",
    "                                          cv=k_folds,n_jobs=-1)"
   ]
  },
  {
   "cell_type": "code",
   "execution_count": null,
   "metadata": {},
   "outputs": [
    {
     "name": "stdout",
     "output_type": "stream",
     "text": [
      "Vanilla:\n"
     ]
    }
   ],
   "source": [
    "print_res(\"Vanilla\",x_train,y_train,random_search_linear)"
   ]
  },
  {
   "cell_type": "code",
   "execution_count": null,
   "metadata": {},
   "outputs": [],
   "source": [
    "print_res(\"Random Oversampling\",x_os,y_os,random_search_linear)"
   ]
  },
  {
   "cell_type": "code",
   "execution_count": null,
   "metadata": {},
   "outputs": [],
   "source": [
    "print_res(\"SMOTE\",x_smote,y_smote,random_search_linear)"
   ]
  }
 ],
 "metadata": {
  "kernelspec": {
   "display_name": "Python 3",
   "language": "python",
   "name": "python3"
  },
  "language_info": {
   "codemirror_mode": {
    "name": "ipython",
    "version": 3
   },
   "file_extension": ".py",
   "mimetype": "text/x-python",
   "name": "python",
   "nbconvert_exporter": "python",
   "pygments_lexer": "ipython3",
   "version": "3.7.3"
  }
 },
 "nbformat": 4,
 "nbformat_minor": 4
}
