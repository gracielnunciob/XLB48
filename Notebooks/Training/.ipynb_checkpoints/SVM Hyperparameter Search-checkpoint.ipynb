{
 "cells": [
  {
   "cell_type": "code",
   "execution_count": null,
   "metadata": {},
   "outputs": [],
   "source": [
    "import os\n",
    "import numpy as np\n",
    "import pandas as pd\n",
    "import csv\n",
    "from sklearn import svm\n",
    "from scipy.stats import uniform, norm\n",
    "from sklearn.model_selection import GridSearchCV, RandomizedSearchCV\n",
    "from sklearn.metrics import plot_confusion_matrix\n",
    "import matplotlib.pyplot as plt"
   ]
  },
  {
   "cell_type": "code",
   "execution_count": null,
   "metadata": {},
   "outputs": [],
   "source": [
    "x_train = np.empty((0,5))\n",
    "y_train = np.array([])\n",
    "\n",
    "with open(\"Toy Dataset.csv\",\"r\") as f:\n",
    "    d_reader = csv.reader(f,delimiter=\",\",quotechar=\"\\\"\")\n",
    "    first = True\n",
    "    \n",
    "    for line in d_reader:\n",
    "        if first:\n",
    "            first = False\n",
    "            continue\n",
    "        x_train = np.append(x_train,np.array(list(map(int,line[2:7]))).reshape((1,5)),axis=0)\n",
    "        y_train = np.append(y_train,int(line[8]))\n",
    "print(x_train.shape)\n",
    "print(y_train.shape)\n",
    "# print(y_train)"
   ]
  },
  {
   "cell_type": "code",
   "execution_count": null,
   "metadata": {},
   "outputs": [],
   "source": [
    "# SVM, Grid Search\n",
    "k_folds = 10\n",
    "# random_search_iterations = 1000\n",
    "parameters = {\n",
    "    'C': np.logspace(-3, 2, 6), \n",
    "    'gamma': np.logspace(-3, 2, 6), \n",
    "    'kernel':['linear', 'rbf', 'sigmoid', 'poly'], \n",
    "    'shrinking':[True, False], \n",
    "    'probability':[True, False]\n",
    "}\n",
    "\n",
    "svmc = svm.SVC()\n",
    "grid_search_svm = GridSearchCV(svmc, parameters,cv=k_folds)\n",
    "grid_search_svm.fit(x_train,y_train)\n",
    "print(\"Best Score: {:.4f}\".format(grid_search_svm.best_score_))\n",
    "for k,v in grid_search_svm.best_params_.items():\n",
    "    print(\"{} => {}\".format(k,v))\n",
    "print(\"Splits: {}\".format(grid_search_svm.n_splits_))\n",
    "y_out = grid_search_svm.predict(x_train)\n",
    "print(\"Accuracy: {:.4f}%\".format(np.mean(y_out == y_train) * 100.0))\n",
    "# print(y_out)"
   ]
  },
  {
   "cell_type": "code",
   "execution_count": null,
   "metadata": {},
   "outputs": [],
   "source": [
    "disp = plot_confusion_matrix(grid_search_svm, x_train, y_train,\n",
    "                             display_labels=[\"Calm\",\"Cheerful\",\"Bravery\",\"Fearful\",\"Sadness\",\"Love\"],\n",
    "                             cmap=plt.cm.Blues,\n",
    "                             normalize='true')"
   ]
  },
  {
   "cell_type": "code",
   "execution_count": null,
   "metadata": {},
   "outputs": [],
   "source": [
    "# # NuSVM, Grid Search\n",
    "# k_folds = 10\n",
    "# random_search_iterations = 1000\n",
    "# parameters = {\n",
    "#     'nu':uniform(loc=0.01,scale=0.99), \n",
    "#     'gamma': np.logspace(-3, 2, 6), \n",
    "#     'kernel':['linear', 'rbf', 'sigmoid', 'poly'], \n",
    "#     'shrinking':[True, False], \n",
    "#     'probability':[True, False]\n",
    "# }\n",
    "\n",
    "# nusvm = svm.NuSVC()\n",
    "# random_search_nu = RandomizedSearchCV(nusvm, parameters,cv=k_folds,n_iter=random_search_iterations)\n",
    "# random_search_nu.fit(x_train,y_train)\n",
    "# print(\"Best Score: {:.4f}\".format(grid_search_nu.best_score_))\n",
    "# for k,v in random_search_nu.best_params_.items():\n",
    "#     print(\"{} => {}\".format(k,v))\n",
    "# print(\"Splits: {}\".format(random_search_nu.n_splits_))\n",
    "# y_out = random_search_nu.predict(x_train)\n",
    "# print(\"Accuracy: {:.4f}%\".format(np.mean(y_out == y_train) * 100.0))\n",
    "# # print(y_out)"
   ]
  },
  {
   "cell_type": "code",
   "execution_count": null,
   "metadata": {},
   "outputs": [],
   "source": [
    "# disp = plot_confusion_matrix(random_search_nu, x_train, y_train,\n",
    "#                              display_labels=[\"Calm\",\"Cheerful\",\"Bravery\",\"Fearful\",\"Sadness\",\"Love\"],\n",
    "#                              cmap=plt.cm.Blues,\n",
    "#                              normalize='true')"
   ]
  },
  {
   "cell_type": "code",
   "execution_count": null,
   "metadata": {},
   "outputs": [],
   "source": [
    "# LinearSVM, Grid Search\n",
    "k_folds = 10\n",
    "# random_search_iterations = 1000\n",
    "parameters = {\n",
    "    'penalty':['l1', 'l2'],\n",
    "    'loss':['hinge', 'squared_hinge'], \n",
    "    'dual':[True, False], \n",
    "    'C': np.logspace(-3, 2, 6), \n",
    "    'multi_class':['ovr', 'crammer_singer'], \n",
    "    'max_iter':[1000, 2500, 3000]\n",
    "}\n",
    "\n",
    "linearsvm = svm.LinearSVC()\n",
    "grid_search_linear = GridSearchCV(linearsvm, parameters,cv=k_folds)\n",
    "grid_search_linear.fit(x_train,y_train)\n",
    "print(\"Best Score: {:.4f}\".format(grid_search_linear.best_score_))\n",
    "for k,v in grid_search_linear.best_params_.items():\n",
    "    print(\"{} => {}\".format(k,v))\n",
    "print(\"Splits: {}\".format(grid_search_linear.n_splits_))\n",
    "y_out = grid_search_linear.predict(x_train)\n",
    "print(\"Accuracy: {:.4f}%\".format(np.mean(y_out == y_train) * 100.0))\n",
    "# print(y_out)"
   ]
  },
  {
   "cell_type": "code",
   "execution_count": null,
   "metadata": {},
   "outputs": [],
   "source": [
    "disp = plot_confusion_matrix(grid_search_linear, x_train, y_train,\n",
    "                             display_labels=[\"Calm\",\"Cheerful\",\"Bravery\",\"Fearful\",\"Sadness\",\"Love\"],\n",
    "                             cmap=plt.cm.Blues,\n",
    "                             normalize='true')"
   ]
  }
 ],
 "metadata": {
  "kernelspec": {
   "display_name": "Python 3",
   "language": "python",
   "name": "python3"
  },
  "language_info": {
   "codemirror_mode": {
    "name": "ipython",
    "version": 3
   },
   "file_extension": ".py",
   "mimetype": "text/x-python",
   "name": "python",
   "nbconvert_exporter": "python",
   "pygments_lexer": "ipython3",
   "version": "3.7.3"
  }
 },
 "nbformat": 4,
 "nbformat_minor": 4
}
