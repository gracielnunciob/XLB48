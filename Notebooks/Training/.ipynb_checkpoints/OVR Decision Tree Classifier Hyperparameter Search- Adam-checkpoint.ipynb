{
 "cells": [
  {
   "cell_type": "markdown",
   "metadata": {},
   "source": [
    "# Decision Tree Classifier for Classifying Music Emotions\n",
    "---\n",
    "## About the Dataset\n",
    "\n",
    "For this experiment, our dataset contains 267 music samples that were labelled by 2 music experts and 151 samples labeled in the semi-supervised learning task. The dataset has a combination of high level and low level features. The high level features are tempo, arousal, and scale, which were all labelled by the music experts. The low level features were extracted from the music samples using the JAudio software.\n",
    "\n",
    "---\n",
    "## Libraries\n",
    "\n",
    "We used the pandas and csv libraries to load the dataset, which is a csv file. Then we used numpy to manipulate the loaded dataset. We used the sci kit learn library for the decision tree algorithm."
   ]
  },
  {
   "cell_type": "code",
   "execution_count": 1,
   "metadata": {},
   "outputs": [],
   "source": [
    "import os\n",
    "import numpy as np\n",
    "import pandas as pd\n",
    "import csv\n",
    "from sklearn.metrics import f1_score\n",
    "from sklearn import tree\n",
    "from sklearn import svm\n",
    "from sklearn.model_selection import RandomizedSearchCV\n",
    "from scipy.stats import uniform, norm\n",
    "from sklearn.tree import DecisionTreeClassifier\n",
    "from sklearn.metrics import plot_confusion_matrix\n",
    "import matplotlib.pyplot as plt\n",
    "from imblearn.over_sampling import SMOTE, RandomOverSampler\n",
    "from sklearn.preprocessing import MinMaxScaler, StandardScaler\n",
    "import matplotlib.pyplot as plt\n",
    "from sklearn.feature_selection import SelectKBest, VarianceThreshold, chi2, f_classif, mutual_info_classif\n",
    "from XLB import *\n",
    "from functools import cmp_to_key\n",
    "from statistics import mode\n",
    "\n",
    "import warnings\n",
    "warnings.filterwarnings('ignore')"
   ]
  },
  {
   "cell_type": "markdown",
   "metadata": {},
   "source": [
    "Here we load the data from the csv file and preprocess it by removing the header row and the filename column"
   ]
  },
  {
   "cell_type": "markdown",
   "metadata": {},
   "source": [
    "After the initial preprocessing step, we separated the music features and the labelled emotion into the x_train and y_train arrays respectively"
   ]
  },
  {
   "cell_type": "code",
   "execution_count": 2,
   "metadata": {
    "scrolled": true
   },
   "outputs": [
    {
     "name": "stdout",
     "output_type": "stream",
     "text": [
      "(352, 45) (352,)\n",
      "(510, 45) (510,)\n",
      "(516, 45) (516,)\n",
      "(496, 45) (496,)\n",
      "(610, 45) (610,)\n",
      "(596, 45) (596,)\n",
      "\n",
      "(352, 45) (352,)\n",
      "(510, 45) (510,)\n",
      "(516, 45) (516,)\n",
      "(496, 45) (496,)\n",
      "(610, 45) (610,)\n",
      "(596, 45) (596,)\n"
     ]
    }
   ],
   "source": [
    "# extract data from files\n",
    "x_train, y_train = extract_data(\"Adam_Set.csv\")\n",
    "x_val, y_val = extract_data(\"Adam_Validation_Set.csv\")\n",
    "\n",
    "# scale data values\n",
    "scaler = MinMaxScaler()\n",
    "scaler.fit(x_train)\n",
    "x_train = scaler.transform(x_train)\n",
    "x_val = scaler.transform(x_val)\n",
    "\n",
    "# feature selection\n",
    "num_features = 45\n",
    "feat_sel = VarianceThreshold()\n",
    "x_train = feat_sel.fit_transform(x_train)\n",
    "feat_sel_2 = SelectKBest(mutual_info_classif,k=num_features)\n",
    "x_train = feat_sel_2.fit_transform(x_train,y_train)\n",
    "x_val = feat_sel_2.transform(feat_sel.transform(x_val))\n",
    "# print(\"After Variance Threshold Feature Selection:\",x_train.shape)\n",
    "\n",
    "rand_seed = 112263\n",
    "ovr_train = []\n",
    "ovr_val = []\n",
    "ovr_y_smote = []\n",
    "ovr_y_os = []\n",
    "x_oss = []\n",
    "x_smotes = []\n",
    "for i in range(1,7):\n",
    "    ovr_train.append(ovr_labels(y_train, i))\n",
    "    ovr_val.append(ovr_labels(y_val, i))\n",
    "for y in ovr_train:\n",
    "    oversampler = SMOTE(sampling_strategy=\"not majority\",random_state=rand_seed, k_neighbors = 2)\n",
    "    x_smote, y_smote = oversampler.fit_resample(x_train,y)\n",
    "    print(x_smote.shape,y_smote.shape)\n",
    "    ovr_y_smote.append(y_smote)\n",
    "    x_smotes.append(x_smote)\n",
    "print()\n",
    "for y in ovr_train:\n",
    "    oversampler = RandomOverSampler(sampling_strategy=\"not majority\",random_state=rand_seed)\n",
    "    x_os, y_os = oversampler.fit_resample(x_train,y)\n",
    "    print(x_os.shape,y_os.shape)\n",
    "    ovr_y_os.append(y_os)\n",
    "    x_oss.append(x_os)"
   ]
  },
  {
   "cell_type": "code",
   "execution_count": 3,
   "metadata": {},
   "outputs": [
    {
     "name": "stdout",
     "output_type": "stream",
     "text": [
      "324\n"
     ]
    }
   ],
   "source": [
    "#MOVING FEATURE HEADERS INTO A LIST\n",
    "import csv\n",
    "\n",
    "with open(\"FinalTrainingSet.csv\") as f:\n",
    "    reader = csv.reader(f)\n",
    "    features = next(reader)\n",
    "\n",
    "#Deleting everything except features from the dataset\n",
    "features.remove(\"Row Labels\")\n",
    "features.remove(\"Theme\")\n",
    "features.remove(\"Theme(Numbered)\")\n",
    "print(len(features))\n",
    "#Retained features after selection\n",
    "selected_feats = feat_sel_2.get_support(True)\n",
    "\n",
    "for ind, ft in sorted(enumerate(features), reverse=True): \n",
    "    if ind not in selected_feats:\n",
    "        del features[ind]\n",
    "  \n",
    "#Printing modified list \n",
    "#print (features) \n",
    "#print (len(features))"
   ]
  },
  {
   "cell_type": "code",
   "execution_count": 4,
   "metadata": {},
   "outputs": [],
   "source": [
    "themes = [\"Calm\",\"Cheerful\",\"Bravery\",\"Fearful\",\"Love\",\"Sadness\"]"
   ]
  },
  {
   "cell_type": "markdown",
   "metadata": {},
   "source": [
    "Here we perform different methods to deal with imbalanced datasets. We used the oversampling *Insert link to oversampling if needed* and SMOTE methodology *Insert link to SMOTE if needed*"
   ]
  },
  {
   "cell_type": "markdown",
   "metadata": {},
   "source": [
    "Here we defined a function that will train the model and perform the hyperparameter search. x_train is the input data, y_train is the labels for the input data, and hp_search is the algorithm for hyperparameter search"
   ]
  },
  {
   "cell_type": "markdown",
   "metadata": {},
   "source": [
    "This function trains the model, using the previously defined train_model function, and displays the confusion matrix of the model. "
   ]
  },
  {
   "cell_type": "markdown",
   "metadata": {},
   "source": [
    "The following cells are the experiments we ran with the default dataset, oversampled version, and SMOTE version using random search as the hyperparameter search algorithm\n",
    "\n",
    "---\n",
    "This cell instantiates the decison tree object and the hyperparameter search object."
   ]
  },
  {
   "cell_type": "code",
   "execution_count": 5,
   "metadata": {},
   "outputs": [],
   "source": [
    "# Decision Tree\n",
    "random_search_iterations = 1000\n",
    "n_splits = 5\n",
    "\n",
    "parameters = {\n",
    "    'criterion':[\"gini\", \"entropy\"], \n",
    "    'splitter':[\"best\", \"random\"], \n",
    "    'max_depth':range(1, num_features + 1), \n",
    "    'min_samples_split': uniform(loc=0.00,scale=1.0),\n",
    "    'min_samples_leaf': uniform(loc=0.0001,scale=0.4999)\n",
    "}\n",
    "\n",
    "# train classifier for SMOTE data\n",
    "dt = tree.DecisionTreeClassifier(random_state=rand_seed)\n",
    "rscv = RandomizedSearchCV(dt, parameters,cv=n_splits, random_state=rand_seed, n_iter=random_search_iterations,n_jobs=1)"
   ]
  },
  {
   "cell_type": "code",
   "execution_count": 6,
   "metadata": {},
   "outputs": [],
   "source": [
    "\"\"\" \n",
    "This functions trains a Classification Based on Associations (CBA) model on a\n",
    "dataset and tests it on a valdation set.\n",
    "\n",
    "Parameters:\n",
    "ruleset : array-like of size (0,) - container for ruleset\n",
    "X_train : array-like of size (n_train_samples,n_features) \n",
    "                                  - training data\n",
    "y_train : array-like of size (n_train_samples,) \n",
    "                                  - ground truth labels of training data\n",
    "X_val : array-like of size (n_test_samples,n_features) \n",
    "                                  - training data\n",
    "y_val : array-like of size (n_test_samples,) \n",
    "                                  - ground truth labels of training data\n",
    "model_selector : Sklearn estimator object - hyperparameetr search object\n",
    "feature_names : array-like of size (n_features,) - list of feature names\n",
    "label_names : array-like of size (n_classes,) - list of class labels\n",
    "dataset_name : string - name to call the dataset\n",
    "itr-count : int - tracking for rule number\n",
    "\n",
    "Returns an array of Rule objects indicating the updated ruleset.\n",
    "\"\"\"\n",
    "def extract_ruleset(ruleset,X_train,y_train,X_val,y_val,model_selector,\n",
    "                    feature_names,label_names,dataset_name=\"Dataset\",itr_count=0):\n",
    "    print_res(dataset_name,X_train,y_train,model_selector, label_names[i], verbose = False)\n",
    "#     disp_tree(rscv.best_estimator_,\"FinalTrainingSet.csv\")\n",
    "    test_res(dataset_name,X_val,y_val,model_selector, label_names[i])\n",
    "    ruleset.append(create_rule_obj_ovr(\n",
    "        model_selector.best_estimator_, feature_names, X_train, itr_count, label_names, \n",
    "        y_train,len(X_train)\n",
    "    ))\n",
    "    return ruleset"
   ]
  },
  {
   "cell_type": "markdown",
   "metadata": {},
   "source": [
    "This model is trained using the default "
   ]
  },
  {
   "cell_type": "code",
   "execution_count": 7,
   "metadata": {
    "scrolled": true
   },
   "outputs": [
    {
     "name": "stdout",
     "output_type": "stream",
     "text": [
      "Best Score: 0.6169\n",
      "Vanilla Train Accuracy: 64.6104%\n",
      "[0 0 0 0 0 0 0 1 1 0 0 0 1 0 0]\n",
      "[0 0 0 0 0 0 0 0 0 1 1 1 1 1 1]\n",
      "Vanilla Validation Accuracy: 53.33%\n",
      "Vanilla F1-score: 0.49\n",
      "Vanilla Precision Score: 0.48\n",
      "Vanilla Recall Score: 0.53\n",
      "Vanilla ROC-AUC Score: 0.47\n",
      "\n",
      "\n",
      "Best Score: 0.8312\n",
      "Vanilla Train Accuracy: 82.7922%\n",
      "[0 0 0 0 0 0 0 0 0 0 0 0 0 0 0]\n",
      "[0 0 0 0 0 0 0 1 1 0 0 0 0 0 0]\n",
      "Vanilla Validation Accuracy: 86.67%\n",
      "Vanilla F1-score: 0.80\n",
      "Vanilla Precision Score: 0.75\n",
      "Vanilla Recall Score: 0.87\n",
      "Vanilla ROC-AUC Score: 0.50\n",
      "\n",
      "\n",
      "Best Score: 0.8377\n",
      "Vanilla Train Accuracy: 83.7662%\n",
      "[0 0 0 0 0 0 0 0 0 0 0 0 0 0 0]\n",
      "[0 0 0 0 0 1 1 0 0 0 0 0 0 0 0]\n",
      "Vanilla Validation Accuracy: 86.67%\n",
      "Vanilla F1-score: 0.80\n",
      "Vanilla Precision Score: 0.75\n",
      "Vanilla Recall Score: 0.87\n",
      "Vanilla ROC-AUC Score: 0.50\n",
      "\n",
      "\n",
      "Best Score: 0.8052\n",
      "Vanilla Train Accuracy: 80.5195%\n",
      "[0 0 0 0 0 0 0 0 0 0 0 0 0 0 0]\n",
      "[0 0 1 1 1 0 0 0 0 0 0 0 0 0 0]\n",
      "Vanilla Validation Accuracy: 80.00%\n",
      "Vanilla F1-score: 0.71\n",
      "Vanilla Precision Score: 0.64\n",
      "Vanilla Recall Score: 0.80\n",
      "Vanilla ROC-AUC Score: 0.50\n",
      "\n",
      "\n",
      "Best Score: 0.9903\n",
      "Vanilla Train Accuracy: 99.0260%\n",
      "[0 0 0 0 0 0 0 0 0 0 0 0 0 0 0]\n",
      "[0 1 0 0 0 0 0 0 0 0 0 0 0 0 0]\n",
      "Vanilla Validation Accuracy: 93.33%\n",
      "Vanilla F1-score: 0.90\n",
      "Vanilla Precision Score: 0.87\n",
      "Vanilla Recall Score: 0.93\n",
      "Vanilla ROC-AUC Score: 0.50\n",
      "\n",
      "\n",
      "Best Score: 0.9675\n",
      "Vanilla Train Accuracy: 96.7532%\n",
      "[0 0 0 0 0 0 0 0 0 0 0 0 0 0 0]\n",
      "[1 0 0 0 0 0 0 0 0 0 0 0 0 0 0]\n",
      "Vanilla Validation Accuracy: 93.33%\n",
      "Vanilla F1-score: 0.90\n",
      "Vanilla Precision Score: 0.87\n",
      "Vanilla Recall Score: 0.93\n",
      "Vanilla ROC-AUC Score: 0.50\n"
     ]
    },
    {
     "data": {
      "image/png": "[encoded data removed]",
      "text/plain": [
       "<Figure size 432x288 with 2 Axes>"
      ]
     },
     "metadata": {
      "needs_background": "light"
     },
     "output_type": "display_data"
    },
    {
     "data": {
      "image/png": "[encoded data removed]",
      "text/plain": [
       "<Figure size 432x288 with 2 Axes>"
      ]
     },
     "metadata": {
      "needs_background": "light"
     },
     "output_type": "display_data"
    },
    {
     "data": {
      "image/png": "[encoded data removed]",
      "text/plain": [
       "<Figure size 432x288 with 2 Axes>"
      ]
     },
     "metadata": {
      "needs_background": "light"
     },
     "output_type": "display_data"
    },
    {
     "data": {
      "image/png": "[encoded data removed]",
      "text/plain": [
       "<Figure size 432x288 with 2 Axes>"
      ]
     },
     "metadata": {
      "needs_background": "light"
     },
     "output_type": "display_data"
    },
    {
     "data": {
      "image/png": "[encoded data removed]",
      "text/plain": [
       "<Figure size 432x288 with 2 Axes>"
      ]
     },
     "metadata": {
      "needs_background": "light"
     },
     "output_type": "display_data"
    },
    {
     "data": {
      "image/png": "[encoded data removed]",
      "text/plain": [
       "<Figure size 432x288 with 2 Axes>"
      ]
     },
     "metadata": {
      "needs_background": "light"
     },
     "output_type": "display_data"
    }
   ],
   "source": [
    "vanilla_rules = []\n",
    "for i in range(0,6):\n",
    "    if(i > 0):\n",
    "        print()\n",
    "        print()\n",
    "    vanilla_rules = extract_ruleset(\n",
    "        vanilla_rules,x_train,ovr_train[i],x_val,ovr_val[i],rscv,features,\\\n",
    "        themes,\"Vanilla\",itr_count=i\n",
    "    )"
   ]
  },
  {
   "cell_type": "code",
   "execution_count": 8,
   "metadata": {
    "scrolled": true
   },
   "outputs": [],
   "source": [
    "vanilla_rules_sorted = []\n",
    "for i in vanilla_rules:\n",
    "    vanilla_rules_sorted.append(sorted(i, key = cmp_to_key(comp_func)))"
   ]
  },
  {
   "cell_type": "code",
   "execution_count": 9,
   "metadata": {
    "scrolled": true
   },
   "outputs": [
    {
     "name": "stdout",
     "output_type": "stream",
     "text": [
      "MODEL NUMBER  1 :\n",
      "RULE NUMBER  1 :\n",
      " Derivative of Fraction Of Low Energy Windows Overall Average > 0.5800 -> notCalm\n",
      "    confidence: 0.34\n",
      "    lift: 0.38\n",
      "    interestingness: 4.46\n",
      "    error(s):  76\n",
      "RULE NUMBER  2 :\n",
      " Derivative of Running Mean of Spectral Rolloff Point Overall Standard Deviation > 0.6400 ^  Derivative of Fraction Of Low Energy Windows Overall Average <= 0.5800 -> isCalm\n",
      "    confidence: 0.33\n",
      "    lift: 0.82\n",
      "    interestingness: 4.25\n",
      "    error(s):  0\n",
      "TOTAL MATCHES:  100.0 %\n",
      "\n",
      "MODEL NUMBER  1 :\n",
      "RULE NUMBER  1 :\n",
      " Derivative of MFCC Overall Average > 0.0900 ^  Derivative of Fraction Of Low Energy Windows Overall Average <= 0.5500 -> notCheerful\n",
      "    confidence: 0.96\n",
      "    lift: 0.85\n",
      "    interestingness: 6.12\n",
      "    error(s):  211\n",
      "RULE NUMBER  2 :\n",
      " Derivative of Partial Based Spectral Centroid Overall Standard Deviation <= 0.0300 -> notCheerful\n",
      "    confidence: 0.89\n",
      "    lift: 0.79\n",
      "    interestingness: 9.37\n",
      "    error(s):  108\n",
      "RULE NUMBER  3 :\n",
      " Derivative of Fraction Of Low Energy Windows Overall Average > 0.5500 -> notCheerful\n",
      "    confidence: 0.80\n",
      "    lift: 0.71\n",
      "    interestingness: 11.53\n",
      "    error(s):  2\n",
      "RULE NUMBER  4 :\n",
      " Derivative of Partial Based Spectral Centroid Overall Standard Deviation > 0.0300 ^  Derivative of MFCC Overall Average <= 0.0900 -> notCheerful\n",
      "    confidence: 0.62\n",
      "    lift: 0.55\n",
      "    interestingness: 2.09\n",
      "    error(s):  0\n",
      "TOTAL MATCHES:  100.0 %\n",
      "\n",
      "MODEL NUMBER  1 :\n",
      "RULE NUMBER  1 :\n",
      " Derivative of Running Mean of Root Mean Square Overall Standard Deviation <= 0.2300 -> notBravery\n",
      "    confidence: 1.00\n",
      "    lift: 0.89\n",
      "    interestingness: 11.65\n",
      "    error(s):  124\n",
      "RULE NUMBER  2 :\n",
      " Derivative of Running Mean of Root Mean Square Overall Standard Deviation > 0.2300 -> notBravery\n",
      "    confidence: 1.00\n",
      "    lift: 0.89\n",
      "    interestingness: 11.80\n",
      "    error(s):  0\n",
      "TOTAL MATCHES:  100.0 %\n",
      "\n",
      "MODEL NUMBER  1 :\n",
      "RULE NUMBER  1 :\n",
      " Derivative of Relative Difference Function Overall Average <= 0.1100 -> notFearful\n",
      "    confidence: 1.00\n",
      "    lift: 1.02\n",
      "    interestingness: 13.05\n",
      "    error(s):  105\n",
      "RULE NUMBER  2 :\n",
      " Derivative of Relative Difference Function Overall Average > 0.1100 -> notFearful\n",
      "    confidence: 1.00\n",
      "    lift: 1.02\n",
      "    interestingness: 11.99\n",
      "    error(s):  0\n",
      "TOTAL MATCHES:  100.0 %\n",
      "\n",
      "MODEL NUMBER  1 :\n",
      "RULE NUMBER  1 :\n",
      " Derivative of Running Mean of Root Mean Square Overall Standard Deviation <= 0.2300 -> notLove\n",
      "    confidence: 1.00\n",
      "    lift: 0.82\n",
      "    interestingness: 11.19\n",
      "    error(s):  155\n",
      "RULE NUMBER  2 :\n",
      " Derivative of Running Mean of Root Mean Square Overall Standard Deviation > 0.2300 -> notLove\n",
      "    confidence: 1.00\n",
      "    lift: 0.82\n",
      "    interestingness: 11.33\n",
      "    error(s):  0\n",
      "TOTAL MATCHES:  100.0 %\n",
      "\n",
      "MODEL NUMBER  1 :\n",
      "RULE NUMBER  1 :\n",
      " Derivative of Relative Difference Function Overall Average <= 0.1100 -> notSadness\n",
      "    confidence: 1.00\n",
      "    lift: 0.85\n",
      "    interestingness: 11.92\n",
      "    error(s):  134\n",
      "RULE NUMBER  2 :\n",
      " Derivative of Relative Difference Function Overall Average > 0.1100 -> notSadness\n",
      "    confidence: 1.00\n",
      "    lift: 0.85\n",
      "    interestingness: 10.95\n",
      "    error(s):  0\n",
      "TOTAL MATCHES:  100.0 %\n",
      "\n"
     ]
    }
   ],
   "source": [
    "classifiers = []\n",
    "index = 0\n",
    "for i in vanilla_rules_sorted:\n",
    "    cls, acc = eval_rules(i, x_train, ovr_train[index]) \n",
    "    classifiers.append((cls, acc))\n",
    "    index+=1\n",
    "model = 0\n",
    "vanilla_clsfs = []\n",
    "for i in vanilla_rules_sorted:\n",
    "    accuracy = classifiers[model][1]\n",
    "    vanilla_clsfs.append(remove_unnecessary_rules(i, accuracy, x_train, ovr_train[model]))\n",
    "    model+=1\n",
    "print_classifiers(vanilla_clsfs, len(x_train))"
   ]
  },
  {
   "cell_type": "code",
   "execution_count": 10,
   "metadata": {
    "scrolled": true
   },
   "outputs": [],
   "source": [
    "vanilla_val_mod = []\n",
    "for mod in vanilla_clsfs:\n",
    "    vmod = []\n",
    "    for i in mod[0]:\n",
    "        vmod.append(i[0])\n",
    "    vanilla_val_mod.append(vmod)"
   ]
  },
  {
   "cell_type": "code",
   "execution_count": 11,
   "metadata": {},
   "outputs": [],
   "source": [
    "index = 0\n",
    "preds = []\n",
    "for val in vanilla_val_mod:\n",
    "    pred = predict_ovr(val, x_val, ovr_val[index])\n",
    "    preds.append(pred)"
   ]
  },
  {
   "cell_type": "code",
   "execution_count": 12,
   "metadata": {
    "scrolled": true
   },
   "outputs": [
    {
     "name": "stdout",
     "output_type": "stream",
     "text": [
      "isCalm  ACCURACY:\n",
      "0.5333333333333333\n",
      "F1 SCORE:  0.2222222222222222\n",
      "\n",
      "isCheerful  ACCURACY:\n",
      "0.8666666666666667\n",
      "F1 SCORE:  0.0\n",
      "\n",
      "isBravery  ACCURACY:\n",
      "0.8666666666666667\n",
      "F1 SCORE:  0.0\n",
      "\n",
      "isFearful  ACCURACY:\n",
      "0.8\n",
      "F1 SCORE:  0.0\n",
      "\n",
      "isLove  ACCURACY:\n",
      "0.9333333333333333\n",
      "F1 SCORE:  0.0\n",
      "\n",
      "isSadness  ACCURACY:\n",
      "0.9333333333333333\n",
      "F1 SCORE:  0.0\n",
      "\n"
     ]
    }
   ],
   "source": [
    "ovr = [\"isCalm\",\"isCheerful\",\"isBravery\",\"isFearful\",\"isLove\",\"isSadness\"]\n",
    "for i in range(0, len(preds)):\n",
    "    print(ovr[i], \" ACCURACY:\")\n",
    "    compute_accuracy(preds[i], ovr_val[i])\n",
    "    f1 = f1_score(ovr_val[i], preds[i])\n",
    "    print(\"F1 SCORE: \", f1)\n",
    "    print()"
   ]
  },
  {
   "cell_type": "code",
   "execution_count": 13,
   "metadata": {
    "scrolled": true
   },
   "outputs": [
    {
     "name": "stdout",
     "output_type": "stream",
     "text": [
      "Best Score: 0.5967\n",
      "Random Oversampling Train Accuracy: 88.9205%\n",
      "[0 0 1 0 0 1 1 0 1 1 0 1 1 1 1]\n",
      "[0 0 0 0 0 0 0 0 0 1 1 1 1 1 1]\n",
      "Random Oversampling Validation Accuracy: 66.67%\n",
      "Random Oversampling F1-score: 0.67\n",
      "Random Oversampling Precision Score: 0.72\n",
      "Random Oversampling Recall Score: 0.67\n",
      "Random Oversampling ROC-AUC Score: 0.69\n",
      "\n",
      "\n",
      "Best Score: 0.8176\n",
      "Random Oversampling Train Accuracy: 91.1765%\n",
      "[1 0 0 0 0 0 0 0 0 0 0 0 1 1 0]\n",
      "[0 0 0 0 0 0 0 1 1 0 0 0 0 0 0]\n",
      "Random Oversampling Validation Accuracy: 66.67%\n",
      "Random Oversampling F1-score: 0.69\n",
      "Random Oversampling Precision Score: 0.72\n",
      "Random Oversampling Recall Score: 0.67\n",
      "Random Oversampling ROC-AUC Score: 0.38\n",
      "\n",
      "\n",
      "Best Score: 0.8333\n",
      "Random Oversampling Train Accuracy: 90.1163%\n",
      "[0 0 0 1 0 0 1 1 0 1 0 0 0 0 1]\n",
      "[0 0 0 0 0 1 1 0 0 0 0 0 0 0 0]\n",
      "Random Oversampling Validation Accuracy: 66.67%\n",
      "Random Oversampling F1-score: 0.72\n",
      "Random Oversampling Precision Score: 0.81\n",
      "Random Oversampling Recall Score: 0.67\n",
      "Random Oversampling ROC-AUC Score: 0.60\n",
      "\n",
      "\n",
      "Best Score: 0.7963\n",
      "Random Oversampling Train Accuracy: 89.9194%\n",
      "[0 0 0 0 0 0 0 0 0 0 0 0 1 0 0]\n",
      "[0 0 1 1 1 0 0 0 0 0 0 0 0 0 0]\n",
      "Random Oversampling Validation Accuracy: 73.33%\n",
      "Random Oversampling F1-score: 0.68\n",
      "Random Oversampling Precision Score: 0.63\n",
      "Random Oversampling Recall Score: 0.73\n",
      "Random Oversampling ROC-AUC Score: 0.46\n",
      "\n",
      "\n",
      "Best Score: 0.9934\n",
      "Random Oversampling Train Accuracy: 99.3443%\n",
      "[0 0 0 0 0 0 0 0 0 0 0 0 0 0 0]\n",
      "[0 1 0 0 0 0 0 0 0 0 0 0 0 0 0]\n",
      "Random Oversampling Validation Accuracy: 93.33%\n",
      "Random Oversampling F1-score: 0.90\n",
      "Random Oversampling Precision Score: 0.87\n",
      "Random Oversampling Recall Score: 0.93\n",
      "Random Oversampling ROC-AUC Score: 0.50\n",
      "\n",
      "\n",
      "Best Score: 0.9431\n",
      "Random Oversampling Train Accuracy: 96.3087%\n",
      "[0 0 1 0 0 0 0 0 0 1 0 0 0 0 0]\n",
      "[1 0 0 0 0 0 0 0 0 0 0 0 0 0 0]\n",
      "Random Oversampling Validation Accuracy: 80.00%\n",
      "Random Oversampling F1-score: 0.83\n",
      "Random Oversampling Precision Score: 0.86\n",
      "Random Oversampling Recall Score: 0.80\n",
      "Random Oversampling ROC-AUC Score: 0.43\n"
     ]
    },
    {
     "data": {
      "image/png": "[encoded data removed]",
      "text/plain": [
       "<Figure size 432x288 with 2 Axes>"
      ]
     },
     "metadata": {
      "needs_background": "light"
     },
     "output_type": "display_data"
    },
    {
     "data": {
      "image/png": "[encoded data removed]",
      "text/plain": [
       "<Figure size 432x288 with 2 Axes>"
      ]
     },
     "metadata": {
      "needs_background": "light"
     },
     "output_type": "display_data"
    },
    {
     "data": {
      "image/png": "[encoded data removed]",
      "text/plain": [
       "<Figure size 432x288 with 2 Axes>"
      ]
     },
     "metadata": {
      "needs_background": "light"
     },
     "output_type": "display_data"
    },
    {
     "data": {
      "image/png": "[encoded data removed]",
      "text/plain": [
       "<Figure size 432x288 with 2 Axes>"
      ]
     },
     "metadata": {
      "needs_background": "light"
     },
     "output_type": "display_data"
    },
    {
     "data": {
      "image/png": "[encoded data removed]",
      "text/plain": [
       "<Figure size 432x288 with 2 Axes>"
      ]
     },
     "metadata": {
      "needs_background": "light"
     },
     "output_type": "display_data"
    },
    {
     "data": {
      "image/png": "[encoded data removed]",
      "text/plain": [
       "<Figure size 432x288 with 2 Axes>"
      ]
     },
     "metadata": {
      "needs_background": "light"
     },
     "output_type": "display_data"
    }
   ],
   "source": [
    "os_rules = []\n",
    "for i in range(0,6):\n",
    "    if(i > 0):\n",
    "        print()\n",
    "        print()\n",
    "    os_rules = extract_ruleset(\n",
    "        os_rules,x_oss[i],ovr_y_os[i],x_val,ovr_val[i],rscv,features,\\\n",
    "        themes,\"Random Oversampling\",itr_count=i\n",
    "    )"
   ]
  },
  {
   "cell_type": "code",
   "execution_count": 14,
   "metadata": {},
   "outputs": [],
   "source": [
    "os_rules_sorted = []\n",
    "for i in os_rules:\n",
    "    os_rules_sorted.append(sorted(i, key = cmp_to_key(comp_func)))"
   ]
  },
  {
   "cell_type": "code",
   "execution_count": 15,
   "metadata": {
    "scrolled": true
   },
   "outputs": [
    {
     "name": "stdout",
     "output_type": "stream",
     "text": [
      "MODEL NUMBER  1 :\n",
      "RULE NUMBER  1 :\n",
      " Derivative of Spectral Flux Overall Average > 0.3300 ^  Derivative of Standard Deviation of Compactness Overall Average <= 0.6100 ^  Derivative of Compactness Overall Average <= 0.8600 ^  Derivative of Spectral Centroid Overall Average <= 0.4600 -> isCalm\n",
      "    confidence: 0.28\n",
      "    lift: 0.79\n",
      "    interestingness: 2.35\n",
      "    error(s):  158\n",
      "RULE NUMBER  2 :\n",
      " Derivative of MFCC Overall Average <= 0.0000 -> notCalm\n",
      "    confidence: 0.00\n",
      "    lift: 0.00\n",
      "    interestingness: 0.00\n",
      "    error(s):  0\n",
      "TOTAL MATCHES:  59.06040268456376 %\n",
      "\n",
      "MODEL NUMBER  1 :\n",
      "RULE NUMBER  1 :\n",
      " Derivative of Running Mean of Root Mean Square Overall Average > 0.3700 -> notCheerful\n",
      "    confidence: 0.49\n",
      "    lift: 0.72\n",
      "    interestingness: 7.80\n",
      "    error(s):  170\n",
      "RULE NUMBER  2 :\n",
      " Derivative of Standard Deviation of Spectral Rolloff Point Overall Standard Deviation > 0.6500 -> isCheerful\n",
      "    confidence: 0.44\n",
      "    lift: 4.04\n",
      "    interestingness: 17.75\n",
      "    error(s):  0\n",
      "TOTAL MATCHES:  85.57046979865773 %\n",
      "\n",
      "MODEL NUMBER  1 :\n",
      "RULE NUMBER  1 :\n",
      " Running Mean of Spectral Flux Overall Average > 0.2000 -> isBravery\n",
      "    confidence: 0.00\n",
      "    lift: 0.00\n",
      "    interestingness: 0.00\n",
      "    error(s):  77\n",
      "RULE NUMBER  2 :\n",
      " Derivative of Compactness Overall Average > 0.6400 -> isBravery\n",
      "    confidence: 0.00\n",
      "    lift: 0.00\n",
      "    interestingness: 0.00\n",
      "    error(s):  23\n",
      "RULE NUMBER  3 :\n",
      " Derivative of Spectral Centroid Overall Average > 0.5000 ^  Derivative of Compactness Overall Average <= 0.6400 -> isBravery\n",
      "    confidence: 0.00\n",
      "    lift: 0.00\n",
      "    interestingness: 0.00\n",
      "    error(s):  5\n",
      "RULE NUMBER  4 :\n",
      " Derivative of Root Mean Square Overall Standard Deviation > 0.2100 ^  Derivative of Fraction Of Low Energy Windows Overall Average <= 0.6000 ^  Derivative of Fraction Of Low Energy Windows Overall Average <= 0.5500 ^  Running Mean of Spectral Flux Overall Average <= 0.2000 -> isBravery\n",
      "    confidence: 0.00\n",
      "    lift: 0.00\n",
      "    interestingness: 0.00\n",
      "    error(s):  0\n",
      "TOTAL MATCHES:  86.57718120805369 %\n",
      "\n",
      "MODEL NUMBER  1 :\n",
      "RULE NUMBER  1 :\n",
      " Fraction Of Low Energy Windows Overall Average > 0.2700 -> isFearful\n",
      "    confidence: 0.00\n",
      "    lift: 0.00\n",
      "    interestingness: 0.00\n",
      "    error(s):  106\n",
      "RULE NUMBER  2 :\n",
      " Derivative of Running Mean of Root Mean Square Overall Average > 0.3500 -> isFearful\n",
      "    confidence: 0.00\n",
      "    lift: 0.00\n",
      "    interestingness: 0.00\n",
      "    error(s):  28\n",
      "RULE NUMBER  3 :\n",
      " Derivative of Root Mean Square Overall Average > 0.5100 -> isFearful\n",
      "    confidence: 0.00\n",
      "    lift: 0.00\n",
      "    interestingness: 0.00\n",
      "    error(s):  13\n",
      "RULE NUMBER  4 :\n",
      " Derivative of Spectral Centroid Overall Average > 0.4900 ^  Derivative of Root Mean Square Overall Average <= 0.5100 -> isFearful\n",
      "    confidence: 0.00\n",
      "    lift: 0.00\n",
      "    interestingness: 0.00\n",
      "    error(s):  0\n",
      "TOTAL MATCHES:  83.22147651006712 %\n",
      "\n",
      "MODEL NUMBER  1 :\n",
      "RULE NUMBER  1 :\n",
      " Derivative of Relative Difference Function Overall Average > 0.0000 ^  Derivative of Standard Deviation of Root Mean Square Overall Standard Deviation <= 0.1100 -> isLove\n",
      "    confidence: 0.00\n",
      "    lift: 0.00\n",
      "    interestingness: 0.00\n",
      "    error(s):  196\n",
      "RULE NUMBER  2 :\n",
      " Derivative of Spectral Rolloff Point Overall Standard Deviation > 0.7200 ^  Derivative of Running Mean of Beat Sum Overall Standard Deviation <= 0.0100 ^  Derivative of Relative Difference Function Overall Average <= 0.0000 -> notLove\n",
      "    confidence: 0.00\n",
      "    lift: 0.00\n",
      "    interestingness: 0.00\n",
      "    error(s):  0\n",
      "TOTAL MATCHES:  102.34899328859059 %\n",
      "\n",
      "MODEL NUMBER  1 :\n",
      "RULE NUMBER  1 :\n",
      " Derivative of Running Mean of Compactness Overall Average > 0.5400 ^  FFT Bin Frequency Labels Overall Average <= 0.6200 ^  Standard Deviation of Root Mean Square Overall Average <= 0.1900 -> notSadness\n",
      "    confidence: 1.00\n",
      "    lift: 1.65\n",
      "    interestingness: 11.83\n",
      "    error(s):  247\n",
      "RULE NUMBER  2 :\n",
      " Derivative of Running Mean of Compactness Overall Average <= 0.6000 ^  Fraction Of Low Energy Windows Overall Average <= 0.3800 ^  Derivative of Spectral Flux Overall Average <= 0.3200 ^  Derivative of Root Mean Square Overall Standard Deviation <= 0.2700 ^  Running Mean of Root Mean Square Overall Average <= 0.3500 -> isSadness\n",
      "    confidence: 0.00\n",
      "    lift: 0.00\n",
      "    interestingness: 0.00\n",
      "    error(s):  0\n",
      "TOTAL MATCHES:  100.0 %\n",
      "\n"
     ]
    }
   ],
   "source": [
    "os_classifiers = []\n",
    "index = 0\n",
    "for i in os_rules_sorted:\n",
    "    cls, acc = eval_rules(i, x_oss[index],ovr_y_os[index]) \n",
    "    os_classifiers.append((cls, acc))\n",
    "    index+=1\n",
    "model = 0\n",
    "os_clsfs = []\n",
    "for i in os_rules_sorted:\n",
    "    accuracy = os_classifiers[model][1]\n",
    "    os_clsfs.append(remove_unnecessary_rules(i, accuracy, x_oss[model],ovr_y_os[model]))\n",
    "    model+=1\n",
    "print_classifiers(os_clsfs, len(x_os))"
   ]
  },
  {
   "cell_type": "code",
   "execution_count": 16,
   "metadata": {
    "scrolled": true
   },
   "outputs": [],
   "source": [
    "os_val_mod = []\n",
    "for mod in os_clsfs:\n",
    "    vmod = []\n",
    "    for i in mod[0]:\n",
    "        vmod.append(i[0])\n",
    "    os_val_mod.append(vmod)"
   ]
  },
  {
   "cell_type": "code",
   "execution_count": 17,
   "metadata": {},
   "outputs": [],
   "source": [
    "index = 0\n",
    "preds = []\n",
    "for val in os_val_mod:\n",
    "    pred = predict_ovr(val, x_val, ovr_val[index])\n",
    "    preds.append(pred)"
   ]
  },
  {
   "cell_type": "code",
   "execution_count": 18,
   "metadata": {},
   "outputs": [
    {
     "name": "stdout",
     "output_type": "stream",
     "text": [
      "isCalm  Oversampling ACCURACY:\n",
      "0.6\n",
      "F1 SCORE:  0.0\n",
      "\n",
      "isCheerful  Oversampling ACCURACY:\n",
      "0.8666666666666667\n",
      "F1 SCORE:  0.6666666666666666\n",
      "\n",
      "isBravery  Oversampling ACCURACY:\n",
      "0.13333333333333333\n",
      "F1 SCORE:  0.23529411764705882\n",
      "\n",
      "isFearful  Oversampling ACCURACY:\n",
      "0.26666666666666666\n",
      "F1 SCORE:  0.35294117647058826\n",
      "\n",
      "isLove  Oversampling ACCURACY:\n",
      "0.8\n",
      "F1 SCORE:  0.0\n",
      "\n",
      "isSadness  Oversampling ACCURACY:\n",
      "0.9333333333333333\n",
      "F1 SCORE:  0.0\n",
      "\n"
     ]
    }
   ],
   "source": [
    "ovr = [\"isCalm\",\"isCheerful\",\"isBravery\",\"isFearful\",\"isLove\",\"isSadness\"]\n",
    "for i in range(0, len(preds)):\n",
    "    print(ovr[i], \" Oversampling ACCURACY:\")\n",
    "    compute_accuracy(preds[i], ovr_val[i])\n",
    "    f1 = f1_score(ovr_val[i], preds[i])\n",
    "    print(\"F1 SCORE: \", f1)\n",
    "    print()"
   ]
  },
  {
   "cell_type": "code",
   "execution_count": 19,
   "metadata": {
    "scrolled": true
   },
   "outputs": [
    {
     "name": "stdout",
     "output_type": "stream",
     "text": [
      "Best Score: 0.6054\n",
      "SMOTE Train Accuracy: 61.0795%\n",
      "[0 0 0 0 0 1 0 1 1 0 1 0 1 0 0]\n",
      "[0 0 0 0 0 0 0 0 0 1 1 1 1 1 1]\n",
      "SMOTE Validation Accuracy: 53.33%\n",
      "SMOTE F1-score: 0.52\n",
      "SMOTE Precision Score: 0.52\n",
      "SMOTE Recall Score: 0.53\n",
      "SMOTE ROC-AUC Score: 0.50\n",
      "\n",
      "\n",
      "Best Score: 0.7549\n",
      "SMOTE Train Accuracy: 89.2157%\n",
      "[0 0 1 1 0 0 0 0 0 1 0 0 0 1 0]\n",
      "[0 0 0 0 0 0 0 1 1 0 0 0 0 0 0]\n",
      "SMOTE Validation Accuracy: 60.00%\n",
      "SMOTE F1-score: 0.65\n",
      "SMOTE Precision Score: 0.71\n",
      "SMOTE Recall Score: 0.60\n",
      "SMOTE ROC-AUC Score: 0.35\n",
      "\n",
      "\n",
      "Best Score: 0.7152\n",
      "SMOTE Train Accuracy: 87.5969%\n",
      "[0 0 1 0 0 1 0 1 0 1 0 0 0 1 0]\n",
      "[0 0 0 0 0 1 1 0 0 0 0 0 0 0 0]\n",
      "SMOTE Validation Accuracy: 66.67%\n",
      "SMOTE F1-score: 0.72\n",
      "SMOTE Precision Score: 0.81\n",
      "SMOTE Recall Score: 0.67\n",
      "SMOTE ROC-AUC Score: 0.60\n",
      "\n",
      "\n",
      "Best Score: 0.7419\n",
      "SMOTE Train Accuracy: 89.3145%\n",
      "[0 0 1 1 1 1 0 0 0 0 0 1 0 0 1]\n",
      "[0 0 1 1 1 0 0 0 0 0 0 0 0 0 0]\n",
      "SMOTE Validation Accuracy: 80.00%\n",
      "SMOTE F1-score: 0.82\n",
      "SMOTE Precision Score: 0.90\n",
      "SMOTE Recall Score: 0.80\n",
      "SMOTE ROC-AUC Score: 0.88\n",
      "\n",
      "\n",
      "Best Score: 0.9902\n",
      "SMOTE Train Accuracy: 99.8361%\n",
      "[0 0 0 0 0 0 0 0 0 0 0 0 0 0 0]\n",
      "[0 1 0 0 0 0 0 0 0 0 0 0 0 0 0]\n",
      "SMOTE Validation Accuracy: 93.33%\n",
      "SMOTE F1-score: 0.90\n",
      "SMOTE Precision Score: 0.87\n",
      "SMOTE Recall Score: 0.93\n",
      "SMOTE ROC-AUC Score: 0.50\n",
      "\n",
      "\n",
      "Best Score: 0.9144\n",
      "SMOTE Train Accuracy: 95.4698%\n",
      "[0 0 1 0 0 0 0 0 0 1 1 1 1 0 0]\n",
      "[1 0 0 0 0 0 0 0 0 0 0 0 0 0 0]\n",
      "SMOTE Validation Accuracy: 60.00%\n",
      "SMOTE F1-score: 0.70\n",
      "SMOTE Precision Score: 0.84\n",
      "SMOTE Recall Score: 0.60\n",
      "SMOTE ROC-AUC Score: 0.32\n"
     ]
    },
    {
     "data": {
      "image/png": "[encoded data removed]",
      "text/plain": [
       "<Figure size 432x288 with 2 Axes>"
      ]
     },
     "metadata": {
      "needs_background": "light"
     },
     "output_type": "display_data"
    },
    {
     "data": {
      "image/png": "[encoded data removed]",
      "text/plain": [
       "<Figure size 432x288 with 2 Axes>"
      ]
     },
     "metadata": {
      "needs_background": "light"
     },
     "output_type": "display_data"
    },
    {
     "data": {
      "image/png": "[encoded data removed]",
      "text/plain": [
       "<Figure size 432x288 with 2 Axes>"
      ]
     },
     "metadata": {
      "needs_background": "light"
     },
     "output_type": "display_data"
    },
    {
     "data": {
      "image/png": "[encoded data removed]",
      "text/plain": [
       "<Figure size 432x288 with 2 Axes>"
      ]
     },
     "metadata": {
      "needs_background": "light"
     },
     "output_type": "display_data"
    },
    {
     "data": {
      "image/png": "[encoded data removed]",
      "text/plain": [
       "<Figure size 432x288 with 2 Axes>"
      ]
     },
     "metadata": {
      "needs_background": "light"
     },
     "output_type": "display_data"
    },
    {
     "data": {
      "image/png": "[encoded data removed]",
      "text/plain": [
       "<Figure size 432x288 with 2 Axes>"
      ]
     },
     "metadata": {
      "needs_background": "light"
     },
     "output_type": "display_data"
    }
   ],
   "source": [
    "smote_rules = []\n",
    "for i in range(0,6):\n",
    "    if(i > 0):\n",
    "        print()\n",
    "        print()\n",
    "    smote_rules = extract_ruleset(\n",
    "        smote_rules,x_smotes[i],ovr_y_smote[i],x_val,ovr_val[i],rscv,features,\\\n",
    "        themes,\"SMOTE\",itr_count=i\n",
    "    )"
   ]
  },
  {
   "cell_type": "code",
   "execution_count": 20,
   "metadata": {},
   "outputs": [],
   "source": [
    "smote_rules_sorted = []\n",
    "for i in smote_rules:\n",
    "    smote_rules_sorted.append(sorted(i, key = cmp_to_key(comp_func)))"
   ]
  },
  {
   "cell_type": "code",
   "execution_count": 21,
   "metadata": {},
   "outputs": [
    {
     "name": "stdout",
     "output_type": "stream",
     "text": [
      "MODEL NUMBER  1 :\n",
      "RULE NUMBER  1 :\n",
      " Derivative of Running Mean of Spectral Rolloff Point Overall Standard Deviation <= 0.6400 -> notCalm\n",
      "    confidence: 0.40\n",
      "    lift: 0.51\n",
      "    interestingness: 6.45\n",
      "    error(s):  56\n",
      "RULE NUMBER  2 :\n",
      " Derivative of Running Mean of Spectral Rolloff Point Overall Standard Deviation > 0.6400 -> isCalm\n",
      "    confidence: 0.37\n",
      "    lift: 1.04\n",
      "    interestingness: 7.65\n",
      "    error(s):  0\n",
      "TOTAL MATCHES:  59.06040268456376 %\n",
      "\n",
      "MODEL NUMBER  1 :\n",
      "RULE NUMBER  1 :\n",
      " Derivative of MFCC Overall Standard Deviation > 0.3700 -> notCheerful\n",
      "    confidence: 0.34\n",
      "    lift: 0.50\n",
      "    interestingness: 4.38\n",
      "    error(s):  217\n",
      "RULE NUMBER  2 :\n",
      " Derivative of Spectral Flux Overall Average > 0.3300 ^  Derivative of MFCC Overall Standard Deviation <= 0.1700 -> isCheerful\n",
      "    confidence: 0.23\n",
      "    lift: 2.11\n",
      "    interestingness: 6.17\n",
      "    error(s):  0\n",
      "TOTAL MATCHES:  85.57046979865773 %\n",
      "\n",
      "MODEL NUMBER  1 :\n",
      "RULE NUMBER  1 :\n",
      " Derivative of Partial Based Spectral Centroid Overall Standard Deviation > 0.0100 -> isBravery\n",
      "    confidence: 0.00\n",
      "    lift: 0.00\n",
      "    interestingness: 0.00\n",
      "    error(s):  99\n",
      "RULE NUMBER  2 :\n",
      " Derivative of Running Mean of Beat Sum Overall Average > 0.0000 ^  Derivative of Partial Based Spectral Centroid Overall Standard Deviation <= 0.0100 -> isBravery\n",
      "    confidence: 0.00\n",
      "    lift: 0.00\n",
      "    interestingness: 0.00\n",
      "    error(s):  1\n",
      "RULE NUMBER  3 :\n",
      " Spectral Flux Overall Average > 0.3800 ^  Derivative of Running Mean of Spectral Rolloff Point Overall Standard Deviation <= 0.5700 -> isBravery\n",
      "    confidence: 0.00\n",
      "    lift: 0.00\n",
      "    interestingness: 0.00\n",
      "    error(s):  0\n",
      "TOTAL MATCHES:  86.57718120805369 %\n",
      "\n",
      "MODEL NUMBER  1 :\n",
      "RULE NUMBER  1 :\n",
      " Derivative of MFCC Overall Average > 0.1200 -> isFearful\n",
      "    confidence: 0.00\n",
      "    lift: 0.00\n",
      "    interestingness: 0.00\n",
      "    error(s):  100\n",
      "RULE NUMBER  2 :\n",
      " Running Mean of Spectral Flux Overall Average > 0.4300 -> isFearful\n",
      "    confidence: 0.00\n",
      "    lift: 0.00\n",
      "    interestingness: 0.00\n",
      "    error(s):  75\n",
      "RULE NUMBER  3 :\n",
      " Fraction Of Low Energy Windows Overall Average > 0.3500 -> isFearful\n",
      "    confidence: 0.00\n",
      "    lift: 0.00\n",
      "    interestingness: 0.00\n",
      "    error(s):  40\n",
      "RULE NUMBER  4 :\n",
      " Derivative of Running Mean of Compactness Overall Average > 0.5800 ^  Running Mean of Spectral Flux Overall Average <= 0.4300 -> isFearful\n",
      "    confidence: 0.00\n",
      "    lift: 0.00\n",
      "    interestingness: 0.00\n",
      "    error(s):  11\n",
      "RULE NUMBER  5 :\n",
      " Derivative of Running Mean of Partial Based Spectral Centroid Overall Average > 0.2600 ^  Derivative of MFCC Overall Standard Deviation <= 0.2400 ^  Derivative of Fraction Of Low Energy Windows Overall Average <= 0.5800 -> isFearful\n",
      "    confidence: 0.00\n",
      "    lift: 0.00\n",
      "    interestingness: 0.00\n",
      "    error(s):  5\n",
      "RULE NUMBER  6 :\n",
      " Derivative of Root Mean Square Overall Average > 0.4900 ^  Derivative of Spectral Centroid Overall Average <= 0.4900 ^  Fraction Of Low Energy Windows Overall Average <= 0.3500 -> isFearful\n",
      "    confidence: 0.00\n",
      "    lift: 0.00\n",
      "    interestingness: 0.00\n",
      "    error(s):  0\n",
      "TOTAL MATCHES:  83.22147651006712 %\n",
      "\n",
      "MODEL NUMBER  1 :\n",
      "RULE NUMBER  1 :\n",
      " Derivative of Fraction Of Low Energy Windows Overall Average > 0.5700 -> isLove\n",
      "    confidence: 0.00\n",
      "    lift: 0.00\n",
      "    interestingness: 0.00\n",
      "    error(s):  0\n",
      "TOTAL MATCHES:  102.34899328859059 %\n",
      "\n",
      "MODEL NUMBER  1 :\n",
      "RULE NUMBER  1 :\n",
      " Spectral Variability Overall Standard Deviation > 0.3600 -> isSadness\n",
      "    confidence: 0.00\n",
      "    lift: 0.00\n",
      "    interestingness: 0.00\n",
      "    error(s):  248\n",
      "RULE NUMBER  2 :\n",
      " Derivative of Spectral Rolloff Point Overall Standard Deviation > 0.6000 -> isSadness\n",
      "    confidence: 0.00\n",
      "    lift: 0.00\n",
      "    interestingness: 0.00\n",
      "    error(s):  147\n",
      "RULE NUMBER  3 :\n",
      " Derivative of Spectral Centroid Overall Average > 0.4600 -> isSadness\n",
      "    confidence: 0.00\n",
      "    lift: 0.00\n",
      "    interestingness: 0.00\n",
      "    error(s):  29\n",
      "RULE NUMBER  4 :\n",
      " Derivative of Running Mean of Root Mean Square Overall Standard Deviation > 0.2300 ^  Derivative of Spectral Centroid Overall Average <= 0.4600 ^  Derivative of Spectral Rolloff Point Overall Standard Deviation <= 0.6000 -> isSadness\n",
      "    confidence: 0.00\n",
      "    lift: 0.00\n",
      "    interestingness: 0.00\n",
      "    error(s):  0\n",
      "TOTAL MATCHES:  100.0 %\n",
      "\n"
     ]
    }
   ],
   "source": [
    "smote_classifiers = []\n",
    "index = 0\n",
    "for i in smote_rules_sorted:\n",
    "    cls, acc = eval_rules(i, x_smotes[index],ovr_y_smote[index]) \n",
    "    smote_classifiers.append((cls, acc))\n",
    "    index+=1\n",
    "model = 0\n",
    "smote_clsfs = []\n",
    "for i in smote_rules_sorted:\n",
    "    accuracy = smote_classifiers[model][1]\n",
    "    smote_clsfs.append(remove_unnecessary_rules(i, accuracy,  x_smotes[model],ovr_y_smote[model]))\n",
    "    model+=1\n",
    "print_classifiers(smote_clsfs, len(x_smote))"
   ]
  },
  {
   "cell_type": "code",
   "execution_count": 22,
   "metadata": {},
   "outputs": [],
   "source": [
    "smote_val_mod = []\n",
    "for mod in smote_clsfs:\n",
    "    vmod = []\n",
    "    for i in mod[0]:\n",
    "        vmod.append(i[0])\n",
    "    smote_val_mod.append(vmod)"
   ]
  },
  {
   "cell_type": "code",
   "execution_count": 23,
   "metadata": {},
   "outputs": [],
   "source": [
    "index = 0\n",
    "preds = []\n",
    "for val in smote_val_mod:\n",
    "    pred = predict_ovr(val, x_val, ovr_val[index])\n",
    "    preds.append(pred)\n"
   ]
  },
  {
   "cell_type": "code",
   "execution_count": 24,
   "metadata": {},
   "outputs": [
    {
     "name": "stdout",
     "output_type": "stream",
     "text": [
      "isCalm  SMOTE ACCURACY:\n",
      "0.5333333333333333\n",
      "F1 SCORE:  0.3636363636363636\n",
      "\n",
      "isCheerful  SMOTE ACCURACY:\n",
      "0.7333333333333333\n",
      "F1 SCORE:  0.3333333333333333\n",
      "\n",
      "isBravery  SMOTE ACCURACY:\n",
      "0.13333333333333333\n",
      "F1 SCORE:  0.23529411764705882\n",
      "\n",
      "isFearful  SMOTE ACCURACY:\n",
      "0.2\n",
      "F1 SCORE:  0.33333333333333337\n",
      "\n",
      "isLove  SMOTE ACCURACY:\n",
      "0.4666666666666667\n",
      "F1 SCORE:  0.0\n",
      "\n",
      "isSadness  SMOTE ACCURACY:\n",
      "0.13333333333333333\n",
      "F1 SCORE:  0.13333333333333333\n",
      "\n"
     ]
    }
   ],
   "source": [
    "ovr = [\"isCalm\",\"isCheerful\",\"isBravery\",\"isFearful\",\"isLove\",\"isSadness\"]\n",
    "for i in range(0, len(preds)):\n",
    "    print(ovr[i], \" SMOTE ACCURACY:\")\n",
    "    compute_accuracy(preds[i], ovr_val[i])\n",
    "    f1 = f1_score(ovr_val[i], preds[i])\n",
    "    print(\"F1 SCORE: \", f1)\n",
    "    print()"
   ]
  },
  {
   "cell_type": "code",
   "execution_count": null,
   "metadata": {},
   "outputs": [],
   "source": []
  }
 ],
 "metadata": {
  "kernelspec": {
   "display_name": "Python 3",
   "language": "python",
   "name": "python3"
  },
  "language_info": {
   "codemirror_mode": {
    "name": "ipython",
    "version": 3
   },
   "file_extension": ".py",
   "mimetype": "text/x-python",
   "name": "python",
   "nbconvert_exporter": "python",
   "pygments_lexer": "ipython3",
   "version": "3.7.2"
  }
 },
 "nbformat": 4,
 "nbformat_minor": 4
}
