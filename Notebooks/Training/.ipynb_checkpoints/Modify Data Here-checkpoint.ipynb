{
 "cells": [
  {
   "cell_type": "code",
   "execution_count": 1,
   "metadata": {},
   "outputs": [],
   "source": [
    "import csv\n",
    "import numpy as np"
   ]
  },
  {
   "cell_type": "code",
   "execution_count": 2,
   "metadata": {},
   "outputs": [],
   "source": [
    "def read_file(filename):\n",
    "    data = []\n",
    "    with open(filename, mode ='r')as file: \n",
    "\n",
    "        # reading the CSV file \n",
    "        csvFile = csv.reader(file)\n",
    "        # displaying the contents of the CSV file \n",
    "        c = 0\n",
    "        for lines in csvFile: \n",
    "            if c >=1:\n",
    "                data.append(lines)\n",
    "            c+=1\n",
    "    return data"
   ]
  },
  {
   "cell_type": "code",
   "execution_count": 3,
   "metadata": {},
   "outputs": [],
   "source": [
    "names_final = []\n",
    "names_collated = []\n",
    "collated = read_file(\"Adamfromcollated.csv\")\n",
    "final = read_file(\"FinalTrainingSet.csv\")\n",
    "for i in collated:\n",
    "    names_collated.append(i[0])\n",
    "for i in final:\n",
    "    names_final.append(i[0])"
   ]
  },
  {
   "cell_type": "code",
   "execution_count": 12,
   "metadata": {},
   "outputs": [
    {
     "name": "stdout",
     "output_type": "stream",
     "text": [
      "(2, 327)\n"
     ]
    }
   ],
   "source": [
    "c = 0\n",
    "new = []\n",
    "for i in range(0, len(collated)):\n",
    "    low = []\n",
    "    high = []\n",
    "    row = []\n",
    "    if names_collated[i] == names_final[c]:\n",
    "        low = collated[i][1:-1]\n",
    "        low+=final[c][6:-1]\n",
    "        low.insert(0,collated[i][0])\n",
    "        low.append(collated[i][0])\n",
    "        c+=1\n",
    "        new.append(low)\n",
    "print(np.shape(new))"
   ]
  },
  {
   "cell_type": "code",
   "execution_count": null,
   "metadata": {},
   "outputs": [],
   "source": []
  }
 ],
 "metadata": {
  "kernelspec": {
   "display_name": "Python 3",
   "language": "python",
   "name": "python3"
  },
  "language_info": {
   "codemirror_mode": {
    "name": "ipython",
    "version": 3
   },
   "file_extension": ".py",
   "mimetype": "text/x-python",
   "name": "python",
   "nbconvert_exporter": "python",
   "pygments_lexer": "ipython3",
   "version": "3.7.2"
  }
 },
 "nbformat": 4,
 "nbformat_minor": 2
}
