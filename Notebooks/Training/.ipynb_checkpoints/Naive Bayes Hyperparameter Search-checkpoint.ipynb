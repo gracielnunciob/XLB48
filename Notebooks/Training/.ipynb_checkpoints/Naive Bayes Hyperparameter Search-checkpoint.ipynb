{
 "cells": [
  {
   "cell_type": "markdown",
   "metadata": {},
   "source": [
    "### Naive Bayes Training Script\n",
    "#### Author: Austin Fernandez\n",
    "#### Date Modified: April 8, 2020"
   ]
  },
  {
   "cell_type": "code",
   "execution_count": 2,
   "metadata": {},
   "outputs": [],
   "source": [
    "# dependencies\n",
    "import csv\n",
    "from sklearn.model_selection import GridSearchCV, RandomizedSearchCV\n",
    "from sklearn.naive_bayes import CategoricalNB, ComplementNB, MultinomialNB\n",
    "# from sklearn.naive_bayes import ComplementNB, MultinomialNB\n",
    "import numpy as np\n",
    "from scipy.stats import uniform, norm\n",
    "\n",
    "import warnings\n",
    "warnings.filterwarnings('ignore')"
   ]
  },
  {
   "cell_type": "code",
   "execution_count": 3,
   "metadata": {},
   "outputs": [
    {
     "name": "stdout",
     "output_type": "stream",
     "text": [
      "(419, 5)\n",
      "(419,)\n"
     ]
    }
   ],
   "source": [
    "x_train = np.empty((0,5))\n",
    "y_train = np.array([])\n",
    "    \n",
    "with open(\"Toy Dataset.csv\",\"r\") as f:\n",
    "    d_reader = csv.reader(f,delimiter=\",\",quotechar=\"\\\"\")\n",
    "    first = True\n",
    "    for line in d_reader:\n",
    "        if first:\n",
    "            first = False\n",
    "            continue\n",
    "        x_train = np.append(x_train,np.array(list(map(int,line[2:7]))).reshape((1,5)),axis=0)\n",
    "        y_train = np.append(y_train,int(line[8]))\n",
    "print(x_train.shape)\n",
    "print(y_train.shape)\n",
    "# print(y_train)"
   ]
  },
  {
   "cell_type": "code",
   "execution_count": 4,
   "metadata": {},
   "outputs": [
    {
     "name": "stdout",
     "output_type": "stream",
     "text": [
      "Best Score: 0.3175\n",
      "alpha => 0.08\n",
      "fit_prior => True\n",
      "Splits: 10\n",
      "Accuracy: 31.7422%\n"
     ]
    }
   ],
   "source": [
    "# MultinomialNB, Grid Search\n",
    "\n",
    "parameters = {'alpha':[0.01 * i for i in range(1,101)], 'fit_prior':[True, False]}\n",
    "mnb = MultinomialNB()\n",
    "gscv = GridSearchCV(mnb, parameters,cv=10)\n",
    "gscv.fit(x_train,y_train)\n",
    "print(\"Best Score: {:.4f}\".format(gscv.best_score_))\n",
    "for k,v in gscv.best_params_.items():\n",
    "    print(\"{} => {}\".format(k,v))\n",
    "print(\"Splits: {}\".format(gscv.n_splits_))\n",
    "y_out = gscv.predict(x_train)\n",
    "print(\"Accuracy: {:.4f}%\".format(np.mean(y_out == y_train) * 100.0))\n",
    "# print(y_out)\n"
   ]
  },
  {
   "cell_type": "code",
   "execution_count": 11,
   "metadata": {},
   "outputs": [
    {
     "name": "stdout",
     "output_type": "stream",
     "text": [
      "Best Score: 0.3271\n",
      "alpha => 0.01\n",
      "fit_prior => True\n",
      "Splits: 10\n",
      "Accuracy: 33.8902%\n"
     ]
    }
   ],
   "source": [
    "# CategoricalNB, Grid Search\n",
    "parameters = {'alpha':[0.01 * i for i in range(1,101)], 'fit_prior':[True, False]}\n",
    "canb = CategoricalNB()\n",
    "gscv = GridSearchCV(canb, parameters,cv=10)\n",
    "gscv.fit(x_train,y_train)\n",
    "print(\"Best Score: {:.4f}\".format(gscv.best_score_))\n",
    "for k,v in gscv.best_params_.items():\n",
    "    print(\"{} => {}\".format(k,v))\n",
    "print(\"Splits: {}\".format(gscv.n_splits_))\n",
    "y_out = gscv.predict(x_train)\n",
    "print(\"Accuracy: {:.4f}%\".format(np.mean(y_out == y_train) * 100.0))\n",
    "# print(y_out)"
   ]
  },
  {
   "cell_type": "code",
   "execution_count": 6,
   "metadata": {},
   "outputs": [
    {
     "name": "stdout",
     "output_type": "stream",
     "text": [
      "Best Score: 0.2937\n",
      "alpha => 0.01\n",
      "fit_prior => True\n",
      "norm => False\n",
      "Splits: 10\n",
      "Accuracy: 31.7422%\n"
     ]
    }
   ],
   "source": [
    "# ComplementNB, Grid Search\n",
    "parameters = {'alpha':[0.01 * i for i in range(1,101)], 'fit_prior':[True, False], 'norm' : [True, False]}\n",
    "cnb = ComplementNB()\n",
    "gscv = GridSearchCV(cnb, parameters,cv=10)\n",
    "gscv.fit(x_train,y_train)\n",
    "print(\"Best Score: {:.4f}\".format(gscv.best_score_))\n",
    "for k,v in gscv.best_params_.items():\n",
    "    print(\"{} => {}\".format(k,v))\n",
    "print(\"Splits: {}\".format(gscv.n_splits_))\n",
    "y_out = gscv.predict(x_train)\n",
    "print(\"Accuracy: {:.4f}%\".format(np.mean(y_out == y_train) * 100.0))\n",
    "# print(y_out)"
   ]
  },
  {
   "cell_type": "code",
   "execution_count": 7,
   "metadata": {},
   "outputs": [
    {
     "name": "stdout",
     "output_type": "stream",
     "text": [
      "Best Score: 0.2937\n",
      "alpha => 0.2533169787835904\n",
      "fit_prior => True\n",
      "norm => False\n",
      "Splits: 10\n",
      "Accuracy: 31.7422%\n"
     ]
    }
   ],
   "source": [
    "# ComplementNB, RandomizedSearch\n",
    "random_search_iterations = 1000\n",
    "k_folds = 10\n",
    "\n",
    "parameters = {'alpha':uniform(loc=0,scale=1.0), 'fit_prior':[True, False], 'norm' : [True, False]}\n",
    "cnb = ComplementNB()\n",
    "rscv = RandomizedSearchCV(cnb, parameters,cv=k_folds,n_iter=random_search_iterations)\n",
    "rscv.fit(x_train,y_train)\n",
    "print(\"Best Score: {:.4f}\".format(rscv.best_score_))\n",
    "for k,v in rscv.best_params_.items():\n",
    "    print(\"{} => {}\".format(k,v))\n",
    "print(\"Splits: {}\".format(rscv.n_splits_))\n",
    "y_out = rscv.predict(x_train)\n",
    "print(\"Accuracy: {:.4f}%\".format(np.mean(y_out == y_train) * 100.0))\n",
    "# print(y_out)"
   ]
  },
  {
   "cell_type": "code",
   "execution_count": 8,
   "metadata": {},
   "outputs": [
    {
     "name": "stdout",
     "output_type": "stream",
     "text": [
      "Best Score: 0.3271\n",
      "alpha => 0.5221199475573253\n",
      "fit_prior => True\n",
      "Splits: 10\n",
      "Accuracy: 33.8902%\n"
     ]
    }
   ],
   "source": [
    "# ComplementNB, RandomizedSearch\n",
    "random_search_iterations = 1000\n",
    "k_folds = 10\n",
    "\n",
    "parameters = {'alpha':uniform(loc=0,scale=1.0), 'fit_prior':[True, False]}\n",
    "canb = CategoricalNB()\n",
    "rscv = RandomizedSearchCV(canb, parameters,cv=k_folds,n_iter=random_search_iterations)\n",
    "rscv.fit(x_train,y_train)\n",
    "print(\"Best Score: {:.4f}\".format(rscv.best_score_))\n",
    "for k,v in rscv.best_params_.items():\n",
    "    print(\"{} => {}\".format(k,v))\n",
    "print(\"Splits: {}\".format(rscv.n_splits_))\n",
    "y_out = rscv.predict(x_train)\n",
    "print(\"Accuracy: {:.4f}%\".format(np.mean(y_out == y_train) * 100.0))\n",
    "# print(y_out)"
   ]
  },
  {
   "cell_type": "code",
   "execution_count": 9,
   "metadata": {},
   "outputs": [
    {
     "name": "stdout",
     "output_type": "stream",
     "text": [
      "Best Score: 0.3175\n",
      "alpha => 0.09731698161710889\n",
      "fit_prior => True\n",
      "Splits: 10\n",
      "Accuracy: 31.7422%\n"
     ]
    }
   ],
   "source": [
    "# MultinomialNB, RandomizedSearch\n",
    "random_search_iterations = 1000\n",
    "k_folds = 10\n",
    "\n",
    "parameters = {'alpha':uniform(loc=0,scale=1.0), 'fit_prior':[True, False]}\n",
    "mnb = MultinomialNB()\n",
    "rscv = RandomizedSearchCV(mnb, parameters,cv=k_folds,n_iter=random_search_iterations)\n",
    "rscv.fit(x_train,y_train)\n",
    "print(\"Best Score: {:.4f}\".format(rscv.best_score_))\n",
    "for k,v in rscv.best_params_.items():\n",
    "    print(\"{} => {}\".format(k,v))\n",
    "print(\"Splits: {}\".format(rscv.n_splits_))\n",
    "y_out = rscv.predict(x_train)\n",
    "print(\"Accuracy: {:.4f}%\".format(np.mean(y_out == y_train) * 100.0))\n",
    "# print(y_out)"
   ]
  },
  {
   "cell_type": "code",
   "execution_count": null,
   "metadata": {},
   "outputs": [],
   "source": []
  }
 ],
 "metadata": {
  "kernelspec": {
   "display_name": "Python 3",
   "language": "python",
   "name": "python3"
  },
  "language_info": {
   "codemirror_mode": {
    "name": "ipython",
    "version": 3
   },
   "file_extension": ".py",
   "mimetype": "text/x-python",
   "name": "python",
   "nbconvert_exporter": "python",
   "pygments_lexer": "ipython3",
   "version": "3.7.3"
  }
 },
 "nbformat": 4,
 "nbformat_minor": 4
}
