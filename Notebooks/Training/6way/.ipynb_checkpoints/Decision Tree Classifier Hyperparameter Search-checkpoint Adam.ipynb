{
 "cells": [
  {
   "cell_type": "markdown",
   "metadata": {},
   "source": [
    "# Decison Tree Classifier for Classifying Music Emotions\n",
    "---\n",
    "## About the Dataset\n",
    "\n",
    "For this experiment, our dataset contains 267 music samples that were labelled by 2 music experts. The dataset has a combination of high level and low level features. The high level features are tempo, arousal, and scale, which were all labelled by the music experts. The low level features were extracted from the music samples using the JAudio software.\n",
    "\n",
    "---\n",
    "## Libraries\n",
    "\n",
    "We used the pandas and csv libraries to load the dataset, which is a csv file. Then we used numpy to manipulate the loaded dataset. We used the sci kit learn library for the decision tree algorithm."
   ]
  },
  {
   "cell_type": "code",
   "execution_count": 19,
   "metadata": {},
   "outputs": [],
   "source": [
    "import os\n",
    "import numpy as np\n",
    "import pandas as pd\n",
    "import csv\n",
    "from sklearn import tree\n",
    "from sklearn import svm\n",
    "from sklearn.ensemble import RandomForestClassifier\n",
    "from sklearn.linear_model import LogisticRegression, SGDClassifier\n",
    "from sklearn.model_selection import GridSearchCV, RandomizedSearchCV\n",
    "from scipy.stats import uniform, norm\n",
    "from sklearn.tree import DecisionTreeClassifier\n",
    "from sklearn.metrics import plot_confusion_matrix\n",
    "import matplotlib.pyplot as plt\n",
    "from imblearn.over_sampling import SMOTE, RandomOverSampler\n",
    "from sklearn.preprocessing import MinMaxScaler, StandardScaler\n",
    "import matplotlib.pyplot as plt\n",
    "from sklearn.feature_selection import SelectFromModel, SelectKBest, VarianceThreshold, chi2, f_classif, mutual_info_classif\n",
    "from XLB import *\n",
    "from functools import cmp_to_key\n",
    "from statistics import mode\n",
    "\n",
    "import warnings\n",
    "warnings.filterwarnings('ignore')"
   ]
  },
  {
   "cell_type": "markdown",
   "metadata": {},
   "source": [
    "Here we load the data from the csv file and preprocess it by removing the header row and the filename column"
   ]
  },
  {
   "cell_type": "markdown",
   "metadata": {},
   "source": [
    "After the initial preprocessing step, we sperated the music features and the labelled emotion into the x_train and y_train arrays respectively"
   ]
  },
  {
   "cell_type": "code",
   "execution_count": 20,
   "metadata": {
    "scrolled": true
   },
   "outputs": [
    {
     "name": "stdout",
     "output_type": "stream",
     "text": [
      "(792, 45) (792,)\n",
      "(792, 45) (792,)\n"
     ]
    }
   ],
   "source": [
    "# extract data from files\n",
    "x_train, y_train = extract_data(\"Adam_Set.csv\")\n",
    "x_val, y_val = extract_data(\"Adam_Validation_Set.csv\")\n",
    "\n",
    "# scale data values\n",
    "scaler = MinMaxScaler()\n",
    "scaler.fit(x_train)\n",
    "x_train = scaler.transform(x_train)\n",
    "x_val = scaler.transform(x_val)\n",
    "\n",
    "# feature selection\n",
    "num_features = 45\n",
    "feat_sel = VarianceThreshold()\n",
    "x_train = feat_sel.fit_transform(x_train)\n",
    "# feat_sel_2 = SelectFromModel(estimator=DecisionTreeClassifier(random_state=481516234))\n",
    "# feat_sel_2 = SelectFromModel(\\\n",
    "#                 estimator=RandomForestClassifier(n_estimators=50,\\\n",
    "#                                              random_state=481516234))\n",
    "# feat_sel_2 = SelectFromModel(\\\n",
    "#                 estimator=LogisticRegression(random_state=481516234))\n",
    "# feat_sel_2 = SelectFromModel(\\\n",
    "#                 estimator=svm.LinearSVC(C=0.25, penalty=\"l1\", dual=False,\\\n",
    "#                                     random_state=481516234))\n",
    "# WINNER: 47.62% 0.45\n",
    "feat_sel_2 = SelectKBest(mutual_info_classif,k=num_features)\n",
    "x_train = feat_sel_2.fit_transform(x_train,y_train)\n",
    "x_val = feat_sel_2.transform(feat_sel.transform(x_val))\n",
    "# print(\"After Variance Threshold Feature Selection:\",x_train.shape)\n",
    "\n",
    "rand_seed = 3454132\n",
    "\n",
    "oversampler = SMOTE(sampling_strategy=\"not majority\",random_state=rand_seed, k_neighbors = 2)\n",
    "x_smote, y_smote = oversampler.fit_resample(x_train,y_train)\n",
    "print(x_smote.shape,y_smote.shape)\n",
    "\n",
    "oversampler = RandomOverSampler(sampling_strategy=\"not majority\",random_state=rand_seed)\n",
    "x_os, y_os = oversampler.fit_resample(x_train,y_train)\n",
    "print(x_os.shape,y_os.shape)"
   ]
  },
  {
   "cell_type": "code",
   "execution_count": 21,
   "metadata": {},
   "outputs": [
    {
     "name": "stdout",
     "output_type": "stream",
     "text": [
      "324\n"
     ]
    }
   ],
   "source": [
    "#MOVING FEATURE HEADERS INTO A LIST\n",
    "import csv\n",
    "\n",
    "with open(\"FinalTrainingSet.csv\") as f:\n",
    "    reader = csv.reader(f)\n",
    "    features = next(reader)\n",
    "\n",
    "#Deleting everything except features from the dataset\n",
    "features.remove(\"Row Labels\")\n",
    "features.remove(\"Theme\")\n",
    "features.remove(\"Theme(Numbered)\")\n",
    "print(len(features))\n",
    "#Retained features after selection\n",
    "selected_feats = feat_sel_2.get_support(True)\n",
    "\n",
    "for ind, ft in sorted(enumerate(features), reverse=True): \n",
    "    if ind not in selected_feats:\n",
    "        del features[ind]\n",
    "  \n",
    "#Printing modified list \n",
    "#print (features) \n",
    "#print (len(features))"
   ]
  },
  {
   "cell_type": "markdown",
   "metadata": {},
   "source": [
    "Here we perform different methods to deal with imbalanced datasets. We used the oversampling *Insert link to oversampling if needed* and SMOTE methodology *Insert link to SMOTE if needed*"
   ]
  },
  {
   "cell_type": "markdown",
   "metadata": {},
   "source": [
    "Here we defined a function that will train the model and perform the hyperparameter search. x_train is the input data, y_train is the labels for the input data, and hp_search is the algorithm for hyperparameter search"
   ]
  },
  {
   "cell_type": "markdown",
   "metadata": {},
   "source": [
    "This function trains the model, using the previously defined train_model function, and displays the confusion matrix of the model. "
   ]
  },
  {
   "cell_type": "markdown",
   "metadata": {},
   "source": [
    "The following cells are the experiments we ran with the default dataset, oversampled version, and SMOTE version using random search as the hyperparameter search algorithm\n",
    "\n",
    "---\n",
    "This cell instantiates the decison tree object and the hyperparameter search object."
   ]
  },
  {
   "cell_type": "code",
   "execution_count": 22,
   "metadata": {},
   "outputs": [],
   "source": [
    "# Decision Tree\n",
    "random_search_iterations = 1000\n",
    "n_splits = 10\n",
    "rand_seed = 481516234\n",
    "\n",
    "parameters = {\n",
    "    'criterion':[\"gini\", \"entropy\"], \n",
    "    'splitter':[\"best\", \"random\"], \n",
    "    'max_depth':range(5, 13), \n",
    "    'min_samples_split': uniform(loc=0.00,scale=1.0),\n",
    "    'min_samples_leaf': uniform(loc=0.0001,scale=0.4999)\n",
    "}\n",
    "\n",
    "# train classifier for SMOTE data\n",
    "dt = tree.DecisionTreeClassifier(random_state=rand_seed)\n",
    "rscv = RandomizedSearchCV(dt, parameters,cv=n_splits, random_state=rand_seed, n_iter=random_search_iterations,n_jobs=-1)"
   ]
  },
  {
   "cell_type": "code",
   "execution_count": 23,
   "metadata": {},
   "outputs": [],
   "source": [
    "themes = [\"Calm\",\"Cheerful\",\"Bravery\",\"Fearful\",\"Love\",\"Sadness\"]"
   ]
  },
  {
   "cell_type": "code",
   "execution_count": 24,
   "metadata": {},
   "outputs": [],
   "source": [
    "\"\"\" \n",
    "This functions trains a Classification Based on Associations (CBA) model on a\n",
    "dataset and tests it on a valdation set.\n",
    "\n",
    "Parameters:\n",
    "ruleset : array-like of size (0,) - container for ruleset\n",
    "X_train : array-like of size (n_train_samples,n_features) \n",
    "                                  - training data\n",
    "y_train : array-like of size (n_train_samples,) \n",
    "                                  - ground truth labels of training data\n",
    "X_val : array-like of size (n_test_samples,n_features) \n",
    "                                  - training data\n",
    "y_val : array-like of size (n_test_samples,) \n",
    "                                  - ground truth labels of training data\n",
    "model_selector : Sklearn estimator object - hyperparameetr search object\n",
    "feature_names : array-like of size (n_features,) - list of feature names\n",
    "label_names : array-like of size (n_classes,) - list of class labels\n",
    "dataset_name : string - name to call the dataset\n",
    "itr-count : int - tracking for rule number\n",
    "\n",
    "Returns an array of Rule objects indicating the updated ruleset.\n",
    "\"\"\"\n",
    "def extract_ruleset(ruleset,X_train,y_train,X_val,y_val,model_selector,\n",
    "                    feature_names,label_names,dataset_name=\"Dataset\"):\n",
    "    print_res_6_way(dataset_name,X_train,y_train,model_selector, label_names, verbose = False)\n",
    "#     disp_tree(rscv.best_estimator_,\"FinalTrainingSet.csv\")\n",
    "    test_res_6_way(dataset_name,X_val,y_val,model_selector, label_names)\n",
    "    ruleset = create_rule_obj(\n",
    "        model_selector.best_estimator_, feature_names, X_train, label_names, \n",
    "        y_train,len(X_train)\n",
    "    )\n",
    "    return ruleset"
   ]
  },
  {
   "cell_type": "markdown",
   "metadata": {},
   "source": [
    "This model is trained using the default "
   ]
  },
  {
   "cell_type": "code",
   "execution_count": 25,
   "metadata": {
    "scrolled": true
   },
   "outputs": [
    {
     "name": "stdout",
     "output_type": "stream",
     "text": [
      "Best Score: 0.4418\n",
      "Vanilla Train Accuracy: 46.4286%\n",
      "[1. 1. 1. 1. 1. 1. 1. 1. 1. 1. 1. 1. 1. 1. 1.]\n",
      "[6. 5. 4. 4. 4. 3. 3. 2. 2. 1. 1. 1. 1. 1. 1.]\n",
      "Vanilla Validation Accuracy: 40.00%\n",
      "Vanilla F1-score: 0.23\n",
      "Vanilla Precision Score: 0.16\n",
      "Vanilla Recall Score: 0.40\n",
      "Vanilla ROC-AUC Score: 0.50\n",
      "Vanilla ROC-AUC Score: 0.50\n",
      "Vanilla ROC-AUC Score: 0.50\n",
      "Vanilla ROC-AUC Score: 0.50\n",
      "Vanilla ROC-AUC Score: 0.50\n",
      "Vanilla ROC-AUC Score: 0.50\n",
      "[0.8961038961038961, 1.1233766233766234, 1.12012987012987, 0.9805194805194806, 1.2142857142857142, 1.1753246753246753]\n"
     ]
    },
    {
     "data": {
      "image/png": "[encoded data removed]",
      "text/plain": [
       "<Figure size 432x288 with 2 Axes>"
      ]
     },
     "metadata": {
      "needs_background": "light"
     },
     "output_type": "display_data"
    }
   ],
   "source": [
    "vanilla_rules = []\n",
    "vanilla_rules = extract_ruleset(\n",
    "        vanilla_rules,x_train,y_train,x_val,y_val,rscv,features,\\\n",
    "        themes,\"Vanilla\")"
   ]
  },
  {
   "cell_type": "code",
   "execution_count": 26,
   "metadata": {},
   "outputs": [],
   "source": [
    "vanilla_rules_sorted = (sorted(vanilla_rules, key = cmp_to_key(comp_func)))"
   ]
  },
  {
   "cell_type": "code",
   "execution_count": 27,
   "metadata": {},
   "outputs": [],
   "source": [
    "classifiers = eval_rules(vanilla_rules_sorted, x_train, y_train)\n",
    "accuracy = classifiers[1]\n",
    "vanilla_clsfs = remove_unnecessary_rules(vanilla_rules_sorted, accuracy, x_train, y_train)"
   ]
  },
  {
   "cell_type": "code",
   "execution_count": 28,
   "metadata": {},
   "outputs": [
    {
     "name": "stdout",
     "output_type": "stream",
     "text": [
      "VANILLA ACCURACY:\n",
      "0.3333333333333333\n",
      "F1 SCORE:  0.2105263157894737\n",
      "Precision Score: 0.15\n",
      "Recall Score: 0.33\n",
      "Vanilla ROC-AUC Score: 0.47\n",
      "Vanilla ROC-AUC Score: 0.50\n",
      "Vanilla ROC-AUC Score: 0.50\n",
      "Vanilla ROC-AUC Score: 0.50\n",
      "Vanilla ROC-AUC Score: 0.50\n",
      "Vanilla ROC-AUC Score: 0.50\n"
     ]
    }
   ],
   "source": [
    "vanilla_val_mod = []\n",
    "for i in vanilla_clsfs[0]:\n",
    "    vanilla_val_mod.append(i[0])\n",
    "pred = predict_ovr(vanilla_val_mod, x_val, y_val)\n",
    "print(\"VANILLA ACCURACY:\")\n",
    "compute_accuracy(pred, y_val)\n",
    "f1 = f1_score(y_val, pred, average='weighted')\n",
    "Prec_Score = precision_score(y_val, pred, average='weighted')\n",
    "Rec_Score = recall_score(y_val, pred, average='weighted')\n",
    "print(\"F1 SCORE: \", f1)\n",
    "print(\"Precision Score: {:.2f}\".format(Prec_Score))\n",
    "print(\"Recall Score: {:.2f}\".format(Rec_Score))\n",
    "multiclass_roc_auc_score_rm(y_val, pred,'Vanilla')"
   ]
  },
  {
   "cell_type": "code",
   "execution_count": 29,
   "metadata": {
    "scrolled": true
   },
   "outputs": [
    {
     "name": "stdout",
     "output_type": "stream",
     "text": [
      "Best Score: 0.6302\n",
      "Random Oversampling Train Accuracy: 67.4242%\n",
      "[1. 3. 2. 4. 3. 1. 2. 3. 2. 4. 2. 2. 6. 3. 4.]\n",
      "[6. 5. 4. 4. 4. 3. 3. 2. 2. 1. 1. 1. 1. 1. 1.]\n",
      "Random Oversampling Validation Accuracy: 13.33%\n",
      "Random Oversampling F1-score: 0.10\n",
      "Random Oversampling Precision Score: 0.09\n",
      "Random Oversampling Recall Score: 0.13\n",
      "Random Oversampling ROC-AUC Score: 0.39\n",
      "Random Oversampling ROC-AUC Score: 0.60\n",
      "Random Oversampling ROC-AUC Score: 0.35\n",
      "Random Oversampling ROC-AUC Score: 0.58\n",
      "Random Oversampling ROC-AUC Score: 0.50\n",
      "Random Oversampling ROC-AUC Score: 0.46\n",
      "[0.3484848484848485, 0.43686868686868685, 0.4356060606060606, 0.3813131313131313, 0.4722222222222222, 0.45707070707070707]\n"
     ]
    },
    {
     "data": {
      "image/png": "[encoded data removed]",
      "text/plain": [
       "<Figure size 432x288 with 2 Axes>"
      ]
     },
     "metadata": {
      "needs_background": "light"
     },
     "output_type": "display_data"
    }
   ],
   "source": [
    "os_rules = []\n",
    "os_rules = extract_ruleset(\n",
    "        os_rules,x_os,y_os,x_val,y_val,rscv,features,\\\n",
    "        themes,\"Random Oversampling\")"
   ]
  },
  {
   "cell_type": "code",
   "execution_count": 30,
   "metadata": {},
   "outputs": [],
   "source": [
    "os_rules_sorted = (sorted(os_rules, key = cmp_to_key(comp_func)))"
   ]
  },
  {
   "cell_type": "code",
   "execution_count": 31,
   "metadata": {},
   "outputs": [],
   "source": [
    "osclassifiers = eval_rules(os_rules_sorted, x_os, y_os)\n",
    "accuracy = osclassifiers[1]\n",
    "os_clsfs = remove_unnecessary_rules(os_rules_sorted, accuracy, x_os, y_os)"
   ]
  },
  {
   "cell_type": "code",
   "execution_count": 32,
   "metadata": {},
   "outputs": [
    {
     "name": "stdout",
     "output_type": "stream",
     "text": [
      "Random Oversampling ACCURACY:\n",
      "0.3333333333333333\n",
      "F1 SCORE:  0.2105263157894737\n",
      "Precision Score: 0.15\n",
      "Recall Score: 0.33\n",
      "Random Oversampling ROC-AUC Score: 0.47\n",
      "Random Oversampling ROC-AUC Score: 0.50\n",
      "Random Oversampling ROC-AUC Score: 0.50\n",
      "Random Oversampling ROC-AUC Score: 0.50\n",
      "Random Oversampling ROC-AUC Score: 0.43\n",
      "Random Oversampling ROC-AUC Score: 0.50\n"
     ]
    }
   ],
   "source": [
    "os_val_mod = []\n",
    "for i in os_clsfs[0]:\n",
    "    os_val_mod.append(i[0])\n",
    "pred = predict_ovr(os_val_mod, x_val, y_val)\n",
    "print(\"Random Oversampling ACCURACY:\")\n",
    "compute_accuracy(pred, y_val)\n",
    "f1 = f1_score(y_val, pred, average='weighted')\n",
    "Prec_Score = precision_score(y_val, pred, average='weighted')\n",
    "Rec_Score = recall_score(y_val, pred, average='weighted')\n",
    "print(\"F1 SCORE: \", f1)\n",
    "print(\"Precision Score: {:.2f}\".format(Prec_Score))\n",
    "print(\"Recall Score: {:.2f}\".format(Rec_Score))\n",
    "multiclass_roc_auc_score_rm(y_val, pred,'Random Oversampling')"
   ]
  },
  {
   "cell_type": "code",
   "execution_count": 33,
   "metadata": {
    "scrolled": true
   },
   "outputs": [
    {
     "name": "stdout",
     "output_type": "stream",
     "text": [
      "Best Score: 0.5811\n",
      "SMOTE Train Accuracy: 63.7626%\n",
      "[2. 6. 2. 6. 2. 5. 3. 2. 2. 6. 5. 2. 6. 4. 1.]\n",
      "[6. 5. 4. 4. 4. 3. 3. 2. 2. 1. 1. 1. 1. 1. 1.]\n",
      "SMOTE Validation Accuracy: 26.67%\n",
      "SMOTE F1-score: 0.27\n",
      "SMOTE Precision Score: 0.58\n",
      "SMOTE Recall Score: 0.27\n",
      "SMOTE ROC-AUC Score: 0.58\n",
      "SMOTE ROC-AUC Score: 0.85\n",
      "SMOTE ROC-AUC Score: 0.75\n",
      "SMOTE ROC-AUC Score: 0.46\n",
      "SMOTE ROC-AUC Score: 0.43\n",
      "SMOTE ROC-AUC Score: 0.36\n",
      "[0.3484848484848485, 0.43686868686868685, 0.4356060606060606, 0.3813131313131313, 0.4722222222222222, 0.45707070707070707]\n"
     ]
    },
    {
     "data": {
      "image/png": "[encoded data removed]",
      "text/plain": [
       "<Figure size 432x288 with 2 Axes>"
      ]
     },
     "metadata": {
      "needs_background": "light"
     },
     "output_type": "display_data"
    }
   ],
   "source": [
    "smote_rules = []\n",
    "smote_rules = extract_ruleset(\n",
    "        smote_rules,x_smote,y_smote,x_val,y_val,rscv,features,\\\n",
    "        themes,\"SMOTE\")"
   ]
  },
  {
   "cell_type": "code",
   "execution_count": 34,
   "metadata": {},
   "outputs": [],
   "source": [
    "smote_rules_sorted = (sorted(smote_rules, key = cmp_to_key(comp_func)))"
   ]
  },
  {
   "cell_type": "code",
   "execution_count": 35,
   "metadata": {},
   "outputs": [],
   "source": [
    "smoteclassifiers = eval_rules(smote_rules_sorted, x_smote, y_smote)\n",
    "accuracy = smoteclassifiers[1]\n",
    "smote_clsfs = remove_unnecessary_rules(smote_rules_sorted, accuracy, x_smote, y_smote)"
   ]
  },
  {
   "cell_type": "code",
   "execution_count": 36,
   "metadata": {
    "scrolled": true
   },
   "outputs": [
    {
     "name": "stdout",
     "output_type": "stream",
     "text": [
      "SMOTE ACCURACY:\n",
      "0.26666666666666666\n",
      "F1 SCORE:  0.18823529411764708\n",
      "Precision Score: 0.15\n",
      "Recall Score: 0.27\n",
      "SMOTE ROC-AUC Score: 0.44\n",
      "SMOTE ROC-AUC Score: 0.50\n",
      "SMOTE ROC-AUC Score: 0.50\n",
      "SMOTE ROC-AUC Score: 0.50\n",
      "SMOTE ROC-AUC Score: 0.36\n",
      "SMOTE ROC-AUC Score: 0.50\n"
     ]
    }
   ],
   "source": [
    "smote_val_mod = []\n",
    "for i in smote_clsfs[0]:\n",
    "    smote_val_mod.append(i[0])\n",
    "pred = predict_ovr(smote_val_mod, x_val, y_val)\n",
    "print(\"SMOTE ACCURACY:\")\n",
    "compute_accuracy(pred, y_val)\n",
    "f1 = f1_score(y_val, pred, average='weighted')\n",
    "Prec_Score = precision_score(y_val, pred, average='weighted')\n",
    "Rec_Score = recall_score(y_val, pred, average='weighted')\n",
    "print(\"F1 SCORE: \", f1)\n",
    "print(\"Precision Score: {:.2f}\".format(Prec_Score))\n",
    "print(\"Recall Score: {:.2f}\".format(Rec_Score))\n",
    "multiclass_roc_auc_score_rm(y_val, pred,'SMOTE')"
   ]
  },
  {
   "cell_type": "code",
   "execution_count": 19,
   "metadata": {},
   "outputs": [],
   "source": [
    "# Random Forest\n",
    "random_search_iterations = 1000\n",
    "n_splits = 10\n",
    "rand_seed = 108750183\n",
    "\n",
    "parameters = {\n",
    "    'n_estimators' : [i for i in range(50,101)],\n",
    "    'criterion' : ['gini', 'entropy'],\n",
    "    'max_depth' : [i for i in range(5,13)],\n",
    "    'min_samples_split' : uniform(loc=0.01,scale=0.99),\n",
    "    'min_samples_leaf' : uniform(loc=0.01,scale=0.49),\n",
    "    'bootstrap' : [True, False],\n",
    "    'warm_start' : [True, False],\n",
    "}\n",
    "\n",
    "# train classifier for SMOTE data\n",
    "random_forest = RandomForestClassifier(random_state=rand_seed)\n",
    "random_search_random_forest = \\\n",
    "                        RandomizedSearchCV(random_forest, parameters,\\\n",
    "                                           cv=n_splits, \\\n",
    "                                           random_state=rand_seed, \\\n",
    "                                           n_iter=random_search_iterations,\\\n",
    "                                           n_jobs=-1)"
   ]
  },
  {
   "cell_type": "code",
   "execution_count": null,
   "metadata": {},
   "outputs": [
    {
     "name": "stdout",
     "output_type": "stream",
     "text": [
      "Best Score: 0.2427\n",
      "Vanilla Train Accuracy: 28.8026%\n",
      "[4. 4. 4. 4. 4. 1. 4. 4. 4. 1. 4. 4. 4. 4.]\n",
      "[4. 4. 5. 1. 2. 1. 4. 1. 2. 4. 5. 1. 6. 3.]\n",
      "Vanilla Validation Accuracy: 28.57%\n",
      "Vanilla F1-score: 0.20\n",
      "Vanilla Precision Score: 0.21\n",
      "Vanilla Recall Score: 0.29\n",
      "Vanilla ROC-AUC Score: 0.57\n",
      "Vanilla ROC-AUC Score: 0.50\n",
      "Vanilla ROC-AUC Score: 0.50\n",
      "Vanilla ROC-AUC Score: 0.42\n",
      "Vanilla ROC-AUC Score: 0.50\n",
      "Vanilla ROC-AUC Score: 0.50\n"
     ]
    },
    {
     "data": {
      "text/plain": [
       "(28.57142857142857, 0.20238095238095236)"
      ]
     },
     "execution_count": 20,
     "metadata": {},
     "output_type": "execute_result"
    },
    {
     "data": {
      "image/png": "[encoded data removed]",
      "text/plain": [
       "<Figure size 432x288 with 2 Axes>"
      ]
     },
     "metadata": {
      "needs_background": "light"
     },
     "output_type": "display_data"
    }
   ],
   "source": [
    "print_res_6_way(\"Vanilla\",x_train,y_train,random_search_random_forest, themes, verbose = False)\n",
    "test_res_6_way(\"Vanilla\",x_val,y_val,random_search_random_forest, themes)"
   ]
  },
  {
   "cell_type": "code",
   "execution_count": null,
   "metadata": {
    "scrolled": true
   },
   "outputs": [],
   "source": [
    "print_res_6_way(\"Random Oversampling\",x_os,y_os,random_search_random_forest,themes, verbose = False)\n",
    "test_res_6_way(\"Random Oversampling\",x_val,y_val,random_search_random_forest,themes)"
   ]
  },
  {
   "cell_type": "code",
   "execution_count": null,
   "metadata": {},
   "outputs": [],
   "source": [
    "print_res_6_way(\"SMOTE\",x_smote,y_smote,random_search_random_forest,themes, verbose = False)\n",
    "test_res_6_way(\"SMOTE\",x_val,y_val,random_search_random_forest,themes)"
   ]
  }
 ],
 "metadata": {
  "kernelspec": {
   "display_name": "Python 3",
   "language": "python",
   "name": "python3"
  },
  "language_info": {
   "codemirror_mode": {
    "name": "ipython",
    "version": 3
   },
   "file_extension": ".py",
   "mimetype": "text/x-python",
   "name": "python",
   "nbconvert_exporter": "python",
   "pygments_lexer": "ipython3",
   "version": "3.7.2"
  }
 },
 "nbformat": 4,
 "nbformat_minor": 4
}
