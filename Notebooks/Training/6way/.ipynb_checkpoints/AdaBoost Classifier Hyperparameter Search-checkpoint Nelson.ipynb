{
 "cells": [
  {
   "cell_type": "markdown",
   "metadata": {},
   "source": [
    "# Decison Tree Classifier for Classifying Music Emotions\n",
    "---\n",
    "## About the Dataset\n",
    "\n",
    "For this experiment, our dataset contains 267 music samples that were labelled by 2 music experts. The dataset has a combination of high level and low level features. The high level features are tempo, arousal, and scale, which were all labelled by the music experts. The low level features were extracted from the music samples using the JAudio software.\n",
    "\n",
    "---\n",
    "## Libraries\n",
    "\n",
    "We used the pandas and csv libraries to load the dataset, which is a csv file. Then we used numpy to manipulate the loaded dataset. We used the sci kit learn library for the decision tree algorithm."
   ]
  },
  {
   "cell_type": "code",
   "execution_count": 1,
   "metadata": {},
   "outputs": [],
   "source": [
    "import os\n",
    "import numpy as np\n",
    "import pandas as pd\n",
    "import csv\n",
    "from sklearn import tree\n",
    "from sklearn.model_selection import GridSearchCV, RandomizedSearchCV\n",
    "from scipy.stats import uniform, norm\n",
    "from sklearn.tree import DecisionTreeClassifier\n",
    "from sklearn.metrics import plot_confusion_matrix\n",
    "import matplotlib.pyplot as plt\n",
    "from imblearn.over_sampling import SMOTE, RandomOverSampler\n",
    "from sklearn.preprocessing import MinMaxScaler\n",
    "from sklearn.ensemble import AdaBoostClassifier\n",
    "import matplotlib.pyplot as plt\n",
    "from XLB import *\n",
    "from sklearn.feature_selection import SelectFromModel, SelectKBest, VarianceThreshold, chi2, f_classif, mutual_info_classif\n",
    "\n",
    "import warnings\n",
    "warnings.filterwarnings('ignore')"
   ]
  },
  {
   "cell_type": "markdown",
   "metadata": {},
   "source": [
    "Here we load the data from the csv file and preprocess it by removing the header row and the filename column"
   ]
  },
  {
   "cell_type": "markdown",
   "metadata": {},
   "source": [
    "After the initial preprocessing step, we sperated the music features and the labelled emotion into the x_train and y_train arrays respectively"
   ]
  },
  {
   "cell_type": "code",
   "execution_count": 2,
   "metadata": {},
   "outputs": [
    {
     "name": "stdout",
     "output_type": "stream",
     "text": [
      "(402, 45) (402,)\n",
      "(402, 45) (402,)\n"
     ]
    }
   ],
   "source": [
    "# extract data from files\n",
    "x_train, y_train = extract_data(\"Nelson_Set.csv\")\n",
    "x_val, y_val = extract_data(\"Nelson_Validation_Set.csv\")\n",
    "\n",
    "# scale data values\n",
    "scaler = MinMaxScaler()\n",
    "scaler.fit(x_train)\n",
    "x_train = scaler.transform(x_train)\n",
    "x_val = scaler.transform(x_val)\n",
    "\n",
    "# feature selection\n",
    "num_features = 45\n",
    "feat_sel = VarianceThreshold()\n",
    "x_train = feat_sel.fit_transform(x_train)\n",
    "# feat_sel_2 = SelectFromModel(estimator=DecisionTreeClassifier(random_state=481516234))\n",
    "# feat_sel_2 = SelectFromModel(\\\n",
    "#                 estimator=RandomForestClassifier(n_estimators=50,\\\n",
    "#                                              random_state=481516234))\n",
    "# feat_sel_2 = SelectFromModel(\\\n",
    "#                 estimator=LogisticRegression(random_state=481516234))\n",
    "# feat_sel_2 = SelectFromModel(\\\n",
    "#                 estimator=svm.LinearSVC(C=0.25, penalty=\"l1\", dual=False,\\\n",
    "#                                     random_state=481516234))\n",
    "# f_classif 42.86% 0.37\n",
    "feat_sel_2 = SelectKBest(f_classif,k=num_features)\n",
    "x_train = feat_sel_2.fit_transform(x_train,y_train)\n",
    "x_val = feat_sel_2.transform(feat_sel.transform(x_val))\n",
    "# print(\"After Variance Threshold Feature Selection:\",x_train.shape)\n",
    "\n",
    "rand_seed = 3454132\n",
    "\n",
    "oversampler = SMOTE(sampling_strategy=\"not majority\",random_state=rand_seed, k_neighbors = 2)\n",
    "x_smote, y_smote = oversampler.fit_resample(x_train,y_train)\n",
    "print(x_smote.shape,y_smote.shape)\n",
    "\n",
    "oversampler = RandomOverSampler(sampling_strategy=\"not majority\",random_state=rand_seed)\n",
    "x_os, y_os = oversampler.fit_resample(x_train,y_train)\n",
    "print(x_os.shape,y_os.shape)"
   ]
  },
  {
   "cell_type": "markdown",
   "metadata": {},
   "source": [
    "Here we perform different methods to deal with imbalanced datasets. We used the oversampling *Insert link to oversampling if needed* and SMOTE methodology *Insert link to SMOTE if needed*"
   ]
  },
  {
   "cell_type": "code",
   "execution_count": 3,
   "metadata": {},
   "outputs": [],
   "source": [
    "themes = [\"Calm\",\"Cheerful\",\"Bravery\",\"Fearful\",\"Love\",\"Sadness\"]  "
   ]
  },
  {
   "cell_type": "markdown",
   "metadata": {},
   "source": [
    "themes = [\"Calm\",\"Cheerful\",\"Bravery\",\"Fearful\",\"Love\",\"Sadness\"]"
   ]
  },
  {
   "cell_type": "markdown",
   "metadata": {},
   "source": [
    "Here we defined a function that will train the model and perform the hyperparameter search. x_train is the input data, y_train is the labels for the input data, and hp_search is the algorithm for hyperparameter search"
   ]
  },
  {
   "cell_type": "markdown",
   "metadata": {},
   "source": [
    "This function trains the model, using the previously defined train_model function, and displays the confusion matrix of the model. "
   ]
  },
  {
   "cell_type": "markdown",
   "metadata": {},
   "source": [
    "The following cells are the experiments we ran with the default dataset, oversampled version, and SMOTE version using random search as the hyperparameter search algorithm\n",
    "\n",
    "---\n",
    "This cell instantiates the decison tree object and the hyperparameter search object."
   ]
  },
  {
   "cell_type": "code",
   "execution_count": 4,
   "metadata": {},
   "outputs": [],
   "source": [
    "# AdaBoost\n",
    "random_search_iterations = 400\n",
    "n_splits = 10\n",
    "rand_seed = 3249807\n",
    "\n",
    "parameters = {\n",
    "    'n_estimators' : [i for i in range(30,61)],\n",
    "    'learning_rate' : uniform(loc=0.1,scale=0.1),\n",
    "    'algorithm' : ['SAMME', 'SAMME.R'],\n",
    "    'base_estimator__criterion':[\"gini\", \"entropy\"], \n",
    "    'base_estimator__splitter':[\"best\", \"random\"], \n",
    "    'base_estimator__max_depth':range(1, 11), \n",
    "    'base_estimator__min_samples_split':uniform(loc=0,scale=1.0)\n",
    "}\n",
    "\n",
    "# train classifier for SMOTE data\n",
    "dt = DecisionTreeClassifier(random_state=rand_seed)\n",
    "adaboost = AdaBoostClassifier(base_estimator=dt,random_state=rand_seed)\n",
    "random_search_adaboost = RandomizedSearchCV(adaboost, parameters,cv=n_splits, \\\n",
    "                                            random_state=rand_seed, \\\n",
    "                                            n_iter=random_search_iterations,\\\n",
    "                                            n_jobs=-1)"
   ]
  },
  {
   "cell_type": "markdown",
   "metadata": {},
   "source": [
    "This model is trained using the default "
   ]
  },
  {
   "cell_type": "code",
   "execution_count": 5,
   "metadata": {},
   "outputs": [
    {
     "name": "stdout",
     "output_type": "stream",
     "text": [
      "Best Score: 0.3108\n",
      "Vanilla Train Accuracy: 94.4984%\n",
      "[1. 6. 5. 5. 2. 4. 6. 5. 4. 1. 5. 1. 5. 1.]\n",
      "[1. 1. 1. 2. 2. 3. 3. 4. 4. 4. 5. 5. 5. 6.]\n",
      "Vanilla Validation Accuracy: 35.71%\n",
      "Vanilla F1-score: 0.35\n",
      "Vanilla Precision Score: 0.39\n",
      "Vanilla Recall Score: 0.36\n",
      "Vanilla ROC-AUC Score: 0.53\n",
      "Vanilla ROC-AUC Score: 0.75\n",
      "Vanilla ROC-AUC Score: 0.50\n",
      "Vanilla ROC-AUC Score: 0.62\n",
      "Vanilla ROC-AUC Score: 0.70\n",
      "Vanilla ROC-AUC Score: 0.42\n"
     ]
    },
    {
     "data": {
      "text/plain": [
       "(35.714285714285715, 0.3493197278911565)"
      ]
     },
     "execution_count": 5,
     "metadata": {},
     "output_type": "execute_result"
    },
    {
     "data": {
      "image/png": "[encoded data removed]",
      "text/plain": [
       "<Figure size 432x288 with 2 Axes>"
      ]
     },
     "metadata": {
      "needs_background": "light"
     },
     "output_type": "display_data"
    }
   ],
   "source": [
    "print_res_6_way(\"Vanilla\",x_train,y_train,random_search_adaboost, themes, verbose = False)\n",
    "test_res_6_way(\"Vanilla\",x_val,y_val,random_search_adaboost, themes)"
   ]
  },
  {
   "cell_type": "code",
   "execution_count": 6,
   "metadata": {},
   "outputs": [
    {
     "name": "stdout",
     "output_type": "stream",
     "text": [
      "Best Score: 0.5629\n",
      "Random Oversampling Train Accuracy: 100.0000%\n",
      "[1. 6. 4. 5. 2. 5. 4. 5. 4. 1. 5. 1. 1. 1.]\n",
      "[1. 1. 1. 2. 2. 3. 3. 4. 4. 4. 5. 5. 5. 6.]\n",
      "Random Oversampling Validation Accuracy: 28.57%\n",
      "Random Oversampling F1-score: 0.28\n",
      "Random Oversampling Precision Score: 0.31\n",
      "Random Oversampling Recall Score: 0.29\n",
      "Random Oversampling ROC-AUC Score: 0.48\n",
      "Random Oversampling ROC-AUC Score: 0.75\n",
      "Random Oversampling ROC-AUC Score: 0.50\n",
      "Random Oversampling ROC-AUC Score: 0.58\n",
      "Random Oversampling ROC-AUC Score: 0.53\n",
      "Random Oversampling ROC-AUC Score: 0.46\n"
     ]
    },
    {
     "data": {
      "text/plain": [
       "(28.57142857142857, 0.2814625850340136)"
      ]
     },
     "execution_count": 6,
     "metadata": {},
     "output_type": "execute_result"
    },
    {
     "data": {
      "image/png": "[encoded data removed]",
      "text/plain": [
       "<Figure size 432x288 with 2 Axes>"
      ]
     },
     "metadata": {
      "needs_background": "light"
     },
     "output_type": "display_data"
    }
   ],
   "source": [
    "print_res_6_way(\"Random Oversampling\",x_os,y_os,random_search_adaboost,themes, verbose = False)\n",
    "test_res_6_way(\"Random Oversampling\",x_val,y_val,random_search_adaboost,themes)"
   ]
  },
  {
   "cell_type": "code",
   "execution_count": 7,
   "metadata": {},
   "outputs": [
    {
     "name": "stdout",
     "output_type": "stream",
     "text": [
      "Best Score: 0.5159\n",
      "SMOTE Train Accuracy: 100.0000%\n",
      "[6. 6. 5. 5. 2. 4. 4. 3. 4. 6. 6. 6. 6. 6.]\n",
      "[1. 1. 1. 2. 2. 3. 3. 4. 4. 4. 5. 5. 5. 6.]\n",
      "SMOTE Validation Accuracy: 21.43%\n",
      "SMOTE F1-score: 0.18\n",
      "SMOTE Precision Score: 0.22\n",
      "SMOTE Recall Score: 0.21\n",
      "SMOTE ROC-AUC Score: 0.50\n",
      "SMOTE ROC-AUC Score: 0.75\n",
      "SMOTE ROC-AUC Score: 0.46\n",
      "SMOTE ROC-AUC Score: 0.58\n",
      "SMOTE ROC-AUC Score: 0.41\n",
      "SMOTE ROC-AUC Score: 0.77\n"
     ]
    },
    {
     "data": {
      "text/plain": [
       "(21.428571428571427, 0.1845238095238095)"
      ]
     },
     "execution_count": 7,
     "metadata": {},
     "output_type": "execute_result"
    },
    {
     "data": {
      "image/png": "[encoded data removed]",
      "text/plain": [
       "<Figure size 432x288 with 2 Axes>"
      ]
     },
     "metadata": {
      "needs_background": "light"
     },
     "output_type": "display_data"
    }
   ],
   "source": [
    "print_res_6_way(\"SMOTE\",x_smote,y_smote,random_search_adaboost,themes, verbose = False)\n",
    "test_res_6_way(\"SMOTE\",x_val,y_val,random_search_adaboost,themes)"
   ]
  }
 ],
 "metadata": {
  "kernelspec": {
   "display_name": "Python 3",
   "language": "python",
   "name": "python3"
  },
  "language_info": {
   "codemirror_mode": {
    "name": "ipython",
    "version": 3
   },
   "file_extension": ".py",
   "mimetype": "text/x-python",
   "name": "python",
   "nbconvert_exporter": "python",
   "pygments_lexer": "ipython3",
   "version": "3.7.2"
  }
 },
 "nbformat": 4,
 "nbformat_minor": 4
}
