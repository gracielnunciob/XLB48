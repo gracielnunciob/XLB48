{
 "cells": [
  {
   "cell_type": "markdown",
   "metadata": {},
   "source": [
    "# Decison Tree Classifier for Classifying Music Emotions\n",
    "---\n",
    "## About the Dataset\n",
    "\n",
    "For this experiment, our dataset contains 267 music samples that were labelled by 2 music experts. The dataset has a combination of high level and low level features. The high level features are tempo, arousal, and scale, which were all labelled by the music experts. The low level features were extracted from the music samples using the JAudio software.\n",
    "\n",
    "---\n",
    "## Libraries\n",
    "\n",
    "We used the pandas and csv libraries to load the dataset, which is a csv file. Then we used numpy to manipulate the loaded dataset. We used the sci kit learn library for the decision tree algorithm."
   ]
  },
  {
   "cell_type": "code",
   "execution_count": 1,
   "metadata": {},
   "outputs": [],
   "source": [
    "import os\n",
    "import numpy as np\n",
    "import pandas as pd\n",
    "import csv\n",
    "from sklearn import tree\n",
    "from sklearn import svm\n",
    "from sklearn.ensemble import RandomForestClassifier\n",
    "from sklearn.linear_model import LogisticRegression, SGDClassifier\n",
    "from sklearn.model_selection import GridSearchCV, RandomizedSearchCV\n",
    "from scipy.stats import uniform, norm\n",
    "from sklearn.tree import DecisionTreeClassifier\n",
    "from sklearn.metrics import plot_confusion_matrix\n",
    "import matplotlib.pyplot as plt\n",
    "from imblearn.over_sampling import SMOTE, RandomOverSampler\n",
    "from sklearn.preprocessing import MinMaxScaler, StandardScaler\n",
    "import matplotlib.pyplot as plt\n",
    "from sklearn.feature_selection import SelectFromModel, SelectKBest, VarianceThreshold, chi2, f_classif, mutual_info_classif\n",
    "from XLB import *\n",
    "from functools import cmp_to_key\n",
    "from statistics import mode\n",
    "\n",
    "import warnings\n",
    "warnings.filterwarnings('ignore')"
   ]
  },
  {
   "cell_type": "markdown",
   "metadata": {},
   "source": [
    "Here we load the data from the csv file and preprocess it by removing the header row and the filename column"
   ]
  },
  {
   "cell_type": "markdown",
   "metadata": {},
   "source": [
    "After the initial preprocessing step, we sperated the music features and the labelled emotion into the x_train and y_train arrays respectively"
   ]
  },
  {
   "cell_type": "code",
   "execution_count": 2,
   "metadata": {},
   "outputs": [
    {
     "name": "stdout",
     "output_type": "stream",
     "text": [
      "(750, 45) (750,)\n",
      "(750, 45) (750,)\n"
     ]
    }
   ],
   "source": [
    "# extract data from files\n",
    "x_train, y_train = extract_data(\"FinalTrainingSet.csv\")\n",
    "x_val, y_val = extract_data(\"Validation Set.csv\")\n",
    "\n",
    "# scale data values\n",
    "scaler = MinMaxScaler()\n",
    "scaler.fit(x_train)\n",
    "x_train = scaler.transform(x_train)\n",
    "x_val = scaler.transform(x_val)\n",
    "\n",
    "# feature selection\n",
    "num_features = 45\n",
    "feat_sel = VarianceThreshold()\n",
    "x_train = feat_sel.fit_transform(x_train)\n",
    "# feat_sel_2 = SelectFromModel(estimator=DecisionTreeClassifier(random_state=481516234))\n",
    "# feat_sel_2 = SelectFromModel(\\\n",
    "#                 estimator=RandomForestClassifier(n_estimators=50,\\\n",
    "#                                              random_state=481516234))\n",
    "# feat_sel_2 = SelectFromModel(\\\n",
    "#                 estimator=LogisticRegression(random_state=481516234))\n",
    "# feat_sel_2 = SelectFromModel(\\\n",
    "#                 estimator=svm.LinearSVC(C=0.25, penalty=\"l1\", dual=False,\\\n",
    "#                                     random_state=481516234))\n",
    "# WINNER: 47.62% 0.45\n",
    "feat_sel_2 = SelectKBest(mutual_info_classif,k=num_features)\n",
    "x_train = feat_sel_2.fit_transform(x_train,y_train)\n",
    "x_val = feat_sel_2.transform(feat_sel.transform(x_val))\n",
    "# print(\"After Variance Threshold Feature Selection:\",x_train.shape)\n",
    "\n",
    "rand_seed = 3454132\n",
    "\n",
    "oversampler = SMOTE(sampling_strategy=\"not majority\",random_state=rand_seed)\n",
    "x_smote, y_smote = oversampler.fit_resample(x_train,y_train)\n",
    "print(x_smote.shape,y_smote.shape)\n",
    "\n",
    "oversampler = RandomOverSampler(sampling_strategy=\"not majority\",random_state=rand_seed)\n",
    "x_os, y_os = oversampler.fit_resample(x_train,y_train)\n",
    "print(x_os.shape,y_os.shape)"
   ]
  },
  {
   "cell_type": "code",
   "execution_count": 3,
   "metadata": {},
   "outputs": [
    {
     "name": "stdout",
     "output_type": "stream",
     "text": [
      "324\n"
     ]
    }
   ],
   "source": [
    "#MOVING FEATURE HEADERS INTO A LIST\n",
    "import csv\n",
    "\n",
    "with open(\"FinalTrainingSet.csv\") as f:\n",
    "    reader = csv.reader(f)\n",
    "    features = next(reader)\n",
    "\n",
    "#Deleting everything except features from the dataset\n",
    "features.remove(\"Row Labels\")\n",
    "features.remove(\"Theme\")\n",
    "features.remove(\"Theme(Numbered)\")\n",
    "print(len(features))\n",
    "#Retained features after selection\n",
    "selected_feats = feat_sel_2.get_support(True)\n",
    "\n",
    "for ind, ft in sorted(enumerate(features), reverse=True): \n",
    "    if ind not in selected_feats:\n",
    "        del features[ind]\n",
    "  \n",
    "#Printing modified list \n",
    "#print (features) \n",
    "#print (len(features))"
   ]
  },
  {
   "cell_type": "markdown",
   "metadata": {},
   "source": [
    "Here we perform different methods to deal with imbalanced datasets. We used the oversampling *Insert link to oversampling if needed* and SMOTE methodology *Insert link to SMOTE if needed*"
   ]
  },
  {
   "cell_type": "code",
   "execution_count": 4,
   "metadata": {},
   "outputs": [
    {
     "name": "stdout",
     "output_type": "stream",
     "text": [
      "(750, 45) (750,)\n",
      "(750, 45) (750,)\n"
     ]
    }
   ],
   "source": [
    "rand_seed = 3454132\n",
    "\n",
    "oversampler = SMOTE(sampling_strategy=\"not majority\",random_state=rand_seed)\n",
    "x_smote, y_smote = oversampler.fit_resample(x_train,y_train)\n",
    "print(x_smote.shape,y_smote.shape)\n",
    "\n",
    "oversampler = RandomOverSampler(sampling_strategy=\"not majority\",random_state=rand_seed)\n",
    "x_os, y_os = oversampler.fit_resample(x_train,y_train)\n",
    "print(x_os.shape,y_os.shape)"
   ]
  },
  {
   "cell_type": "markdown",
   "metadata": {},
   "source": [
    "Here we defined a function that will train the model and perform the hyperparameter search. x_train is the input data, y_train is the labels for the input data, and hp_search is the algorithm for hyperparameter search"
   ]
  },
  {
   "cell_type": "markdown",
   "metadata": {},
   "source": [
    "This function trains the model, using the previously defined train_model function, and displays the confusion matrix of the model. "
   ]
  },
  {
   "cell_type": "markdown",
   "metadata": {},
   "source": [
    "The following cells are the experiments we ran with the default dataset, oversampled version, and SMOTE version using random search as the hyperparameter search algorithm\n",
    "\n",
    "---\n",
    "This cell instantiates the decison tree object and the hyperparameter search object."
   ]
  },
  {
   "cell_type": "code",
   "execution_count": 5,
   "metadata": {},
   "outputs": [],
   "source": [
    "# Decision Tree\n",
    "random_search_iterations = 1000\n",
    "n_splits = 10\n",
    "rand_seed = 481516234\n",
    "\n",
    "parameters = {\n",
    "    'criterion':[\"gini\", \"entropy\"], \n",
    "    'splitter':[\"best\", \"random\"], \n",
    "    'max_depth':range(5, 13), \n",
    "    'min_samples_split': uniform(loc=0.00,scale=1.0),\n",
    "    'min_samples_leaf': uniform(loc=0.0001,scale=0.4999)\n",
    "}\n",
    "\n",
    "# train classifier for SMOTE data\n",
    "dt = tree.DecisionTreeClassifier(random_state=rand_seed)\n",
    "rscv = RandomizedSearchCV(dt, parameters,cv=n_splits, random_state=rand_seed, n_iter=random_search_iterations,n_jobs=-1)"
   ]
  },
  {
   "cell_type": "code",
   "execution_count": 6,
   "metadata": {},
   "outputs": [],
   "source": [
    "themes = [\"Calm\",\"Cheerful\",\"Bravery\",\"Fearful\",\"Love\",\"Sadness\"]"
   ]
  },
  {
   "cell_type": "code",
   "execution_count": 7,
   "metadata": {},
   "outputs": [],
   "source": [
    "\"\"\" \n",
    "This functions trains a Classification Based on Associations (CBA) model on a\n",
    "dataset and tests it on a valdation set.\n",
    "\n",
    "Parameters:\n",
    "ruleset : array-like of size (0,) - container for ruleset\n",
    "X_train : array-like of size (n_train_samples,n_features) \n",
    "                                  - training data\n",
    "y_train : array-like of size (n_train_samples,) \n",
    "                                  - ground truth labels of training data\n",
    "X_val : array-like of size (n_test_samples,n_features) \n",
    "                                  - training data\n",
    "y_val : array-like of size (n_test_samples,) \n",
    "                                  - ground truth labels of training data\n",
    "model_selector : Sklearn estimator object - hyperparameetr search object\n",
    "feature_names : array-like of size (n_features,) - list of feature names\n",
    "label_names : array-like of size (n_classes,) - list of class labels\n",
    "dataset_name : string - name to call the dataset\n",
    "itr-count : int - tracking for rule number\n",
    "\n",
    "Returns an array of Rule objects indicating the updated ruleset.\n",
    "\"\"\"\n",
    "def extract_ruleset(ruleset,X_train,y_train,X_val,y_val,model_selector,\n",
    "                    feature_names,label_names,dataset_name=\"Dataset\"):\n",
    "    print_res_6_way(dataset_name,X_train,y_train,model_selector, label_names, verbose = False)\n",
    "#     disp_tree(rscv.best_estimator_,\"FinalTrainingSet.csv\")\n",
    "    test_res_6_way(dataset_name,X_val,y_val,model_selector, label_names)\n",
    "    ruleset = create_rule_obj(\n",
    "        model_selector.best_estimator_, feature_names, X_train, label_names, \n",
    "        y_train,len(X_train)\n",
    "    )\n",
    "    return ruleset"
   ]
  },
  {
   "cell_type": "markdown",
   "metadata": {},
   "source": [
    "This model is trained using the default "
   ]
  },
  {
   "cell_type": "code",
   "execution_count": 8,
   "metadata": {
    "scrolled": true
   },
   "outputs": [
    {
     "name": "stdout",
     "output_type": "stream",
     "text": [
      "Best Score: 0.3416\n",
      "Vanilla Train Accuracy: 34.4140%\n",
      "[1. 1. 1. 1. 1. 1. 1. 1. 1. 1. 1. 1. 1. 1. 1. 1. 1. 1. 1. 1. 1.]\n",
      "[1. 1. 1. 1. 2. 2. 2. 3. 3. 3. 3. 4. 4. 4. 4. 5. 5. 5. 6. 6. 6.]\n",
      "Vanilla Validation Accuracy: 19.05%\n",
      "Vanilla F1-score: 0.06\n",
      "[0.6882793017456359, 0.8628428927680798, 0.8603491271820449, 0.7531172069825436, 0.9326683291770573, 0.9027431421446384]\n"
     ]
    },
    {
     "data": {
      "image/png": "[encoded data removed]",
      "text/plain": [
       "<Figure size 432x288 with 2 Axes>"
      ]
     },
     "metadata": {
      "needs_background": "light"
     },
     "output_type": "display_data"
    }
   ],
   "source": [
    "vanilla_rules = []\n",
    "vanilla_rules = extract_ruleset(\n",
    "    vanilla_rules,x_train,y_train,x_val,y_val,rscv,features,\\\n",
    "    themes,\"Vanilla\")"
   ]
  },
  {
   "cell_type": "code",
   "execution_count": 43,
   "metadata": {},
   "outputs": [
    {
     "name": "stdout",
     "output_type": "stream",
     "text": [
      "RULE NUMBER  1 :\n",
      " Derivative of Peak Based Spectral Smoothness Overall Standard Deviation <= 0.0300 -> Calm\n",
      "    confidence: 0.42\n",
      "    lift: 0.60\n",
      "    interestingness: 6.91\n",
      "    error(s):  0\n",
      "TOTAL MATCHES:  100.0 %\n",
      "\n"
     ]
    }
   ],
   "source": [
    "vanilla_rules_sorted = (sorted(vanilla_rules, key = cmp_to_key(comp_func)))\n",
    "cls, acc = eval_rules(vanilla_rules_sorted, x_train, y_train) \n",
    "classifiers = (cls, acc)\n",
    "accuracy = classifiers[1]\n",
    "classifiers = remove_unnecessary_rules(vanilla_rules_sorted, accuracy, x_train, y_train)\n",
    "print_classifier(classifiers, len(x_train))"
   ]
  },
  {
   "cell_type": "code",
   "execution_count": 45,
   "metadata": {},
   "outputs": [
    {
     "name": "stdout",
     "output_type": "stream",
     "text": [
      "[1, 1, 1, 1, 1, 1, 1, 1, 1, 1, 1, 1, 1, 1, 1, 1, 1, 1, 1, 1, 1]\n"
     ]
    }
   ],
   "source": [
    "val = []\n",
    "for i in classifiers[0]:\n",
    "    val.append(i[0])\n",
    "pred = predict(val, x_val, y_val, y_train)\n",
    "print(pred)"
   ]
  },
  {
   "cell_type": "code",
   "execution_count": 36,
   "metadata": {},
   "outputs": [
    {
     "name": "stdout",
     "output_type": "stream",
     "text": [
      "Vanilla ACCURACY:\n",
      "0.19047619047619047\n",
      "F1 SCORE:  0.06095238095238095\n",
      "\n"
     ]
    }
   ],
   "source": [
    "print(\"Vanilla ACCURACY:\")\n",
    "compute_accuracy(pred, y_val)\n",
    "f1 = f1_score(y_val, pred, average = 'weighted')\n",
    "print(\"F1 SCORE: \", f1)\n",
    "print()"
   ]
  },
  {
   "cell_type": "code",
   "execution_count": 13,
   "metadata": {},
   "outputs": [
    {
     "name": "stdout",
     "output_type": "stream",
     "text": [
      "Best Score: 0.4720\n",
      "Random Oversampling Train Accuracy: 60.1333%\n",
      "[1. 4. 1. 3. 1. 4. 1. 3. 1. 3. 1. 1. 4. 1. 1. 1. 1. 1. 1. 3. 1.]\n",
      "[1. 1. 1. 1. 2. 2. 2. 3. 3. 3. 3. 4. 4. 4. 4. 5. 5. 5. 6. 6. 6.]\n",
      "Random Oversampling Validation Accuracy: 23.81%\n",
      "Random Oversampling F1-score: 0.19\n",
      "[0.368, 0.4613333333333333, 0.46, 0.4026666666666667, 0.49866666666666665, 0.4826666666666667]\n"
     ]
    },
    {
     "data": {
      "image/png": "[encoded data removed]",
      "text/plain": [
       "<Figure size 432x288 with 2 Axes>"
      ]
     },
     "metadata": {
      "needs_background": "light"
     },
     "output_type": "display_data"
    }
   ],
   "source": [
    "os_rules = []\n",
    "os_rules = extract_ruleset(\n",
    "    os_rules,x_os,y_os,x_val,y_val,rscv,features,\\\n",
    "    themes,\"Random Oversampling\")"
   ]
  },
  {
   "cell_type": "code",
   "execution_count": 40,
   "metadata": {
    "scrolled": true
   },
   "outputs": [
    {
     "name": "stdout",
     "output_type": "stream",
     "text": [
      "RULE NUMBER  1 :\n",
      " Derivative of Peak Based Spectral Smoothness Overall Standard Deviation > 0.1400 -> Calm\n",
      "    confidence: 0.11\n",
      "    lift: 0.29\n",
      "    interestingness: 2.01\n",
      "    error(s):  0\n",
      "TOTAL MATCHES:  100.0 %\n",
      "\n"
     ]
    }
   ],
   "source": [
    "os_rules_sorted = sorted(os_rules, key = cmp_to_key(comp_func))\n",
    "cls, acc = eval_rules(os_rules_sorted, x_os, y_os) \n",
    "classifiers = (cls, acc)\n",
    "accuracy = classifiers[1]\n",
    "classifiers = remove_unnecessary_rules(os_rules_sorted, accuracy, x_os, y_os)\n",
    "print_classifier(classifiers, len(x_os))"
   ]
  },
  {
   "cell_type": "code",
   "execution_count": 42,
   "metadata": {},
   "outputs": [
    {
     "name": "stdout",
     "output_type": "stream",
     "text": [
      "[1.0, 1.0, 1.0, 1.0, 1.0, 1.0, 1.0, 1.0, 1.0, 1.0, 1.0, 1.0, 1.0, 1.0, 1.0, 1.0, 1.0, 1.0, 1.0, 1.0, 1.0]\n"
     ]
    }
   ],
   "source": [
    "val = []\n",
    "for i in classifiers[0]:\n",
    "    val.append(i[0])\n",
    "pred = predict(val, x_val, y_val, y_train)\n",
    "print(pred)"
   ]
  },
  {
   "cell_type": "code",
   "execution_count": 33,
   "metadata": {},
   "outputs": [
    {
     "name": "stdout",
     "output_type": "stream",
     "text": [
      "OverSampling ACCURACY:\n",
      "0.19047619047619047\n",
      "F1 SCORE:  0.06095238095238095\n",
      "\n"
     ]
    }
   ],
   "source": [
    "print(\"OverSampling ACCURACY:\")\n",
    "compute_accuracy(pred, y_val)\n",
    "f1 = f1_score(y_val, pred, average = 'weighted')\n",
    "print(\"F1 SCORE: \", f1)\n",
    "print()"
   ]
  },
  {
   "cell_type": "code",
   "execution_count": 26,
   "metadata": {},
   "outputs": [
    {
     "name": "stdout",
     "output_type": "stream",
     "text": [
      "Best Score: 0.4667\n",
      "SMOTE Train Accuracy: 59.6000%\n",
      "[6. 3. 3. 3. 1. 3. 3. 3. 1. 4. 3. 1. 1. 6. 1. 1. 6. 2. 6. 6. 3.]\n",
      "[1. 1. 1. 1. 2. 2. 2. 3. 3. 3. 3. 4. 4. 4. 4. 5. 5. 5. 6. 6. 6.]\n",
      "SMOTE Validation Accuracy: 19.05%\n",
      "SMOTE F1-score: 0.13\n",
      "[0.368, 0.4613333333333333, 0.46, 0.4026666666666667, 0.49866666666666665, 0.4826666666666667]\n"
     ]
    },
    {
     "data": {
      "image/png": "[encoded data removed]",
      "text/plain": [
       "<Figure size 432x288 with 2 Axes>"
      ]
     },
     "metadata": {
      "needs_background": "light"
     },
     "output_type": "display_data"
    }
   ],
   "source": [
    "smote_rules = []\n",
    "smote_rules = extract_ruleset(\n",
    "    smote_rules,x_smote,y_smote,x_val,y_val,rscv,features,\\\n",
    "    themes,\"SMOTE\")"
   ]
  },
  {
   "cell_type": "code",
   "execution_count": 37,
   "metadata": {
    "scrolled": true
   },
   "outputs": [
    {
     "name": "stdout",
     "output_type": "stream",
     "text": [
      "RULE NUMBER  1 :\n",
      " Standard Deviation of Spectral Centroid Overall Average > 0.0400 -> Love\n",
      "    confidence: 0.13\n",
      "    lift: 0.26\n",
      "    interestingness: 4.05\n",
      "    error(s):  47\n",
      "RULE NUMBER  2 :\n",
      " Derivative of MFCC Overall Average > 0.1800 ^  Derivative of Partial Based Spectral Centroid Overall Standard Deviation <= 0.1200 -> Bravery\n",
      "    confidence: 0.12\n",
      "    lift: 0.26\n",
      "    interestingness: 1.92\n",
      "    error(s):  0\n",
      "TOTAL MATCHES:  100.0 %\n",
      "\n"
     ]
    }
   ],
   "source": [
    "smote_rules_sorted = sorted(smote_rules, key = cmp_to_key(comp_func))\n",
    "cls, acc = eval_rules(smote_rules_sorted, x_smote, y_smote) \n",
    "classifiers = (cls, acc)\n",
    "accuracy = classifiers[1]\n",
    "classifiers = remove_unnecessary_rules(smote_rules_sorted, accuracy, x_os, y_os)\n",
    "print_classifier(classifiers, len(x_os))"
   ]
  },
  {
   "cell_type": "code",
   "execution_count": 38,
   "metadata": {},
   "outputs": [
    {
     "name": "stdout",
     "output_type": "stream",
     "text": [
      "[1.0, 5, 5, 5, 1.0, 5, 1.0, 5, 1.0, 1.0, 1.0, 1.0, 5, 1.0, 5, 1.0, 1.0, 5, 1.0, 1.0, 5]\n"
     ]
    }
   ],
   "source": [
    "val = []\n",
    "for i in classifiers[0]:\n",
    "    val.append(i[0])\n",
    "pred = predict(val, x_val, y_val, y_train)\n",
    "print(pred)"
   ]
  },
  {
   "cell_type": "code",
   "execution_count": 39,
   "metadata": {},
   "outputs": [
    {
     "name": "stdout",
     "output_type": "stream",
     "text": [
      "SMOTE ACCURACY:\n",
      "0.09523809523809523\n",
      "F1 SCORE:  0.047619047619047616\n",
      "\n"
     ]
    }
   ],
   "source": [
    "print(\"SMOTE ACCURACY:\")\n",
    "compute_accuracy(pred, y_val)\n",
    "f1 = f1_score(y_val, pred, average = 'weighted')\n",
    "print(\"F1 SCORE: \", f1)\n",
    "print()"
   ]
  }
 ],
 "metadata": {
  "kernelspec": {
   "display_name": "Python 3",
   "language": "python",
   "name": "python3"
  },
  "language_info": {
   "codemirror_mode": {
    "name": "ipython",
    "version": 3
   },
   "file_extension": ".py",
   "mimetype": "text/x-python",
   "name": "python",
   "nbconvert_exporter": "python",
   "pygments_lexer": "ipython3",
   "version": "3.7.2"
  }
 },
 "nbformat": 4,
 "nbformat_minor": 4
}
