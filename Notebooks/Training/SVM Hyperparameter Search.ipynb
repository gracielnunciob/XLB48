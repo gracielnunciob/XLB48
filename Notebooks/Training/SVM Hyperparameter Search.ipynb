{
 "cells": [
  {
   "cell_type": "code",
   "execution_count": 1,
   "metadata": {},
   "outputs": [],
   "source": [
    "# dependencies\n",
    "import csv\n",
    "import matplotlib.pyplot as plt\n",
    "from sklearn.model_selection import GridSearchCV, RandomizedSearchCV\n",
    "from sklearn import svm\n",
    "# from sklearn.naive_bayes import ComplementNB, MultinomialNB\n",
    "import numpy as np\n",
    "from scipy.stats import uniform, norm\n",
    "from sklearn.metrics import plot_confusion_matrix\n",
    "from imblearn.over_sampling import SMOTE, RandomOverSampler\n",
    "\n",
    "import warnings\n",
    "warnings.filterwarnings('ignore')"
   ]
  },
  {
   "cell_type": "code",
   "execution_count": 2,
   "metadata": {},
   "outputs": [
    {
     "name": "stdout",
     "output_type": "stream",
     "text": [
      "(419, 5)\n",
      "(419,)\n"
     ]
    }
   ],
   "source": [
    "x_train = np.empty((0,5))\n",
    "y_train = np.array([])\n",
    "\n",
    "with open(\"Toy Dataset.csv\",\"r\") as f:\n",
    "    d_reader = csv.reader(f,delimiter=\",\",quotechar=\"\\\"\")\n",
    "    first = True\n",
    "    \n",
    "    for line in d_reader:\n",
    "        if first:\n",
    "            first = False\n",
    "            continue\n",
    "        x_train = np.append(x_train,np.array(list(map(int,line[2:7]))).reshape((1,5)),axis=0)\n",
    "        y_train = np.append(y_train,int(line[8]))\n",
    "print(x_train.shape)\n",
    "print(y_train.shape)\n",
    "# print(y_train)"
   ]
  },
  {
   "cell_type": "code",
   "execution_count": 3,
   "metadata": {},
   "outputs": [
    {
     "name": "stdout",
     "output_type": "stream",
     "text": [
      "(636, 5) (636,)\n",
      "(636, 5) (636,)\n"
     ]
    }
   ],
   "source": [
    "rand_seed = 3454132\n",
    "\n",
    "oversampler = SMOTE(sampling_strategy=\"not majority\",random_state=rand_seed)\n",
    "\n",
    "x_smote, y_smote = oversampler.fit_resample(x_train,y_train)\n",
    "\n",
    "print(x_smote.shape,y_smote.shape)\n",
    "\n",
    "oversampler = RandomOverSampler(sampling_strategy=\"not majority\",random_state=rand_seed)\n",
    "\n",
    "x_os, y_os = oversampler.fit_resample(x_train,y_train)\n",
    "\n",
    "print(x_os.shape,y_os.shape)"
   ]
  },
  {
   "cell_type": "code",
   "execution_count": 4,
   "metadata": {},
   "outputs": [],
   "source": [
    "\"\"\"\n",
    "Trains a model using the given data and a hyperparameter search object\n",
    "\n",
    "Parameters:\n",
    "x_train - input data\n",
    "y_train - target labels for data\n",
    "hp_search - model_selection object\n",
    "\n",
    "Returns: best estimator for the given data given the model selector\n",
    "\"\"\"\n",
    "def train_model(x_train,y_train,hp_search):\n",
    "    hp_search.fit(x_train,y_train)\n",
    "    print(\"Best Score: {:.4f}\".format(hp_search.best_score_))\n",
    "    for k,v in hp_search.best_params_.items():\n",
    "        print(\"{} => {}\".format(k,v))\n",
    "    print(\"Splits: {}\".format(hp_search.n_splits_))\n",
    "    y_out = hp_search.predict(x_train)\n",
    "    print(\"Accuracy: {:.4f}%\".format(np.mean(y_out == y_train) * 100.0))\n",
    "    return hp_search.best_estimator_"
   ]
  },
  {
   "cell_type": "code",
   "execution_count": 5,
   "metadata": {},
   "outputs": [],
   "source": [
    "# SVM, Grid Search\n",
    "k_folds = 10\n",
    "random_search_iterations = 200\n",
    "parameters = {\n",
    "    'C': np.logspace(-3, 2, 6), \n",
    "    'gamma': np.logspace(-3, 2, 6), \n",
    "    'kernel':['linear', 'rbf', 'sigmoid', 'poly'], \n",
    "    'shrinking':[True, False], \n",
    "    'probability':[True, False]\n",
    "}\n",
    "\n",
    "svmc = svm.SVC()\n",
    "random_search_svm = RandomizedSearchCV(svmc, parameters,n_iter=random_search_iterations,cv=k_folds,n_jobs=-1)"
   ]
  },
  {
   "cell_type": "code",
   "execution_count": 6,
   "metadata": {},
   "outputs": [
    {
     "name": "stdout",
     "output_type": "stream",
     "text": [
      "Random Oversampling:\n",
      "Best Score: 0.3318\n",
      "shrinking => True\n",
      "probability => False\n",
      "kernel => poly\n",
      "gamma => 0.1\n",
      "C => 100.0\n",
      "Splits: 10\n",
      "Accuracy: 34.1195%\n"
     ]
    },
    {
     "data": {
      "image/png": "[encoded data removed]",
      "text/plain": [
       "<Figure size 432x288 with 2 Axes>"
      ]
     },
     "metadata": {
      "needs_background": "light"
     },
     "output_type": "display_data"
    }
   ],
   "source": [
    "print(\"Random Oversampling:\")\n",
    "train_model(x_os,y_os,random_search_svm)\n",
    "disp = plot_confusion_matrix(random_search_svm, x_os, y_os,\n",
    "                             display_labels=[\"Calm\",\"Cheerful\",\"Bravery\",\"Fearful\",\"Sadness\",\"Love\"],\n",
    "                             cmap=plt.cm.Blues,\n",
    "                             normalize='true')"
   ]
  },
  {
   "cell_type": "code",
   "execution_count": null,
   "metadata": {},
   "outputs": [
    {
     "name": "stdout",
     "output_type": "stream",
     "text": [
      "SMOTE:\n"
     ]
    }
   ],
   "source": [
    "print(\"SMOTE:\")\n",
    "train_model(x_smote,y_smote,random_search_svm)\n",
    "disp = plot_confusion_matrix(random_search_svm, x_smote, y_smote,\n",
    "                             display_labels=[\"Calm\",\"Cheerful\",\"Bravery\",\"Fearful\",\"Sadness\",\"Love\"],\n",
    "                             cmap=plt.cm.Blues,\n",
    "                             normalize='true')"
   ]
  },
  {
   "cell_type": "code",
   "execution_count": null,
   "metadata": {},
   "outputs": [],
   "source": [
    "# LinearSVM, Grid Search\n",
    "k_folds = 10\n",
    "random_search_iterations = 200\n",
    "parameters = {\n",
    "    'penalty':['l1', 'l2'],\n",
    "    'loss':['hinge', 'squared_hinge'], \n",
    "    'dual':[True, False], \n",
    "    'C': np.logspace(-3, 2, 6), \n",
    "    'multi_class':['ovr', 'crammer_singer'], \n",
    "    'max_iter':[1000, 2500, 3000]\n",
    "}\n",
    "\n",
    "linearsvm = svm.LinearSVC()\n",
    "random_search_linear = RandomizedSearchCV(linearsvm, parameters,n_iter=random_search_iterations,cv=k_folds,n_jobs=-1)"
   ]
  },
  {
   "cell_type": "code",
   "execution_count": null,
   "metadata": {},
   "outputs": [],
   "source": [
    "print(\"Random Oversampling:\")\n",
    "train_model(x_os,y_os,random_search_linear)\n",
    "disp = plot_confusion_matrix(random_search_linear, x_os, y_os,\n",
    "                             display_labels=[\"Calm\",\"Cheerful\",\"Bravery\",\"Fearful\",\"Sadness\",\"Love\"],\n",
    "                             cmap=plt.cm.Blues,\n",
    "                             normalize='true')"
   ]
  },
  {
   "cell_type": "code",
   "execution_count": null,
   "metadata": {},
   "outputs": [],
   "source": [
    "print(\"SMOTE:\")\n",
    "train_model(x_smote,y_smote,random_search_linear)\n",
    "disp = plot_confusion_matrix(random_search_linear, x_smote, y_smote,\n",
    "                             display_labels=[\"Calm\",\"Cheerful\",\"Bravery\",\"Fearful\",\"Sadness\",\"Love\"],\n",
    "                             cmap=plt.cm.Blues,\n",
    "                             normalize='true')"
   ]
  }
 ],
 "metadata": {
  "kernelspec": {
   "display_name": "Python 3",
   "language": "python",
   "name": "python3"
  },
  "language_info": {
   "codemirror_mode": {
    "name": "ipython",
    "version": 3
   },
   "file_extension": ".py",
   "mimetype": "text/x-python",
   "name": "python",
   "nbconvert_exporter": "python",
   "pygments_lexer": "ipython3",
   "version": "3.7.3"
  }
 },
 "nbformat": 4,
 "nbformat_minor": 4
}
